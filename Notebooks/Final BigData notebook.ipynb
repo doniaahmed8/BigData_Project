{
  "nbformat": 4,
  "nbformat_minor": 0,
  "metadata": {
    "colab": {
      "provenance": [],
      "gpuType": "T4"
    },
    "kernelspec": {
      "name": "python3",
      "display_name": "Python 3"
    },
    "language_info": {
      "name": "python"
    }
  },
  "cells": [
    {
      "cell_type": "code",
      "source": [
        "from google.colab import drive\n",
        "drive.mount('/content/drive')"
      ],
      "metadata": {
        "colab": {
          "base_uri": "https://localhost:8080/"
        },
        "id": "potjS7EpYszu",
        "outputId": "df6e2864-24b5-47a5-aa7c-fc7b835ccafd"
      },
      "execution_count": 1,
      "outputs": [
        {
          "output_type": "stream",
          "name": "stdout",
          "text": [
            "Mounted at /content/drive\n"
          ]
        }
      ]
    },
    {
      "cell_type": "code",
      "source": [
        "\n",
        "!pip install pyspark"
      ],
      "metadata": {
        "colab": {
          "base_uri": "https://localhost:8080/"
        },
        "id": "RDkTlSElY8vd",
        "outputId": "b409f8c8-6cde-4160-db56-fc1cd6119fef"
      },
      "execution_count": 2,
      "outputs": [
        {
          "output_type": "stream",
          "name": "stdout",
          "text": [
            "Collecting pyspark\n",
            "  Downloading pyspark-3.4.1.tar.gz (310.8 MB)\n",
            "\u001b[2K     \u001b[90m━━━━━━━━━━━━━━━━━━━━━━━━━━━━━━━━━━━━━━━\u001b[0m \u001b[32m310.8/310.8 MB\u001b[0m \u001b[31m4.5 MB/s\u001b[0m eta \u001b[36m0:00:00\u001b[0m\n",
            "\u001b[?25h  Preparing metadata (setup.py) ... \u001b[?25l\u001b[?25hdone\n",
            "Requirement already satisfied: py4j==0.10.9.7 in /usr/local/lib/python3.10/dist-packages (from pyspark) (0.10.9.7)\n",
            "Building wheels for collected packages: pyspark\n",
            "  Building wheel for pyspark (setup.py) ... \u001b[?25l\u001b[?25hdone\n",
            "  Created wheel for pyspark: filename=pyspark-3.4.1-py2.py3-none-any.whl size=311285398 sha256=915e293075a15fb1c6d5de02f7fdceff09e1df93c1b282ae254b4ea9f61596dc\n",
            "  Stored in directory: /root/.cache/pip/wheels/0d/77/a3/ff2f74cc9ab41f8f594dabf0579c2a7c6de920d584206e0834\n",
            "Successfully built pyspark\n",
            "Installing collected packages: pyspark\n",
            "Successfully installed pyspark-3.4.1\n"
          ]
        }
      ]
    },
    {
      "cell_type": "code",
      "source": [
        "!pip install pyspark py4j"
      ],
      "metadata": {
        "colab": {
          "base_uri": "https://localhost:8080/"
        },
        "id": "n8R9XcRjQelZ",
        "outputId": "bdc8f8ba-4310-4188-ad90-cceceee68aec"
      },
      "execution_count": 3,
      "outputs": [
        {
          "output_type": "stream",
          "name": "stdout",
          "text": [
            "Requirement already satisfied: pyspark in /usr/local/lib/python3.10/dist-packages (3.4.1)\n",
            "Requirement already satisfied: py4j in /usr/local/lib/python3.10/dist-packages (0.10.9.7)\n"
          ]
        }
      ]
    },
    {
      "cell_type": "code",
      "source": [
        "from pyspark.sql import SparkSession\n",
        "from pyspark.sql.functions import *\n",
        "from pyspark.sql.functions import col, isnan, isnull\n",
        "from pyspark.sql.functions import corr\n",
        "import matplotlib.pyplot as plt\n",
        "from pyspark.sql.functions import avg, desc\n",
        "from pyspark.sql.functions import max\n",
        "from pyspark.sql.functions import sum, countDistinct\n",
        "from pyspark.sql.functions import regexp_replace\n",
        "\n",
        "from pyspark.sql.functions import col, when\n",
        "from pyspark.sql.functions import explode\n",
        "from pyspark.ml.feature import StringIndexer\n",
        "from pyspark.ml import Pipeline\n",
        "from pyspark.ml.feature import VectorAssembler\n",
        "from pyspark.ml.tuning import ParamGridBuilder, TrainValidationSplit\n",
        "#from sparknlp.annotator import Tokenizer\n",
        "\n",
        "#from vaderSentiment.vaderSentiment import SentimentIntensityAnalyzer\n",
        "from pyspark.sql.functions import lit\n",
        "from pyspark.sql.functions import udf\n",
        "from pyspark.sql.types import StringType\n",
        "#from vaderSentiment.vaderSentiment import SentimentIntensityAnalyzer\n",
        "from pyspark.ml.evaluation import RegressionEvaluator\n",
        "\n",
        "from pyspark.ml.regression import LinearRegression\n",
        "from pyspark.ml.feature import VectorAssembler\n"
      ],
      "metadata": {
        "id": "iiUUspIDs2ny"
      },
      "execution_count": 7,
      "outputs": []
    },
    {
      "cell_type": "code",
      "source": [
        "spark = SparkSession.builder \\\n",
        ".config(\"spark.serializer\", \"org.apache.spark.serializer.KryoSerializer\")\\\n",
        ".appName(\"ProjectTest\") \\\n",
        ".getOrCreate()\n",
        "\n"
      ],
      "metadata": {
        "id": "1K8r8xGLZCRP"
      },
      "execution_count": 8,
      "outputs": []
    },
    {
      "cell_type": "code",
      "source": [
        "spark"
      ],
      "metadata": {
        "colab": {
          "base_uri": "https://localhost:8080/",
          "height": 222
        },
        "id": "l2c4f6mdLMs4",
        "outputId": "1f3a3639-fb94-4c81-a4dd-ead71c4542f3"
      },
      "execution_count": 9,
      "outputs": [
        {
          "output_type": "execute_result",
          "data": {
            "text/plain": [
              "<pyspark.sql.session.SparkSession at 0x7c20240c5c60>"
            ],
            "text/html": [
              "\n",
              "            <div>\n",
              "                <p><b>SparkSession - in-memory</b></p>\n",
              "                \n",
              "        <div>\n",
              "            <p><b>SparkContext</b></p>\n",
              "\n",
              "            <p><a href=\"http://e53c4962072f:4040\">Spark UI</a></p>\n",
              "\n",
              "            <dl>\n",
              "              <dt>Version</dt>\n",
              "                <dd><code>v3.4.1</code></dd>\n",
              "              <dt>Master</dt>\n",
              "                <dd><code>local[*]</code></dd>\n",
              "              <dt>AppName</dt>\n",
              "                <dd><code>ProjectTest</code></dd>\n",
              "            </dl>\n",
              "        </div>\n",
              "        \n",
              "            </div>\n",
              "        "
            ]
          },
          "metadata": {},
          "execution_count": 9
        }
      ]
    },
    {
      "cell_type": "markdown",
      "source": [
        "# Rotten Tomatoes"
      ],
      "metadata": {
        "id": "bdqZNlZfEcyQ"
      }
    },
    {
      "cell_type": "markdown",
      "source": [
        "**Reading the 2 datasets**"
      ],
      "metadata": {
        "id": "Y3MseM0IvSxv"
      }
    },
    {
      "cell_type": "code",
      "source": [
        "\n",
        "import time\n",
        "from pyspark.storagelevel import StorageLevel\n",
        "\n",
        "start_time = time.time()\n",
        "\n",
        "#df0 = spark.read.csv(\"/content/drive/MyDrive/BigData/rotten_tomatoes_movies.csv\", header=True, inferSchema=True)\n",
        "#df0.write.format(\"parquet\").save('/content/drive/MyDrive/BigData/rotten_tomatoes_movies.parquet')\n",
        "\n",
        "df0=spark.read.parquet('/content/drive/MyDrive/BigData/rotten_tomatoes_movies.parquet')\n",
        "df1=df0.persist(StorageLevel.MEMORY_ONLY)\n",
        "\n",
        "end_time = time.time()\n",
        "\n",
        "execution_time = end_time - start_time\n",
        "\n",
        "print(\"Execution Time: {:.2f} seconds\".format(execution_time))\n",
        "\n",
        "\n"
      ],
      "metadata": {
        "colab": {
          "base_uri": "https://localhost:8080/"
        },
        "id": "96Q601S0CORW",
        "outputId": "6b492ab7-7e17-4f51-9029-5c7e88810ff4"
      },
      "execution_count": null,
      "outputs": [
        {
          "output_type": "stream",
          "name": "stdout",
          "text": [
            "Execution Time: 7.79 seconds\n"
          ]
        }
      ]
    },
    {
      "cell_type": "code",
      "source": [
        "#showing df1\n",
        "num_rows = 10\n",
        "df1.show(num_rows)"
      ],
      "metadata": {
        "colab": {
          "base_uri": "https://localhost:8080/"
        },
        "id": "9cYSopqDu1gU",
        "outputId": "1c73df36-47e2-4813-dc02-cf928ce33ebe"
      },
      "execution_count": null,
      "outputs": [
        {
          "output_type": "stream",
          "name": "stdout",
          "text": [
            "+--------------------+--------------------+-------------+-----------+------+--------------------+-------------------+--------------------+--------------+--------------------+----------------+--------------------+--------------------+---------+-----------+--------+\n",
            "|                  id|               title|audienceScore|tomatoMeter|rating|      ratingContents|releaseDateTheaters|releaseDateStreaming|runtimeMinutes|               genre|originalLanguage|            director|              writer|boxOffice|distributor|soundMix|\n",
            "+--------------------+--------------------+-------------+-----------+------+--------------------+-------------------+--------------------+--------------+--------------------+----------------+--------------------+--------------------+---------+-----------+--------+\n",
            "|  space-zombie-bingo| Space Zombie Bingo!|           50|       null|  null|                null|               null|          2018-08-25|            75|Comedy, Horror, S...|         English|       George Ormrod|George Ormrod,Joh...|     null|       null|    null|\n",
            "|     the_green_grass|     The Green Grass|         null|       null|  null|                null|               null|          2020-02-11|           114|               Drama|         English|     Tiffany Edwards|     Tiffany Edwards|     null|       null|    null|\n",
            "|           love_lies|          Love, Lies|           43|       null|  null|                null|               null|                null|           120|               Drama|          Korean|Park Heung-Sik,He...|Ha Young-Joon,Jeo...|     null|       null|    null|\n",
            "|the_sore_losers_1997|         Sore Losers|           60|       null|  null|                null|               null|          2020-10-23|            90|Action, Mystery &...|         English|John Michael McCa...|John Michael McCa...|     null|       null|    null|\n",
            "|dinosaur_island_2002|     Dinosaur Island|           70|       null|  null|                null|               null|          2017-03-27|            80|Fantasy, Adventur...|         English|       Will Meugniot|            John Loy|     null|       null|    null|\n",
            "|         adrift_2018|              Adrift|           65|         69| PG-13|['Injury Images',...|         2018-06-01|          2018-08-21|           120|Adventure, Drama,...|         English|   Baltasar Kormákur|Aaron Kandell,Jor...|   $31.4M|  STX Films|    null|\n",
            "|malta-con-huevo-s...|      Scrambled Beer|           55|       null|  null|                null|               null|          2015-10-05|            88|              Comedy|         Spanish|Cristobal Valderrama|Cristobal Valderrama|     null|       null|    null|\n",
            "|    kakabakaba-ka-ba|Kakabakaba ka ba?...|           88|       null|  null|                null|               null|                null|          null|                null|            null|        Mike de Leon|                null|     null|       null|    null|\n",
            "|          sundowning|          Sundowning|         null|       null|  null|                null|               null|                null|           123|               Drama|         English|      Jim Comas Cole|                null|     null|       null|    null|\n",
            "|1035316-born_to_kill|        Born to Kill|           74|         83|  null|                null|         1947-04-30|          2016-05-23|            92|        Crime, Drama|         English|         Robert Wise|Eve Greene,Richar...|     null|       null|    null|\n",
            "+--------------------+--------------------+-------------+-----------+------+--------------------+-------------------+--------------------+--------------+--------------------+----------------+--------------------+--------------------+---------+-----------+--------+\n",
            "only showing top 10 rows\n",
            "\n"
          ]
        }
      ]
    },
    {
      "cell_type": "code",
      "source": [
        "\n",
        "import time\n",
        "from pyspark.storagelevel import StorageLevel\n",
        "\n",
        "start_time = time.time()\n",
        "\n",
        "#df_0 = spark.read.csv(\"/content/drive/MyDrive/BigData/rotten_tomatoes_movie_reviews.csv\", header=True, inferSchema=True)\n",
        "#df_0.write.format(\"parquet\").save('/content/drive/MyDrive/BigData/rotten_tomatoes_movie_reviews.parquet')\n",
        "\n",
        "df_0=spark.read.parquet('/content/drive/MyDrive/BigData/rotten_tomatoes_movie_reviews.parquet')\n",
        "df2=df_0.persist(StorageLevel.MEMORY_ONLY)\n",
        "\n",
        "end_time = time.time()\n",
        "\n",
        "execution_time = end_time - start_time\n",
        "\n",
        "print(\"Execution Time: {:.2f} seconds\".format(execution_time))\n",
        "\n",
        "\n"
      ],
      "metadata": {
        "id": "NdUfX96DvFiO",
        "colab": {
          "base_uri": "https://localhost:8080/"
        },
        "outputId": "7ed06d6c-0058-4bba-c3a7-a653570accdb"
      },
      "execution_count": null,
      "outputs": [
        {
          "output_type": "stream",
          "name": "stdout",
          "text": [
            "Execution Time: 1.12 seconds\n"
          ]
        }
      ]
    },
    {
      "cell_type": "code",
      "source": [
        "#Showing df2\n",
        "num_rows = 10\n",
        "df2.show(num_rows)"
      ],
      "metadata": {
        "colab": {
          "base_uri": "https://localhost:8080/"
        },
        "id": "O4byNEd5vF1X",
        "outputId": "30c91521-db3f-441d-d54e-89c0e34f8c19"
      },
      "execution_count": null,
      "outputs": [
        {
          "output_type": "stream",
          "name": "stdout",
          "text": [
            "+--------------------+--------+------------+---------------+-----------+-------------+-----------+--------------------+--------------------+--------------------+--------------------+\n",
            "|                  id|reviewId|creationDate|     criticName|isTopCritic|originalScore|reviewState|      publicatioName|          reviewText|      scoreSentiment|           reviewUrl|\n",
            "+--------------------+--------+------------+---------------+-----------+-------------+-----------+--------------------+--------------------+--------------------+--------------------+\n",
            "|             beavers| 1145982|  2003-05-23|Ivan M. Lincoln|      False|        3.5/4|      fresh|Deseret News (Sal...|Timed to be just ...|            POSITIVE|http://www.desere...|\n",
            "|          blood_mask| 1636744|  2007-06-02|  The Foywonder|      False|          1/5|     rotten|       Dread Central|It doesn't matter...|            NEGATIVE|http://www.dreadc...|\n",
            "|city_hunter_shinj...| 2590987|  2019-05-28|   Reuben Baron|      False|         null|      fresh|                 CBR|The choreography ...|            POSITIVE|https://www.cbr.c...|\n",
            "|city_hunter_shinj...| 2558908|  2019-02-14|    Matt Schley|      False|        2.5/5|     rotten|         Japan Times|The film's out-of...|            NEGATIVE|https://www.japan...|\n",
            "|  dangerous_men_2015| 2504681|  2018-08-29|      Pat Padua|      False|         null|      fresh|               DCist|Its clumsy determ...|            POSITIVE|http://dcist.com/...|\n",
            "|  dangerous_men_2015| 2299284|  2015-12-13|     Eric Melin|      False|          4/5|      fresh|        Lawrence.com|With every new mi...|            POSITIVE|http://www.lawren...|\n",
            "|  dangerous_men_2015| 2295858|  2015-11-22|    Matt Donato|      False|         7/10|      fresh| We Got This Covered|Emotionless react...|            POSITIVE|http://wegotthisc...|\n",
            "|  dangerous_men_2015| 2295338|  2015-11-19|   Peter Keough|       True|        0.5/4|     rotten|        Boston Globe|Conceivably, it c...|            NEGATIVE|http://www.boston...|\n",
            "|  dangerous_men_2015| 2294641|  2015-11-16|   Jason Wilson|      False|         3/10|     rotten|     Under the Radar|If you're not a f...|            NEGATIVE|http://www.undert...|\n",
            "|  dangerous_men_2015| 2294129|  2015-11-12| Soren Andersen|       True|          0/4|     rotten|       Seattle Times|    \"\"\"Dangerous Men|\"\" the picture's ...| took 26 years to...|\n",
            "+--------------------+--------+------------+---------------+-----------+-------------+-----------+--------------------+--------------------+--------------------+--------------------+\n",
            "only showing top 10 rows\n",
            "\n"
          ]
        }
      ]
    },
    {
      "cell_type": "markdown",
      "source": [
        "**Cleaning**"
      ],
      "metadata": {
        "id": "PnjRYiFavZgY"
      }
    },
    {
      "cell_type": "code",
      "source": [
        "# unwanted columns to drop\n",
        "columns_to_drop = ['releaseDateTheaters']\n",
        "\n",
        "df1 = df1.drop(*columns_to_drop)\n",
        "\n",
        "df1.show()"
      ],
      "metadata": {
        "colab": {
          "base_uri": "https://localhost:8080/"
        },
        "id": "mkrWd1Fe80EI",
        "outputId": "b8df8007-bde1-4072-f6c7-d64e47f5d078"
      },
      "execution_count": null,
      "outputs": [
        {
          "output_type": "stream",
          "name": "stdout",
          "text": [
            "+--------------------+--------------------+-------------+-----------+------+--------------------+--------------------+--------------+--------------------+----------------+--------------------+--------------------+---------+-----------------+--------+\n",
            "|                  id|               title|audienceScore|tomatoMeter|rating|      ratingContents|releaseDateStreaming|runtimeMinutes|               genre|originalLanguage|            director|              writer|boxOffice|      distributor|soundMix|\n",
            "+--------------------+--------------------+-------------+-----------+------+--------------------+--------------------+--------------+--------------------+----------------+--------------------+--------------------+---------+-----------------+--------+\n",
            "|  space-zombie-bingo| Space Zombie Bingo!|           50|       null|  null|                null|          2018-08-25|            75|Comedy, Horror, S...|         English|       George Ormrod|George Ormrod,Joh...|     null|             null|    null|\n",
            "|     the_green_grass|     The Green Grass|         null|       null|  null|                null|          2020-02-11|           114|               Drama|         English|     Tiffany Edwards|     Tiffany Edwards|     null|             null|    null|\n",
            "|           love_lies|          Love, Lies|           43|       null|  null|                null|                null|           120|               Drama|          Korean|Park Heung-Sik,He...|Ha Young-Joon,Jeo...|     null|             null|    null|\n",
            "|the_sore_losers_1997|         Sore Losers|           60|       null|  null|                null|          2020-10-23|            90|Action, Mystery &...|         English|John Michael McCa...|John Michael McCa...|     null|             null|    null|\n",
            "|dinosaur_island_2002|     Dinosaur Island|           70|       null|  null|                null|          2017-03-27|            80|Fantasy, Adventur...|         English|       Will Meugniot|            John Loy|     null|             null|    null|\n",
            "|         adrift_2018|              Adrift|           65|         69| PG-13|['Injury Images',...|          2018-08-21|           120|Adventure, Drama,...|         English|   Baltasar Kormákur|Aaron Kandell,Jor...|   $31.4M|        STX Films|    null|\n",
            "|malta-con-huevo-s...|      Scrambled Beer|           55|       null|  null|                null|          2015-10-05|            88|              Comedy|         Spanish|Cristobal Valderrama|Cristobal Valderrama|     null|             null|    null|\n",
            "|    kakabakaba-ka-ba|Kakabakaba ka ba?...|           88|       null|  null|                null|                null|          null|                null|            null|        Mike de Leon|                null|     null|             null|    null|\n",
            "|          sundowning|          Sundowning|         null|       null|  null|                null|                null|           123|               Drama|         English|      Jim Comas Cole|                null|     null|             null|    null|\n",
            "|1035316-born_to_kill|        Born to Kill|           74|         83|  null|                null|          2016-05-23|            92|        Crime, Drama|         English|         Robert Wise|Eve Greene,Richar...|     null|             null|    null|\n",
            "|1015331-number_on...|Number One With a...|           19|       null|  null|                null|          2012-03-13|           103|        Crime, Drama|         English|         Jack Smight|                null|     null|             null|    null|\n",
            "|  garden_murder_case|The Garden Murder...|         null|       null|  null|                null|          2016-10-20|            61|  Mystery & thriller|         English|      Edwin L. Marin|                null|     null|             null|    null|\n",
            "|margarita_happy_hour|Margarita Happy Hour|         null|         76|  null|                null|                null|            98|               Drama|         English|        Ilya Chaiken|        Ilya Chaiken|   $11.5K|Passport Pictures|Surround|\n",
            "|  leap_of_faith_2019|Leap of Faith: Wi...|           86|         93|  null|                null|          2020-11-19|           104|Documentary, Myst...|         English|Alexandre O. Phil...|Alexandre O. Phil...|     null|             null|    null|\n",
            "| shake-rattle-roll-3|Shake Rattle & Ro...|           89|       null|  null|                null|          2019-01-04|           120|      Comedy, Horror|         Tagalog|Peque Gallaga,Lor...|                null|     null|             null|    null|\n",
            "|           daag_1973|           The Stain|           82|       null|  null|                null|          2003-11-25|           146|               Drama|           Hindi|         Yash Chopra|Yash Chopra,Gulsh...|     null|             null|    null|\n",
            "|crown_vs_stevens_...|   Crown vs. Stevens|           60|       null|  null|                null|                null|            66|Crime, Drama, Mys...|         English|      Michael Powell|      Brock Williams|     null|             null|    null|\n",
            "|         1221483-paa|                 Paa|           67|         50|  null|                null|                null|           133|               Drama|           Hindi|            R. Balki|            R. Balki|  $199.2K|     Big Pictures|    null|\n",
            "|f9ab9165-598c-3ac...|A Tale of Love an...|         null|       null|  null|                null|                null|           103|               Drama| French (France)|        Leyla Bouzid|        Leyla Bouzid|     null|             null|    null|\n",
            "|  the_last_gentleman|  The Last Gentleman|         null|       null|  null|                null|                null|            80|              Comedy|         English|     Sidney Lanfield|                null|     null|             null|    null|\n",
            "+--------------------+--------------------+-------------+-----------+------+--------------------+--------------------+--------------+--------------------+----------------+--------------------+--------------------+---------+-----------------+--------+\n",
            "only showing top 20 rows\n",
            "\n"
          ]
        }
      ]
    },
    {
      "cell_type": "code",
      "source": [
        "# Checking the null values\n",
        "for column in df1.columns:\n",
        "  null_count = df1.filter(col(column).isNull() | isnan(col(column))).count()\n",
        "  if null_count > 0:\n",
        "    print(f\"Column '{column}' has {null_count} null value(s).\")"
      ],
      "metadata": {
        "colab": {
          "base_uri": "https://localhost:8080/"
        },
        "id": "rLEYuo30vF3x",
        "outputId": "117d85da-cc77-48e0-da8f-1b4a3830244d"
      },
      "execution_count": null,
      "outputs": [
        {
          "output_type": "stream",
          "name": "stdout",
          "text": [
            "Column 'title' has 367 null value(s).\n",
            "Column 'audienceScore' has 70010 null value(s).\n",
            "Column 'tomatoMeter' has 109381 null value(s).\n",
            "Column 'rating' has 129267 null value(s).\n",
            "Column 'ratingContents' has 129267 null value(s).\n",
            "Column 'releaseDateStreaming' has 63838 null value(s).\n",
            "Column 'runtimeMinutes' has 13827 null value(s).\n",
            "Column 'genre' has 11083 null value(s).\n",
            "Column 'originalLanguage' has 13858 null value(s).\n",
            "Column 'director' has 4194 null value(s).\n",
            "Column 'writer' has 53142 null value(s).\n",
            "Column 'boxOffice' has 128491 null value(s).\n",
            "Column 'distributor' has 120248 null value(s).\n",
            "Column 'soundMix' has 127333 null value(s).\n"
          ]
        }
      ]
    },
    {
      "cell_type": "code",
      "source": [
        "#Drop the null values\n",
        "df1 = df1.na.drop()"
      ],
      "metadata": {
        "id": "vUf3m5fLvF7Z"
      },
      "execution_count": null,
      "outputs": []
    },
    {
      "cell_type": "code",
      "source": [
        "for column in df1.columns:\n",
        "  null_count = df1.filter(col(column).isNull() | isnan(col(column))).count()\n",
        "  if null_count > 0:\n",
        "    print(f\"Column '{column}' has {null_count} null value(s).\")\n",
        "  # elif null_count == 0:\n",
        "  #   print(\"Done\")\n",
        "if null_count == 0:\n",
        "  print(\"Done\")"
      ],
      "metadata": {
        "colab": {
          "base_uri": "https://localhost:8080/"
        },
        "id": "h5HsEN4avi_k",
        "outputId": "b5d00e8f-8638-4d83-f3cd-68c3f644cb34"
      },
      "execution_count": null,
      "outputs": [
        {
          "output_type": "stream",
          "name": "stdout",
          "text": [
            "Done\n"
          ]
        }
      ]
    },
    {
      "cell_type": "code",
      "source": [
        "#Checking duplicates\n",
        "duplicate_rows = df1.groupBy(df1.columns).count().filter(col('count') > 1)\n",
        "#duplicate_rows.show()"
      ],
      "metadata": {
        "id": "3GAcNra2vjB8"
      },
      "execution_count": null,
      "outputs": []
    },
    {
      "cell_type": "code",
      "source": [
        "#NUMber of rows and columns\n",
        "num_rows = df2.count()\n",
        "num_columns = len(df2.columns)\n",
        "\n",
        "# Print the shape of the DataFrame\n",
        "print(\"Number of rows:\", num_rows)\n",
        "print(\"Number of columns:\", num_columns)"
      ],
      "metadata": {
        "id": "-Ym9Lfn_SM2U",
        "outputId": "1c953aea-69e7-4689-ac5d-089a7efc987e",
        "colab": {
          "base_uri": "https://localhost:8080/"
        }
      },
      "execution_count": null,
      "outputs": [
        {
          "output_type": "stream",
          "name": "stdout",
          "text": [
            "Number of rows: 1446056\n",
            "Number of columns: 11\n"
          ]
        }
      ]
    },
    {
      "cell_type": "code",
      "source": [
        "# unwanted columns to drop\n",
        "columns_to_drop = ['isTopCritic']\n",
        "df2 = df2.drop(*columns_to_drop)\n",
        "df2.show()"
      ],
      "metadata": {
        "colab": {
          "base_uri": "https://localhost:8080/"
        },
        "id": "CwGy743pArdP",
        "outputId": "ec7ec3ef-bbdf-4b2d-9469-a8600800ae26"
      },
      "execution_count": null,
      "outputs": [
        {
          "output_type": "stream",
          "name": "stdout",
          "text": [
            "+--------------------+---------+------------+-------------------+-------------+-----------+--------------------+--------------------+--------------------+--------------------+\n",
            "|                  id| reviewId|creationDate|         criticName|originalScore|reviewState|      publicatioName|          reviewText|      scoreSentiment|           reviewUrl|\n",
            "+--------------------+---------+------------+-------------------+-------------+-----------+--------------------+--------------------+--------------------+--------------------+\n",
            "|             beavers|  1145982|  2003-05-23|    Ivan M. Lincoln|        3.5/4|      fresh|Deseret News (Sal...|Timed to be just ...|            POSITIVE|http://www.desere...|\n",
            "|          blood_mask|  1636744|  2007-06-02|      The Foywonder|          1/5|     rotten|       Dread Central|It doesn't matter...|            NEGATIVE|http://www.dreadc...|\n",
            "|city_hunter_shinj...|  2590987|  2019-05-28|       Reuben Baron|         null|      fresh|                 CBR|The choreography ...|            POSITIVE|https://www.cbr.c...|\n",
            "|city_hunter_shinj...|  2558908|  2019-02-14|        Matt Schley|        2.5/5|     rotten|         Japan Times|The film's out-of...|            NEGATIVE|https://www.japan...|\n",
            "|  dangerous_men_2015|  2504681|  2018-08-29|          Pat Padua|         null|      fresh|               DCist|Its clumsy determ...|            POSITIVE|http://dcist.com/...|\n",
            "|  dangerous_men_2015|  2299284|  2015-12-13|         Eric Melin|          4/5|      fresh|        Lawrence.com|With every new mi...|            POSITIVE|http://www.lawren...|\n",
            "|  dangerous_men_2015|  2295858|  2015-11-22|        Matt Donato|         7/10|      fresh| We Got This Covered|Emotionless react...|            POSITIVE|http://wegotthisc...|\n",
            "|  dangerous_men_2015|  2295338|  2015-11-19|       Peter Keough|        0.5/4|     rotten|        Boston Globe|Conceivably, it c...|            NEGATIVE|http://www.boston...|\n",
            "|  dangerous_men_2015|  2294641|  2015-11-16|       Jason Wilson|         3/10|     rotten|     Under the Radar|If you're not a f...|            NEGATIVE|http://www.undert...|\n",
            "|  dangerous_men_2015|  2294129|  2015-11-12|     Soren Andersen|          0/4|     rotten|       Seattle Times|    \"\"\"Dangerous Men|\"\" the picture's ...| took 26 years to...|\n",
            "|  dangerous_men_2015|  2293902|  2015-11-12|  Maitland McDonagh|         null|     rotten|Film Journal Inte...|Will entertain so...|            NEGATIVE|http://fj.webedia...|\n",
            "|  dangerous_men_2015|  2293900|  2015-11-12|Marjorie Baumgarten|        1.5/5|     rotten|    Austin Chronicle|This is a bad mov...|            NEGATIVE|http://www.austin...|\n",
            "|  dangerous_men_2015|  2293815|  2015-11-12|         Katie Rife|           B+|      fresh|             AV Club|Ridiculous, artle...|            POSITIVE|http://www.avclub...|\n",
            "|  dangerous_men_2015|  2293605|  2015-11-11|      Amy Nicholson|            C|      fresh|         L.A. Weekly|To sit through it...|            POSITIVE|http://www.laweek...|\n",
            "|small_town_wisconsin|102711819|  2022-07-22|         Peter Gray|         null|      fresh|        This is Film|Small Town Wiscon...|            POSITIVE|https://thisisfil...|\n",
            "|small_town_wisconsin|102711545|  2022-07-22|       Tim Grierson|         null|      fresh|Screen International|This low-key dram...|            POSITIVE|https://www.scree...|\n",
            "|small_town_wisconsin|102700937|  2022-06-16|      Sumner Forbes|       8.5/10|      fresh|         Film Threat|Small Town Wiscon...|            POSITIVE|https://filmthrea...|\n",
            "|small_town_wisconsin|102699897|  2022-06-14|      Tara McNamara|          3/5|      fresh|  Common Sense Media|Just like Wayne&#...|            POSITIVE|https://www.commo...|\n",
            "|small_town_wisconsin|102698744|  2022-06-10|         Rob Thomas|          3/4|      fresh|Capital Times (Ma...|It&#8217;s a movi...|            POSITIVE|https://captimes....|\n",
            "|small_town_wisconsin|102698639|  2022-06-10|     Todd Jorgenson|         null|     rotten|         Cinemalogue|Despite some intr...|            NEGATIVE|http://cinemalogu...|\n",
            "+--------------------+---------+------------+-------------------+-------------+-----------+--------------------+--------------------+--------------------+--------------------+\n",
            "only showing top 20 rows\n",
            "\n"
          ]
        }
      ]
    },
    {
      "cell_type": "code",
      "source": [
        "#Checking the null values\n",
        "for column in df2.columns:\n",
        "  null_count_1 = df2.filter(col(column).isNull() | isnan(col(column))).count()\n",
        "  if null_count_1 > 0:\n",
        "    print(f\"Column '{column}' has {null_count_1} null value(s).\")"
      ],
      "metadata": {
        "id": "ATW6IZFpvjG6",
        "colab": {
          "base_uri": "https://localhost:8080/"
        },
        "outputId": "2363de3d-e87d-4805-fa70-9f840a845490"
      },
      "execution_count": null,
      "outputs": [
        {
          "output_type": "stream",
          "name": "stdout",
          "text": [
            "Column 'reviewId' has 868 null value(s).\n",
            "Column 'creationDate' has 871 null value(s).\n",
            "Column 'criticName' has 1077 null value(s).\n",
            "Column 'originalScore' has 436309 null value(s).\n",
            "Column 'reviewState' has 1093 null value(s).\n",
            "Column 'publicatioName' has 1093 null value(s).\n",
            "Column 'reviewText' has 70318 null value(s).\n",
            "Column 'scoreSentiment' has 2082 null value(s).\n",
            "Column 'reviewUrl' has 210424 null value(s).\n"
          ]
        }
      ]
    },
    {
      "cell_type": "code",
      "source": [
        "#Dropping the null values\n",
        "df2 = df2.na.drop()"
      ],
      "metadata": {
        "id": "24M5AveEvjJ_"
      },
      "execution_count": null,
      "outputs": []
    },
    {
      "cell_type": "code",
      "source": [
        "for column in df2.columns:\n",
        "  null_count = df2.filter(col(column).isNull() | isnan(col(column))).count()\n",
        "  if null_count > 0:\n",
        "    print(f\"Column '{column}' has {null_count} null value(s).\")\n",
        "if null_count == 0:\n",
        "  print(\"Done\")"
      ],
      "metadata": {
        "id": "u7Pdv0RMvjNh",
        "colab": {
          "base_uri": "https://localhost:8080/"
        },
        "outputId": "b70b953b-9108-49e1-efcc-0f9d5021c184"
      },
      "execution_count": null,
      "outputs": [
        {
          "output_type": "stream",
          "name": "stdout",
          "text": [
            "Done\n"
          ]
        }
      ]
    },
    {
      "cell_type": "code",
      "source": [
        "#Checking duplicates\n",
        "duplicate_rows = df2.groupBy(df2.columns).count().filter(col('count') > 1)\n",
        "duplicate_rows.show()"
      ],
      "metadata": {
        "id": "j4nhRFhbv3Mv",
        "colab": {
          "base_uri": "https://localhost:8080/"
        },
        "outputId": "d952307c-ac57-4a86-854e-70305bff395e"
      },
      "execution_count": null,
      "outputs": [
        {
          "output_type": "stream",
          "name": "stdout",
          "text": [
            "+--------------------+--------+------------+----------------+-------------+-----------+--------------------+--------------------+--------------------+--------------------+-----+\n",
            "|                  id|reviewId|creationDate|      criticName|originalScore|reviewState|      publicatioName|          reviewText|      scoreSentiment|           reviewUrl|count|\n",
            "+--------------------+--------+------------+----------------+-------------+-----------+--------------------+--------------------+--------------------+--------------------+-----+\n",
            "|   fright_night_2011| 2004896|  2011-08-19|Mike McGranaghan|          3/4|      fresh|          Aisle Seat|It's got laughs a...|            POSITIVE|http://aisleseat....|    2|\n",
            "|             natural| 2771823|  2021-02-27|   Yasser Medina|         7/10|      fresh|    Cinemaficionados|Barry Levinson's ...|            POSITIVE|https://www.cinem...|    2|\n",
            "|  rembrandts_jaccuse| 2784921|  2021-04-20|  Robin Clifford|           A-|      fresh|     Reeling Reviews|I think I am goin...|            POSITIVE|http://www.reelin...|    2|\n",
            "|      righteous_kill| 1755519|  2008-09-12|  Adam Fendelman|          2/5|     rotten|HollywoodChicago.com|Al Pacino and Rob...|            NEGATIVE|http://www.hollyw...|    2|\n",
            "|       scary_movie_2|  234824|  2001-07-06|  Robin Clifford|            D|     rotten|     Reeling Reviews|You're better off...|            NEGATIVE|http://www.reelin...|    2|\n",
            "|     stillwater_2020| 2809978|  2021-07-30|Daniel M. Kimmel|          5/5|      fresh|  North Shore Movies|[Camille] Cottin ...|            POSITIVE|https://northshor...|    2|\n",
            "|       the_two_jakes| 1209647|  2003-10-23|      Rob Thomas|          4/5|      fresh|Capital Times (Ma...|\"Of course it's n...|\"\" but it is sati...|            POSITIVE|    2|\n",
            "|             turnout| 2010470|  2011-09-12|      Anna Smith|          3/5|      fresh|     Empire Magazine|Plenty of 'he's-n...|            POSITIVE|http://www.empire...|    2|\n",
            "|   fright_night_2011| 2004866|  2011-08-19|     Adam Graham|            B|      fresh|        Detroit News|Farrell is all da...|            POSITIVE|http://detroitnew...|    2|\n",
            "|       human_capital| 2241978|  2015-01-12|   John Anderson|           B+|      fresh|Thompson on Holly...|Human Capital wor...|            POSITIVE|http://www.indiew...|    2|\n",
            "|       human_capital| 2242040|  2015-01-13|  Tasha Robinson|          4/5|      fresh|        The Dissolve|The moral ends up...|            POSITIVE|http://thedissolv...|    2|\n",
            "|     kung_fu_panda_3| 2763794|  2021-02-03|  Richard Crouse|          4/5|      fresh|      Richard Crouse|The rare sequel t...|            POSITIVE|http://www.richar...|    2|\n",
            "|          rodin_2018| 2481902|  2018-06-01|    Peter Rainer|            C|     rotten|Christian Science...|   A cooped-up slog.|            NEGATIVE|https://www.csmon...|    2|\n",
            "|           shattered| 1680078|  2007-10-14|Joseph Proimakis|          2/5|     rotten|Movies for the Ma...|S' ena boliko sym...|            NEGATIVE|http://mftm.blogs...|    2|\n",
            "|     stillwater_2020| 2810478|  2021-07-31|    Julian Lytle|            C|      fresh|           idobi.com|\"Stillwater is ok...|            POSITIVE|https://idobi.com...|    2|\n",
            "|     stillwater_2020| 2812088|  2021-08-08|     Simran Hans|          3/5|      fresh|       Observer (UK)|This is a thought...|            POSITIVE|https://www.thegu...|    2|\n",
            "|         wadjda_2013| 2178592|  2013-12-10|   Anthony Quinn|          3/5|      fresh|    Independent (UK)|In the title role...|            POSITIVE|http://www.indepe...|    2|\n",
            "|            elephant| 1209941|  2003-10-24|  Robin Clifford|            B|      fresh|     Reeling Reviews|Van Sant handles ...|            POSITIVE|http://www.reelin...|    2|\n",
            "|mc5_a_true_testim...| 1274514|  2004-04-22|  Elvis Mitchell|        3.5/5|      fresh|      New York Times|A riveting, all-e...|            POSITIVE|http://www.nytime...|    2|\n",
            "|the_front_runner_...| 2553891|  2019-02-01|   Leigh Paatsch|          2/5|     rotten|Herald Sun (Austr...|It is hard to nai...|            NEGATIVE|https://www.heral...|    2|\n",
            "+--------------------+--------+------------+----------------+-------------+-----------+--------------------+--------------------+--------------------+--------------------+-----+\n",
            "only showing top 20 rows\n",
            "\n"
          ]
        }
      ]
    },
    {
      "cell_type": "markdown",
      "source": [
        "**Integration these 2 datasets**"
      ],
      "metadata": {
        "id": "jHSrjT1Yx2WC"
      }
    },
    {
      "cell_type": "code",
      "source": [
        "# Intergrating the 2 datasets with \"id\" column\n",
        "join_column = \"id\"\n",
        "df3 = df1.join(df2, join_column , \"inner\")\n",
        "df3.show()"
      ],
      "metadata": {
        "id": "GbTl2T12x6Wd",
        "colab": {
          "base_uri": "https://localhost:8080/"
        },
        "outputId": "774784e6-debf-48ce-8384-550f63c943f4"
      },
      "execution_count": null,
      "outputs": [
        {
          "output_type": "stream",
          "name": "stdout",
          "text": [
            "+--------------+--------------+-------------+-----------+------+--------------------+--------------------+--------------+-----+----------------+------------+--------------------+---------+--------------------+--------------------+---------+------------+----------------+-------------+-----------+--------------------+--------------------+--------------+--------------------+\n",
            "|            id|         title|audienceScore|tomatoMeter|rating|      ratingContents|releaseDateStreaming|runtimeMinutes|genre|originalLanguage|    director|              writer|boxOffice|         distributor|            soundMix| reviewId|creationDate|      criticName|originalScore|reviewState|      publicatioName|          reviewText|scoreSentiment|           reviewUrl|\n",
            "+--------------+--------------+-------------+-----------+------+--------------------+--------------------+--------------+-----+----------------+------------+--------------------+---------+--------------------+--------------------+---------+------------+----------------+-------------+-----------+--------------------+--------------------+--------------+--------------------+\n",
            "|house_of_gucci|House of Gucci|           83|         62|     R|['Language', 'Bri...|          2022-02-01|           157|Drama|         English|Ridley Scott|Becky Johnston,Ro...|   $53.8M|United Artists Re...|Dolby Atmos, Dolb...|102762587|  2022-12-19|Juan Pablo Russo|         2/10|     rotten|     EscribiendoCine|[Ridley] Scott re...|      NEGATIVE|https://www.escri...|\n",
            "|house_of_gucci|House of Gucci|           83|         62|     R|['Language', 'Bri...|          2022-02-01|           157|Drama|         English|Ridley Scott|Becky Johnston,Ro...|   $53.8M|United Artists Re...|Dolby Atmos, Dolb...|102752201|  2022-11-12|     Dallas King|          3/5|     rotten|         Outtake Mag|Much like Leto&#8...|      NEGATIVE|http://outtakemag...|\n",
            "|house_of_gucci|House of Gucci|           83|         62|     R|['Language', 'Bri...|          2022-02-01|           157|Drama|         English|Ridley Scott|Becky Johnston,Ro...|   $53.8M|United Artists Re...|Dolby Atmos, Dolb...|102735810|  2022-09-24|   Maggie Lovitt|           B+|      fresh|Millennial Falcon...|With any other ca...|      POSITIVE|https://www.mille...|\n",
            "|house_of_gucci|House of Gucci|           83|         62|     R|['Language', 'Bri...|          2022-02-01|           157|Drama|         English|Ridley Scott|Becky Johnston,Ro...|   $53.8M|United Artists Re...|Dolby Atmos, Dolb...|102732948|  2022-09-18|  Mark R. Leeper|         9/10|      fresh|Mark Leeper's Rev...|This is more than...|      POSITIVE|http://leepers.us...|\n",
            "|house_of_gucci|House of Gucci|           83|         62|     R|['Language', 'Bri...|          2022-02-01|           157|Drama|         English|Ridley Scott|Becky Johnston,Ro...|   $53.8M|United Artists Re...|Dolby Atmos, Dolb...|102726337|  2022-09-01| Zoë Rose Bryant|        3.5/5|      fresh|Loud and Clear Re...|House of Gucci sh...|      POSITIVE|https://loudandcl...|\n",
            "|house_of_gucci|House of Gucci|           83|         62|     R|['Language', 'Bri...|          2022-02-01|           157|Drama|         English|Ridley Scott|Becky Johnston,Ro...|   $53.8M|United Artists Re...|Dolby Atmos, Dolb...|102719205|  2022-08-16|Keith Garlington|        2.5/5|     rotten|  Keith & the Movies|For about two-thi...|      NEGATIVE|https://keithandt...|\n",
            "|house_of_gucci|House of Gucci|           83|         62|     R|['Language', 'Bri...|          2022-02-01|           157|Drama|         English|Ridley Scott|Becky Johnston,Ro...|   $53.8M|United Artists Re...|Dolby Atmos, Dolb...|102718666|  2022-08-15|    Cris Kennedy|          3/5|      fresh|The Canberra Time...|This film could h...|      POSITIVE|https://www.canbe...|\n",
            "|house_of_gucci|House of Gucci|           83|         62|     R|['Language', 'Bri...|          2022-02-01|           157|Drama|         English|Ridley Scott|Becky Johnston,Ro...|   $53.8M|United Artists Re...|Dolby Atmos, Dolb...|102688087|  2022-05-10|       Dan Bayer|         5/10|     rotten|   Next Best Picture|The campy scenes ...|      NEGATIVE|https://www.nextb...|\n",
            "|house_of_gucci|House of Gucci|           83|         62|     R|['Language', 'Bri...|          2022-02-01|           157|Drama|         English|Ridley Scott|Becky Johnston,Ro...|   $53.8M|United Artists Re...|Dolby Atmos, Dolb...|102675033|  2022-04-01|    Grant Watson|         5/10|     rotten|     Fiction Machine|Textually it is l...|      NEGATIVE|https://fictionma...|\n",
            "|house_of_gucci|House of Gucci|           83|         62|     R|['Language', 'Bri...|          2022-02-01|           157|Drama|         English|Ridley Scott|Becky Johnston,Ro...|   $53.8M|United Artists Re...|Dolby Atmos, Dolb...|102675008|  2022-04-01|   Yasser Medina|         7/10|      fresh|    Cinemaficionados|Scott's proposal ...|      POSITIVE|https://www.cinem...|\n",
            "|house_of_gucci|House of Gucci|           83|         62|     R|['Language', 'Bri...|          2022-02-01|           157|Drama|         English|Ridley Scott|Becky Johnston,Ro...|   $53.8M|United Artists Re...|Dolby Atmos, Dolb...|102671133|  2022-03-22|    David Nusair|          2/4|     rotten|   Reel Film Reviews|...yet another un...|      NEGATIVE|https://reelfilm....|\n",
            "|house_of_gucci|House of Gucci|           83|         62|     R|['Language', 'Bri...|          2022-02-01|           157|Drama|         English|Ridley Scott|Becky Johnston,Ro...|   $53.8M|United Artists Re...|Dolby Atmos, Dolb...|102667642|  2022-03-13|   David Reddish|        3.5/4|      fresh|             Queerty|Lady Gaga fans sh...|      POSITIVE|https://www.queer...|\n",
            "|house_of_gucci|House of Gucci|           83|         62|     R|['Language', 'Bri...|          2022-02-01|           157|Drama|         English|Ridley Scott|Becky Johnston,Ro...|   $53.8M|United Artists Re...|Dolby Atmos, Dolb...|102666534|  2022-03-10|Lauren Veneziani|          4/5|      fresh|        DC Film Girl|It could have bee...|      POSITIVE|https://www.wbalt...|\n",
            "|house_of_gucci|House of Gucci|           83|         62|     R|['Language', 'Bri...|          2022-02-01|           157|Drama|         English|Ridley Scott|Becky Johnston,Ro...|   $53.8M|United Artists Re...|Dolby Atmos, Dolb...|102666533|  2022-03-10|  Michael Medved|        2.5/4|      fresh|The Michael Medve...|It's fun watching...|      POSITIVE|http://www.michae...|\n",
            "|house_of_gucci|House of Gucci|           83|         62|     R|['Language', 'Bri...|          2022-02-01|           157|Drama|         English|Ridley Scott|Becky Johnston,Ro...|   $53.8M|United Artists Re...|Dolby Atmos, Dolb...|102663898|  2022-03-03|Victoria Luxford|          3/5|      fresh|             City AM|Gaga understands ...|      POSITIVE|https://www.citya...|\n",
            "|house_of_gucci|House of Gucci|           83|         62|     R|['Language', 'Bri...|          2022-02-01|           157|Drama|         English|Ridley Scott|Becky Johnston,Ro...|   $53.8M|United Artists Re...|Dolby Atmos, Dolb...|102662354|  2022-02-28| Jennifer Heaton|         5/10|     rotten|    Alternative Lens|Swinging between ...|      NEGATIVE|https://alternati...|\n",
            "|house_of_gucci|House of Gucci|           83|         62|     R|['Language', 'Bri...|          2022-02-01|           157|Drama|         English|Ridley Scott|Becky Johnston,Ro...|   $53.8M|United Artists Re...|Dolby Atmos, Dolb...|102659637|  2022-02-19|    Matt Brunson|          2/4|     rotten|         Film Frenzy|A film that wildl...|      NEGATIVE|https://thefilmfr...|\n",
            "|house_of_gucci|House of Gucci|           83|         62|     R|['Language', 'Bri...|          2022-02-01|           157|Drama|         English|Ridley Scott|Becky Johnston,Ro...|   $53.8M|United Artists Re...|Dolby Atmos, Dolb...|102656351|  2022-02-12|    Rene Sanchez|          2/4|     rotten|  Cine Sin Fronteras|Beneath its lavis...|      NEGATIVE|https://cinesinfr...|\n",
            "|house_of_gucci|House of Gucci|           83|         62|     R|['Language', 'Bri...|          2022-02-01|           157|Drama|         English|Ridley Scott|Becky Johnston,Ro...|   $53.8M|United Artists Re...|Dolby Atmos, Dolb...|102656308|  2022-02-12|  David Gonzalez|          3/4|      fresh|  The Cinematic Reel|House of Gucci is...|      POSITIVE|https://thecinema...|\n",
            "|house_of_gucci|House of Gucci|           83|         62|     R|['Language', 'Bri...|          2022-02-01|           157|Drama|         English|Ridley Scott|Becky Johnston,Ro...|   $53.8M|United Artists Re...|Dolby Atmos, Dolb...|102656068|  2022-02-12|    Brian Eggert|          3/4|      fresh|   Deep Focus Review|House of Gucci qu...|      POSITIVE|https://deepfocus...|\n",
            "+--------------+--------------+-------------+-----------+------+--------------------+--------------------+--------------+-----+----------------+------------+--------------------+---------+--------------------+--------------------+---------+------------+----------------+-------------+-----------+--------------------+--------------------+--------------+--------------------+\n",
            "only showing top 20 rows\n",
            "\n"
          ]
        }
      ]
    },
    {
      "cell_type": "code",
      "source": [
        "# Checking the null values\n",
        "for column in df3.columns:\n",
        "  null_count = df3.filter(col(column).isNull() | isnan(col(column))).count()\n",
        "  if null_count > 0:\n",
        "    print(f\"Column '{column}' has {null_count} null value(s).\")\n",
        "if null_count == 0:\n",
        "  print(\"Done\")"
      ],
      "metadata": {
        "id": "FtoK4zjIyphg",
        "colab": {
          "base_uri": "https://localhost:8080/"
        },
        "outputId": "4627991e-88d5-4f5a-8c55-c249ed43d2ac"
      },
      "execution_count": null,
      "outputs": [
        {
          "output_type": "stream",
          "name": "stdout",
          "text": [
            "Done\n"
          ]
        }
      ]
    },
    {
      "cell_type": "code",
      "source": [
        "#Checking duplicates\n",
        "duplicate_rows = df3.groupBy(df3.columns).count().filter(col('count') > 1)\n",
        "duplicate_rows.show()"
      ],
      "metadata": {
        "id": "XfP8K1Uty9Kb",
        "colab": {
          "base_uri": "https://localhost:8080/"
        },
        "outputId": "4243bf33-4100-41d2-e044-d6488ee16589"
      },
      "execution_count": null,
      "outputs": [
        {
          "output_type": "stream",
          "name": "stdout",
          "text": [
            "+--------------------+--------------------+-------------+-----------+------+----------------+--------------------+--------------+------+----------------+-------------+----------------+---------+------------+--------------------+--------+------------+-----------------+-------------+-----------+--------------------+--------------------+--------------+--------------------+-----+\n",
            "|                  id|               title|audienceScore|tomatoMeter|rating|  ratingContents|releaseDateStreaming|runtimeMinutes| genre|originalLanguage|     director|          writer|boxOffice| distributor|            soundMix|reviewId|creationDate|       criticName|originalScore|reviewState|      publicatioName|          reviewText|scoreSentiment|           reviewUrl|count|\n",
            "+--------------------+--------------------+-------------+-----------+------+----------------+--------------------+--------------+------+----------------+-------------+----------------+---------+------------+--------------------+--------+------------+-----------------+-------------+-----------+--------------------+--------------------+--------------+--------------------+-----+\n",
            "|prairie_home_comp...|A Prairie Home Co...|           59|         81| PG-13|['Risque Humor']|          2006-04-25|           105|Comedy|         English|Robert Altman|Garrison Keillor|   $20.3M|Picturehouse|SDDS, Dolby Digit...| 2744496|  2020-11-21|      Mike Massie|         2/10|     rotten| Gone With The Twins|Contains not even...|      NEGATIVE|http://gonewithth...|    4|\n",
            "|prairie_home_comp...|A Prairie Home Co...|           59|         81| PG-13|['Risque Humor']|          2006-04-25|           105|Comedy|         English|Robert Altman|Garrison Keillor|   $20.3M|Picturehouse|SDDS, Dolby Digit...| 2594307|  2019-06-05|     Mattie Lucas|        3.5/4|      fresh|The Dispatch (Lex...|A warm, witty ode...|      POSITIVE|https://www.the-d...|    4|\n",
            "|prairie_home_comp...|A Prairie Home Co...|           59|         81| PG-13|['Risque Humor']|          2006-04-25|           105|Comedy|         English|Robert Altman|Garrison Keillor|   $20.3M|Picturehouse|SDDS, Dolby Digit...| 2447898|  2018-01-05|      Joel Siegel|           B-|      fresh|Good Morning America|There is a great ...|      POSITIVE|http://abcnews.go...|    4|\n",
            "|prairie_home_comp...|A Prairie Home Co...|           59|         81| PG-13|['Risque Humor']|          2006-04-25|           105|Comedy|         English|Robert Altman|Garrison Keillor|   $20.3M|Picturehouse|SDDS, Dolby Digit...| 1978855|  2011-04-20|      Jeff Meyers|           C+|     rotten|Metro Times (Detr...|...for the uninit...|      NEGATIVE|http://www2.metro...|    4|\n",
            "|prairie_home_comp...|A Prairie Home Co...|           59|         81| PG-13|['Risque Humor']|          2006-04-25|           105|Comedy|         English|Robert Altman|Garrison Keillor|   $20.3M|Picturehouse|SDDS, Dolby Digit...| 1925912|  2010-08-24|       Jay Antani|          2/4|     rotten|       Cinema Writer|It looks and feel...|      NEGATIVE|http://cinemawrit...|    4|\n",
            "|prairie_home_comp...|A Prairie Home Co...|           59|         81| PG-13|['Risque Humor']|          2006-04-25|           105|Comedy|         English|Robert Altman|Garrison Keillor|   $20.3M|Picturehouse|SDDS, Dolby Digit...| 1748890|  2008-08-13|     Richard Luck|        3.5/5|      fresh|               Film4|Swan songs are se...|      POSITIVE|http://www.channe...|    4|\n",
            "|prairie_home_comp...|A Prairie Home Co...|           59|         81| PG-13|['Risque Humor']|          2006-04-25|           105|Comedy|         English|Robert Altman|Garrison Keillor|   $20.3M|Picturehouse|SDDS, Dolby Digit...| 1733538|  2008-06-08|     Robert Davis|        3.5/5|      fresh|      Paste Magazine|Altman's star-stu...|      POSITIVE|http://www.pastem...|    4|\n",
            "|prairie_home_comp...|A Prairie Home Co...|           59|         81| PG-13|['Risque Humor']|          2006-04-25|           105|Comedy|         English|Robert Altman|Garrison Keillor|   $20.3M|Picturehouse|SDDS, Dolby Digit...| 1711953|  2008-02-28|    Brandon Fibbs|         7/10|      fresh|    BrandonFibbs.com|...a lovely and b...|      POSITIVE|http://brandonfib...|    4|\n",
            "|prairie_home_comp...|A Prairie Home Co...|           59|         81| PG-13|['Risque Humor']|          2006-04-25|           105|Comedy|         English|Robert Altman|Garrison Keillor|   $20.3M|Picturehouse|SDDS, Dolby Digit...| 1652289|  2007-07-14|       Joe Lozito|        3.5/4|      fresh|Big Picture Big S...|Alternatively wis...|      POSITIVE|http://www.bigpic...|    4|\n",
            "|prairie_home_comp...|A Prairie Home Co...|           59|         81| PG-13|['Risque Humor']|          2006-04-25|           105|Comedy|         English|Robert Altman|Garrison Keillor|   $20.3M|Picturehouse|SDDS, Dolby Digit...| 1640047|  2007-06-16|     Kam Williams|        3.5/4|      fresh|       Richmond Post|This adaptation i...|      POSITIVE|http://www.upstag...|    4|\n",
            "|prairie_home_comp...|A Prairie Home Co...|           59|         81| PG-13|['Risque Humor']|          2006-04-25|           105|Comedy|         English|Robert Altman|Garrison Keillor|   $20.3M|Picturehouse|SDDS, Dolby Digit...| 1636809|  2007-06-03|Enrique Buchichio|          2/5|     rotten|       Uruguay Total|La despedida de R...|      NEGATIVE|http://www.cartel...|    4|\n",
            "|prairie_home_comp...|A Prairie Home Co...|           59|         81| PG-13|['Risque Humor']|          2006-04-25|           105|Comedy|         English|Robert Altman|Garrison Keillor|   $20.3M|Picturehouse|SDDS, Dolby Digit...| 1572159|  2007-01-20|      Dan Jardine|       80/100|      fresh|           Cinemania|Plenty of artistr...|      POSITIVE|http://djardine.b...|    4|\n",
            "|prairie_home_comp...|A Prairie Home Co...|           59|         81| PG-13|['Risque Humor']|          2006-04-25|           105|Comedy|         English|Robert Altman|Garrison Keillor|   $20.3M|Picturehouse|SDDS, Dolby Digit...| 1568335|  2007-01-04|   Matthew Turner|          4/5|      fresh|          ViewLondon|A fitting swanson...|      POSITIVE|http://www.viewlo...|    4|\n",
            "|prairie_home_comp...|A Prairie Home Co...|           59|         81| PG-13|['Risque Humor']|          2006-04-25|           105|Comedy|         English|Robert Altman|Garrison Keillor|   $20.3M|Picturehouse|SDDS, Dolby Digit...| 1565583|  2006-12-30|       Rich Cline|          4/5|      fresh| Shadows on the Wall|This ode to a byg...|      POSITIVE|http://www.shadow...|    4|\n",
            "|prairie_home_comp...|A Prairie Home Co...|           59|         81| PG-13|['Risque Humor']|          2006-04-25|           105|Comedy|         English|Robert Altman|Garrison Keillor|   $20.3M|Picturehouse|SDDS, Dolby Digit...| 1546448|  2006-10-08|      Sandra Hall|        4.5/5|      fresh|Sydney Morning He...|A celebration of ...|      POSITIVE|http://www.smh.co...|    4|\n",
            "|prairie_home_comp...|A Prairie Home Co...|           59|         81| PG-13|['Risque Humor']|          2006-04-25|           105|Comedy|         English|Robert Altman|Garrison Keillor|   $20.3M|Picturehouse|SDDS, Dolby Digit...| 1546398|  2006-10-07|   John J. Puccio|         6/10|     rotten|    Movie Metropolis|...essentially a ...|      NEGATIVE|http://www.dvdtow...|    4|\n",
            "|prairie_home_comp...|A Prairie Home Co...|           59|         81| PG-13|['Risque Humor']|          2006-04-25|           105|Comedy|         English|Robert Altman|Garrison Keillor|   $20.3M|Picturehouse|SDDS, Dolby Digit...| 1539322|  2006-09-20|     Robert Roten|            B|      fresh| Laramie Movie Scope|A whimsical, good...|      POSITIVE|http://www.lariat...|    4|\n",
            "|prairie_home_comp...|A Prairie Home Co...|           59|         81| PG-13|['Risque Humor']|          2006-04-25|           105|Comedy|         English|Robert Altman|Garrison Keillor|   $20.3M|Picturehouse|SDDS, Dolby Digit...| 1535676|  2006-08-31|    Betsy Bozdech|        3.5/4|      fresh|       Hollywood.com|You don't have to...|      POSITIVE|http://www.hollyw...|    4|\n",
            "|prairie_home_comp...|A Prairie Home Co...|           59|         81| PG-13|['Risque Humor']|          2006-04-25|           105|Comedy|         English|Robert Altman|Garrison Keillor|   $20.3M|Picturehouse|SDDS, Dolby Digit...| 1534156|  2006-08-25|   Carolyn Arends|          3/4|      fresh|  Christianity Today|Fans of Altman's ...|      POSITIVE|http://www.christ...|    4|\n",
            "|prairie_home_comp...|A Prairie Home Co...|           59|         81| PG-13|['Risque Humor']|          2006-04-25|           105|Comedy|         English|Robert Altman|Garrison Keillor|   $20.3M|Picturehouse|SDDS, Dolby Digit...| 1533143|  2006-08-19|      Derek Smith|        2.5/4|      fresh|Cinematic Reflect...|With A Prairie Ho...|      POSITIVE|http://www.cinema...|    4|\n",
            "+--------------------+--------------------+-------------+-----------+------+----------------+--------------------+--------------+------+----------------+-------------+----------------+---------+------------+--------------------+--------+------------+-----------------+-------------+-----------+--------------------+--------------------+--------------+--------------------+-----+\n",
            "only showing top 20 rows\n",
            "\n"
          ]
        }
      ]
    },
    {
      "cell_type": "code",
      "source": [
        "# Unwanted cloumns want to drop it\n",
        "columns_to_drop = [\"id\", \"audienceScore\",\"tomatoMeter\",\"rating\",\"ratingContents\",\"releaseDateTheaters\",\"releaseDateStreaming\",\"runtimeMinutes\",\"originalLanguage\",\"writer\",\"distributor\",\"soundMix\",\"reviewId\",\"creationDate\",\"criticName\",\"isTopCritic\",\"originalScore\",\"reviewState\",\"publicatioName\",\"scoreSentiment\",\"reviewUrl\"]"
      ],
      "metadata": {
        "id": "TB79TU30y9Nz"
      },
      "execution_count": null,
      "outputs": []
    },
    {
      "cell_type": "code",
      "source": [
        "df3 = df3.drop(*columns_to_drop)"
      ],
      "metadata": {
        "id": "9Z6TEaaMy9fC"
      },
      "execution_count": null,
      "outputs": []
    },
    {
      "cell_type": "code",
      "source": [
        "df3.show()"
      ],
      "metadata": {
        "id": "wb6CxToEzJR1",
        "colab": {
          "base_uri": "https://localhost:8080/"
        },
        "outputId": "9364e4eb-455b-437b-ef63-b7553cbdcf3f"
      },
      "execution_count": null,
      "outputs": [
        {
          "output_type": "stream",
          "name": "stdout",
          "text": [
            "+---------------+-------------+---------+---------+--------------------+\n",
            "|          title|        genre| director|boxOffice|          reviewText|\n",
            "+---------------+-------------+---------+---------+--------------------+\n",
            "|Monsoon Wedding|Comedy, Drama|Mira Nair|   $13.9M|MONSOON WEDDING i...|\n",
            "|Monsoon Wedding|Comedy, Drama|Mira Nair|   $13.9M|A celebration of ...|\n",
            "|Monsoon Wedding|Comedy, Drama|Mira Nair|   $13.9M|\"Not content to m...|\n",
            "|Monsoon Wedding|Comedy, Drama|Mira Nair|   $13.9M|... among the mos...|\n",
            "|Monsoon Wedding|Comedy, Drama|Mira Nair|   $13.9M|A big, galloping ...|\n",
            "|Monsoon Wedding|Comedy, Drama|Mira Nair|   $13.9M|An optimistic and...|\n",
            "|Monsoon Wedding|Comedy, Drama|Mira Nair|   $13.9M|The best day out ...|\n",
            "|Monsoon Wedding|Comedy, Drama|Mira Nair|   $13.9M|It's not just a t...|\n",
            "|Monsoon Wedding|Comedy, Drama|Mira Nair|   $13.9M|Superbly acted, g...|\n",
            "|Monsoon Wedding|Comedy, Drama|Mira Nair|   $13.9M|so alive and colo...|\n",
            "|Monsoon Wedding|Comedy, Drama|Mira Nair|   $13.9M|May not have as m...|\n",
            "|Monsoon Wedding|Comedy, Drama|Mira Nair|   $13.9M|Nair doesn't use ...|\n",
            "|Monsoon Wedding|Comedy, Drama|Mira Nair|   $13.9M|Nair and screenwr...|\n",
            "|Monsoon Wedding|Comedy, Drama|Mira Nair|   $13.9M|This is a gorgeou...|\n",
            "|Monsoon Wedding|Comedy, Drama|Mira Nair|   $13.9M|Just when you thi...|\n",
            "|Monsoon Wedding|Comedy, Drama|Mira Nair|   $13.9M|Every scene is al...|\n",
            "|Monsoon Wedding|Comedy, Drama|Mira Nair|   $13.9M|Some movies prese...|\n",
            "|Monsoon Wedding|Comedy, Drama|Mira Nair|   $13.9M|Strongly infused ...|\n",
            "|Monsoon Wedding|Comedy, Drama|Mira Nair|   $13.9M|The film is a joy...|\n",
            "|Monsoon Wedding|Comedy, Drama|Mira Nair|   $13.9M|A colorful, joyou...|\n",
            "+---------------+-------------+---------+---------+--------------------+\n",
            "only showing top 20 rows\n",
            "\n"
          ]
        }
      ]
    },
    {
      "cell_type": "markdown",
      "source": [
        "**Reading the third dataset**"
      ],
      "metadata": {
        "id": "gqFfQCIVyAgK"
      }
    },
    {
      "cell_type": "code",
      "source": [
        "\n",
        "import time\n",
        "from pyspark.storagelevel import StorageLevel\n",
        "\n",
        "start_time = time.time()\n",
        "\n",
        "#df_1 = spark.read.csv(\"/content/drive/MyDrive/BigData/movies_metadata.csv\", header=True, inferSchema=True)\n",
        "#df_1.write.format(\"parquet\").save('/content/drive/MyDrive/BigData/movies_metadata.parquet')\n",
        "\n",
        "df_1=spark.read.parquet('/content/drive/MyDrive/BigData/movies_metadata.parquet')\n",
        "df4=df_1.persist(StorageLevel.MEMORY_ONLY)\n",
        "\n",
        "end_time = time.time()\n",
        "\n",
        "execution_time = end_time - start_time\n",
        "\n",
        "print(\"Execution Time: {:.2f} seconds\".format(execution_time))\n",
        "\n",
        "\n",
        "\n"
      ],
      "metadata": {
        "id": "9uR34o8OyK60",
        "colab": {
          "base_uri": "https://localhost:8080/"
        },
        "outputId": "c7e84568-1ae4-479e-c08c-5011594cbf78"
      },
      "execution_count": null,
      "outputs": [
        {
          "output_type": "stream",
          "name": "stdout",
          "text": [
            "Execution Time: 1.11 seconds\n"
          ]
        }
      ]
    },
    {
      "cell_type": "code",
      "source": [
        "num_rows = 10\n",
        "df4.show(num_rows)"
      ],
      "metadata": {
        "id": "FgL9PaMyyXyl",
        "colab": {
          "base_uri": "https://localhost:8080/"
        },
        "outputId": "bcec6d3c-77ec-4e19-e928-161c6bff88f0"
      },
      "execution_count": null,
      "outputs": [
        {
          "output_type": "stream",
          "name": "stdout",
          "text": [
            "+-----+---------------------+--------+--------------------+--------------------+-----+---------+-----------------+--------------------+--------------------+----------+--------------------+--------------------+--------------------+--------------------+--------------------+--------------------+--------------------+--------+--------------------+--------------------+--------+--------------------+-----------------+\n",
            "|adult|belongs_to_collection|  budget|              genres|            homepage|   id|  imdb_id|original_language|      original_title|            overview|popularity|         poster_path|production_companies|production_countries|        release_date|             revenue|             runtime|    spoken_languages|  status|             tagline|               title|   video|        vote_average|       vote_count|\n",
            "+-----+---------------------+--------+--------------------+--------------------+-----+---------+-----------------+--------------------+--------------------+----------+--------------------+--------------------+--------------------+--------------------+--------------------+--------------------+--------------------+--------+--------------------+--------------------+--------+--------------------+-----------------+\n",
            "|False| {'id': 10194, 'na...|30000000|[{'id': 16, 'name...|http://toystory.d...|  862|tt0114709|               en|           Toy Story|Led by Woody, And...| 21.946943|/rhIRbceoE9lR4veE...|[{'name': 'Pixar ...|[{'iso_3166_1': '...|          1995-10-30|           373554033|                81.0|[{'iso_639_1': 'e...|Released|                null|           Toy Story|   False|                 7.7|             5415|\n",
            "|False|                 null|65000000|[{'id': 12, 'name...|                null| 8844|tt0113497|               en|             Jumanji|When siblings Jud...| 17.015539|/vzmL6fP7aPKNKPRT...|[{'name': 'TriSta...|[{'iso_3166_1': '...|          1995-12-15|           262797249|               104.0|[{'iso_639_1': 'e...|Released|Roll the dice and...|             Jumanji|   False|                 6.9|             2413|\n",
            "|False| {'id': 119050, 'n...|       0|[{'id': 10749, 'n...|                null|15602|tt0113228|               en|    Grumpier Old Men|A family wedding ...|   11.7129|/6ksm1sjKMFLbO7UY...|[{'name': 'Warner...|[{'iso_3166_1': '...|          1995-12-22|                   0|               101.0|[{'iso_639_1': 'e...|Released|Still Yelling. St...|    Grumpier Old Men|   False|                 6.5|               92|\n",
            "|False|                 null|16000000|[{'id': 35, 'name...|                null|31357|tt0114885|               en|   Waiting to Exhale|\"Cheated on, mist...|    Bernie| Glo and Robin ta...| determined to fi...|            3.859495|/16XOMpEaLWkrcPqS...|[{'name': 'Twenti...|[{'iso_3166_1': '...|          1995-12-22|81452156|               127.0|[{'iso_639_1': 'e...|Released|Friends are the p...|Waiting to Exhale|\n",
            "|False| {'id': 96871, 'na...|       0|[{'id': 35, 'name...|                null|11862|tt0113041|               en|Father of the Bri...|Just when George ...|  8.387519|/e64sOI48hQXyru7n...|[{'name': 'Sandol...|[{'iso_3166_1': '...|          1995-02-10|            76578911|               106.0|[{'iso_639_1': 'e...|Released|Just When His Wor...|Father of the Bri...|   False|                 5.7|              173|\n",
            "|False|                 null|60000000|[{'id': 28, 'name...|                null|  949|tt0113277|               en|                Heat|Obsessive master ...| 17.924927|/zMyfPUelumio3tiD...|[{'name': 'Regenc...|[{'iso_3166_1': '...|          1995-12-15|           187436818|               170.0|[{'iso_639_1': 'e...|Released|A Los Angeles Cri...|                Heat|   False|                 7.7|             1886|\n",
            "|False|                 null|58000000|[{'id': 35, 'name...|                null|11860|tt0114319|               en|             Sabrina|An ugly duckling ...|  6.677277|/jQh15y5YB7bWz1Nt...|[{'name': 'Paramo...|[{'iso_3166_1': '...|          1995-12-15|                   0|               127.0|[{'iso_639_1': 'f...|Released|You are cordially...|             Sabrina|   False|                 6.2|              141|\n",
            "|False|                 null|       0|[{'id': 28, 'name...|                null|45325|tt0112302|               en|        Tom and Huck|A mischievous you...|  2.561161|/sGO5Qa55p7wTu7FJ...|[{'name': 'Walt D...|[{'iso_3166_1': '...|          1995-12-22|                   0|                97.0|[{'iso_639_1': 'e...|Released|The Original Bad ...|        Tom and Huck|   False|                 5.4|               45|\n",
            "|False|                 null|35000000|[{'id': 28, 'name...|                null| 9091|tt0114576|               en|        Sudden Death|International act...|   5.23158|/eoWvKD60lT95Ss1M...|[{'name': 'Univer...|[{'iso_3166_1': '...|          1995-12-22|            64350171|               106.0|[{'iso_639_1': 'e...|Released|Terror goes into ...|        Sudden Death|   False|                 5.5|              174|\n",
            "|False| {'id': 645, 'name...|58000000|[{'id': 12, 'name...|http://www.mgm.co...|  710|tt0113189|               en|           GoldenEye|James Bond must u...| 14.686036|/5c0ovjT41KnYIHYu...|[{'name': 'United...|[{'iso_3166_1': '...|          1995-11-16|           352194034|               130.0|[{'iso_639_1': 'e...|Released|No limits. No fea...|           GoldenEye|   False|                 6.6|             1194|\n",
            "+-----+---------------------+--------+--------------------+--------------------+-----+---------+-----------------+--------------------+--------------------+----------+--------------------+--------------------+--------------------+--------------------+--------------------+--------------------+--------------------+--------+--------------------+--------------------+--------+--------------------+-----------------+\n",
            "only showing top 10 rows\n",
            "\n"
          ]
        }
      ]
    },
    {
      "cell_type": "markdown",
      "source": [
        "\n",
        "**Integrating the third dataset **\n",
        "---\n",
        "\n"
      ],
      "metadata": {
        "id": "g6h29x8RkEWe"
      }
    },
    {
      "cell_type": "code",
      "source": [
        "#Integration\n",
        "join_column = \"title\"\n",
        "df5 = df3.join(df4, join_column , \"inner\")\n",
        "df5.show()"
      ],
      "metadata": {
        "id": "ZlTbUSSxyX4Z",
        "colab": {
          "base_uri": "https://localhost:8080/"
        },
        "outputId": "0381cae9-efb3-44dd-8442-dd6aa990a63e"
      },
      "execution_count": null,
      "outputs": [
        {
          "output_type": "stream",
          "name": "stdout",
          "text": [
            "+----------------+--------------------+-------------+---------+--------------------+-----+---------------------+--------+--------------------+--------+-----+---------+-----------------+----------------+--------------------+----------+--------------------+--------------------+--------------------+------------+---------+-------+--------------------+--------+--------------------+-----+------------+----------+\n",
            "|           title|               genre|     director|boxOffice|          reviewText|adult|belongs_to_collection|  budget|              genres|homepage|   id|  imdb_id|original_language|  original_title|            overview|popularity|         poster_path|production_companies|production_countries|release_date|  revenue|runtime|    spoken_languages|  status|             tagline|video|vote_average|vote_count|\n",
            "+----------------+--------------------+-------------+---------+--------------------+-----+---------------------+--------+--------------------+--------+-----+---------+-----------------+----------------+--------------------+----------+--------------------+--------------------+--------------------+------------+---------+-------+--------------------+--------+--------------------+-----+------------+----------+\n",
            "|12 Years a Slave|History, Drama, B...|Steve McQueen|   $56.7M|Piercing and hear...|False|                 null|20000000|[{'id': 18, 'name...|    null|76203|tt2024544|               en|12 Years a Slave|In the pre-Civil ...| 30.316249|/kb3X943WMIJYVg4S...|[{'name': 'Plan B...|[{'iso_3166_1': '...|  2013-10-18|187000000|  134.0|[{'iso_639_1': 'e...|Released|The extraordinary...|False|         7.9|      3787|\n",
            "|12 Years a Slave|History, Drama, B...|Steve McQueen|   $56.7M|Unsettling and pa...|False|                 null|20000000|[{'id': 18, 'name...|    null|76203|tt2024544|               en|12 Years a Slave|In the pre-Civil ...| 30.316249|/kb3X943WMIJYVg4S...|[{'name': 'Plan B...|[{'iso_3166_1': '...|  2013-10-18|187000000|  134.0|[{'iso_639_1': 'e...|Released|The extraordinary...|False|         7.9|      3787|\n",
            "|12 Years a Slave|History, Drama, B...|Steve McQueen|   $56.7M|McQueen&apos;s vi...|False|                 null|20000000|[{'id': 18, 'name...|    null|76203|tt2024544|               en|12 Years a Slave|In the pre-Civil ...| 30.316249|/kb3X943WMIJYVg4S...|[{'name': 'Plan B...|[{'iso_3166_1': '...|  2013-10-18|187000000|  134.0|[{'iso_639_1': 'e...|Released|The extraordinary...|False|         7.9|      3787|\n",
            "|12 Years a Slave|History, Drama, B...|Steve McQueen|   $56.7M|A lot of the slav...|False|                 null|20000000|[{'id': 18, 'name...|    null|76203|tt2024544|               en|12 Years a Slave|In the pre-Civil ...| 30.316249|/kb3X943WMIJYVg4S...|[{'name': 'Plan B...|[{'iso_3166_1': '...|  2013-10-18|187000000|  134.0|[{'iso_639_1': 'e...|Released|The extraordinary...|False|         7.9|      3787|\n",
            "|12 Years a Slave|History, Drama, B...|Steve McQueen|   $56.7M|Steve McQueen did...|False|                 null|20000000|[{'id': 18, 'name...|    null|76203|tt2024544|               en|12 Years a Slave|In the pre-Civil ...| 30.316249|/kb3X943WMIJYVg4S...|[{'name': 'Plan B...|[{'iso_3166_1': '...|  2013-10-18|187000000|  134.0|[{'iso_639_1': 'e...|Released|The extraordinary...|False|         7.9|      3787|\n",
            "|12 Years a Slave|History, Drama, B...|Steve McQueen|   $56.7M|It is a story tha...|False|                 null|20000000|[{'id': 18, 'name...|    null|76203|tt2024544|               en|12 Years a Slave|In the pre-Civil ...| 30.316249|/kb3X943WMIJYVg4S...|[{'name': 'Plan B...|[{'iso_3166_1': '...|  2013-10-18|187000000|  134.0|[{'iso_639_1': 'e...|Released|The extraordinary...|False|         7.9|      3787|\n",
            "|12 Years a Slave|History, Drama, B...|Steve McQueen|   $56.7M|Steve McQueen's f...|False|                 null|20000000|[{'id': 18, 'name...|    null|76203|tt2024544|               en|12 Years a Slave|In the pre-Civil ...| 30.316249|/kb3X943WMIJYVg4S...|[{'name': 'Plan B...|[{'iso_3166_1': '...|  2013-10-18|187000000|  134.0|[{'iso_639_1': 'e...|Released|The extraordinary...|False|         7.9|      3787|\n",
            "|12 Years a Slave|History, Drama, B...|Steve McQueen|   $56.7M|A harrowing, star...|False|                 null|20000000|[{'id': 18, 'name...|    null|76203|tt2024544|               en|12 Years a Slave|In the pre-Civil ...| 30.316249|/kb3X943WMIJYVg4S...|[{'name': 'Plan B...|[{'iso_3166_1': '...|  2013-10-18|187000000|  134.0|[{'iso_639_1': 'e...|Released|The extraordinary...|False|         7.9|      3787|\n",
            "|12 Years a Slave|History, Drama, B...|Steve McQueen|   $56.7M|The subject matte...|False|                 null|20000000|[{'id': 18, 'name...|    null|76203|tt2024544|               en|12 Years a Slave|In the pre-Civil ...| 30.316249|/kb3X943WMIJYVg4S...|[{'name': 'Plan B...|[{'iso_3166_1': '...|  2013-10-18|187000000|  134.0|[{'iso_639_1': 'e...|Released|The extraordinary...|False|         7.9|      3787|\n",
            "|12 Years a Slave|History, Drama, B...|Steve McQueen|   $56.7M|It seems impossib...|False|                 null|20000000|[{'id': 18, 'name...|    null|76203|tt2024544|               en|12 Years a Slave|In the pre-Civil ...| 30.316249|/kb3X943WMIJYVg4S...|[{'name': 'Plan B...|[{'iso_3166_1': '...|  2013-10-18|187000000|  134.0|[{'iso_639_1': 'e...|Released|The extraordinary...|False|         7.9|      3787|\n",
            "|12 Years a Slave|History, Drama, B...|Steve McQueen|   $56.7M|It may have taken...|False|                 null|20000000|[{'id': 18, 'name...|    null|76203|tt2024544|               en|12 Years a Slave|In the pre-Civil ...| 30.316249|/kb3X943WMIJYVg4S...|[{'name': 'Plan B...|[{'iso_3166_1': '...|  2013-10-18|187000000|  134.0|[{'iso_639_1': 'e...|Released|The extraordinary...|False|         7.9|      3787|\n",
            "|12 Years a Slave|History, Drama, B...|Steve McQueen|   $56.7M|An incredible sto...|False|                 null|20000000|[{'id': 18, 'name...|    null|76203|tt2024544|               en|12 Years a Slave|In the pre-Civil ...| 30.316249|/kb3X943WMIJYVg4S...|[{'name': 'Plan B...|[{'iso_3166_1': '...|  2013-10-18|187000000|  134.0|[{'iso_639_1': 'e...|Released|The extraordinary...|False|         7.9|      3787|\n",
            "|12 Years a Slave|History, Drama, B...|Steve McQueen|   $56.7M|I only have one w...|False|                 null|20000000|[{'id': 18, 'name...|    null|76203|tt2024544|               en|12 Years a Slave|In the pre-Civil ...| 30.316249|/kb3X943WMIJYVg4S...|[{'name': 'Plan B...|[{'iso_3166_1': '...|  2013-10-18|187000000|  134.0|[{'iso_639_1': 'e...|Released|The extraordinary...|False|         7.9|      3787|\n",
            "|12 Years a Slave|History, Drama, B...|Steve McQueen|   $56.7M|The dramatic powe...|False|                 null|20000000|[{'id': 18, 'name...|    null|76203|tt2024544|               en|12 Years a Slave|In the pre-Civil ...| 30.316249|/kb3X943WMIJYVg4S...|[{'name': 'Plan B...|[{'iso_3166_1': '...|  2013-10-18|187000000|  134.0|[{'iso_639_1': 'e...|Released|The extraordinary...|False|         7.9|      3787|\n",
            "|12 Years a Slave|History, Drama, B...|Steve McQueen|   $56.7M|Overall, 12 Years...|False|                 null|20000000|[{'id': 18, 'name...|    null|76203|tt2024544|               en|12 Years a Slave|In the pre-Civil ...| 30.316249|/kb3X943WMIJYVg4S...|[{'name': 'Plan B...|[{'iso_3166_1': '...|  2013-10-18|187000000|  134.0|[{'iso_639_1': 'e...|Released|The extraordinary...|False|         7.9|      3787|\n",
            "|12 Years a Slave|History, Drama, B...|Steve McQueen|   $56.7M|12 Years a Slave ...|False|                 null|20000000|[{'id': 18, 'name...|    null|76203|tt2024544|               en|12 Years a Slave|In the pre-Civil ...| 30.316249|/kb3X943WMIJYVg4S...|[{'name': 'Plan B...|[{'iso_3166_1': '...|  2013-10-18|187000000|  134.0|[{'iso_639_1': 'e...|Released|The extraordinary...|False|         7.9|      3787|\n",
            "|12 Years a Slave|History, Drama, B...|Steve McQueen|   $56.7M|It's an exhaustin...|False|                 null|20000000|[{'id': 18, 'name...|    null|76203|tt2024544|               en|12 Years a Slave|In the pre-Civil ...| 30.316249|/kb3X943WMIJYVg4S...|[{'name': 'Plan B...|[{'iso_3166_1': '...|  2013-10-18|187000000|  134.0|[{'iso_639_1': 'e...|Released|The extraordinary...|False|         7.9|      3787|\n",
            "|12 Years a Slave|History, Drama, B...|Steve McQueen|   $56.7M|Too often have [s...|False|                 null|20000000|[{'id': 18, 'name...|    null|76203|tt2024544|               en|12 Years a Slave|In the pre-Civil ...| 30.316249|/kb3X943WMIJYVg4S...|[{'name': 'Plan B...|[{'iso_3166_1': '...|  2013-10-18|187000000|  134.0|[{'iso_639_1': 'e...|Released|The extraordinary...|False|         7.9|      3787|\n",
            "|12 Years a Slave|History, Drama, B...|Steve McQueen|   $56.7M|12 Years A Slave ...|False|                 null|20000000|[{'id': 18, 'name...|    null|76203|tt2024544|               en|12 Years a Slave|In the pre-Civil ...| 30.316249|/kb3X943WMIJYVg4S...|[{'name': 'Plan B...|[{'iso_3166_1': '...|  2013-10-18|187000000|  134.0|[{'iso_639_1': 'e...|Released|The extraordinary...|False|         7.9|      3787|\n",
            "|12 Years a Slave|History, Drama, B...|Steve McQueen|   $56.7M|The definitive fi...|False|                 null|20000000|[{'id': 18, 'name...|    null|76203|tt2024544|               en|12 Years a Slave|In the pre-Civil ...| 30.316249|/kb3X943WMIJYVg4S...|[{'name': 'Plan B...|[{'iso_3166_1': '...|  2013-10-18|187000000|  134.0|[{'iso_639_1': 'e...|Released|The extraordinary...|False|         7.9|      3787|\n",
            "+----------------+--------------------+-------------+---------+--------------------+-----+---------------------+--------+--------------------+--------+-----+---------+-----------------+----------------+--------------------+----------+--------------------+--------------------+--------------------+------------+---------+-------+--------------------+--------+--------------------+-----+------------+----------+\n",
            "only showing top 20 rows\n",
            "\n"
          ]
        }
      ]
    },
    {
      "cell_type": "code",
      "source": [
        "\n",
        "# Unwanted columns want to drop\n",
        "columns_to_drop = [\"belongs_to_collection\", \"homepage\",\"imdb_id\",\"poster_path\",\"tagline\",\"video\",\"status\",\"spoken_languages\",\"original_title\",\"id\",\"genres\"]\n",
        "df5 = df5.drop(*columns_to_drop)\n",
        "df5.show()"
      ],
      "metadata": {
        "colab": {
          "base_uri": "https://localhost:8080/"
        },
        "id": "e43uP1XKlVbz",
        "outputId": "eb65ab5b-5e4b-4e2d-c1a5-50ff848b6b81"
      },
      "execution_count": null,
      "outputs": [
        {
          "output_type": "stream",
          "name": "stdout",
          "text": [
            "+----------------+--------------------+-------------+---------+--------------------+-----+--------+-----------------+--------------------+----------+--------------------+--------------------+------------+---------+-------+------------+----------+\n",
            "|           title|               genre|     director|boxOffice|          reviewText|adult|  budget|original_language|            overview|popularity|production_companies|production_countries|release_date|  revenue|runtime|vote_average|vote_count|\n",
            "+----------------+--------------------+-------------+---------+--------------------+-----+--------+-----------------+--------------------+----------+--------------------+--------------------+------------+---------+-------+------------+----------+\n",
            "|12 Years a Slave|History, Drama, B...|Steve McQueen|   $56.7M|Piercing and hear...|False|20000000|               en|In the pre-Civil ...| 30.316249|[{'name': 'Plan B...|[{'iso_3166_1': '...|  2013-10-18|187000000|  134.0|         7.9|      3787|\n",
            "|12 Years a Slave|History, Drama, B...|Steve McQueen|   $56.7M|Unsettling and pa...|False|20000000|               en|In the pre-Civil ...| 30.316249|[{'name': 'Plan B...|[{'iso_3166_1': '...|  2013-10-18|187000000|  134.0|         7.9|      3787|\n",
            "|12 Years a Slave|History, Drama, B...|Steve McQueen|   $56.7M|McQueen&apos;s vi...|False|20000000|               en|In the pre-Civil ...| 30.316249|[{'name': 'Plan B...|[{'iso_3166_1': '...|  2013-10-18|187000000|  134.0|         7.9|      3787|\n",
            "|12 Years a Slave|History, Drama, B...|Steve McQueen|   $56.7M|A lot of the slav...|False|20000000|               en|In the pre-Civil ...| 30.316249|[{'name': 'Plan B...|[{'iso_3166_1': '...|  2013-10-18|187000000|  134.0|         7.9|      3787|\n",
            "|12 Years a Slave|History, Drama, B...|Steve McQueen|   $56.7M|Steve McQueen did...|False|20000000|               en|In the pre-Civil ...| 30.316249|[{'name': 'Plan B...|[{'iso_3166_1': '...|  2013-10-18|187000000|  134.0|         7.9|      3787|\n",
            "|12 Years a Slave|History, Drama, B...|Steve McQueen|   $56.7M|It is a story tha...|False|20000000|               en|In the pre-Civil ...| 30.316249|[{'name': 'Plan B...|[{'iso_3166_1': '...|  2013-10-18|187000000|  134.0|         7.9|      3787|\n",
            "|12 Years a Slave|History, Drama, B...|Steve McQueen|   $56.7M|Steve McQueen's f...|False|20000000|               en|In the pre-Civil ...| 30.316249|[{'name': 'Plan B...|[{'iso_3166_1': '...|  2013-10-18|187000000|  134.0|         7.9|      3787|\n",
            "|12 Years a Slave|History, Drama, B...|Steve McQueen|   $56.7M|A harrowing, star...|False|20000000|               en|In the pre-Civil ...| 30.316249|[{'name': 'Plan B...|[{'iso_3166_1': '...|  2013-10-18|187000000|  134.0|         7.9|      3787|\n",
            "|12 Years a Slave|History, Drama, B...|Steve McQueen|   $56.7M|The subject matte...|False|20000000|               en|In the pre-Civil ...| 30.316249|[{'name': 'Plan B...|[{'iso_3166_1': '...|  2013-10-18|187000000|  134.0|         7.9|      3787|\n",
            "|12 Years a Slave|History, Drama, B...|Steve McQueen|   $56.7M|It seems impossib...|False|20000000|               en|In the pre-Civil ...| 30.316249|[{'name': 'Plan B...|[{'iso_3166_1': '...|  2013-10-18|187000000|  134.0|         7.9|      3787|\n",
            "|12 Years a Slave|History, Drama, B...|Steve McQueen|   $56.7M|It may have taken...|False|20000000|               en|In the pre-Civil ...| 30.316249|[{'name': 'Plan B...|[{'iso_3166_1': '...|  2013-10-18|187000000|  134.0|         7.9|      3787|\n",
            "|12 Years a Slave|History, Drama, B...|Steve McQueen|   $56.7M|An incredible sto...|False|20000000|               en|In the pre-Civil ...| 30.316249|[{'name': 'Plan B...|[{'iso_3166_1': '...|  2013-10-18|187000000|  134.0|         7.9|      3787|\n",
            "|12 Years a Slave|History, Drama, B...|Steve McQueen|   $56.7M|I only have one w...|False|20000000|               en|In the pre-Civil ...| 30.316249|[{'name': 'Plan B...|[{'iso_3166_1': '...|  2013-10-18|187000000|  134.0|         7.9|      3787|\n",
            "|12 Years a Slave|History, Drama, B...|Steve McQueen|   $56.7M|The dramatic powe...|False|20000000|               en|In the pre-Civil ...| 30.316249|[{'name': 'Plan B...|[{'iso_3166_1': '...|  2013-10-18|187000000|  134.0|         7.9|      3787|\n",
            "|12 Years a Slave|History, Drama, B...|Steve McQueen|   $56.7M|Overall, 12 Years...|False|20000000|               en|In the pre-Civil ...| 30.316249|[{'name': 'Plan B...|[{'iso_3166_1': '...|  2013-10-18|187000000|  134.0|         7.9|      3787|\n",
            "|12 Years a Slave|History, Drama, B...|Steve McQueen|   $56.7M|12 Years a Slave ...|False|20000000|               en|In the pre-Civil ...| 30.316249|[{'name': 'Plan B...|[{'iso_3166_1': '...|  2013-10-18|187000000|  134.0|         7.9|      3787|\n",
            "|12 Years a Slave|History, Drama, B...|Steve McQueen|   $56.7M|It's an exhaustin...|False|20000000|               en|In the pre-Civil ...| 30.316249|[{'name': 'Plan B...|[{'iso_3166_1': '...|  2013-10-18|187000000|  134.0|         7.9|      3787|\n",
            "|12 Years a Slave|History, Drama, B...|Steve McQueen|   $56.7M|Too often have [s...|False|20000000|               en|In the pre-Civil ...| 30.316249|[{'name': 'Plan B...|[{'iso_3166_1': '...|  2013-10-18|187000000|  134.0|         7.9|      3787|\n",
            "|12 Years a Slave|History, Drama, B...|Steve McQueen|   $56.7M|12 Years A Slave ...|False|20000000|               en|In the pre-Civil ...| 30.316249|[{'name': 'Plan B...|[{'iso_3166_1': '...|  2013-10-18|187000000|  134.0|         7.9|      3787|\n",
            "|12 Years a Slave|History, Drama, B...|Steve McQueen|   $56.7M|The definitive fi...|False|20000000|               en|In the pre-Civil ...| 30.316249|[{'name': 'Plan B...|[{'iso_3166_1': '...|  2013-10-18|187000000|  134.0|         7.9|      3787|\n",
            "+----------------+--------------------+-------------+---------+--------------------+-----+--------+-----------------+--------------------+----------+--------------------+--------------------+------------+---------+-------+------------+----------+\n",
            "only showing top 20 rows\n",
            "\n"
          ]
        }
      ]
    },
    {
      "cell_type": "code",
      "source": [
        "\n",
        "df5.show()"
      ],
      "metadata": {
        "colab": {
          "base_uri": "https://localhost:8080/"
        },
        "id": "FyQ44SfyU7rr",
        "outputId": "4ca67b0d-d5d5-4c11-a883-1d46f05feec6"
      },
      "execution_count": null,
      "outputs": [
        {
          "output_type": "stream",
          "name": "stdout",
          "text": [
            "+----------------+--------------------+-------------+---------+--------------------+-----+--------+-----------------+--------------------+----------+--------------------+--------------------+------------+---------+-------+------------+----------+\n",
            "|           title|               genre|     director|boxOffice|          reviewText|adult|  budget|original_language|            overview|popularity|production_companies|production_countries|release_date|  revenue|runtime|vote_average|vote_count|\n",
            "+----------------+--------------------+-------------+---------+--------------------+-----+--------+-----------------+--------------------+----------+--------------------+--------------------+------------+---------+-------+------------+----------+\n",
            "|12 Years a Slave|History, Drama, B...|Steve McQueen|   $56.7M|Piercing and hear...|False|20000000|               en|In the pre-Civil ...| 30.316249|[{'name': 'Plan B...|[{'iso_3166_1': '...|  2013-10-18|187000000|  134.0|         7.9|      3787|\n",
            "|12 Years a Slave|History, Drama, B...|Steve McQueen|   $56.7M|Unsettling and pa...|False|20000000|               en|In the pre-Civil ...| 30.316249|[{'name': 'Plan B...|[{'iso_3166_1': '...|  2013-10-18|187000000|  134.0|         7.9|      3787|\n",
            "|12 Years a Slave|History, Drama, B...|Steve McQueen|   $56.7M|McQueen&apos;s vi...|False|20000000|               en|In the pre-Civil ...| 30.316249|[{'name': 'Plan B...|[{'iso_3166_1': '...|  2013-10-18|187000000|  134.0|         7.9|      3787|\n",
            "|12 Years a Slave|History, Drama, B...|Steve McQueen|   $56.7M|A lot of the slav...|False|20000000|               en|In the pre-Civil ...| 30.316249|[{'name': 'Plan B...|[{'iso_3166_1': '...|  2013-10-18|187000000|  134.0|         7.9|      3787|\n",
            "|12 Years a Slave|History, Drama, B...|Steve McQueen|   $56.7M|Steve McQueen did...|False|20000000|               en|In the pre-Civil ...| 30.316249|[{'name': 'Plan B...|[{'iso_3166_1': '...|  2013-10-18|187000000|  134.0|         7.9|      3787|\n",
            "|12 Years a Slave|History, Drama, B...|Steve McQueen|   $56.7M|It is a story tha...|False|20000000|               en|In the pre-Civil ...| 30.316249|[{'name': 'Plan B...|[{'iso_3166_1': '...|  2013-10-18|187000000|  134.0|         7.9|      3787|\n",
            "|12 Years a Slave|History, Drama, B...|Steve McQueen|   $56.7M|Steve McQueen's f...|False|20000000|               en|In the pre-Civil ...| 30.316249|[{'name': 'Plan B...|[{'iso_3166_1': '...|  2013-10-18|187000000|  134.0|         7.9|      3787|\n",
            "|12 Years a Slave|History, Drama, B...|Steve McQueen|   $56.7M|A harrowing, star...|False|20000000|               en|In the pre-Civil ...| 30.316249|[{'name': 'Plan B...|[{'iso_3166_1': '...|  2013-10-18|187000000|  134.0|         7.9|      3787|\n",
            "|12 Years a Slave|History, Drama, B...|Steve McQueen|   $56.7M|The subject matte...|False|20000000|               en|In the pre-Civil ...| 30.316249|[{'name': 'Plan B...|[{'iso_3166_1': '...|  2013-10-18|187000000|  134.0|         7.9|      3787|\n",
            "|12 Years a Slave|History, Drama, B...|Steve McQueen|   $56.7M|It seems impossib...|False|20000000|               en|In the pre-Civil ...| 30.316249|[{'name': 'Plan B...|[{'iso_3166_1': '...|  2013-10-18|187000000|  134.0|         7.9|      3787|\n",
            "|12 Years a Slave|History, Drama, B...|Steve McQueen|   $56.7M|It may have taken...|False|20000000|               en|In the pre-Civil ...| 30.316249|[{'name': 'Plan B...|[{'iso_3166_1': '...|  2013-10-18|187000000|  134.0|         7.9|      3787|\n",
            "|12 Years a Slave|History, Drama, B...|Steve McQueen|   $56.7M|An incredible sto...|False|20000000|               en|In the pre-Civil ...| 30.316249|[{'name': 'Plan B...|[{'iso_3166_1': '...|  2013-10-18|187000000|  134.0|         7.9|      3787|\n",
            "|12 Years a Slave|History, Drama, B...|Steve McQueen|   $56.7M|I only have one w...|False|20000000|               en|In the pre-Civil ...| 30.316249|[{'name': 'Plan B...|[{'iso_3166_1': '...|  2013-10-18|187000000|  134.0|         7.9|      3787|\n",
            "|12 Years a Slave|History, Drama, B...|Steve McQueen|   $56.7M|The dramatic powe...|False|20000000|               en|In the pre-Civil ...| 30.316249|[{'name': 'Plan B...|[{'iso_3166_1': '...|  2013-10-18|187000000|  134.0|         7.9|      3787|\n",
            "|12 Years a Slave|History, Drama, B...|Steve McQueen|   $56.7M|Overall, 12 Years...|False|20000000|               en|In the pre-Civil ...| 30.316249|[{'name': 'Plan B...|[{'iso_3166_1': '...|  2013-10-18|187000000|  134.0|         7.9|      3787|\n",
            "|12 Years a Slave|History, Drama, B...|Steve McQueen|   $56.7M|12 Years a Slave ...|False|20000000|               en|In the pre-Civil ...| 30.316249|[{'name': 'Plan B...|[{'iso_3166_1': '...|  2013-10-18|187000000|  134.0|         7.9|      3787|\n",
            "|12 Years a Slave|History, Drama, B...|Steve McQueen|   $56.7M|It's an exhaustin...|False|20000000|               en|In the pre-Civil ...| 30.316249|[{'name': 'Plan B...|[{'iso_3166_1': '...|  2013-10-18|187000000|  134.0|         7.9|      3787|\n",
            "|12 Years a Slave|History, Drama, B...|Steve McQueen|   $56.7M|Too often have [s...|False|20000000|               en|In the pre-Civil ...| 30.316249|[{'name': 'Plan B...|[{'iso_3166_1': '...|  2013-10-18|187000000|  134.0|         7.9|      3787|\n",
            "|12 Years a Slave|History, Drama, B...|Steve McQueen|   $56.7M|12 Years A Slave ...|False|20000000|               en|In the pre-Civil ...| 30.316249|[{'name': 'Plan B...|[{'iso_3166_1': '...|  2013-10-18|187000000|  134.0|         7.9|      3787|\n",
            "|12 Years a Slave|History, Drama, B...|Steve McQueen|   $56.7M|The definitive fi...|False|20000000|               en|In the pre-Civil ...| 30.316249|[{'name': 'Plan B...|[{'iso_3166_1': '...|  2013-10-18|187000000|  134.0|         7.9|      3787|\n",
            "+----------------+--------------------+-------------+---------+--------------------+-----+--------+-----------------+--------------------+----------+--------------------+--------------------+------------+---------+-------+------------+----------+\n",
            "only showing top 20 rows\n",
            "\n"
          ]
        }
      ]
    },
    {
      "cell_type": "code",
      "source": [
        "#Checking the null values\n",
        "for column in df5.columns:\n",
        "  null_count_1 = df5.filter(col(column).isNull() | isnan(col(column))).count()\n",
        "  if null_count_1 > 0:\n",
        "    print(f\"Column '{column}' has {null_count_1} null value(s).\")"
      ],
      "metadata": {
        "colab": {
          "base_uri": "https://localhost:8080/"
        },
        "id": "FdOFcyzplnqA",
        "outputId": "5e12f361-f791-4a33-d825-24a1a496df25"
      },
      "execution_count": null,
      "outputs": [
        {
          "output_type": "stream",
          "name": "stdout",
          "text": [
            "Column 'overview' has 320 null value(s).\n",
            "Column 'runtime' has 2 null value(s).\n"
          ]
        }
      ]
    },
    {
      "cell_type": "code",
      "source": [
        "#Dropping null values\n",
        "df5 = df5.na.drop()\n",
        "df5.show()"
      ],
      "metadata": {
        "colab": {
          "base_uri": "https://localhost:8080/"
        },
        "id": "ZMhezcmql0BK",
        "outputId": "a7d696b2-2dea-4a40-f78f-0cbcad9180a5"
      },
      "execution_count": null,
      "outputs": [
        {
          "output_type": "stream",
          "name": "stdout",
          "text": [
            "+----------------+--------------------+-------------+---------+--------------------+-----+--------+-----------------+--------------------+----------+--------------------+--------------------+------------+---------+-------+------------+----------+\n",
            "|           title|               genre|     director|boxOffice|          reviewText|adult|  budget|original_language|            overview|popularity|production_companies|production_countries|release_date|  revenue|runtime|vote_average|vote_count|\n",
            "+----------------+--------------------+-------------+---------+--------------------+-----+--------+-----------------+--------------------+----------+--------------------+--------------------+------------+---------+-------+------------+----------+\n",
            "|12 Years a Slave|History, Drama, B...|Steve McQueen|   $56.7M|Piercing and hear...|False|20000000|               en|In the pre-Civil ...| 30.316249|[{'name': 'Plan B...|[{'iso_3166_1': '...|  2013-10-18|187000000|  134.0|         7.9|      3787|\n",
            "|12 Years a Slave|History, Drama, B...|Steve McQueen|   $56.7M|Unsettling and pa...|False|20000000|               en|In the pre-Civil ...| 30.316249|[{'name': 'Plan B...|[{'iso_3166_1': '...|  2013-10-18|187000000|  134.0|         7.9|      3787|\n",
            "|12 Years a Slave|History, Drama, B...|Steve McQueen|   $56.7M|McQueen&apos;s vi...|False|20000000|               en|In the pre-Civil ...| 30.316249|[{'name': 'Plan B...|[{'iso_3166_1': '...|  2013-10-18|187000000|  134.0|         7.9|      3787|\n",
            "|12 Years a Slave|History, Drama, B...|Steve McQueen|   $56.7M|A lot of the slav...|False|20000000|               en|In the pre-Civil ...| 30.316249|[{'name': 'Plan B...|[{'iso_3166_1': '...|  2013-10-18|187000000|  134.0|         7.9|      3787|\n",
            "|12 Years a Slave|History, Drama, B...|Steve McQueen|   $56.7M|Steve McQueen did...|False|20000000|               en|In the pre-Civil ...| 30.316249|[{'name': 'Plan B...|[{'iso_3166_1': '...|  2013-10-18|187000000|  134.0|         7.9|      3787|\n",
            "|12 Years a Slave|History, Drama, B...|Steve McQueen|   $56.7M|It is a story tha...|False|20000000|               en|In the pre-Civil ...| 30.316249|[{'name': 'Plan B...|[{'iso_3166_1': '...|  2013-10-18|187000000|  134.0|         7.9|      3787|\n",
            "|12 Years a Slave|History, Drama, B...|Steve McQueen|   $56.7M|Steve McQueen's f...|False|20000000|               en|In the pre-Civil ...| 30.316249|[{'name': 'Plan B...|[{'iso_3166_1': '...|  2013-10-18|187000000|  134.0|         7.9|      3787|\n",
            "|12 Years a Slave|History, Drama, B...|Steve McQueen|   $56.7M|A harrowing, star...|False|20000000|               en|In the pre-Civil ...| 30.316249|[{'name': 'Plan B...|[{'iso_3166_1': '...|  2013-10-18|187000000|  134.0|         7.9|      3787|\n",
            "|12 Years a Slave|History, Drama, B...|Steve McQueen|   $56.7M|The subject matte...|False|20000000|               en|In the pre-Civil ...| 30.316249|[{'name': 'Plan B...|[{'iso_3166_1': '...|  2013-10-18|187000000|  134.0|         7.9|      3787|\n",
            "|12 Years a Slave|History, Drama, B...|Steve McQueen|   $56.7M|It seems impossib...|False|20000000|               en|In the pre-Civil ...| 30.316249|[{'name': 'Plan B...|[{'iso_3166_1': '...|  2013-10-18|187000000|  134.0|         7.9|      3787|\n",
            "|12 Years a Slave|History, Drama, B...|Steve McQueen|   $56.7M|It may have taken...|False|20000000|               en|In the pre-Civil ...| 30.316249|[{'name': 'Plan B...|[{'iso_3166_1': '...|  2013-10-18|187000000|  134.0|         7.9|      3787|\n",
            "|12 Years a Slave|History, Drama, B...|Steve McQueen|   $56.7M|An incredible sto...|False|20000000|               en|In the pre-Civil ...| 30.316249|[{'name': 'Plan B...|[{'iso_3166_1': '...|  2013-10-18|187000000|  134.0|         7.9|      3787|\n",
            "|12 Years a Slave|History, Drama, B...|Steve McQueen|   $56.7M|I only have one w...|False|20000000|               en|In the pre-Civil ...| 30.316249|[{'name': 'Plan B...|[{'iso_3166_1': '...|  2013-10-18|187000000|  134.0|         7.9|      3787|\n",
            "|12 Years a Slave|History, Drama, B...|Steve McQueen|   $56.7M|The dramatic powe...|False|20000000|               en|In the pre-Civil ...| 30.316249|[{'name': 'Plan B...|[{'iso_3166_1': '...|  2013-10-18|187000000|  134.0|         7.9|      3787|\n",
            "|12 Years a Slave|History, Drama, B...|Steve McQueen|   $56.7M|Overall, 12 Years...|False|20000000|               en|In the pre-Civil ...| 30.316249|[{'name': 'Plan B...|[{'iso_3166_1': '...|  2013-10-18|187000000|  134.0|         7.9|      3787|\n",
            "|12 Years a Slave|History, Drama, B...|Steve McQueen|   $56.7M|12 Years a Slave ...|False|20000000|               en|In the pre-Civil ...| 30.316249|[{'name': 'Plan B...|[{'iso_3166_1': '...|  2013-10-18|187000000|  134.0|         7.9|      3787|\n",
            "|12 Years a Slave|History, Drama, B...|Steve McQueen|   $56.7M|It's an exhaustin...|False|20000000|               en|In the pre-Civil ...| 30.316249|[{'name': 'Plan B...|[{'iso_3166_1': '...|  2013-10-18|187000000|  134.0|         7.9|      3787|\n",
            "|12 Years a Slave|History, Drama, B...|Steve McQueen|   $56.7M|Too often have [s...|False|20000000|               en|In the pre-Civil ...| 30.316249|[{'name': 'Plan B...|[{'iso_3166_1': '...|  2013-10-18|187000000|  134.0|         7.9|      3787|\n",
            "|12 Years a Slave|History, Drama, B...|Steve McQueen|   $56.7M|12 Years A Slave ...|False|20000000|               en|In the pre-Civil ...| 30.316249|[{'name': 'Plan B...|[{'iso_3166_1': '...|  2013-10-18|187000000|  134.0|         7.9|      3787|\n",
            "|12 Years a Slave|History, Drama, B...|Steve McQueen|   $56.7M|The definitive fi...|False|20000000|               en|In the pre-Civil ...| 30.316249|[{'name': 'Plan B...|[{'iso_3166_1': '...|  2013-10-18|187000000|  134.0|         7.9|      3787|\n",
            "+----------------+--------------------+-------------+---------+--------------------+-----+--------+-----------------+--------------------+----------+--------------------+--------------------+------------+---------+-------+------------+----------+\n",
            "only showing top 20 rows\n",
            "\n"
          ]
        }
      ]
    },
    {
      "cell_type": "code",
      "source": [
        "#Converting Revenue column to string\n",
        "df5 = df5.withColumn(\"revenue\", col(\"revenue\").cast(\"string\"))\n",
        "df5.show()"
      ],
      "metadata": {
        "colab": {
          "base_uri": "https://localhost:8080/"
        },
        "id": "IlwSd0bLmevq",
        "outputId": "a5483904-d1d5-4720-9282-96aeb3ee4646"
      },
      "execution_count": null,
      "outputs": [
        {
          "output_type": "stream",
          "name": "stdout",
          "text": [
            "+----------------+--------------------+-------------+---------+--------------------+-----+--------+-----------------+--------------------+----------+--------------------+--------------------+------------+---------+-------+------------+----------+\n",
            "|           title|               genre|     director|boxOffice|          reviewText|adult|  budget|original_language|            overview|popularity|production_companies|production_countries|release_date|  revenue|runtime|vote_average|vote_count|\n",
            "+----------------+--------------------+-------------+---------+--------------------+-----+--------+-----------------+--------------------+----------+--------------------+--------------------+------------+---------+-------+------------+----------+\n",
            "|12 Years a Slave|History, Drama, B...|Steve McQueen|   $56.7M|Piercing and hear...|False|20000000|               en|In the pre-Civil ...| 30.316249|[{'name': 'Plan B...|[{'iso_3166_1': '...|  2013-10-18|187000000|  134.0|         7.9|      3787|\n",
            "|12 Years a Slave|History, Drama, B...|Steve McQueen|   $56.7M|Unsettling and pa...|False|20000000|               en|In the pre-Civil ...| 30.316249|[{'name': 'Plan B...|[{'iso_3166_1': '...|  2013-10-18|187000000|  134.0|         7.9|      3787|\n",
            "|12 Years a Slave|History, Drama, B...|Steve McQueen|   $56.7M|McQueen&apos;s vi...|False|20000000|               en|In the pre-Civil ...| 30.316249|[{'name': 'Plan B...|[{'iso_3166_1': '...|  2013-10-18|187000000|  134.0|         7.9|      3787|\n",
            "|12 Years a Slave|History, Drama, B...|Steve McQueen|   $56.7M|A lot of the slav...|False|20000000|               en|In the pre-Civil ...| 30.316249|[{'name': 'Plan B...|[{'iso_3166_1': '...|  2013-10-18|187000000|  134.0|         7.9|      3787|\n",
            "|12 Years a Slave|History, Drama, B...|Steve McQueen|   $56.7M|Steve McQueen did...|False|20000000|               en|In the pre-Civil ...| 30.316249|[{'name': 'Plan B...|[{'iso_3166_1': '...|  2013-10-18|187000000|  134.0|         7.9|      3787|\n",
            "|12 Years a Slave|History, Drama, B...|Steve McQueen|   $56.7M|It is a story tha...|False|20000000|               en|In the pre-Civil ...| 30.316249|[{'name': 'Plan B...|[{'iso_3166_1': '...|  2013-10-18|187000000|  134.0|         7.9|      3787|\n",
            "|12 Years a Slave|History, Drama, B...|Steve McQueen|   $56.7M|Steve McQueen's f...|False|20000000|               en|In the pre-Civil ...| 30.316249|[{'name': 'Plan B...|[{'iso_3166_1': '...|  2013-10-18|187000000|  134.0|         7.9|      3787|\n",
            "|12 Years a Slave|History, Drama, B...|Steve McQueen|   $56.7M|A harrowing, star...|False|20000000|               en|In the pre-Civil ...| 30.316249|[{'name': 'Plan B...|[{'iso_3166_1': '...|  2013-10-18|187000000|  134.0|         7.9|      3787|\n",
            "|12 Years a Slave|History, Drama, B...|Steve McQueen|   $56.7M|The subject matte...|False|20000000|               en|In the pre-Civil ...| 30.316249|[{'name': 'Plan B...|[{'iso_3166_1': '...|  2013-10-18|187000000|  134.0|         7.9|      3787|\n",
            "|12 Years a Slave|History, Drama, B...|Steve McQueen|   $56.7M|It seems impossib...|False|20000000|               en|In the pre-Civil ...| 30.316249|[{'name': 'Plan B...|[{'iso_3166_1': '...|  2013-10-18|187000000|  134.0|         7.9|      3787|\n",
            "|12 Years a Slave|History, Drama, B...|Steve McQueen|   $56.7M|It may have taken...|False|20000000|               en|In the pre-Civil ...| 30.316249|[{'name': 'Plan B...|[{'iso_3166_1': '...|  2013-10-18|187000000|  134.0|         7.9|      3787|\n",
            "|12 Years a Slave|History, Drama, B...|Steve McQueen|   $56.7M|An incredible sto...|False|20000000|               en|In the pre-Civil ...| 30.316249|[{'name': 'Plan B...|[{'iso_3166_1': '...|  2013-10-18|187000000|  134.0|         7.9|      3787|\n",
            "|12 Years a Slave|History, Drama, B...|Steve McQueen|   $56.7M|I only have one w...|False|20000000|               en|In the pre-Civil ...| 30.316249|[{'name': 'Plan B...|[{'iso_3166_1': '...|  2013-10-18|187000000|  134.0|         7.9|      3787|\n",
            "|12 Years a Slave|History, Drama, B...|Steve McQueen|   $56.7M|The dramatic powe...|False|20000000|               en|In the pre-Civil ...| 30.316249|[{'name': 'Plan B...|[{'iso_3166_1': '...|  2013-10-18|187000000|  134.0|         7.9|      3787|\n",
            "|12 Years a Slave|History, Drama, B...|Steve McQueen|   $56.7M|Overall, 12 Years...|False|20000000|               en|In the pre-Civil ...| 30.316249|[{'name': 'Plan B...|[{'iso_3166_1': '...|  2013-10-18|187000000|  134.0|         7.9|      3787|\n",
            "|12 Years a Slave|History, Drama, B...|Steve McQueen|   $56.7M|12 Years a Slave ...|False|20000000|               en|In the pre-Civil ...| 30.316249|[{'name': 'Plan B...|[{'iso_3166_1': '...|  2013-10-18|187000000|  134.0|         7.9|      3787|\n",
            "|12 Years a Slave|History, Drama, B...|Steve McQueen|   $56.7M|It's an exhaustin...|False|20000000|               en|In the pre-Civil ...| 30.316249|[{'name': 'Plan B...|[{'iso_3166_1': '...|  2013-10-18|187000000|  134.0|         7.9|      3787|\n",
            "|12 Years a Slave|History, Drama, B...|Steve McQueen|   $56.7M|Too often have [s...|False|20000000|               en|In the pre-Civil ...| 30.316249|[{'name': 'Plan B...|[{'iso_3166_1': '...|  2013-10-18|187000000|  134.0|         7.9|      3787|\n",
            "|12 Years a Slave|History, Drama, B...|Steve McQueen|   $56.7M|12 Years A Slave ...|False|20000000|               en|In the pre-Civil ...| 30.316249|[{'name': 'Plan B...|[{'iso_3166_1': '...|  2013-10-18|187000000|  134.0|         7.9|      3787|\n",
            "|12 Years a Slave|History, Drama, B...|Steve McQueen|   $56.7M|The definitive fi...|False|20000000|               en|In the pre-Civil ...| 30.316249|[{'name': 'Plan B...|[{'iso_3166_1': '...|  2013-10-18|187000000|  134.0|         7.9|      3787|\n",
            "+----------------+--------------------+-------------+---------+--------------------+-----+--------+-----------------+--------------------+----------+--------------------+--------------------+------------+---------+-------+------------+----------+\n",
            "only showing top 20 rows\n",
            "\n"
          ]
        }
      ]
    },
    {
      "cell_type": "code",
      "source": [
        "#Printing the Schema to know the datatypees\n",
        "df5.printSchema()\n",
        "df5.show(5, truncate=False)"
      ],
      "metadata": {
        "colab": {
          "base_uri": "https://localhost:8080/"
        },
        "id": "E-CLv28AszK_",
        "outputId": "a609b774-41da-46cc-d33e-1882d531d7e2"
      },
      "execution_count": null,
      "outputs": [
        {
          "output_type": "stream",
          "name": "stdout",
          "text": [
            "root\n",
            " |-- title: string (nullable = true)\n",
            " |-- genre: string (nullable = true)\n",
            " |-- director: string (nullable = true)\n",
            " |-- boxOffice: string (nullable = true)\n",
            " |-- reviewText: string (nullable = true)\n",
            " |-- adult: string (nullable = true)\n",
            " |-- budget: string (nullable = true)\n",
            " |-- original_language: string (nullable = true)\n",
            " |-- overview: string (nullable = true)\n",
            " |-- popularity: string (nullable = true)\n",
            " |-- production_companies: string (nullable = true)\n",
            " |-- production_countries: string (nullable = true)\n",
            " |-- release_date: string (nullable = true)\n",
            " |-- revenue: string (nullable = true)\n",
            " |-- runtime: string (nullable = true)\n",
            " |-- vote_average: string (nullable = true)\n",
            " |-- vote_count: string (nullable = true)\n",
            "\n",
            "+----------------+-------------------------+-------------+---------+---------------------------------------------------------------------------------------------------------------------------------------------------------------------------------------------------------------------------+-----+--------+-----------------+-----------------------------------------------------------------------------------------------------------------------------------------------------------------------------------------------------------------------------------------------------------------------------------------------------------------------------------------------------------------------------------------+----------+------------------------------------------------------------------------------------------------------------------------------------------------------------------------------------------------------------------------+----------------------------------------------------------------------------------------------------------+------------+---------+-------+------------+----------+\n",
            "|title           |genre                    |director     |boxOffice|reviewText                                                                                                                                                                                                                 |adult|budget  |original_language|overview                                                                                                                                                                                                                                                                                                                                                                                 |popularity|production_companies                                                                                                                                                                                                    |production_countries                                                                                      |release_date|revenue  |runtime|vote_average|vote_count|\n",
            "+----------------+-------------------------+-------------+---------+---------------------------------------------------------------------------------------------------------------------------------------------------------------------------------------------------------------------------+-----+--------+-----------------+-----------------------------------------------------------------------------------------------------------------------------------------------------------------------------------------------------------------------------------------------------------------------------------------------------------------------------------------------------------------------------------------+----------+------------------------------------------------------------------------------------------------------------------------------------------------------------------------------------------------------------------------+----------------------------------------------------------------------------------------------------------+------------+---------+-------+------------+----------+\n",
            "|12 Years a Slave|History, Drama, Biography|Steve McQueen|$56.7M   |Piercing and heart-wrenching&#46;                                                                                                                                                                                          |False|20000000|en               |In the pre-Civil War United States, Solomon Northup, a free black man from upstate New York, is abducted and sold into slavery. Facing cruelty as well as unexpected kindnesses Solomon struggles not only to stay alive, but to retain his dignity. In the twelfth year of his unforgettable odyssey, Solomon’s chance meeting with a Canadian abolitionist will forever alter his life.|30.316249 |[{'name': 'Plan B Entertainment', 'id': 81}, {'name': 'Regency Enterprises', 'id': 508}, {'name': 'River Road Entertainment', 'id': 1246}, {'name': 'Film4', 'id': 9349}, {'name': 'New Regency Pictures', 'id': 10104}]|[{'iso_3166_1': 'US', 'name': 'United States of America'}, {'iso_3166_1': 'GB', 'name': 'United Kingdom'}]|2013-10-18  |187000000|134.0  |7.9         |3787      |\n",
            "|12 Years a Slave|History, Drama, Biography|Steve McQueen|$56.7M   |Unsettling and painful to behold&#44; but from the lows of human civilization emerges a courageous and moving motion picture&#46;                                                                                          |False|20000000|en               |In the pre-Civil War United States, Solomon Northup, a free black man from upstate New York, is abducted and sold into slavery. Facing cruelty as well as unexpected kindnesses Solomon struggles not only to stay alive, but to retain his dignity. In the twelfth year of his unforgettable odyssey, Solomon’s chance meeting with a Canadian abolitionist will forever alter his life.|30.316249 |[{'name': 'Plan B Entertainment', 'id': 81}, {'name': 'Regency Enterprises', 'id': 508}, {'name': 'River Road Entertainment', 'id': 1246}, {'name': 'Film4', 'id': 9349}, {'name': 'New Regency Pictures', 'id': 10104}]|[{'iso_3166_1': 'US', 'name': 'United States of America'}, {'iso_3166_1': 'GB', 'name': 'United Kingdom'}]|2013-10-18  |187000000|134.0  |7.9         |3787      |\n",
            "|12 Years a Slave|History, Drama, Biography|Steve McQueen|$56.7M   |McQueen&apos;s vision is one that articulates the overwhelming bleakness of this chapter of history while also recognizing the fleeting moments of emotional serenity that could oddly descend&#46;                        |False|20000000|en               |In the pre-Civil War United States, Solomon Northup, a free black man from upstate New York, is abducted and sold into slavery. Facing cruelty as well as unexpected kindnesses Solomon struggles not only to stay alive, but to retain his dignity. In the twelfth year of his unforgettable odyssey, Solomon’s chance meeting with a Canadian abolitionist will forever alter his life.|30.316249 |[{'name': 'Plan B Entertainment', 'id': 81}, {'name': 'Regency Enterprises', 'id': 508}, {'name': 'River Road Entertainment', 'id': 1246}, {'name': 'Film4', 'id': 9349}, {'name': 'New Regency Pictures', 'id': 10104}]|[{'iso_3166_1': 'US', 'name': 'United States of America'}, {'iso_3166_1': 'GB', 'name': 'United Kingdom'}]|2013-10-18  |187000000|134.0  |7.9         |3787      |\n",
            "|12 Years a Slave|History, Drama, Biography|Steve McQueen|$56.7M   |A lot of the slave movies we see turn around and become a white savior movie, which this one avoided. Every element of this film is done so well and always has a deeply emotional impact on me. It is really captivating. |False|20000000|en               |In the pre-Civil War United States, Solomon Northup, a free black man from upstate New York, is abducted and sold into slavery. Facing cruelty as well as unexpected kindnesses Solomon struggles not only to stay alive, but to retain his dignity. In the twelfth year of his unforgettable odyssey, Solomon’s chance meeting with a Canadian abolitionist will forever alter his life.|30.316249 |[{'name': 'Plan B Entertainment', 'id': 81}, {'name': 'Regency Enterprises', 'id': 508}, {'name': 'River Road Entertainment', 'id': 1246}, {'name': 'Film4', 'id': 9349}, {'name': 'New Regency Pictures', 'id': 10104}]|[{'iso_3166_1': 'US', 'name': 'United States of America'}, {'iso_3166_1': 'GB', 'name': 'United Kingdom'}]|2013-10-18  |187000000|134.0  |7.9         |3787      |\n",
            "|12 Years a Slave|History, Drama, Biography|Steve McQueen|$56.7M   |Steve McQueen did a masterful job of finding the balance between some heavy content while making it look visually stunning. The score, performances and cinematography was phenomenal.                                     |False|20000000|en               |In the pre-Civil War United States, Solomon Northup, a free black man from upstate New York, is abducted and sold into slavery. Facing cruelty as well as unexpected kindnesses Solomon struggles not only to stay alive, but to retain his dignity. In the twelfth year of his unforgettable odyssey, Solomon’s chance meeting with a Canadian abolitionist will forever alter his life.|30.316249 |[{'name': 'Plan B Entertainment', 'id': 81}, {'name': 'Regency Enterprises', 'id': 508}, {'name': 'River Road Entertainment', 'id': 1246}, {'name': 'Film4', 'id': 9349}, {'name': 'New Regency Pictures', 'id': 10104}]|[{'iso_3166_1': 'US', 'name': 'United States of America'}, {'iso_3166_1': 'GB', 'name': 'United Kingdom'}]|2013-10-18  |187000000|134.0  |7.9         |3787      |\n",
            "+----------------+-------------------------+-------------+---------+---------------------------------------------------------------------------------------------------------------------------------------------------------------------------------------------------------------------------+-----+--------+-----------------+-----------------------------------------------------------------------------------------------------------------------------------------------------------------------------------------------------------------------------------------------------------------------------------------------------------------------------------------------------------------------------------------+----------+------------------------------------------------------------------------------------------------------------------------------------------------------------------------------------------------------------------------+----------------------------------------------------------------------------------------------------------+------------+---------+-------+------------+----------+\n",
            "only showing top 5 rows\n",
            "\n"
          ]
        }
      ]
    },
    {
      "cell_type": "code",
      "source": [
        "#Concating the box office and revenue column in a new column called total_revenue seperated with \"-\"\n",
        "df5 = df5.withColumn(\"total_revenue\", concat(col(\"boxOffice\").cast(\"string\"), lit(\"-\"), col(\"revenue\").cast(\"string\")))\n",
        "\n",
        "df5.show()"
      ],
      "metadata": {
        "colab": {
          "base_uri": "https://localhost:8080/"
        },
        "id": "lEETCZbHmr8h",
        "outputId": "f82e7d14-ecb1-49cc-8a8b-84b7ff9b2d67"
      },
      "execution_count": null,
      "outputs": [
        {
          "output_type": "stream",
          "name": "stdout",
          "text": [
            "+----------------+--------------------+-------------+---------+--------------------+-----+--------+-----------------+--------------------+----------+--------------------+--------------------+------------+---------+-------+------------+----------+----------------+\n",
            "|           title|               genre|     director|boxOffice|          reviewText|adult|  budget|original_language|            overview|popularity|production_companies|production_countries|release_date|  revenue|runtime|vote_average|vote_count|   total_revenue|\n",
            "+----------------+--------------------+-------------+---------+--------------------+-----+--------+-----------------+--------------------+----------+--------------------+--------------------+------------+---------+-------+------------+----------+----------------+\n",
            "|12 Years a Slave|History, Drama, B...|Steve McQueen|   $56.7M|Piercing and hear...|False|20000000|               en|In the pre-Civil ...| 30.316249|[{'name': 'Plan B...|[{'iso_3166_1': '...|  2013-10-18|187000000|  134.0|         7.9|      3787|$56.7M-187000000|\n",
            "|12 Years a Slave|History, Drama, B...|Steve McQueen|   $56.7M|Unsettling and pa...|False|20000000|               en|In the pre-Civil ...| 30.316249|[{'name': 'Plan B...|[{'iso_3166_1': '...|  2013-10-18|187000000|  134.0|         7.9|      3787|$56.7M-187000000|\n",
            "|12 Years a Slave|History, Drama, B...|Steve McQueen|   $56.7M|McQueen&apos;s vi...|False|20000000|               en|In the pre-Civil ...| 30.316249|[{'name': 'Plan B...|[{'iso_3166_1': '...|  2013-10-18|187000000|  134.0|         7.9|      3787|$56.7M-187000000|\n",
            "|12 Years a Slave|History, Drama, B...|Steve McQueen|   $56.7M|A lot of the slav...|False|20000000|               en|In the pre-Civil ...| 30.316249|[{'name': 'Plan B...|[{'iso_3166_1': '...|  2013-10-18|187000000|  134.0|         7.9|      3787|$56.7M-187000000|\n",
            "|12 Years a Slave|History, Drama, B...|Steve McQueen|   $56.7M|Steve McQueen did...|False|20000000|               en|In the pre-Civil ...| 30.316249|[{'name': 'Plan B...|[{'iso_3166_1': '...|  2013-10-18|187000000|  134.0|         7.9|      3787|$56.7M-187000000|\n",
            "|12 Years a Slave|History, Drama, B...|Steve McQueen|   $56.7M|It is a story tha...|False|20000000|               en|In the pre-Civil ...| 30.316249|[{'name': 'Plan B...|[{'iso_3166_1': '...|  2013-10-18|187000000|  134.0|         7.9|      3787|$56.7M-187000000|\n",
            "|12 Years a Slave|History, Drama, B...|Steve McQueen|   $56.7M|Steve McQueen's f...|False|20000000|               en|In the pre-Civil ...| 30.316249|[{'name': 'Plan B...|[{'iso_3166_1': '...|  2013-10-18|187000000|  134.0|         7.9|      3787|$56.7M-187000000|\n",
            "|12 Years a Slave|History, Drama, B...|Steve McQueen|   $56.7M|A harrowing, star...|False|20000000|               en|In the pre-Civil ...| 30.316249|[{'name': 'Plan B...|[{'iso_3166_1': '...|  2013-10-18|187000000|  134.0|         7.9|      3787|$56.7M-187000000|\n",
            "|12 Years a Slave|History, Drama, B...|Steve McQueen|   $56.7M|The subject matte...|False|20000000|               en|In the pre-Civil ...| 30.316249|[{'name': 'Plan B...|[{'iso_3166_1': '...|  2013-10-18|187000000|  134.0|         7.9|      3787|$56.7M-187000000|\n",
            "|12 Years a Slave|History, Drama, B...|Steve McQueen|   $56.7M|It seems impossib...|False|20000000|               en|In the pre-Civil ...| 30.316249|[{'name': 'Plan B...|[{'iso_3166_1': '...|  2013-10-18|187000000|  134.0|         7.9|      3787|$56.7M-187000000|\n",
            "|12 Years a Slave|History, Drama, B...|Steve McQueen|   $56.7M|It may have taken...|False|20000000|               en|In the pre-Civil ...| 30.316249|[{'name': 'Plan B...|[{'iso_3166_1': '...|  2013-10-18|187000000|  134.0|         7.9|      3787|$56.7M-187000000|\n",
            "|12 Years a Slave|History, Drama, B...|Steve McQueen|   $56.7M|An incredible sto...|False|20000000|               en|In the pre-Civil ...| 30.316249|[{'name': 'Plan B...|[{'iso_3166_1': '...|  2013-10-18|187000000|  134.0|         7.9|      3787|$56.7M-187000000|\n",
            "|12 Years a Slave|History, Drama, B...|Steve McQueen|   $56.7M|I only have one w...|False|20000000|               en|In the pre-Civil ...| 30.316249|[{'name': 'Plan B...|[{'iso_3166_1': '...|  2013-10-18|187000000|  134.0|         7.9|      3787|$56.7M-187000000|\n",
            "|12 Years a Slave|History, Drama, B...|Steve McQueen|   $56.7M|The dramatic powe...|False|20000000|               en|In the pre-Civil ...| 30.316249|[{'name': 'Plan B...|[{'iso_3166_1': '...|  2013-10-18|187000000|  134.0|         7.9|      3787|$56.7M-187000000|\n",
            "|12 Years a Slave|History, Drama, B...|Steve McQueen|   $56.7M|Overall, 12 Years...|False|20000000|               en|In the pre-Civil ...| 30.316249|[{'name': 'Plan B...|[{'iso_3166_1': '...|  2013-10-18|187000000|  134.0|         7.9|      3787|$56.7M-187000000|\n",
            "|12 Years a Slave|History, Drama, B...|Steve McQueen|   $56.7M|12 Years a Slave ...|False|20000000|               en|In the pre-Civil ...| 30.316249|[{'name': 'Plan B...|[{'iso_3166_1': '...|  2013-10-18|187000000|  134.0|         7.9|      3787|$56.7M-187000000|\n",
            "|12 Years a Slave|History, Drama, B...|Steve McQueen|   $56.7M|It's an exhaustin...|False|20000000|               en|In the pre-Civil ...| 30.316249|[{'name': 'Plan B...|[{'iso_3166_1': '...|  2013-10-18|187000000|  134.0|         7.9|      3787|$56.7M-187000000|\n",
            "|12 Years a Slave|History, Drama, B...|Steve McQueen|   $56.7M|Too often have [s...|False|20000000|               en|In the pre-Civil ...| 30.316249|[{'name': 'Plan B...|[{'iso_3166_1': '...|  2013-10-18|187000000|  134.0|         7.9|      3787|$56.7M-187000000|\n",
            "|12 Years a Slave|History, Drama, B...|Steve McQueen|   $56.7M|12 Years A Slave ...|False|20000000|               en|In the pre-Civil ...| 30.316249|[{'name': 'Plan B...|[{'iso_3166_1': '...|  2013-10-18|187000000|  134.0|         7.9|      3787|$56.7M-187000000|\n",
            "|12 Years a Slave|History, Drama, B...|Steve McQueen|   $56.7M|The definitive fi...|False|20000000|               en|In the pre-Civil ...| 30.316249|[{'name': 'Plan B...|[{'iso_3166_1': '...|  2013-10-18|187000000|  134.0|         7.9|      3787|$56.7M-187000000|\n",
            "+----------------+--------------------+-------------+---------+--------------------+-----+--------+-----------------+--------------------+----------+--------------------+--------------------+------------+---------+-------+------------+----------+----------------+\n",
            "only showing top 20 rows\n",
            "\n"
          ]
        }
      ]
    },
    {
      "cell_type": "code",
      "source": [
        "\n",
        "nonzero_values = df5.filter(col(\"total_revenue\") != \"nan-0.0\")\n",
        "\n",
        "count = nonzero_values.count()\n",
        "print(count)"
      ],
      "metadata": {
        "colab": {
          "base_uri": "https://localhost:8080/"
        },
        "id": "OxaeddZ0neoU",
        "outputId": "2e2e1610-afd5-4856-fb00-946ef8a88c59"
      },
      "execution_count": null,
      "outputs": [
        {
          "output_type": "stream",
          "name": "stdout",
          "text": [
            "248627\n"
          ]
        }
      ]
    },
    {
      "cell_type": "code",
      "source": [
        "df5 = df5.filter(col(\"total_revenue\") != \"nan-0.0\")\n",
        "\n",
        "df5.show(5)"
      ],
      "metadata": {
        "colab": {
          "base_uri": "https://localhost:8080/"
        },
        "id": "Bnm4p59zntE7",
        "outputId": "ed91aa18-dd2e-4389-cdba-05e52370b67d"
      },
      "execution_count": null,
      "outputs": [
        {
          "output_type": "stream",
          "name": "stdout",
          "text": [
            "+----------------+--------------------+-------------+---------+--------------------+-----+--------+-----------------+--------------------+----------+--------------------+--------------------+------------+---------+-------+------------+----------+----------------+\n",
            "|           title|               genre|     director|boxOffice|          reviewText|adult|  budget|original_language|            overview|popularity|production_companies|production_countries|release_date|  revenue|runtime|vote_average|vote_count|   total_revenue|\n",
            "+----------------+--------------------+-------------+---------+--------------------+-----+--------+-----------------+--------------------+----------+--------------------+--------------------+------------+---------+-------+------------+----------+----------------+\n",
            "|12 Years a Slave|History, Drama, B...|Steve McQueen|   $56.7M|Piercing and hear...|False|20000000|               en|In the pre-Civil ...| 30.316249|[{'name': 'Plan B...|[{'iso_3166_1': '...|  2013-10-18|187000000|  134.0|         7.9|      3787|$56.7M-187000000|\n",
            "|12 Years a Slave|History, Drama, B...|Steve McQueen|   $56.7M|Unsettling and pa...|False|20000000|               en|In the pre-Civil ...| 30.316249|[{'name': 'Plan B...|[{'iso_3166_1': '...|  2013-10-18|187000000|  134.0|         7.9|      3787|$56.7M-187000000|\n",
            "|12 Years a Slave|History, Drama, B...|Steve McQueen|   $56.7M|McQueen&apos;s vi...|False|20000000|               en|In the pre-Civil ...| 30.316249|[{'name': 'Plan B...|[{'iso_3166_1': '...|  2013-10-18|187000000|  134.0|         7.9|      3787|$56.7M-187000000|\n",
            "|12 Years a Slave|History, Drama, B...|Steve McQueen|   $56.7M|A lot of the slav...|False|20000000|               en|In the pre-Civil ...| 30.316249|[{'name': 'Plan B...|[{'iso_3166_1': '...|  2013-10-18|187000000|  134.0|         7.9|      3787|$56.7M-187000000|\n",
            "|12 Years a Slave|History, Drama, B...|Steve McQueen|   $56.7M|Steve McQueen did...|False|20000000|               en|In the pre-Civil ...| 30.316249|[{'name': 'Plan B...|[{'iso_3166_1': '...|  2013-10-18|187000000|  134.0|         7.9|      3787|$56.7M-187000000|\n",
            "+----------------+--------------------+-------------+---------+--------------------+-----+--------+-----------------+--------------------+----------+--------------------+--------------------+------------+---------+-------+------------+----------+----------------+\n",
            "only showing top 5 rows\n",
            "\n"
          ]
        }
      ]
    },
    {
      "cell_type": "code",
      "source": [
        "#Dropping the boxOffice and revenue columns\n",
        "columns_to_drop = [\"boxOffice\", \"revenue\"]\n",
        "df5 = df5.drop(*columns_to_drop)\n",
        "df5.show()"
      ],
      "metadata": {
        "colab": {
          "base_uri": "https://localhost:8080/"
        },
        "id": "vrznGD8xn_5r",
        "outputId": "e5b9e0ea-f92d-4144-bf17-b882cb4f74ce"
      },
      "execution_count": null,
      "outputs": [
        {
          "output_type": "stream",
          "name": "stdout",
          "text": [
            "+----------------+--------------------+-------------+--------------------+-----+--------+-----------------+--------------------+----------+--------------------+--------------------+------------+-------+------------+----------+----------------+\n",
            "|           title|               genre|     director|          reviewText|adult|  budget|original_language|            overview|popularity|production_companies|production_countries|release_date|runtime|vote_average|vote_count|   total_revenue|\n",
            "+----------------+--------------------+-------------+--------------------+-----+--------+-----------------+--------------------+----------+--------------------+--------------------+------------+-------+------------+----------+----------------+\n",
            "|12 Years a Slave|History, Drama, B...|Steve McQueen|Piercing and hear...|False|20000000|               en|In the pre-Civil ...| 30.316249|[{'name': 'Plan B...|[{'iso_3166_1': '...|  2013-10-18|  134.0|         7.9|      3787|$56.7M-187000000|\n",
            "|12 Years a Slave|History, Drama, B...|Steve McQueen|Unsettling and pa...|False|20000000|               en|In the pre-Civil ...| 30.316249|[{'name': 'Plan B...|[{'iso_3166_1': '...|  2013-10-18|  134.0|         7.9|      3787|$56.7M-187000000|\n",
            "|12 Years a Slave|History, Drama, B...|Steve McQueen|McQueen&apos;s vi...|False|20000000|               en|In the pre-Civil ...| 30.316249|[{'name': 'Plan B...|[{'iso_3166_1': '...|  2013-10-18|  134.0|         7.9|      3787|$56.7M-187000000|\n",
            "|12 Years a Slave|History, Drama, B...|Steve McQueen|A lot of the slav...|False|20000000|               en|In the pre-Civil ...| 30.316249|[{'name': 'Plan B...|[{'iso_3166_1': '...|  2013-10-18|  134.0|         7.9|      3787|$56.7M-187000000|\n",
            "|12 Years a Slave|History, Drama, B...|Steve McQueen|Steve McQueen did...|False|20000000|               en|In the pre-Civil ...| 30.316249|[{'name': 'Plan B...|[{'iso_3166_1': '...|  2013-10-18|  134.0|         7.9|      3787|$56.7M-187000000|\n",
            "|12 Years a Slave|History, Drama, B...|Steve McQueen|It is a story tha...|False|20000000|               en|In the pre-Civil ...| 30.316249|[{'name': 'Plan B...|[{'iso_3166_1': '...|  2013-10-18|  134.0|         7.9|      3787|$56.7M-187000000|\n",
            "|12 Years a Slave|History, Drama, B...|Steve McQueen|Steve McQueen's f...|False|20000000|               en|In the pre-Civil ...| 30.316249|[{'name': 'Plan B...|[{'iso_3166_1': '...|  2013-10-18|  134.0|         7.9|      3787|$56.7M-187000000|\n",
            "|12 Years a Slave|History, Drama, B...|Steve McQueen|A harrowing, star...|False|20000000|               en|In the pre-Civil ...| 30.316249|[{'name': 'Plan B...|[{'iso_3166_1': '...|  2013-10-18|  134.0|         7.9|      3787|$56.7M-187000000|\n",
            "|12 Years a Slave|History, Drama, B...|Steve McQueen|The subject matte...|False|20000000|               en|In the pre-Civil ...| 30.316249|[{'name': 'Plan B...|[{'iso_3166_1': '...|  2013-10-18|  134.0|         7.9|      3787|$56.7M-187000000|\n",
            "|12 Years a Slave|History, Drama, B...|Steve McQueen|It seems impossib...|False|20000000|               en|In the pre-Civil ...| 30.316249|[{'name': 'Plan B...|[{'iso_3166_1': '...|  2013-10-18|  134.0|         7.9|      3787|$56.7M-187000000|\n",
            "|12 Years a Slave|History, Drama, B...|Steve McQueen|It may have taken...|False|20000000|               en|In the pre-Civil ...| 30.316249|[{'name': 'Plan B...|[{'iso_3166_1': '...|  2013-10-18|  134.0|         7.9|      3787|$56.7M-187000000|\n",
            "|12 Years a Slave|History, Drama, B...|Steve McQueen|An incredible sto...|False|20000000|               en|In the pre-Civil ...| 30.316249|[{'name': 'Plan B...|[{'iso_3166_1': '...|  2013-10-18|  134.0|         7.9|      3787|$56.7M-187000000|\n",
            "|12 Years a Slave|History, Drama, B...|Steve McQueen|I only have one w...|False|20000000|               en|In the pre-Civil ...| 30.316249|[{'name': 'Plan B...|[{'iso_3166_1': '...|  2013-10-18|  134.0|         7.9|      3787|$56.7M-187000000|\n",
            "|12 Years a Slave|History, Drama, B...|Steve McQueen|The dramatic powe...|False|20000000|               en|In the pre-Civil ...| 30.316249|[{'name': 'Plan B...|[{'iso_3166_1': '...|  2013-10-18|  134.0|         7.9|      3787|$56.7M-187000000|\n",
            "|12 Years a Slave|History, Drama, B...|Steve McQueen|Overall, 12 Years...|False|20000000|               en|In the pre-Civil ...| 30.316249|[{'name': 'Plan B...|[{'iso_3166_1': '...|  2013-10-18|  134.0|         7.9|      3787|$56.7M-187000000|\n",
            "|12 Years a Slave|History, Drama, B...|Steve McQueen|12 Years a Slave ...|False|20000000|               en|In the pre-Civil ...| 30.316249|[{'name': 'Plan B...|[{'iso_3166_1': '...|  2013-10-18|  134.0|         7.9|      3787|$56.7M-187000000|\n",
            "|12 Years a Slave|History, Drama, B...|Steve McQueen|It's an exhaustin...|False|20000000|               en|In the pre-Civil ...| 30.316249|[{'name': 'Plan B...|[{'iso_3166_1': '...|  2013-10-18|  134.0|         7.9|      3787|$56.7M-187000000|\n",
            "|12 Years a Slave|History, Drama, B...|Steve McQueen|Too often have [s...|False|20000000|               en|In the pre-Civil ...| 30.316249|[{'name': 'Plan B...|[{'iso_3166_1': '...|  2013-10-18|  134.0|         7.9|      3787|$56.7M-187000000|\n",
            "|12 Years a Slave|History, Drama, B...|Steve McQueen|12 Years A Slave ...|False|20000000|               en|In the pre-Civil ...| 30.316249|[{'name': 'Plan B...|[{'iso_3166_1': '...|  2013-10-18|  134.0|         7.9|      3787|$56.7M-187000000|\n",
            "|12 Years a Slave|History, Drama, B...|Steve McQueen|The definitive fi...|False|20000000|               en|In the pre-Civil ...| 30.316249|[{'name': 'Plan B...|[{'iso_3166_1': '...|  2013-10-18|  134.0|         7.9|      3787|$56.7M-187000000|\n",
            "+----------------+--------------------+-------------+--------------------+-----+--------+-----------------+--------------------+----------+--------------------+--------------------+------------+-------+------------+----------+----------------+\n",
            "only showing top 20 rows\n",
            "\n"
          ]
        }
      ]
    },
    {
      "cell_type": "code",
      "source": [
        "# Grouping the reviewText for each title in a new column with list called reviews\n",
        "grouped_reviews = df5.groupby(\"title\").agg(collect_list(\"reviewText\").alias(\"reviews\"))\n",
        "\n",
        "# Merge the grouped_reviews back to the original dataset\n",
        "df5 = df5.join(grouped_reviews, on=\"title\")\n",
        "\n",
        "# Drop duplicates based on 'title' and drop 'reviewText' column\n",
        "df5 = df5.dropDuplicates([\"title\"]).drop(\"reviewText\")\n",
        "\n",
        "# Show the modified dataset\n",
        "df5.show()"
      ],
      "metadata": {
        "colab": {
          "base_uri": "https://localhost:8080/"
        },
        "id": "Fz_Yqi-yo5wB",
        "outputId": "fc6adf0c-4a1d-4a19-e8e3-ccceabcf1d48"
      },
      "execution_count": null,
      "outputs": [
        {
          "output_type": "stream",
          "name": "stdout",
          "text": [
            "+--------------------+--------------------+--------------------+-----+---------+-----------------+--------------------+----------+--------------------+--------------------+------------+-------+------------+----------+-----------------+--------------------+\n",
            "|               title|               genre|            director|adult|   budget|original_language|            overview|popularity|production_companies|production_countries|release_date|runtime|vote_average|vote_count|    total_revenue|             reviews|\n",
            "+--------------------+--------------------+--------------------+-----+---------+-----------------+--------------------+----------+--------------------+--------------------+------------+-------+------------+----------+-----------------+--------------------+\n",
            "|    12 Years a Slave|History, Drama, B...|       Steve McQueen|False| 20000000|               en|In the pre-Civil ...| 30.316249|[{'name': 'Plan B...|[{'iso_3166_1': '...|  2013-10-18|  134.0|         7.9|      3787| $56.7M-187000000|[Piercing and hea...|\n",
            "|          13 Minutes|History, Drama, B...| Oliver Hirschbiegel|False|        0|               de|The breath-taking...|  4.969851|[{'name': 'Lucky ...|[{'iso_3166_1': '...|  2015-04-09|  114.0|         7.0|        63|   $161.2K-147315|[Elser is an ocea...|\n",
            "|                1408|Horror, Mystery &...|     Mikael Håfström|False| 25000000|               en|A man who special...|  9.196884|[{'name': 'The We...|[{'iso_3166_1': '...|  2007-07-12|  104.0|         6.5|      1372|  $72.0M-94679598|[Directed in a st...|\n",
            "|    2 Fast 2 Furious|              Action|      John Singleton|False| 76000000|               en|\"It's a major dou...|   2.32462|[{'name': 'Mikona...|[{'iso_3166_1': '...|  2003-06-05|  107.0|         6.2|      2087|$127.1M-236350661|[2 Fast 2 Furious...|\n",
            "|24 Hour Party People|       Comedy, Drama|Michael Winterbottom|False|        0|               en|In 1976, Tony Wil...| 12.655728|[{'name': 'United...|[{'iso_3166_1': '...|  2002-02-13|  117.0|         6.8|       109|          $1.1M-0|[\"Tony Wilson's a...|\n",
            "|          27 Dresses|     Romance, Comedy|       Anne Fletcher|False| 30000000|               en|Altruistic Jane f...| 10.342202|[{'name': 'Spygla...|[{'iso_3166_1': '...|  2008-01-10|  111.0|         6.1|      1013| $76.8M-160259319|[Lacks the wicked...|\n",
            "|      28 Weeks Later|Horror, Mystery &...|Juan Carlos Fresn...|False| 15000000|               en|In this chilling ...| 12.884191|[{'name': 'DNA Fi...|[{'iso_3166_1': '...|  2007-04-26|  100.0|         6.5|      1225|  $28.6M-64238440|[The story moves ...|\n",
            "|       3 Generations|Comedy, Drama, Lg...|         Gaby Dellal|False|  5000000|               en|A teenager transi...|  4.626438|[{'name': 'IM Glo...|[{'iso_3166_1': '...|  2016-02-11|   87.0|         6.1|        75|    $66.4K-443962|[In the hands of ...|\n",
            "|  30 Minutes or Less|      Comedy, Action|     Ruben Fleischer|False| 28000000|               en|Two fledgling cri...|  9.763493|[{'name': 'Columb...|[{'iso_3166_1': '...|  2011-08-11|   83.0|         5.6|       537|  $37.1M-40547440|[The comedy reach...|\n",
            "|40 Days and 40 Ni...|     Romance, Comedy|     Michael Lehmann|False| 17000000|               en|Matt Sullivan's l...|  8.628928|[{'name': 'Mirama...|[{'iso_3166_1': '...|  2002-03-01|   94.0|         5.2|       306|         $37.9M-0|[Fairly gimmicky ...|\n",
            "|                  42|Biography, Histor...|     Brian Helgeland|False| 40000000|               en|The powerful stor...| 11.637224|[{'name': 'Warner...|[{'iso_3166_1': '...|  2013-04-12|  128.0|         6.8|       795|  $95.1M-95020213|[While it&#8217;s...|\n",
            "|            47 Ronin|Adventure, Action...|         Carl Rinsch|False|175000000|               en|Based on the orig...|  14.88937|[{'name': 'Mid At...|[{'iso_3166_1': '...|  2013-12-06|  119.0|         5.9|      1357| $38.3M-150962475|[Nothing short of...|\n",
            "|      50 First Dates|     Romance, Comedy|         Peter Segal|False| 75000000|               en|Henry is a player...| 11.134888|[{'name': 'Columb...|[{'iso_3166_1': '...|  2004-02-13|   99.0|         6.6|      2161|$120.8M-196482882|[Effective combin...|\n",
            "|          88 Minutes|Mystery & thrille...|           Jon Avnet|False| 30000000|               en|\"\"\"88 Minutes\"\" f...|  8.552967|[{'name': 'TriSta...|[{'iso_3166_1': '...|  2007-02-14|  108.0|         5.7|       323|  $16.9M-16930884|[A film so stuffe...|\n",
            "|    A Beautiful Mind|    Biography, Drama|          Ron Howard|False| 60000000|               en|At Princeton Univ...|  11.93646|[{'name': 'Imagin...|[{'iso_3166_1': '...|  2001-12-11|  135.0|         7.7|      3087|$170.7M-313542341|[Nash's character...|\n",
            "|       A Better Life|               Drama|         Chris Weitz|False| 10000000|               en|A gardener in Eas...|  3.033797|[{'name': 'Summit...|[{'iso_3166_1': '...|  2011-06-24|   98.0|         7.0|        54|    $1.8M-1759252|[It&#8217;s hard ...|\n",
            "|  A Cinderella Story|     Romance, Comedy|         Mark Rosman|False| 19000000|               en|Sam Montgomery is...|  8.385361|[{'name': 'Gaylor...|[{'iso_3166_1': '...|  2004-07-10|   95.0|         6.1|       737|  $51.4M-70067909|[Jennifer Coolidg...|\n",
            "|     A Dog's Purpose|Comedy, Drama, Fa...|     Lasse Hallström|False| 22000000|               en|A dog goes on que...|  9.863789|[{'name': 'Univer...|[{'iso_3166_1': '...|  2017-01-19|  100.0|         6.6|       657| $64.3M-194647323|[The problem with...|\n",
            "|         A Guy Thing|     Romance, Comedy|          Chris Koch|False| 20000000|               en|Paul Morse is a g...|  4.444724|[{'name': 'Metro-...|[{'iso_3166_1': '...|  2003-01-17|  101.0|         5.3|        85|  $15.4M-17432163|[...forgettable y...|\n",
            "|A History of Viol...|Drama, Mystery & ...|    David Cronenberg|False| 32000000|               en|An average family...| 11.119707|[{'name': 'New Li...|[{'iso_3166_1': '...|  2005-09-23|   96.0|         6.9|       850|  $31.5M-60740827|[The cast is exce...|\n",
            "+--------------------+--------------------+--------------------+-----+---------+-----------------+--------------------+----------+--------------------+--------------------+------------+-------+------------+----------+-----------------+--------------------+\n",
            "only showing top 20 rows\n",
            "\n"
          ]
        }
      ]
    },
    {
      "cell_type": "code",
      "source": [
        "\n",
        "df5.dtypes"
      ],
      "metadata": {
        "colab": {
          "base_uri": "https://localhost:8080/"
        },
        "id": "aHYmdu4I_i-D",
        "outputId": "0eafda7b-e962-4be9-a498-47d14d969828"
      },
      "execution_count": null,
      "outputs": [
        {
          "output_type": "execute_result",
          "data": {
            "text/plain": [
              "[('title', 'string'),\n",
              " ('genre', 'string'),\n",
              " ('director', 'string'),\n",
              " ('adult', 'string'),\n",
              " ('budget', 'string'),\n",
              " ('original_language', 'string'),\n",
              " ('overview', 'string'),\n",
              " ('popularity', 'string'),\n",
              " ('production_companies', 'string'),\n",
              " ('production_countries', 'string'),\n",
              " ('release_date', 'string'),\n",
              " ('runtime', 'string'),\n",
              " ('vote_average', 'string'),\n",
              " ('vote_count', 'string'),\n",
              " ('total_revenue', 'string'),\n",
              " ('reviews', 'array<string>')]"
            ]
          },
          "metadata": {},
          "execution_count": 42
        }
      ]
    },
    {
      "cell_type": "code",
      "source": [
        "# Replace 'nan-' with ''\n",
        "df = df5.withColumn('total_revenue', regexp_replace('total_revenue', 'nan-', ''))\n",
        "\n",
        "# Replace '-0.0' with ''\n",
        "df= df5.withColumn('total_revenue', regexp_replace('total_revenue', '-0.0', ''))\n",
        "\n",
        "# Replace '$' with ''\n",
        "df= df5.withColumn('total_revenue', regexp_replace('total_revenue', '\\\\$', ''))\n",
        "\n",
        "# Show the modified dataset\n",
        "df.show()"
      ],
      "metadata": {
        "colab": {
          "base_uri": "https://localhost:8080/"
        },
        "id": "d1722KpMvfBx",
        "outputId": "d7738a50-6610-40cb-b1a0-c59bb8808bda"
      },
      "execution_count": null,
      "outputs": [
        {
          "output_type": "stream",
          "name": "stdout",
          "text": [
            "+--------------------+--------------------+--------------------+-----+---------+-----------------+--------------------+----------+--------------------+--------------------+------------+-------+------------+----------+----------------+--------------------+\n",
            "|               title|               genre|            director|adult|   budget|original_language|            overview|popularity|production_companies|production_countries|release_date|runtime|vote_average|vote_count|   total_revenue|             reviews|\n",
            "+--------------------+--------------------+--------------------+-----+---------+-----------------+--------------------+----------+--------------------+--------------------+------------+-------+------------+----------+----------------+--------------------+\n",
            "|    12 Years a Slave|History, Drama, B...|       Steve McQueen|False| 20000000|               en|In the pre-Civil ...| 30.316249|[{'name': 'Plan B...|[{'iso_3166_1': '...|  2013-10-18|  134.0|         7.9|      3787| 56.7M-187000000|[Piercing and hea...|\n",
            "|          13 Minutes|History, Drama, B...| Oliver Hirschbiegel|False|        0|               de|The breath-taking...|  4.969851|[{'name': 'Lucky ...|[{'iso_3166_1': '...|  2015-04-09|  114.0|         7.0|        63|   161.2K-147315|[Elser is an ocea...|\n",
            "|                1408|Horror, Mystery &...|     Mikael Håfström|False| 25000000|               en|A man who special...|  9.196884|[{'name': 'The We...|[{'iso_3166_1': '...|  2007-07-12|  104.0|         6.5|      1372|  72.0M-94679598|[Directed in a st...|\n",
            "|    2 Fast 2 Furious|              Action|      John Singleton|False| 76000000|               en|\"It's a major dou...|   2.32462|[{'name': 'Mikona...|[{'iso_3166_1': '...|  2003-06-05|  107.0|         6.2|      2087|127.1M-236350661|[2 Fast 2 Furious...|\n",
            "|24 Hour Party People|       Comedy, Drama|Michael Winterbottom|False|        0|               en|In 1976, Tony Wil...| 12.655728|[{'name': 'United...|[{'iso_3166_1': '...|  2002-02-13|  117.0|         6.8|       109|          1.1M-0|[\"Tony Wilson's a...|\n",
            "|          27 Dresses|     Romance, Comedy|       Anne Fletcher|False| 30000000|               en|Altruistic Jane f...| 10.342202|[{'name': 'Spygla...|[{'iso_3166_1': '...|  2008-01-10|  111.0|         6.1|      1013| 76.8M-160259319|[Lacks the wicked...|\n",
            "|      28 Weeks Later|Horror, Mystery &...|Juan Carlos Fresn...|False| 15000000|               en|In this chilling ...| 12.884191|[{'name': 'DNA Fi...|[{'iso_3166_1': '...|  2007-04-26|  100.0|         6.5|      1225|  28.6M-64238440|[The story moves ...|\n",
            "|       3 Generations|Comedy, Drama, Lg...|         Gaby Dellal|False|  5000000|               en|A teenager transi...|  4.626438|[{'name': 'IM Glo...|[{'iso_3166_1': '...|  2016-02-11|   87.0|         6.1|        75|    66.4K-443962|[In the hands of ...|\n",
            "|  30 Minutes or Less|      Comedy, Action|     Ruben Fleischer|False| 28000000|               en|Two fledgling cri...|  9.763493|[{'name': 'Columb...|[{'iso_3166_1': '...|  2011-08-11|   83.0|         5.6|       537|  37.1M-40547440|[The comedy reach...|\n",
            "|40 Days and 40 Ni...|     Romance, Comedy|     Michael Lehmann|False| 17000000|               en|Matt Sullivan's l...|  8.628928|[{'name': 'Mirama...|[{'iso_3166_1': '...|  2002-03-01|   94.0|         5.2|       306|         37.9M-0|[Fairly gimmicky ...|\n",
            "|                  42|Biography, Histor...|     Brian Helgeland|False| 40000000|               en|The powerful stor...| 11.637224|[{'name': 'Warner...|[{'iso_3166_1': '...|  2013-04-12|  128.0|         6.8|       795|  95.1M-95020213|[While it&#8217;s...|\n",
            "|            47 Ronin|Adventure, Action...|         Carl Rinsch|False|175000000|               en|Based on the orig...|  14.88937|[{'name': 'Mid At...|[{'iso_3166_1': '...|  2013-12-06|  119.0|         5.9|      1357| 38.3M-150962475|[Nothing short of...|\n",
            "|      50 First Dates|     Romance, Comedy|         Peter Segal|False| 75000000|               en|Henry is a player...| 11.134888|[{'name': 'Columb...|[{'iso_3166_1': '...|  2004-02-13|   99.0|         6.6|      2161|120.8M-196482882|[Effective combin...|\n",
            "|          88 Minutes|Mystery & thrille...|           Jon Avnet|False| 30000000|               en|\"\"\"88 Minutes\"\" f...|  8.552967|[{'name': 'TriSta...|[{'iso_3166_1': '...|  2007-02-14|  108.0|         5.7|       323|  16.9M-16930884|[A film so stuffe...|\n",
            "|    A Beautiful Mind|    Biography, Drama|          Ron Howard|False| 60000000|               en|At Princeton Univ...|  11.93646|[{'name': 'Imagin...|[{'iso_3166_1': '...|  2001-12-11|  135.0|         7.7|      3087|170.7M-313542341|[Nash's character...|\n",
            "|       A Better Life|               Drama|         Chris Weitz|False| 10000000|               en|A gardener in Eas...|  3.033797|[{'name': 'Summit...|[{'iso_3166_1': '...|  2011-06-24|   98.0|         7.0|        54|    1.8M-1759252|[It&#8217;s hard ...|\n",
            "|  A Cinderella Story|     Romance, Comedy|         Mark Rosman|False| 19000000|               en|Sam Montgomery is...|  8.385361|[{'name': 'Gaylor...|[{'iso_3166_1': '...|  2004-07-10|   95.0|         6.1|       737|  51.4M-70067909|[Jennifer Coolidg...|\n",
            "|     A Dog's Purpose|Comedy, Drama, Fa...|     Lasse Hallström|False| 22000000|               en|A dog goes on que...|  9.863789|[{'name': 'Univer...|[{'iso_3166_1': '...|  2017-01-19|  100.0|         6.6|       657| 64.3M-194647323|[The problem with...|\n",
            "|         A Guy Thing|     Romance, Comedy|          Chris Koch|False| 20000000|               en|Paul Morse is a g...|  4.444724|[{'name': 'Metro-...|[{'iso_3166_1': '...|  2003-01-17|  101.0|         5.3|        85|  15.4M-17432163|[...forgettable y...|\n",
            "|A History of Viol...|Drama, Mystery & ...|    David Cronenberg|False| 32000000|               en|An average family...| 11.119707|[{'name': 'New Li...|[{'iso_3166_1': '...|  2005-09-23|   96.0|         6.9|       850|  31.5M-60740827|[The cast is exce...|\n",
            "+--------------------+--------------------+--------------------+-----+---------+-----------------+--------------------+----------+--------------------+--------------------+------------+-------+------------+----------+----------------+--------------------+\n",
            "only showing top 20 rows\n",
            "\n"
          ]
        }
      ]
    },
    {
      "cell_type": "code",
      "source": [
        "def extract_before_dash(value):\n",
        "    return value.split('-')[0]\n",
        "\n",
        "# Register the UDF\n",
        "spark.udf.register(\"extract_before_dash\", extract_before_dash)\n",
        "\n",
        "# Apply the UDF to the 'total_revenue' column and create a new column 'before_dash'\n",
        "df5 = df5.withColumn(\"before_dash\", split(\"total_revenue\", \"-\")[0])\n",
        "\n",
        "df5.show()"
      ],
      "metadata": {
        "colab": {
          "base_uri": "https://localhost:8080/"
        },
        "id": "7VYm9tNO4_FV",
        "outputId": "537d947c-8956-4e7b-8f6d-92bb6c875700"
      },
      "execution_count": null,
      "outputs": [
        {
          "output_type": "stream",
          "name": "stdout",
          "text": [
            "+--------------------+--------------------+--------------------+-----+---------+-----------------+--------------------+----------+--------------------+--------------------+------------+-------+------------+----------+-----------------+--------------------+-----------+\n",
            "|               title|               genre|            director|adult|   budget|original_language|            overview|popularity|production_companies|production_countries|release_date|runtime|vote_average|vote_count|    total_revenue|             reviews|before_dash|\n",
            "+--------------------+--------------------+--------------------+-----+---------+-----------------+--------------------+----------+--------------------+--------------------+------------+-------+------------+----------+-----------------+--------------------+-----------+\n",
            "|    12 Years a Slave|History, Drama, B...|       Steve McQueen|False| 20000000|               en|In the pre-Civil ...| 30.316249|[{'name': 'Plan B...|[{'iso_3166_1': '...|  2013-10-18|  134.0|         7.9|      3787| $56.7M-187000000|[Piercing and hea...|     $56.7M|\n",
            "|          13 Minutes|History, Drama, B...| Oliver Hirschbiegel|False|        0|               de|The breath-taking...|  4.969851|[{'name': 'Lucky ...|[{'iso_3166_1': '...|  2015-04-09|  114.0|         7.0|        63|   $161.2K-147315|[Elser is an ocea...|    $161.2K|\n",
            "|                1408|Horror, Mystery &...|     Mikael Håfström|False| 25000000|               en|A man who special...|  9.196884|[{'name': 'The We...|[{'iso_3166_1': '...|  2007-07-12|  104.0|         6.5|      1372|  $72.0M-94679598|[Directed in a st...|     $72.0M|\n",
            "|    2 Fast 2 Furious|              Action|      John Singleton|False| 76000000|               en|\"It's a major dou...|   2.32462|[{'name': 'Mikona...|[{'iso_3166_1': '...|  2003-06-05|  107.0|         6.2|      2087|$127.1M-236350661|[2 Fast 2 Furious...|    $127.1M|\n",
            "|24 Hour Party People|       Comedy, Drama|Michael Winterbottom|False|        0|               en|In 1976, Tony Wil...| 12.655728|[{'name': 'United...|[{'iso_3166_1': '...|  2002-02-13|  117.0|         6.8|       109|          $1.1M-0|[\"Tony Wilson's a...|      $1.1M|\n",
            "|          27 Dresses|     Romance, Comedy|       Anne Fletcher|False| 30000000|               en|Altruistic Jane f...| 10.342202|[{'name': 'Spygla...|[{'iso_3166_1': '...|  2008-01-10|  111.0|         6.1|      1013| $76.8M-160259319|[Lacks the wicked...|     $76.8M|\n",
            "|      28 Weeks Later|Horror, Mystery &...|Juan Carlos Fresn...|False| 15000000|               en|In this chilling ...| 12.884191|[{'name': 'DNA Fi...|[{'iso_3166_1': '...|  2007-04-26|  100.0|         6.5|      1225|  $28.6M-64238440|[The story moves ...|     $28.6M|\n",
            "|       3 Generations|Comedy, Drama, Lg...|         Gaby Dellal|False|  5000000|               en|A teenager transi...|  4.626438|[{'name': 'IM Glo...|[{'iso_3166_1': '...|  2016-02-11|   87.0|         6.1|        75|    $66.4K-443962|[In the hands of ...|     $66.4K|\n",
            "|  30 Minutes or Less|      Comedy, Action|     Ruben Fleischer|False| 28000000|               en|Two fledgling cri...|  9.763493|[{'name': 'Columb...|[{'iso_3166_1': '...|  2011-08-11|   83.0|         5.6|       537|  $37.1M-40547440|[The comedy reach...|     $37.1M|\n",
            "|40 Days and 40 Ni...|     Romance, Comedy|     Michael Lehmann|False| 17000000|               en|Matt Sullivan's l...|  8.628928|[{'name': 'Mirama...|[{'iso_3166_1': '...|  2002-03-01|   94.0|         5.2|       306|         $37.9M-0|[Fairly gimmicky ...|     $37.9M|\n",
            "|                  42|Biography, Histor...|     Brian Helgeland|False| 40000000|               en|The powerful stor...| 11.637224|[{'name': 'Warner...|[{'iso_3166_1': '...|  2013-04-12|  128.0|         6.8|       795|  $95.1M-95020213|[While it&#8217;s...|     $95.1M|\n",
            "|            47 Ronin|Adventure, Action...|         Carl Rinsch|False|175000000|               en|Based on the orig...|  14.88937|[{'name': 'Mid At...|[{'iso_3166_1': '...|  2013-12-06|  119.0|         5.9|      1357| $38.3M-150962475|[Nothing short of...|     $38.3M|\n",
            "|      50 First Dates|     Romance, Comedy|         Peter Segal|False| 75000000|               en|Henry is a player...| 11.134888|[{'name': 'Columb...|[{'iso_3166_1': '...|  2004-02-13|   99.0|         6.6|      2161|$120.8M-196482882|[Effective combin...|    $120.8M|\n",
            "|          88 Minutes|Mystery & thrille...|           Jon Avnet|False| 30000000|               en|\"\"\"88 Minutes\"\" f...|  8.552967|[{'name': 'TriSta...|[{'iso_3166_1': '...|  2007-02-14|  108.0|         5.7|       323|  $16.9M-16930884|[A film so stuffe...|     $16.9M|\n",
            "|    A Beautiful Mind|    Biography, Drama|          Ron Howard|False| 60000000|               en|At Princeton Univ...|  11.93646|[{'name': 'Imagin...|[{'iso_3166_1': '...|  2001-12-11|  135.0|         7.7|      3087|$170.7M-313542341|[Nash's character...|    $170.7M|\n",
            "|       A Better Life|               Drama|         Chris Weitz|False| 10000000|               en|A gardener in Eas...|  3.033797|[{'name': 'Summit...|[{'iso_3166_1': '...|  2011-06-24|   98.0|         7.0|        54|    $1.8M-1759252|[It&#8217;s hard ...|      $1.8M|\n",
            "|  A Cinderella Story|     Romance, Comedy|         Mark Rosman|False| 19000000|               en|Sam Montgomery is...|  8.385361|[{'name': 'Gaylor...|[{'iso_3166_1': '...|  2004-07-10|   95.0|         6.1|       737|  $51.4M-70067909|[Jennifer Coolidg...|     $51.4M|\n",
            "|     A Dog's Purpose|Comedy, Drama, Fa...|     Lasse Hallström|False| 22000000|               en|A dog goes on que...|  9.863789|[{'name': 'Univer...|[{'iso_3166_1': '...|  2017-01-19|  100.0|         6.6|       657| $64.3M-194647323|[The problem with...|     $64.3M|\n",
            "|         A Guy Thing|     Romance, Comedy|          Chris Koch|False| 20000000|               en|Paul Morse is a g...|  4.444724|[{'name': 'Metro-...|[{'iso_3166_1': '...|  2003-01-17|  101.0|         5.3|        85|  $15.4M-17432163|[...forgettable y...|     $15.4M|\n",
            "|A History of Viol...|Drama, Mystery & ...|    David Cronenberg|False| 32000000|               en|An average family...| 11.119707|[{'name': 'New Li...|[{'iso_3166_1': '...|  2005-09-23|   96.0|         6.9|       850|  $31.5M-60740827|[The cast is exce...|     $31.5M|\n",
            "+--------------------+--------------------+--------------------+-----+---------+-----------------+--------------------+----------+--------------------+--------------------+------------+-------+------------+----------+-----------------+--------------------+-----------+\n",
            "only showing top 20 rows\n",
            "\n"
          ]
        }
      ]
    },
    {
      "cell_type": "code",
      "source": [
        "# Converting M=million to 1000000 and K= thaosands to 1000\n",
        "df5 = df5.withColumn(\"total_revenue\", regexp_replace(col(\"total_revenue\"), \"M\", \"1000000\"))\n",
        "df5 = df5.withColumn(\"total_revenue\", regexp_replace(col(\"total_revenue\"), \"K\", \"1000\"))\n",
        "\n",
        "df5.show()"
      ],
      "metadata": {
        "colab": {
          "base_uri": "https://localhost:8080/"
        },
        "id": "Wxj0tXsd8ljs",
        "outputId": "158140f2-ba8a-46bf-8b2a-303c8702d173"
      },
      "execution_count": null,
      "outputs": [
        {
          "output_type": "stream",
          "name": "stdout",
          "text": [
            "+--------------------+--------------------+--------------------+-----+---------+-----------------+--------------------+----------+--------------------+--------------------+------------+-------+------------+----------+--------------------+--------------------+-----------+\n",
            "|               title|               genre|            director|adult|   budget|original_language|            overview|popularity|production_companies|production_countries|release_date|runtime|vote_average|vote_count|       total_revenue|             reviews|before_dash|\n",
            "+--------------------+--------------------+--------------------+-----+---------+-----------------+--------------------+----------+--------------------+--------------------+------------+-------+------------+----------+--------------------+--------------------+-----------+\n",
            "|    12 Years a Slave|History, Drama, B...|       Steve McQueen|False| 20000000|               en|In the pre-Civil ...| 30.316249|[{'name': 'Plan B...|[{'iso_3166_1': '...|  2013-10-18|  134.0|         7.9|      3787|$56.71000000-1870...|[Piercing and hea...|     $56.7M|\n",
            "|          13 Minutes|History, Drama, B...| Oliver Hirschbiegel|False|        0|               de|The breath-taking...|  4.969851|[{'name': 'Lucky ...|[{'iso_3166_1': '...|  2015-04-09|  114.0|         7.0|        63|   $161.21000-147315|[Elser is an ocea...|    $161.2K|\n",
            "|                1408|Horror, Mystery &...|     Mikael Håfström|False| 25000000|               en|A man who special...|  9.196884|[{'name': 'The We...|[{'iso_3166_1': '...|  2007-07-12|  104.0|         6.5|      1372|$72.01000000-9467...|[Directed in a st...|     $72.0M|\n",
            "|    2 Fast 2 Furious|              Action|      John Singleton|False| 76000000|               en|\"It's a major dou...|   2.32462|[{'name': 'Mikona...|[{'iso_3166_1': '...|  2003-06-05|  107.0|         6.2|      2087|$127.11000000-236...|[2 Fast 2 Furious...|    $127.1M|\n",
            "|24 Hour Party People|       Comedy, Drama|Michael Winterbottom|False|        0|               en|In 1976, Tony Wil...| 12.655728|[{'name': 'United...|[{'iso_3166_1': '...|  2002-02-13|  117.0|         6.8|       109|       $1.11000000-0|[\"Tony Wilson's a...|      $1.1M|\n",
            "|          27 Dresses|     Romance, Comedy|       Anne Fletcher|False| 30000000|               en|Altruistic Jane f...| 10.342202|[{'name': 'Spygla...|[{'iso_3166_1': '...|  2008-01-10|  111.0|         6.1|      1013|$76.81000000-1602...|[Lacks the wicked...|     $76.8M|\n",
            "|      28 Weeks Later|Horror, Mystery &...|Juan Carlos Fresn...|False| 15000000|               en|In this chilling ...| 12.884191|[{'name': 'DNA Fi...|[{'iso_3166_1': '...|  2007-04-26|  100.0|         6.5|      1225|$28.61000000-6423...|[The story moves ...|     $28.6M|\n",
            "|       3 Generations|Comedy, Drama, Lg...|         Gaby Dellal|False|  5000000|               en|A teenager transi...|  4.626438|[{'name': 'IM Glo...|[{'iso_3166_1': '...|  2016-02-11|   87.0|         6.1|        75|    $66.41000-443962|[In the hands of ...|     $66.4K|\n",
            "|  30 Minutes or Less|      Comedy, Action|     Ruben Fleischer|False| 28000000|               en|Two fledgling cri...|  9.763493|[{'name': 'Columb...|[{'iso_3166_1': '...|  2011-08-11|   83.0|         5.6|       537|$37.11000000-4054...|[The comedy reach...|     $37.1M|\n",
            "|40 Days and 40 Ni...|     Romance, Comedy|     Michael Lehmann|False| 17000000|               en|Matt Sullivan's l...|  8.628928|[{'name': 'Mirama...|[{'iso_3166_1': '...|  2002-03-01|   94.0|         5.2|       306|      $37.91000000-0|[Fairly gimmicky ...|     $37.9M|\n",
            "|                  42|Biography, Histor...|     Brian Helgeland|False| 40000000|               en|The powerful stor...| 11.637224|[{'name': 'Warner...|[{'iso_3166_1': '...|  2013-04-12|  128.0|         6.8|       795|$95.11000000-9502...|[While it&#8217;s...|     $95.1M|\n",
            "|            47 Ronin|Adventure, Action...|         Carl Rinsch|False|175000000|               en|Based on the orig...|  14.88937|[{'name': 'Mid At...|[{'iso_3166_1': '...|  2013-12-06|  119.0|         5.9|      1357|$38.31000000-1509...|[Nothing short of...|     $38.3M|\n",
            "|      50 First Dates|     Romance, Comedy|         Peter Segal|False| 75000000|               en|Henry is a player...| 11.134888|[{'name': 'Columb...|[{'iso_3166_1': '...|  2004-02-13|   99.0|         6.6|      2161|$120.81000000-196...|[Effective combin...|    $120.8M|\n",
            "|          88 Minutes|Mystery & thrille...|           Jon Avnet|False| 30000000|               en|\"\"\"88 Minutes\"\" f...|  8.552967|[{'name': 'TriSta...|[{'iso_3166_1': '...|  2007-02-14|  108.0|         5.7|       323|$16.91000000-1693...|[A film so stuffe...|     $16.9M|\n",
            "|    A Beautiful Mind|    Biography, Drama|          Ron Howard|False| 60000000|               en|At Princeton Univ...|  11.93646|[{'name': 'Imagin...|[{'iso_3166_1': '...|  2001-12-11|  135.0|         7.7|      3087|$170.71000000-313...|[Nash's character...|    $170.7M|\n",
            "|       A Better Life|               Drama|         Chris Weitz|False| 10000000|               en|A gardener in Eas...|  3.033797|[{'name': 'Summit...|[{'iso_3166_1': '...|  2011-06-24|   98.0|         7.0|        54| $1.81000000-1759252|[It&#8217;s hard ...|      $1.8M|\n",
            "|  A Cinderella Story|     Romance, Comedy|         Mark Rosman|False| 19000000|               en|Sam Montgomery is...|  8.385361|[{'name': 'Gaylor...|[{'iso_3166_1': '...|  2004-07-10|   95.0|         6.1|       737|$51.41000000-7006...|[Jennifer Coolidg...|     $51.4M|\n",
            "|     A Dog's Purpose|Comedy, Drama, Fa...|     Lasse Hallström|False| 22000000|               en|A dog goes on que...|  9.863789|[{'name': 'Univer...|[{'iso_3166_1': '...|  2017-01-19|  100.0|         6.6|       657|$64.31000000-1946...|[The problem with...|     $64.3M|\n",
            "|         A Guy Thing|     Romance, Comedy|          Chris Koch|False| 20000000|               en|Paul Morse is a g...|  4.444724|[{'name': 'Metro-...|[{'iso_3166_1': '...|  2003-01-17|  101.0|         5.3|        85|$15.41000000-1743...|[...forgettable y...|     $15.4M|\n",
            "|A History of Viol...|Drama, Mystery & ...|    David Cronenberg|False| 32000000|               en|An average family...| 11.119707|[{'name': 'New Li...|[{'iso_3166_1': '...|  2005-09-23|   96.0|         6.9|       850|$31.51000000-6074...|[The cast is exce...|     $31.5M|\n",
            "+--------------------+--------------------+--------------------+-----+---------+-----------------+--------------------+----------+--------------------+--------------------+------------+-------+------------+----------+--------------------+--------------------+-----------+\n",
            "only showing top 20 rows\n",
            "\n"
          ]
        }
      ]
    },
    {
      "cell_type": "code",
      "source": [
        "# Printing the values of columns \"genre\"\n",
        "from pyspark.sql.functions import explode\n",
        "\n",
        "# Create a copy of the DataFrame\n",
        "df5_copy = df5\n",
        "\n",
        "# Explode the 'genres' column to create multiple rows\n",
        "df5_copy = df5_copy.withColumn(\"genre\", explode(split(col(\"genre\"), \", \")))\n",
        "\n",
        "# Get the unique genres\n",
        "unique_genres = df5_copy.select(\"genre\").distinct()\n",
        "\n",
        "# Show the unique genres\n",
        "unique_genres.show()\n"
      ],
      "metadata": {
        "colab": {
          "base_uri": "https://localhost:8080/"
        },
        "id": "NYnLzZgj8yi3",
        "outputId": "1c37b703-f9a9-43e5-ee3a-63f34faf3cc5"
      },
      "execution_count": null,
      "outputs": [
        {
          "output_type": "stream",
          "name": "stdout",
          "text": [
            "+------------------+\n",
            "|             genre|\n",
            "+------------------+\n",
            "|             Crime|\n",
            "|           Romance|\n",
            "|     Kids & family|\n",
            "|         Adventure|\n",
            "|             Drama|\n",
            "|               War|\n",
            "|       Documentary|\n",
            "|           Fantasy|\n",
            "|           Holiday|\n",
            "|            Lgbtq+|\n",
            "|           History|\n",
            "|             Anime|\n",
            "|           Musical|\n",
            "|         Animation|\n",
            "|Mystery & thriller|\n",
            "|             Music|\n",
            "|            Sci-fi|\n",
            "|            Horror|\n",
            "|           Western|\n",
            "|         Biography|\n",
            "+------------------+\n",
            "only showing top 20 rows\n",
            "\n"
          ]
        }
      ]
    },
    {
      "cell_type": "code",
      "source": [
        "# Make a columns of each genre\n",
        "from pyspark.sql.functions import col, when\n",
        "# List of unique genres\n",
        "unique_genres = ['Crime', 'Romance', 'Kids & family', 'Adventure','Drama','War','Documentary','Fantasy','Holiday','Lgbtq+','History','Anime','Musical','Animation','Mystery & thriller','Music','Sci-fi','Horror','Western','Biography']\n",
        "\n",
        "# Add columns for each genre\n",
        "for genre in unique_genres:\n",
        "    df5_copy = df5_copy.withColumn(genre, when(col(\"genre\").contains(genre), 1).otherwise(0))\n",
        "\n",
        "# Show the modified DataFrame\n",
        "df5_copy.show()\n"
      ],
      "metadata": {
        "colab": {
          "base_uri": "https://localhost:8080/"
        },
        "id": "WFf6dt8zAaWC",
        "outputId": "648e21dc-dd7b-449f-94fb-0cc582c8246a"
      },
      "execution_count": null,
      "outputs": [
        {
          "output_type": "stream",
          "name": "stdout",
          "text": [
            "+--------------------+------------------+--------------------+-----+--------+-----------------+--------------------+----------+--------------------+--------------------+------------+-------+------------+----------+--------------------+--------------------+-----------+-----+-------+-------------+---------+-----+---+-----------+-------+-------+------+-------+-----+-------+---------+------------------+-----+------+------+-------+---------+\n",
            "|               title|             genre|            director|adult|  budget|original_language|            overview|popularity|production_companies|production_countries|release_date|runtime|vote_average|vote_count|       total_revenue|             reviews|before_dash|Crime|Romance|Kids & family|Adventure|Drama|War|Documentary|Fantasy|Holiday|Lgbtq+|History|Anime|Musical|Animation|Mystery & thriller|Music|Sci-fi|Horror|Western|Biography|\n",
            "+--------------------+------------------+--------------------+-----+--------+-----------------+--------------------+----------+--------------------+--------------------+------------+-------+------------+----------+--------------------+--------------------+-----------+-----+-------+-------------+---------+-----+---+-----------+-------+-------+------+-------+-----+-------+---------+------------------+-----+------+------+-------+---------+\n",
            "|    12 Years a Slave|           History|       Steve McQueen|False|20000000|               en|In the pre-Civil ...| 30.316249|[{'name': 'Plan B...|[{'iso_3166_1': '...|  2013-10-18|  134.0|         7.9|      3787|$56.71000000-1870...|[Piercing and hea...|     $56.7M|    0|      0|            0|        0|    0|  0|          0|      0|      0|     0|      1|    0|      0|        0|                 0|    0|     0|     0|      0|        0|\n",
            "|    12 Years a Slave|             Drama|       Steve McQueen|False|20000000|               en|In the pre-Civil ...| 30.316249|[{'name': 'Plan B...|[{'iso_3166_1': '...|  2013-10-18|  134.0|         7.9|      3787|$56.71000000-1870...|[Piercing and hea...|     $56.7M|    0|      0|            0|        0|    1|  0|          0|      0|      0|     0|      0|    0|      0|        0|                 0|    0|     0|     0|      0|        0|\n",
            "|    12 Years a Slave|         Biography|       Steve McQueen|False|20000000|               en|In the pre-Civil ...| 30.316249|[{'name': 'Plan B...|[{'iso_3166_1': '...|  2013-10-18|  134.0|         7.9|      3787|$56.71000000-1870...|[Piercing and hea...|     $56.7M|    0|      0|            0|        0|    0|  0|          0|      0|      0|     0|      0|    0|      0|        0|                 0|    0|     0|     0|      0|        1|\n",
            "|          13 Minutes|           History| Oliver Hirschbiegel|False|       0|               de|The breath-taking...|  4.969851|[{'name': 'Lucky ...|[{'iso_3166_1': '...|  2015-04-09|  114.0|         7.0|        63|   $161.21000-147315|[Elser is an ocea...|    $161.2K|    0|      0|            0|        0|    0|  0|          0|      0|      0|     0|      1|    0|      0|        0|                 0|    0|     0|     0|      0|        0|\n",
            "|          13 Minutes|             Drama| Oliver Hirschbiegel|False|       0|               de|The breath-taking...|  4.969851|[{'name': 'Lucky ...|[{'iso_3166_1': '...|  2015-04-09|  114.0|         7.0|        63|   $161.21000-147315|[Elser is an ocea...|    $161.2K|    0|      0|            0|        0|    1|  0|          0|      0|      0|     0|      0|    0|      0|        0|                 0|    0|     0|     0|      0|        0|\n",
            "|          13 Minutes|         Biography| Oliver Hirschbiegel|False|       0|               de|The breath-taking...|  4.969851|[{'name': 'Lucky ...|[{'iso_3166_1': '...|  2015-04-09|  114.0|         7.0|        63|   $161.21000-147315|[Elser is an ocea...|    $161.2K|    0|      0|            0|        0|    0|  0|          0|      0|      0|     0|      0|    0|      0|        0|                 0|    0|     0|     0|      0|        1|\n",
            "|                1408|            Horror|     Mikael Håfström|False|25000000|               en|A man who special...|  9.196884|[{'name': 'The We...|[{'iso_3166_1': '...|  2007-07-12|  104.0|         6.5|      1372|$72.01000000-9467...|[Directed in a st...|     $72.0M|    0|      0|            0|        0|    0|  0|          0|      0|      0|     0|      0|    0|      0|        0|                 0|    0|     0|     1|      0|        0|\n",
            "|                1408|Mystery & thriller|     Mikael Håfström|False|25000000|               en|A man who special...|  9.196884|[{'name': 'The We...|[{'iso_3166_1': '...|  2007-07-12|  104.0|         6.5|      1372|$72.01000000-9467...|[Directed in a st...|     $72.0M|    0|      0|            0|        0|    0|  0|          0|      0|      0|     0|      0|    0|      0|        0|                 1|    0|     0|     0|      0|        0|\n",
            "|    2 Fast 2 Furious|            Action|      John Singleton|False|76000000|               en|\"It's a major dou...|   2.32462|[{'name': 'Mikona...|[{'iso_3166_1': '...|  2003-06-05|  107.0|         6.2|      2087|$127.11000000-236...|[2 Fast 2 Furious...|    $127.1M|    0|      0|            0|        0|    0|  0|          0|      0|      0|     0|      0|    0|      0|        0|                 0|    0|     0|     0|      0|        0|\n",
            "|24 Hour Party People|            Comedy|Michael Winterbottom|False|       0|               en|In 1976, Tony Wil...| 12.655728|[{'name': 'United...|[{'iso_3166_1': '...|  2002-02-13|  117.0|         6.8|       109|       $1.11000000-0|[\"Tony Wilson's a...|      $1.1M|    0|      0|            0|        0|    0|  0|          0|      0|      0|     0|      0|    0|      0|        0|                 0|    0|     0|     0|      0|        0|\n",
            "|24 Hour Party People|             Drama|Michael Winterbottom|False|       0|               en|In 1976, Tony Wil...| 12.655728|[{'name': 'United...|[{'iso_3166_1': '...|  2002-02-13|  117.0|         6.8|       109|       $1.11000000-0|[\"Tony Wilson's a...|      $1.1M|    0|      0|            0|        0|    1|  0|          0|      0|      0|     0|      0|    0|      0|        0|                 0|    0|     0|     0|      0|        0|\n",
            "|          27 Dresses|           Romance|       Anne Fletcher|False|30000000|               en|Altruistic Jane f...| 10.342202|[{'name': 'Spygla...|[{'iso_3166_1': '...|  2008-01-10|  111.0|         6.1|      1013|$76.81000000-1602...|[Lacks the wicked...|     $76.8M|    0|      1|            0|        0|    0|  0|          0|      0|      0|     0|      0|    0|      0|        0|                 0|    0|     0|     0|      0|        0|\n",
            "|          27 Dresses|            Comedy|       Anne Fletcher|False|30000000|               en|Altruistic Jane f...| 10.342202|[{'name': 'Spygla...|[{'iso_3166_1': '...|  2008-01-10|  111.0|         6.1|      1013|$76.81000000-1602...|[Lacks the wicked...|     $76.8M|    0|      0|            0|        0|    0|  0|          0|      0|      0|     0|      0|    0|      0|        0|                 0|    0|     0|     0|      0|        0|\n",
            "|      28 Weeks Later|            Horror|Juan Carlos Fresn...|False|15000000|               en|In this chilling ...| 12.884191|[{'name': 'DNA Fi...|[{'iso_3166_1': '...|  2007-04-26|  100.0|         6.5|      1225|$28.61000000-6423...|[The story moves ...|     $28.6M|    0|      0|            0|        0|    0|  0|          0|      0|      0|     0|      0|    0|      0|        0|                 0|    0|     0|     1|      0|        0|\n",
            "|      28 Weeks Later|Mystery & thriller|Juan Carlos Fresn...|False|15000000|               en|In this chilling ...| 12.884191|[{'name': 'DNA Fi...|[{'iso_3166_1': '...|  2007-04-26|  100.0|         6.5|      1225|$28.61000000-6423...|[The story moves ...|     $28.6M|    0|      0|            0|        0|    0|  0|          0|      0|      0|     0|      0|    0|      0|        0|                 1|    0|     0|     0|      0|        0|\n",
            "|       3 Generations|            Comedy|         Gaby Dellal|False| 5000000|               en|A teenager transi...|  4.626438|[{'name': 'IM Glo...|[{'iso_3166_1': '...|  2016-02-11|   87.0|         6.1|        75|    $66.41000-443962|[In the hands of ...|     $66.4K|    0|      0|            0|        0|    0|  0|          0|      0|      0|     0|      0|    0|      0|        0|                 0|    0|     0|     0|      0|        0|\n",
            "|       3 Generations|             Drama|         Gaby Dellal|False| 5000000|               en|A teenager transi...|  4.626438|[{'name': 'IM Glo...|[{'iso_3166_1': '...|  2016-02-11|   87.0|         6.1|        75|    $66.41000-443962|[In the hands of ...|     $66.4K|    0|      0|            0|        0|    1|  0|          0|      0|      0|     0|      0|    0|      0|        0|                 0|    0|     0|     0|      0|        0|\n",
            "|       3 Generations|            Lgbtq+|         Gaby Dellal|False| 5000000|               en|A teenager transi...|  4.626438|[{'name': 'IM Glo...|[{'iso_3166_1': '...|  2016-02-11|   87.0|         6.1|        75|    $66.41000-443962|[In the hands of ...|     $66.4K|    0|      0|            0|        0|    0|  0|          0|      0|      0|     1|      0|    0|      0|        0|                 0|    0|     0|     0|      0|        0|\n",
            "|  30 Minutes or Less|            Comedy|     Ruben Fleischer|False|28000000|               en|Two fledgling cri...|  9.763493|[{'name': 'Columb...|[{'iso_3166_1': '...|  2011-08-11|   83.0|         5.6|       537|$37.11000000-4054...|[The comedy reach...|     $37.1M|    0|      0|            0|        0|    0|  0|          0|      0|      0|     0|      0|    0|      0|        0|                 0|    0|     0|     0|      0|        0|\n",
            "|  30 Minutes or Less|            Action|     Ruben Fleischer|False|28000000|               en|Two fledgling cri...|  9.763493|[{'name': 'Columb...|[{'iso_3166_1': '...|  2011-08-11|   83.0|         5.6|       537|$37.11000000-4054...|[The comedy reach...|     $37.1M|    0|      0|            0|        0|    0|  0|          0|      0|      0|     0|      0|    0|      0|        0|                 0|    0|     0|     0|      0|        0|\n",
            "+--------------------+------------------+--------------------+-----+--------+-----------------+--------------------+----------+--------------------+--------------------+------------+-------+------------+----------+--------------------+--------------------+-----------+-----+-------+-------------+---------+-----+---+-----------+-------+-------+------+-------+-----+-------+---------+------------------+-----+------+------+-------+---------+\n",
            "only showing top 20 rows\n",
            "\n"
          ]
        }
      ]
    },
    {
      "cell_type": "code",
      "source": [
        "df5_copy.show()"
      ],
      "metadata": {
        "colab": {
          "base_uri": "https://localhost:8080/"
        },
        "id": "G8hWOCCNNOx9",
        "outputId": "e7fb4214-66ff-425a-91f6-29bd4be0e00d"
      },
      "execution_count": null,
      "outputs": [
        {
          "output_type": "stream",
          "name": "stdout",
          "text": [
            "+--------------------+------------------+--------------------+-----+--------+-----------------+--------------------+----------+--------------------+--------------------+------------+-------+------------+----------+--------------------+--------------------+-----------+-----+-------+-------------+---------+-----+---+-----------+-------+-------+------+-------+-----+-------+---------+------------------+-----+------+------+-------+---------+\n",
            "|               title|             genre|            director|adult|  budget|original_language|            overview|popularity|production_companies|production_countries|release_date|runtime|vote_average|vote_count|       total_revenue|             reviews|before_dash|Crime|Romance|Kids & family|Adventure|Drama|War|Documentary|Fantasy|Holiday|Lgbtq+|History|Anime|Musical|Animation|Mystery & thriller|Music|Sci-fi|Horror|Western|Biography|\n",
            "+--------------------+------------------+--------------------+-----+--------+-----------------+--------------------+----------+--------------------+--------------------+------------+-------+------------+----------+--------------------+--------------------+-----------+-----+-------+-------------+---------+-----+---+-----------+-------+-------+------+-------+-----+-------+---------+------------------+-----+------+------+-------+---------+\n",
            "|    12 Years a Slave|           History|       Steve McQueen|False|20000000|               en|In the pre-Civil ...| 30.316249|[{'name': 'Plan B...|[{'iso_3166_1': '...|  2013-10-18|  134.0|         7.9|      3787|$56.71000000-1870...|[Piercing and hea...|     $56.7M|    0|      0|            0|        0|    0|  0|          0|      0|      0|     0|      1|    0|      0|        0|                 0|    0|     0|     0|      0|        0|\n",
            "|    12 Years a Slave|             Drama|       Steve McQueen|False|20000000|               en|In the pre-Civil ...| 30.316249|[{'name': 'Plan B...|[{'iso_3166_1': '...|  2013-10-18|  134.0|         7.9|      3787|$56.71000000-1870...|[Piercing and hea...|     $56.7M|    0|      0|            0|        0|    1|  0|          0|      0|      0|     0|      0|    0|      0|        0|                 0|    0|     0|     0|      0|        0|\n",
            "|    12 Years a Slave|         Biography|       Steve McQueen|False|20000000|               en|In the pre-Civil ...| 30.316249|[{'name': 'Plan B...|[{'iso_3166_1': '...|  2013-10-18|  134.0|         7.9|      3787|$56.71000000-1870...|[Piercing and hea...|     $56.7M|    0|      0|            0|        0|    0|  0|          0|      0|      0|     0|      0|    0|      0|        0|                 0|    0|     0|     0|      0|        1|\n",
            "|          13 Minutes|           History| Oliver Hirschbiegel|False|       0|               de|The breath-taking...|  4.969851|[{'name': 'Lucky ...|[{'iso_3166_1': '...|  2015-04-09|  114.0|         7.0|        63|   $161.21000-147315|[Elser is an ocea...|    $161.2K|    0|      0|            0|        0|    0|  0|          0|      0|      0|     0|      1|    0|      0|        0|                 0|    0|     0|     0|      0|        0|\n",
            "|          13 Minutes|             Drama| Oliver Hirschbiegel|False|       0|               de|The breath-taking...|  4.969851|[{'name': 'Lucky ...|[{'iso_3166_1': '...|  2015-04-09|  114.0|         7.0|        63|   $161.21000-147315|[Elser is an ocea...|    $161.2K|    0|      0|            0|        0|    1|  0|          0|      0|      0|     0|      0|    0|      0|        0|                 0|    0|     0|     0|      0|        0|\n",
            "|          13 Minutes|         Biography| Oliver Hirschbiegel|False|       0|               de|The breath-taking...|  4.969851|[{'name': 'Lucky ...|[{'iso_3166_1': '...|  2015-04-09|  114.0|         7.0|        63|   $161.21000-147315|[Elser is an ocea...|    $161.2K|    0|      0|            0|        0|    0|  0|          0|      0|      0|     0|      0|    0|      0|        0|                 0|    0|     0|     0|      0|        1|\n",
            "|                1408|            Horror|     Mikael Håfström|False|25000000|               en|A man who special...|  9.196884|[{'name': 'The We...|[{'iso_3166_1': '...|  2007-07-12|  104.0|         6.5|      1372|$72.01000000-9467...|[Directed in a st...|     $72.0M|    0|      0|            0|        0|    0|  0|          0|      0|      0|     0|      0|    0|      0|        0|                 0|    0|     0|     1|      0|        0|\n",
            "|                1408|Mystery & thriller|     Mikael Håfström|False|25000000|               en|A man who special...|  9.196884|[{'name': 'The We...|[{'iso_3166_1': '...|  2007-07-12|  104.0|         6.5|      1372|$72.01000000-9467...|[Directed in a st...|     $72.0M|    0|      0|            0|        0|    0|  0|          0|      0|      0|     0|      0|    0|      0|        0|                 1|    0|     0|     0|      0|        0|\n",
            "|    2 Fast 2 Furious|            Action|      John Singleton|False|76000000|               en|\"It's a major dou...|   2.32462|[{'name': 'Mikona...|[{'iso_3166_1': '...|  2003-06-05|  107.0|         6.2|      2087|$127.11000000-236...|[2 Fast 2 Furious...|    $127.1M|    0|      0|            0|        0|    0|  0|          0|      0|      0|     0|      0|    0|      0|        0|                 0|    0|     0|     0|      0|        0|\n",
            "|24 Hour Party People|            Comedy|Michael Winterbottom|False|       0|               en|In 1976, Tony Wil...| 12.655728|[{'name': 'United...|[{'iso_3166_1': '...|  2002-02-13|  117.0|         6.8|       109|       $1.11000000-0|[\"Tony Wilson's a...|      $1.1M|    0|      0|            0|        0|    0|  0|          0|      0|      0|     0|      0|    0|      0|        0|                 0|    0|     0|     0|      0|        0|\n",
            "|24 Hour Party People|             Drama|Michael Winterbottom|False|       0|               en|In 1976, Tony Wil...| 12.655728|[{'name': 'United...|[{'iso_3166_1': '...|  2002-02-13|  117.0|         6.8|       109|       $1.11000000-0|[\"Tony Wilson's a...|      $1.1M|    0|      0|            0|        0|    1|  0|          0|      0|      0|     0|      0|    0|      0|        0|                 0|    0|     0|     0|      0|        0|\n",
            "|          27 Dresses|           Romance|       Anne Fletcher|False|30000000|               en|Altruistic Jane f...| 10.342202|[{'name': 'Spygla...|[{'iso_3166_1': '...|  2008-01-10|  111.0|         6.1|      1013|$76.81000000-1602...|[Lacks the wicked...|     $76.8M|    0|      1|            0|        0|    0|  0|          0|      0|      0|     0|      0|    0|      0|        0|                 0|    0|     0|     0|      0|        0|\n",
            "|          27 Dresses|            Comedy|       Anne Fletcher|False|30000000|               en|Altruistic Jane f...| 10.342202|[{'name': 'Spygla...|[{'iso_3166_1': '...|  2008-01-10|  111.0|         6.1|      1013|$76.81000000-1602...|[Lacks the wicked...|     $76.8M|    0|      0|            0|        0|    0|  0|          0|      0|      0|     0|      0|    0|      0|        0|                 0|    0|     0|     0|      0|        0|\n",
            "|      28 Weeks Later|            Horror|Juan Carlos Fresn...|False|15000000|               en|In this chilling ...| 12.884191|[{'name': 'DNA Fi...|[{'iso_3166_1': '...|  2007-04-26|  100.0|         6.5|      1225|$28.61000000-6423...|[The story moves ...|     $28.6M|    0|      0|            0|        0|    0|  0|          0|      0|      0|     0|      0|    0|      0|        0|                 0|    0|     0|     1|      0|        0|\n",
            "|      28 Weeks Later|Mystery & thriller|Juan Carlos Fresn...|False|15000000|               en|In this chilling ...| 12.884191|[{'name': 'DNA Fi...|[{'iso_3166_1': '...|  2007-04-26|  100.0|         6.5|      1225|$28.61000000-6423...|[The story moves ...|     $28.6M|    0|      0|            0|        0|    0|  0|          0|      0|      0|     0|      0|    0|      0|        0|                 1|    0|     0|     0|      0|        0|\n",
            "|       3 Generations|            Comedy|         Gaby Dellal|False| 5000000|               en|A teenager transi...|  4.626438|[{'name': 'IM Glo...|[{'iso_3166_1': '...|  2016-02-11|   87.0|         6.1|        75|    $66.41000-443962|[In the hands of ...|     $66.4K|    0|      0|            0|        0|    0|  0|          0|      0|      0|     0|      0|    0|      0|        0|                 0|    0|     0|     0|      0|        0|\n",
            "|       3 Generations|             Drama|         Gaby Dellal|False| 5000000|               en|A teenager transi...|  4.626438|[{'name': 'IM Glo...|[{'iso_3166_1': '...|  2016-02-11|   87.0|         6.1|        75|    $66.41000-443962|[In the hands of ...|     $66.4K|    0|      0|            0|        0|    1|  0|          0|      0|      0|     0|      0|    0|      0|        0|                 0|    0|     0|     0|      0|        0|\n",
            "|       3 Generations|            Lgbtq+|         Gaby Dellal|False| 5000000|               en|A teenager transi...|  4.626438|[{'name': 'IM Glo...|[{'iso_3166_1': '...|  2016-02-11|   87.0|         6.1|        75|    $66.41000-443962|[In the hands of ...|     $66.4K|    0|      0|            0|        0|    0|  0|          0|      0|      0|     1|      0|    0|      0|        0|                 0|    0|     0|     0|      0|        0|\n",
            "|  30 Minutes or Less|            Comedy|     Ruben Fleischer|False|28000000|               en|Two fledgling cri...|  9.763493|[{'name': 'Columb...|[{'iso_3166_1': '...|  2011-08-11|   83.0|         5.6|       537|$37.11000000-4054...|[The comedy reach...|     $37.1M|    0|      0|            0|        0|    0|  0|          0|      0|      0|     0|      0|    0|      0|        0|                 0|    0|     0|     0|      0|        0|\n",
            "|  30 Minutes or Less|            Action|     Ruben Fleischer|False|28000000|               en|Two fledgling cri...|  9.763493|[{'name': 'Columb...|[{'iso_3166_1': '...|  2011-08-11|   83.0|         5.6|       537|$37.11000000-4054...|[The comedy reach...|     $37.1M|    0|      0|            0|        0|    0|  0|          0|      0|      0|     0|      0|    0|      0|        0|                 0|    0|     0|     0|      0|        0|\n",
            "+--------------------+------------------+--------------------+-----+--------+-----------------+--------------------+----------+--------------------+--------------------+------------+-------+------------+----------+--------------------+--------------------+-----------+-----+-------+-------------+---------+-----+---+-----------+-------+-------+------+-------+-----+-------+---------+------------------+-----+------+------+-------+---------+\n",
            "only showing top 20 rows\n",
            "\n"
          ]
        }
      ]
    },
    {
      "cell_type": "code",
      "source": [
        "# Getting the categorical data\n",
        "categorical_features = [column for column, dtype in df5_copy.dtypes if dtype == \"string\"]\n",
        "\n",
        "# Print the categorical features\n",
        "print(categorical_features)"
      ],
      "metadata": {
        "colab": {
          "base_uri": "https://localhost:8080/"
        },
        "id": "5bETMBcMBui7",
        "outputId": "80773273-3ddf-457a-afaa-b8a9e7832ecc"
      },
      "execution_count": null,
      "outputs": [
        {
          "output_type": "stream",
          "name": "stdout",
          "text": [
            "['title', 'genre', 'director', 'adult', 'budget', 'original_language', 'overview', 'popularity', 'production_companies', 'production_countries', 'release_date', 'runtime', 'vote_average', 'vote_count', 'total_revenue', 'before_dash']\n"
          ]
        }
      ]
    },
    {
      "cell_type": "code",
      "source": [
        "# Converting the categorical data into numeric\n",
        "from pyspark.ml.feature import StringIndexer\n",
        "from pyspark.ml import Pipeline\n",
        "\n",
        "indexers = [StringIndexer(inputCol=column, outputCol=column+\"_INDEX\").fit(df5_copy) for column in categorical_features]\n",
        "pipeline = Pipeline(stages=indexers)\n",
        "df5_copy = pipeline.fit(df5_copy).transform(df5_copy)\n",
        "df5_copy.toPandas().head(10)"
      ],
      "metadata": {
        "id": "ZYLLhsl5Gtbo",
        "colab": {
          "base_uri": "https://localhost:8080/",
          "height": 1000
        },
        "outputId": "8ef8f09d-0a5e-4e7a-95ef-a28791e23d23"
      },
      "execution_count": null,
      "outputs": [
        {
          "output_type": "execute_result",
          "data": {
            "text/plain": [
              "                  title               genre              director  adult  \\\n",
              "0      12 Years a Slave             History         Steve McQueen  False   \n",
              "1      12 Years a Slave               Drama         Steve McQueen  False   \n",
              "2      12 Years a Slave           Biography         Steve McQueen  False   \n",
              "3            13 Minutes             History   Oliver Hirschbiegel  False   \n",
              "4            13 Minutes               Drama   Oliver Hirschbiegel  False   \n",
              "5            13 Minutes           Biography   Oliver Hirschbiegel  False   \n",
              "6                  1408              Horror       Mikael Håfström  False   \n",
              "7                  1408  Mystery & thriller       Mikael Håfström  False   \n",
              "8      2 Fast 2 Furious              Action        John Singleton  False   \n",
              "9  24 Hour Party People              Comedy  Michael Winterbottom  False   \n",
              "\n",
              "     budget original_language  \\\n",
              "0  20000000                en   \n",
              "1  20000000                en   \n",
              "2  20000000                en   \n",
              "3         0                de   \n",
              "4         0                de   \n",
              "5         0                de   \n",
              "6  25000000                en   \n",
              "7  25000000                en   \n",
              "8  76000000                en   \n",
              "9         0                en   \n",
              "\n",
              "                                            overview popularity  \\\n",
              "0  In the pre-Civil War United States, Solomon No...  30.316249   \n",
              "1  In the pre-Civil War United States, Solomon No...  30.316249   \n",
              "2  In the pre-Civil War United States, Solomon No...  30.316249   \n",
              "3  The breath-taking story of a man who nearly wo...   4.969851   \n",
              "4  The breath-taking story of a man who nearly wo...   4.969851   \n",
              "5  The breath-taking story of a man who nearly wo...   4.969851   \n",
              "6  A man who specializes in debunking paranormal ...   9.196884   \n",
              "7  A man who specializes in debunking paranormal ...   9.196884   \n",
              "8  \"It's a major double-cross when former police ...    2.32462   \n",
              "9  In 1976, Tony Wilson sets up Factory Records a...  12.655728   \n",
              "\n",
              "                                production_companies  \\\n",
              "0  [{'name': 'Plan B Entertainment', 'id': 81}, {...   \n",
              "1  [{'name': 'Plan B Entertainment', 'id': 81}, {...   \n",
              "2  [{'name': 'Plan B Entertainment', 'id': 81}, {...   \n",
              "3  [{'name': 'Lucky Bird Pictures', 'id': 50449},...   \n",
              "4  [{'name': 'Lucky Bird Pictures', 'id': 50449},...   \n",
              "5  [{'name': 'Lucky Bird Pictures', 'id': 50449},...   \n",
              "6  [{'name': 'The Weinstein Company', 'id': 308},...   \n",
              "7  [{'name': 'The Weinstein Company', 'id': 308},...   \n",
              "8  [{'name': 'Mikona Productions GmbH & Co. KG', ...   \n",
              "9  [{'name': 'United Artists', 'id': 60}, {'name'...   \n",
              "\n",
              "                                production_countries  ... overview_INDEX  \\\n",
              "0  [{'iso_3166_1': 'US', 'name': 'United States o...  ...          460.0   \n",
              "1  [{'iso_3166_1': 'US', 'name': 'United States o...  ...          460.0   \n",
              "2  [{'iso_3166_1': 'US', 'name': 'United States o...  ...          460.0   \n",
              "3          [{'iso_3166_1': 'DE', 'name': 'Germany'}]  ...          558.0   \n",
              "4          [{'iso_3166_1': 'DE', 'name': 'Germany'}]  ...          558.0   \n",
              "5          [{'iso_3166_1': 'DE', 'name': 'Germany'}]  ...          558.0   \n",
              "6  [{'iso_3166_1': 'US', 'name': 'United States o...  ...          767.0   \n",
              "7  [{'iso_3166_1': 'US', 'name': 'United States o...  ...          767.0   \n",
              "8  [{'iso_3166_1': 'US', 'name': 'United States o...  ...         1613.0   \n",
              "9   [{'iso_3166_1': 'GB', 'name': 'United Kingdom'}]  ...         1145.0   \n",
              "\n",
              "  popularity_INDEX production_companies_INDEX production_countries_INDEX  \\\n",
              "0            473.0                      467.0                       14.0   \n",
              "1            473.0                      467.0                       14.0   \n",
              "2            473.0                      467.0                       14.0   \n",
              "3            491.0                      393.0                       21.0   \n",
              "4            491.0                      393.0                       21.0   \n",
              "5            491.0                      393.0                       21.0   \n",
              "6           1536.0                     1229.0                        0.0   \n",
              "7           1536.0                     1229.0                        0.0   \n",
              "8           1910.0                     1669.0                        0.0   \n",
              "9            893.0                     1282.0                        2.0   \n",
              "\n",
              "  release_date_INDEX runtime_INDEX vote_average_INDEX  vote_count_INDEX  \\\n",
              "0              104.0          42.0               31.0             588.0   \n",
              "1              104.0          42.0               31.0             588.0   \n",
              "2              104.0          42.0               31.0             588.0   \n",
              "3              208.0          22.0               10.0              12.0   \n",
              "4              208.0          22.0               10.0              12.0   \n",
              "5              208.0          22.0               10.0              12.0   \n",
              "6             1158.0          14.0                1.0             740.0   \n",
              "7             1158.0          14.0                1.0             740.0   \n",
              "8             1580.0          15.0                7.0            1054.0   \n",
              "9              997.0          28.0               12.0              72.0   \n",
              "\n",
              "   total_revenue_INDEX  before_dash_INDEX  \n",
              "0                587.0              164.0  \n",
              "1                587.0              164.0  \n",
              "2                587.0              164.0  \n",
              "3                320.0              525.0  \n",
              "4                320.0              525.0  \n",
              "5                320.0              525.0  \n",
              "6               1440.0              460.0  \n",
              "7               1440.0              460.0  \n",
              "8               1622.0             1104.0  \n",
              "9                  0.0                0.0  \n",
              "\n",
              "[10 rows x 53 columns]"
            ],
            "text/html": [
              "\n",
              "  <div id=\"df-5b8e2cca-0cf7-4114-a58e-10027afcb0f8\">\n",
              "    <div class=\"colab-df-container\">\n",
              "      <div>\n",
              "<style scoped>\n",
              "    .dataframe tbody tr th:only-of-type {\n",
              "        vertical-align: middle;\n",
              "    }\n",
              "\n",
              "    .dataframe tbody tr th {\n",
              "        vertical-align: top;\n",
              "    }\n",
              "\n",
              "    .dataframe thead th {\n",
              "        text-align: right;\n",
              "    }\n",
              "</style>\n",
              "<table border=\"1\" class=\"dataframe\">\n",
              "  <thead>\n",
              "    <tr style=\"text-align: right;\">\n",
              "      <th></th>\n",
              "      <th>title</th>\n",
              "      <th>genre</th>\n",
              "      <th>director</th>\n",
              "      <th>adult</th>\n",
              "      <th>budget</th>\n",
              "      <th>original_language</th>\n",
              "      <th>overview</th>\n",
              "      <th>popularity</th>\n",
              "      <th>production_companies</th>\n",
              "      <th>production_countries</th>\n",
              "      <th>...</th>\n",
              "      <th>overview_INDEX</th>\n",
              "      <th>popularity_INDEX</th>\n",
              "      <th>production_companies_INDEX</th>\n",
              "      <th>production_countries_INDEX</th>\n",
              "      <th>release_date_INDEX</th>\n",
              "      <th>runtime_INDEX</th>\n",
              "      <th>vote_average_INDEX</th>\n",
              "      <th>vote_count_INDEX</th>\n",
              "      <th>total_revenue_INDEX</th>\n",
              "      <th>before_dash_INDEX</th>\n",
              "    </tr>\n",
              "  </thead>\n",
              "  <tbody>\n",
              "    <tr>\n",
              "      <th>0</th>\n",
              "      <td>12 Years a Slave</td>\n",
              "      <td>History</td>\n",
              "      <td>Steve McQueen</td>\n",
              "      <td>False</td>\n",
              "      <td>20000000</td>\n",
              "      <td>en</td>\n",
              "      <td>In the pre-Civil War United States, Solomon No...</td>\n",
              "      <td>30.316249</td>\n",
              "      <td>[{'name': 'Plan B Entertainment', 'id': 81}, {...</td>\n",
              "      <td>[{'iso_3166_1': 'US', 'name': 'United States o...</td>\n",
              "      <td>...</td>\n",
              "      <td>460.0</td>\n",
              "      <td>473.0</td>\n",
              "      <td>467.0</td>\n",
              "      <td>14.0</td>\n",
              "      <td>104.0</td>\n",
              "      <td>42.0</td>\n",
              "      <td>31.0</td>\n",
              "      <td>588.0</td>\n",
              "      <td>587.0</td>\n",
              "      <td>164.0</td>\n",
              "    </tr>\n",
              "    <tr>\n",
              "      <th>1</th>\n",
              "      <td>12 Years a Slave</td>\n",
              "      <td>Drama</td>\n",
              "      <td>Steve McQueen</td>\n",
              "      <td>False</td>\n",
              "      <td>20000000</td>\n",
              "      <td>en</td>\n",
              "      <td>In the pre-Civil War United States, Solomon No...</td>\n",
              "      <td>30.316249</td>\n",
              "      <td>[{'name': 'Plan B Entertainment', 'id': 81}, {...</td>\n",
              "      <td>[{'iso_3166_1': 'US', 'name': 'United States o...</td>\n",
              "      <td>...</td>\n",
              "      <td>460.0</td>\n",
              "      <td>473.0</td>\n",
              "      <td>467.0</td>\n",
              "      <td>14.0</td>\n",
              "      <td>104.0</td>\n",
              "      <td>42.0</td>\n",
              "      <td>31.0</td>\n",
              "      <td>588.0</td>\n",
              "      <td>587.0</td>\n",
              "      <td>164.0</td>\n",
              "    </tr>\n",
              "    <tr>\n",
              "      <th>2</th>\n",
              "      <td>12 Years a Slave</td>\n",
              "      <td>Biography</td>\n",
              "      <td>Steve McQueen</td>\n",
              "      <td>False</td>\n",
              "      <td>20000000</td>\n",
              "      <td>en</td>\n",
              "      <td>In the pre-Civil War United States, Solomon No...</td>\n",
              "      <td>30.316249</td>\n",
              "      <td>[{'name': 'Plan B Entertainment', 'id': 81}, {...</td>\n",
              "      <td>[{'iso_3166_1': 'US', 'name': 'United States o...</td>\n",
              "      <td>...</td>\n",
              "      <td>460.0</td>\n",
              "      <td>473.0</td>\n",
              "      <td>467.0</td>\n",
              "      <td>14.0</td>\n",
              "      <td>104.0</td>\n",
              "      <td>42.0</td>\n",
              "      <td>31.0</td>\n",
              "      <td>588.0</td>\n",
              "      <td>587.0</td>\n",
              "      <td>164.0</td>\n",
              "    </tr>\n",
              "    <tr>\n",
              "      <th>3</th>\n",
              "      <td>13 Minutes</td>\n",
              "      <td>History</td>\n",
              "      <td>Oliver Hirschbiegel</td>\n",
              "      <td>False</td>\n",
              "      <td>0</td>\n",
              "      <td>de</td>\n",
              "      <td>The breath-taking story of a man who nearly wo...</td>\n",
              "      <td>4.969851</td>\n",
              "      <td>[{'name': 'Lucky Bird Pictures', 'id': 50449},...</td>\n",
              "      <td>[{'iso_3166_1': 'DE', 'name': 'Germany'}]</td>\n",
              "      <td>...</td>\n",
              "      <td>558.0</td>\n",
              "      <td>491.0</td>\n",
              "      <td>393.0</td>\n",
              "      <td>21.0</td>\n",
              "      <td>208.0</td>\n",
              "      <td>22.0</td>\n",
              "      <td>10.0</td>\n",
              "      <td>12.0</td>\n",
              "      <td>320.0</td>\n",
              "      <td>525.0</td>\n",
              "    </tr>\n",
              "    <tr>\n",
              "      <th>4</th>\n",
              "      <td>13 Minutes</td>\n",
              "      <td>Drama</td>\n",
              "      <td>Oliver Hirschbiegel</td>\n",
              "      <td>False</td>\n",
              "      <td>0</td>\n",
              "      <td>de</td>\n",
              "      <td>The breath-taking story of a man who nearly wo...</td>\n",
              "      <td>4.969851</td>\n",
              "      <td>[{'name': 'Lucky Bird Pictures', 'id': 50449},...</td>\n",
              "      <td>[{'iso_3166_1': 'DE', 'name': 'Germany'}]</td>\n",
              "      <td>...</td>\n",
              "      <td>558.0</td>\n",
              "      <td>491.0</td>\n",
              "      <td>393.0</td>\n",
              "      <td>21.0</td>\n",
              "      <td>208.0</td>\n",
              "      <td>22.0</td>\n",
              "      <td>10.0</td>\n",
              "      <td>12.0</td>\n",
              "      <td>320.0</td>\n",
              "      <td>525.0</td>\n",
              "    </tr>\n",
              "    <tr>\n",
              "      <th>5</th>\n",
              "      <td>13 Minutes</td>\n",
              "      <td>Biography</td>\n",
              "      <td>Oliver Hirschbiegel</td>\n",
              "      <td>False</td>\n",
              "      <td>0</td>\n",
              "      <td>de</td>\n",
              "      <td>The breath-taking story of a man who nearly wo...</td>\n",
              "      <td>4.969851</td>\n",
              "      <td>[{'name': 'Lucky Bird Pictures', 'id': 50449},...</td>\n",
              "      <td>[{'iso_3166_1': 'DE', 'name': 'Germany'}]</td>\n",
              "      <td>...</td>\n",
              "      <td>558.0</td>\n",
              "      <td>491.0</td>\n",
              "      <td>393.0</td>\n",
              "      <td>21.0</td>\n",
              "      <td>208.0</td>\n",
              "      <td>22.0</td>\n",
              "      <td>10.0</td>\n",
              "      <td>12.0</td>\n",
              "      <td>320.0</td>\n",
              "      <td>525.0</td>\n",
              "    </tr>\n",
              "    <tr>\n",
              "      <th>6</th>\n",
              "      <td>1408</td>\n",
              "      <td>Horror</td>\n",
              "      <td>Mikael Håfström</td>\n",
              "      <td>False</td>\n",
              "      <td>25000000</td>\n",
              "      <td>en</td>\n",
              "      <td>A man who specializes in debunking paranormal ...</td>\n",
              "      <td>9.196884</td>\n",
              "      <td>[{'name': 'The Weinstein Company', 'id': 308},...</td>\n",
              "      <td>[{'iso_3166_1': 'US', 'name': 'United States o...</td>\n",
              "      <td>...</td>\n",
              "      <td>767.0</td>\n",
              "      <td>1536.0</td>\n",
              "      <td>1229.0</td>\n",
              "      <td>0.0</td>\n",
              "      <td>1158.0</td>\n",
              "      <td>14.0</td>\n",
              "      <td>1.0</td>\n",
              "      <td>740.0</td>\n",
              "      <td>1440.0</td>\n",
              "      <td>460.0</td>\n",
              "    </tr>\n",
              "    <tr>\n",
              "      <th>7</th>\n",
              "      <td>1408</td>\n",
              "      <td>Mystery &amp; thriller</td>\n",
              "      <td>Mikael Håfström</td>\n",
              "      <td>False</td>\n",
              "      <td>25000000</td>\n",
              "      <td>en</td>\n",
              "      <td>A man who specializes in debunking paranormal ...</td>\n",
              "      <td>9.196884</td>\n",
              "      <td>[{'name': 'The Weinstein Company', 'id': 308},...</td>\n",
              "      <td>[{'iso_3166_1': 'US', 'name': 'United States o...</td>\n",
              "      <td>...</td>\n",
              "      <td>767.0</td>\n",
              "      <td>1536.0</td>\n",
              "      <td>1229.0</td>\n",
              "      <td>0.0</td>\n",
              "      <td>1158.0</td>\n",
              "      <td>14.0</td>\n",
              "      <td>1.0</td>\n",
              "      <td>740.0</td>\n",
              "      <td>1440.0</td>\n",
              "      <td>460.0</td>\n",
              "    </tr>\n",
              "    <tr>\n",
              "      <th>8</th>\n",
              "      <td>2 Fast 2 Furious</td>\n",
              "      <td>Action</td>\n",
              "      <td>John Singleton</td>\n",
              "      <td>False</td>\n",
              "      <td>76000000</td>\n",
              "      <td>en</td>\n",
              "      <td>\"It's a major double-cross when former police ...</td>\n",
              "      <td>2.32462</td>\n",
              "      <td>[{'name': 'Mikona Productions GmbH &amp; Co. KG', ...</td>\n",
              "      <td>[{'iso_3166_1': 'US', 'name': 'United States o...</td>\n",
              "      <td>...</td>\n",
              "      <td>1613.0</td>\n",
              "      <td>1910.0</td>\n",
              "      <td>1669.0</td>\n",
              "      <td>0.0</td>\n",
              "      <td>1580.0</td>\n",
              "      <td>15.0</td>\n",
              "      <td>7.0</td>\n",
              "      <td>1054.0</td>\n",
              "      <td>1622.0</td>\n",
              "      <td>1104.0</td>\n",
              "    </tr>\n",
              "    <tr>\n",
              "      <th>9</th>\n",
              "      <td>24 Hour Party People</td>\n",
              "      <td>Comedy</td>\n",
              "      <td>Michael Winterbottom</td>\n",
              "      <td>False</td>\n",
              "      <td>0</td>\n",
              "      <td>en</td>\n",
              "      <td>In 1976, Tony Wilson sets up Factory Records a...</td>\n",
              "      <td>12.655728</td>\n",
              "      <td>[{'name': 'United Artists', 'id': 60}, {'name'...</td>\n",
              "      <td>[{'iso_3166_1': 'GB', 'name': 'United Kingdom'}]</td>\n",
              "      <td>...</td>\n",
              "      <td>1145.0</td>\n",
              "      <td>893.0</td>\n",
              "      <td>1282.0</td>\n",
              "      <td>2.0</td>\n",
              "      <td>997.0</td>\n",
              "      <td>28.0</td>\n",
              "      <td>12.0</td>\n",
              "      <td>72.0</td>\n",
              "      <td>0.0</td>\n",
              "      <td>0.0</td>\n",
              "    </tr>\n",
              "  </tbody>\n",
              "</table>\n",
              "<p>10 rows × 53 columns</p>\n",
              "</div>\n",
              "      <button class=\"colab-df-convert\" onclick=\"convertToInteractive('df-5b8e2cca-0cf7-4114-a58e-10027afcb0f8')\"\n",
              "              title=\"Convert this dataframe to an interactive table.\"\n",
              "              style=\"display:none;\">\n",
              "        \n",
              "  <svg xmlns=\"http://www.w3.org/2000/svg\" height=\"24px\"viewBox=\"0 0 24 24\"\n",
              "       width=\"24px\">\n",
              "    <path d=\"M0 0h24v24H0V0z\" fill=\"none\"/>\n",
              "    <path d=\"M18.56 5.44l.94 2.06.94-2.06 2.06-.94-2.06-.94-.94-2.06-.94 2.06-2.06.94zm-11 1L8.5 8.5l.94-2.06 2.06-.94-2.06-.94L8.5 2.5l-.94 2.06-2.06.94zm10 10l.94 2.06.94-2.06 2.06-.94-2.06-.94-.94-2.06-.94 2.06-2.06.94z\"/><path d=\"M17.41 7.96l-1.37-1.37c-.4-.4-.92-.59-1.43-.59-.52 0-1.04.2-1.43.59L10.3 9.45l-7.72 7.72c-.78.78-.78 2.05 0 2.83L4 21.41c.39.39.9.59 1.41.59.51 0 1.02-.2 1.41-.59l7.78-7.78 2.81-2.81c.8-.78.8-2.07 0-2.86zM5.41 20L4 18.59l7.72-7.72 1.47 1.35L5.41 20z\"/>\n",
              "  </svg>\n",
              "      </button>\n",
              "      \n",
              "  <style>\n",
              "    .colab-df-container {\n",
              "      display:flex;\n",
              "      flex-wrap:wrap;\n",
              "      gap: 12px;\n",
              "    }\n",
              "\n",
              "    .colab-df-convert {\n",
              "      background-color: #E8F0FE;\n",
              "      border: none;\n",
              "      border-radius: 50%;\n",
              "      cursor: pointer;\n",
              "      display: none;\n",
              "      fill: #1967D2;\n",
              "      height: 32px;\n",
              "      padding: 0 0 0 0;\n",
              "      width: 32px;\n",
              "    }\n",
              "\n",
              "    .colab-df-convert:hover {\n",
              "      background-color: #E2EBFA;\n",
              "      box-shadow: 0px 1px 2px rgba(60, 64, 67, 0.3), 0px 1px 3px 1px rgba(60, 64, 67, 0.15);\n",
              "      fill: #174EA6;\n",
              "    }\n",
              "\n",
              "    [theme=dark] .colab-df-convert {\n",
              "      background-color: #3B4455;\n",
              "      fill: #D2E3FC;\n",
              "    }\n",
              "\n",
              "    [theme=dark] .colab-df-convert:hover {\n",
              "      background-color: #434B5C;\n",
              "      box-shadow: 0px 1px 3px 1px rgba(0, 0, 0, 0.15);\n",
              "      filter: drop-shadow(0px 1px 2px rgba(0, 0, 0, 0.3));\n",
              "      fill: #FFFFFF;\n",
              "    }\n",
              "  </style>\n",
              "\n",
              "      <script>\n",
              "        const buttonEl =\n",
              "          document.querySelector('#df-5b8e2cca-0cf7-4114-a58e-10027afcb0f8 button.colab-df-convert');\n",
              "        buttonEl.style.display =\n",
              "          google.colab.kernel.accessAllowed ? 'block' : 'none';\n",
              "\n",
              "        async function convertToInteractive(key) {\n",
              "          const element = document.querySelector('#df-5b8e2cca-0cf7-4114-a58e-10027afcb0f8');\n",
              "          const dataTable =\n",
              "            await google.colab.kernel.invokeFunction('convertToInteractive',\n",
              "                                                     [key], {});\n",
              "          if (!dataTable) return;\n",
              "\n",
              "          const docLinkHtml = 'Like what you see? Visit the ' +\n",
              "            '<a target=\"_blank\" href=https://colab.research.google.com/notebooks/data_table.ipynb>data table notebook</a>'\n",
              "            + ' to learn more about interactive tables.';\n",
              "          element.innerHTML = '';\n",
              "          dataTable['output_type'] = 'display_data';\n",
              "          await google.colab.output.renderOutput(dataTable, element);\n",
              "          const docLink = document.createElement('div');\n",
              "          docLink.innerHTML = docLinkHtml;\n",
              "          element.appendChild(docLink);\n",
              "        }\n",
              "      </script>\n",
              "    </div>\n",
              "  </div>\n",
              "  "
            ]
          },
          "metadata": {},
          "execution_count": 50
        }
      ]
    },
    {
      "cell_type": "code",
      "source": [
        "column_names = df5_copy.columns\n",
        "\n",
        "for column in column_names:\n",
        "    print(column)"
      ],
      "metadata": {
        "colab": {
          "base_uri": "https://localhost:8080/"
        },
        "id": "rjbL5GipW-h7",
        "outputId": "fdf11acd-b358-4eaf-b771-a6446f4f9fed"
      },
      "execution_count": null,
      "outputs": [
        {
          "output_type": "stream",
          "name": "stdout",
          "text": [
            "title\n",
            "genre\n",
            "director\n",
            "adult\n",
            "budget\n",
            "original_language\n",
            "overview\n",
            "popularity\n",
            "production_companies\n",
            "production_countries\n",
            "release_date\n",
            "runtime\n",
            "vote_average\n",
            "vote_count\n",
            "total_revenue\n",
            "reviews\n",
            "before_dash\n",
            "Crime\n",
            "Romance\n",
            "Kids & family\n",
            "Adventure\n",
            "Drama\n",
            "War\n",
            "Documentary\n",
            "Fantasy\n",
            "Holiday\n",
            "Lgbtq+\n",
            "History\n",
            "Anime\n",
            "Musical\n",
            "Animation\n",
            "Mystery & thriller\n",
            "Music\n",
            "Sci-fi\n",
            "Horror\n",
            "Western\n",
            "Biography\n",
            "title_INDEX\n",
            "genre_INDEX\n",
            "director_INDEX\n",
            "adult_INDEX\n",
            "budget_INDEX\n",
            "original_language_INDEX\n",
            "overview_INDEX\n",
            "popularity_INDEX\n",
            "production_companies_INDEX\n",
            "production_countries_INDEX\n",
            "release_date_INDEX\n",
            "runtime_INDEX\n",
            "vote_average_INDEX\n",
            "vote_count_INDEX\n",
            "total_revenue_INDEX\n",
            "before_dash_INDEX\n"
          ]
        }
      ]
    },
    {
      "cell_type": "code",
      "source": [
        "\n",
        "list_=df5_copy.columns\n",
        "lis=[]\n",
        "for i in list_:\n",
        "  if '_INDEX' in i :\n",
        "    lis.append(i)"
      ],
      "metadata": {
        "id": "qs3jAIqcM2z8"
      },
      "execution_count": null,
      "outputs": []
    },
    {
      "cell_type": "code",
      "source": [
        "lis.remove('total_revenue_INDEX')"
      ],
      "metadata": {
        "id": "KXytLvcMW_th"
      },
      "execution_count": null,
      "outputs": []
    },
    {
      "cell_type": "code",
      "source": [
        "df6=df5_copy[lis]\n",
        "df6.show()"
      ],
      "metadata": {
        "colab": {
          "base_uri": "https://localhost:8080/"
        },
        "id": "xS5INLqHXlfo",
        "outputId": "a263ded4-9bd0-452e-a38b-d0bf77a213e8"
      },
      "execution_count": null,
      "outputs": [
        {
          "output_type": "stream",
          "name": "stdout",
          "text": [
            "+-----------+-----------+--------------+-----------+------------+-----------------------+--------------+----------------+--------------------------+--------------------------+------------------+-------------+------------------+----------------+-----------------+\n",
            "|title_INDEX|genre_INDEX|director_INDEX|adult_INDEX|budget_INDEX|original_language_INDEX|overview_INDEX|popularity_INDEX|production_companies_INDEX|production_countries_INDEX|release_date_INDEX|runtime_INDEX|vote_average_INDEX|vote_count_INDEX|before_dash_INDEX|\n",
            "+-----------+-----------+--------------+-----------+------------+-----------------------+--------------+----------------+--------------------------+--------------------------+------------------+-------------+------------------+----------------+-----------------+\n",
            "|      189.0|       11.0|         452.0|        0.0|         2.0|                    0.0|         460.0|           473.0|                     467.0|                      14.0|             104.0|         42.0|              31.0|           588.0|            164.0|\n",
            "|      189.0|        0.0|         452.0|        0.0|         2.0|                    0.0|         460.0|           473.0|                     467.0|                      14.0|             104.0|         42.0|              31.0|           588.0|            164.0|\n",
            "|      189.0|       12.0|         452.0|        0.0|         2.0|                    0.0|         460.0|           473.0|                     467.0|                      14.0|             104.0|         42.0|              31.0|           588.0|            164.0|\n",
            "|      192.0|       11.0|         122.0|        0.0|         0.0|                    3.0|         558.0|           491.0|                     393.0|                      21.0|             208.0|         22.0|              10.0|            12.0|            525.0|\n",
            "|      192.0|        0.0|         122.0|        0.0|         0.0|                    3.0|         558.0|           491.0|                     393.0|                      21.0|             208.0|         22.0|              10.0|            12.0|            525.0|\n",
            "|      192.0|       12.0|         122.0|        0.0|         0.0|                    3.0|         558.0|           491.0|                     393.0|                      21.0|             208.0|         22.0|              10.0|            12.0|            525.0|\n",
            "|      659.0|        7.0|          75.0|        0.0|         5.0|                    0.0|         767.0|          1536.0|                    1229.0|                       0.0|            1158.0|         14.0|               1.0|           740.0|            460.0|\n",
            "|      659.0|        2.0|          75.0|        0.0|         5.0|                    0.0|         767.0|          1536.0|                    1229.0|                       0.0|            1158.0|         14.0|               1.0|           740.0|            460.0|\n",
            "|     1604.0|        3.0|         115.0|        0.0|       100.0|                    0.0|        1613.0|          1910.0|                    1669.0|                       0.0|            1580.0|         15.0|               7.0|          1054.0|           1104.0|\n",
            "|      662.0|        1.0|         165.0|        0.0|         0.0|                    0.0|        1145.0|           893.0|                    1282.0|                       2.0|             997.0|         28.0|              12.0|            72.0|              0.0|\n",
            "|      662.0|        0.0|         165.0|        0.0|         0.0|                    0.0|        1145.0|           893.0|                    1282.0|                       2.0|             997.0|         28.0|              12.0|            72.0|              0.0|\n",
            "|      663.0|        5.0|         252.0|        0.0|         1.0|                    0.0|         906.0|           770.0|                    1198.0|                       0.0|            1177.0|         26.0|               2.0|           701.0|           1016.0|\n",
            "|      663.0|        1.0|         252.0|        0.0|         1.0|                    0.0|         906.0|           770.0|                    1198.0|                       0.0|            1177.0|         26.0|               2.0|           701.0|           1016.0|\n",
            "|      666.0|        7.0|         844.0|        0.0|         8.0|                    0.0|        1192.0|           907.0|                     780.0|                      49.0|            1154.0|          6.0|               1.0|           294.0|            262.0|\n",
            "|      666.0|        2.0|         844.0|        0.0|         8.0|                    0.0|        1192.0|           907.0|                     780.0|                      49.0|            1154.0|          6.0|               1.0|           294.0|            262.0|\n",
            "|      195.0|        1.0|         532.0|        0.0|        17.0|                    0.0|         273.0|           487.0|                     352.0|                       0.0|             795.0|         33.0|               2.0|            70.0|            678.0|\n",
            "|      195.0|        0.0|         532.0|        0.0|        17.0|                    0.0|         273.0|           487.0|                     352.0|                       0.0|             795.0|         33.0|               2.0|            70.0|            678.0|\n",
            "|      195.0|       16.0|         532.0|        0.0|        17.0|                    0.0|         273.0|           487.0|                     352.0|                       0.0|             795.0|         33.0|               2.0|            70.0|            678.0|\n",
            "|      668.0|        1.0|          60.0|        0.0|        16.0|                    0.0|        1489.0|          1580.0|                       2.0|                     217.0|            1245.0|         39.0|              13.0|           927.0|            622.0|\n",
            "|      668.0|        3.0|          60.0|        0.0|        16.0|                    0.0|        1489.0|          1580.0|                       2.0|                     217.0|            1245.0|         39.0|              13.0|           927.0|            622.0|\n",
            "+-----------+-----------+--------------+-----------+------------+-----------------------+--------------+----------------+--------------------------+--------------------------+------------------+-------------+------------------+----------------+-----------------+\n",
            "only showing top 20 rows\n",
            "\n"
          ]
        }
      ]
    },
    {
      "cell_type": "code",
      "source": [
        "column_names = df5_copy.columns\n",
        "\n",
        "for column in column_names:\n",
        "    print(column)"
      ],
      "metadata": {
        "colab": {
          "base_uri": "https://localhost:8080/"
        },
        "id": "_XMVD5HQ2TDV",
        "outputId": "41ff4e93-3aee-4d83-aa4e-3a0a835e467e"
      },
      "execution_count": null,
      "outputs": [
        {
          "output_type": "stream",
          "name": "stdout",
          "text": [
            "title\n",
            "genre\n",
            "director\n",
            "adult\n",
            "budget\n",
            "original_language\n",
            "overview\n",
            "popularity\n",
            "production_companies\n",
            "production_countries\n",
            "release_date\n",
            "runtime\n",
            "vote_average\n",
            "vote_count\n",
            "total_revenue\n",
            "reviews\n",
            "before_dash\n",
            "Crime\n",
            "Romance\n",
            "Kids & family\n",
            "Adventure\n",
            "Drama\n",
            "War\n",
            "Documentary\n",
            "Fantasy\n",
            "Holiday\n",
            "Lgbtq+\n",
            "History\n",
            "Anime\n",
            "Musical\n",
            "Animation\n",
            "Mystery & thriller\n",
            "Music\n",
            "Sci-fi\n",
            "Horror\n",
            "Western\n",
            "Biography\n",
            "title_INDEX\n",
            "genre_INDEX\n",
            "director_INDEX\n",
            "adult_INDEX\n",
            "budget_INDEX\n",
            "original_language_INDEX\n",
            "overview_INDEX\n",
            "popularity_INDEX\n",
            "production_companies_INDEX\n",
            "production_countries_INDEX\n",
            "release_date_INDEX\n",
            "runtime_INDEX\n",
            "vote_average_INDEX\n",
            "vote_count_INDEX\n",
            "total_revenue_INDEX\n",
            "before_dash_INDEX\n"
          ]
        }
      ]
    },
    {
      "cell_type": "markdown",
      "source": [
        "**Normalization**"
      ],
      "metadata": {
        "id": "CMlpG9g7-OGp"
      }
    },
    {
      "cell_type": "code",
      "source": [
        "from pyspark.ml.feature import StandardScaler, MinMaxScaler\n",
        "from pyspark.ml.linalg import Vectors"
      ],
      "metadata": {
        "id": "5Zj87TZyAubP"
      },
      "execution_count": null,
      "outputs": []
    },
    {
      "cell_type": "code",
      "source": [
        "df5_copy.printSchema()\n"
      ],
      "metadata": {
        "colab": {
          "base_uri": "https://localhost:8080/"
        },
        "id": "kwi5k1E-D8Yd",
        "outputId": "18860fab-809c-4208-91e2-1849cfe41b1e"
      },
      "execution_count": null,
      "outputs": [
        {
          "output_type": "stream",
          "name": "stdout",
          "text": [
            "root\n",
            " |-- title: string (nullable = true)\n",
            " |-- genre: string (nullable = false)\n",
            " |-- director: string (nullable = true)\n",
            " |-- adult: string (nullable = true)\n",
            " |-- budget: string (nullable = true)\n",
            " |-- original_language: string (nullable = true)\n",
            " |-- overview: string (nullable = true)\n",
            " |-- popularity: string (nullable = true)\n",
            " |-- production_companies: string (nullable = true)\n",
            " |-- production_countries: string (nullable = true)\n",
            " |-- release_date: string (nullable = true)\n",
            " |-- runtime: string (nullable = true)\n",
            " |-- vote_average: string (nullable = true)\n",
            " |-- vote_count: string (nullable = true)\n",
            " |-- total_revenue: string (nullable = true)\n",
            " |-- reviews: array (nullable = false)\n",
            " |    |-- element: string (containsNull = false)\n",
            " |-- before_dash: string (nullable = true)\n",
            " |-- Crime: integer (nullable = false)\n",
            " |-- Romance: integer (nullable = false)\n",
            " |-- Kids & family: integer (nullable = false)\n",
            " |-- Adventure: integer (nullable = false)\n",
            " |-- Drama: integer (nullable = false)\n",
            " |-- War: integer (nullable = false)\n",
            " |-- Documentary: integer (nullable = false)\n",
            " |-- Fantasy: integer (nullable = false)\n",
            " |-- Holiday: integer (nullable = false)\n",
            " |-- Lgbtq+: integer (nullable = false)\n",
            " |-- History: integer (nullable = false)\n",
            " |-- Anime: integer (nullable = false)\n",
            " |-- Musical: integer (nullable = false)\n",
            " |-- Animation: integer (nullable = false)\n",
            " |-- Mystery & thriller: integer (nullable = false)\n",
            " |-- Music: integer (nullable = false)\n",
            " |-- Sci-fi: integer (nullable = false)\n",
            " |-- Horror: integer (nullable = false)\n",
            " |-- Western: integer (nullable = false)\n",
            " |-- Biography: integer (nullable = false)\n",
            " |-- title_INDEX: double (nullable = false)\n",
            " |-- genre_INDEX: double (nullable = false)\n",
            " |-- director_INDEX: double (nullable = false)\n",
            " |-- adult_INDEX: double (nullable = false)\n",
            " |-- budget_INDEX: double (nullable = false)\n",
            " |-- original_language_INDEX: double (nullable = false)\n",
            " |-- overview_INDEX: double (nullable = false)\n",
            " |-- popularity_INDEX: double (nullable = false)\n",
            " |-- production_companies_INDEX: double (nullable = false)\n",
            " |-- production_countries_INDEX: double (nullable = false)\n",
            " |-- release_date_INDEX: double (nullable = false)\n",
            " |-- runtime_INDEX: double (nullable = false)\n",
            " |-- vote_average_INDEX: double (nullable = false)\n",
            " |-- vote_count_INDEX: double (nullable = false)\n",
            " |-- total_revenue_INDEX: double (nullable = false)\n",
            " |-- before_dash_INDEX: double (nullable = false)\n",
            "\n"
          ]
        }
      ]
    },
    {
      "cell_type": "code",
      "source": [
        "inputCol = \"vote_count_INDEX\"\n",
        "assembler = VectorAssembler(inputCols=[inputCol], outputCol=\"features\")\n",
        "scaler = StandardScaler(inputCol=\"features\", outputCol=\"scaledVoteCount\")\n",
        "stages = [assembler, scaler]\n",
        "pipeline = Pipeline(stages=stages)\n",
        "pipelineModel = pipeline.fit(df5_copy)\n",
        "df5_copy = pipelineModel.transform(df5_copy)\n",
        "df5_copy.show()"
      ],
      "metadata": {
        "colab": {
          "base_uri": "https://localhost:8080/"
        },
        "id": "4a9JGWouF17f",
        "outputId": "508f9d1c-822c-4ed8-f2a7-2a4f5f54734a"
      },
      "execution_count": null,
      "outputs": [
        {
          "output_type": "stream",
          "name": "stdout",
          "text": [
            "+--------------------+------------------+--------------------+-----+--------+-----------------+--------------------+----------+--------------------+--------------------+------------+-------+------------+----------+--------------------+--------------------+-----------+-----+-------+-------------+---------+-----+---+-----------+-------+-------+------+-------+-----+-------+---------+------------------+-----+------+------+-------+---------+-----------+-----------+--------------+-----------+------------+-----------------------+--------------+----------------+--------------------------+--------------------------+------------------+-------------+------------------+----------------+-------------------+-----------------+--------+--------------------+\n",
            "|               title|             genre|            director|adult|  budget|original_language|            overview|popularity|production_companies|production_countries|release_date|runtime|vote_average|vote_count|       total_revenue|             reviews|before_dash|Crime|Romance|Kids & family|Adventure|Drama|War|Documentary|Fantasy|Holiday|Lgbtq+|History|Anime|Musical|Animation|Mystery & thriller|Music|Sci-fi|Horror|Western|Biography|title_INDEX|genre_INDEX|director_INDEX|adult_INDEX|budget_INDEX|original_language_INDEX|overview_INDEX|popularity_INDEX|production_companies_INDEX|production_countries_INDEX|release_date_INDEX|runtime_INDEX|vote_average_INDEX|vote_count_INDEX|total_revenue_INDEX|before_dash_INDEX|features|     scaledVoteCount|\n",
            "+--------------------+------------------+--------------------+-----+--------+-----------------+--------------------+----------+--------------------+--------------------+------------+-------+------------+----------+--------------------+--------------------+-----------+-----+-------+-------------+---------+-----+---+-----------+-------+-------+------+-------+-----+-------+---------+------------------+-----+------+------+-------+---------+-----------+-----------+--------------+-----------+------------+-----------------------+--------------+----------------+--------------------------+--------------------------+------------------+-------------+------------------+----------------+-------------------+-----------------+--------+--------------------+\n",
            "|    12 Years a Slave|           History|       Steve McQueen|False|20000000|               en|In the pre-Civil ...| 30.316249|[{'name': 'Plan B...|[{'iso_3166_1': '...|  2013-10-18|  134.0|         7.9|      3787|$56.71000000-1870...|[Piercing and hea...|     $56.7M|    0|      0|            0|        0|    0|  0|          0|      0|      0|     0|      1|    0|      0|        0|                 0|    0|     0|     0|      0|        0|      189.0|       11.0|         452.0|        0.0|         2.0|                    0.0|         460.0|           473.0|                     467.0|                      14.0|             104.0|         42.0|              31.0|           588.0|              587.0|            164.0| [588.0]|[1.8915628322066065]|\n",
            "|    12 Years a Slave|             Drama|       Steve McQueen|False|20000000|               en|In the pre-Civil ...| 30.316249|[{'name': 'Plan B...|[{'iso_3166_1': '...|  2013-10-18|  134.0|         7.9|      3787|$56.71000000-1870...|[Piercing and hea...|     $56.7M|    0|      0|            0|        0|    1|  0|          0|      0|      0|     0|      0|    0|      0|        0|                 0|    0|     0|     0|      0|        0|      189.0|        0.0|         452.0|        0.0|         2.0|                    0.0|         460.0|           473.0|                     467.0|                      14.0|             104.0|         42.0|              31.0|           588.0|              587.0|            164.0| [588.0]|[1.8915628322066065]|\n",
            "|    12 Years a Slave|         Biography|       Steve McQueen|False|20000000|               en|In the pre-Civil ...| 30.316249|[{'name': 'Plan B...|[{'iso_3166_1': '...|  2013-10-18|  134.0|         7.9|      3787|$56.71000000-1870...|[Piercing and hea...|     $56.7M|    0|      0|            0|        0|    0|  0|          0|      0|      0|     0|      0|    0|      0|        0|                 0|    0|     0|     0|      0|        1|      189.0|       12.0|         452.0|        0.0|         2.0|                    0.0|         460.0|           473.0|                     467.0|                      14.0|             104.0|         42.0|              31.0|           588.0|              587.0|            164.0| [588.0]|[1.8915628322066065]|\n",
            "|          13 Minutes|           History| Oliver Hirschbiegel|False|       0|               de|The breath-taking...|  4.969851|[{'name': 'Lucky ...|[{'iso_3166_1': '...|  2015-04-09|  114.0|         7.0|        63|   $161.21000-147315|[Elser is an ocea...|    $161.2K|    0|      0|            0|        0|    0|  0|          0|      0|      0|     0|      1|    0|      0|        0|                 0|    0|     0|     0|      0|        0|      192.0|       11.0|         122.0|        0.0|         0.0|                    3.0|         558.0|           491.0|                     393.0|                      21.0|             208.0|         22.0|              10.0|            12.0|              320.0|            525.0|  [12.0]|[0.03860332310625...|\n",
            "|          13 Minutes|             Drama| Oliver Hirschbiegel|False|       0|               de|The breath-taking...|  4.969851|[{'name': 'Lucky ...|[{'iso_3166_1': '...|  2015-04-09|  114.0|         7.0|        63|   $161.21000-147315|[Elser is an ocea...|    $161.2K|    0|      0|            0|        0|    1|  0|          0|      0|      0|     0|      0|    0|      0|        0|                 0|    0|     0|     0|      0|        0|      192.0|        0.0|         122.0|        0.0|         0.0|                    3.0|         558.0|           491.0|                     393.0|                      21.0|             208.0|         22.0|              10.0|            12.0|              320.0|            525.0|  [12.0]|[0.03860332310625...|\n",
            "|          13 Minutes|         Biography| Oliver Hirschbiegel|False|       0|               de|The breath-taking...|  4.969851|[{'name': 'Lucky ...|[{'iso_3166_1': '...|  2015-04-09|  114.0|         7.0|        63|   $161.21000-147315|[Elser is an ocea...|    $161.2K|    0|      0|            0|        0|    0|  0|          0|      0|      0|     0|      0|    0|      0|        0|                 0|    0|     0|     0|      0|        1|      192.0|       12.0|         122.0|        0.0|         0.0|                    3.0|         558.0|           491.0|                     393.0|                      21.0|             208.0|         22.0|              10.0|            12.0|              320.0|            525.0|  [12.0]|[0.03860332310625...|\n",
            "|                1408|            Horror|     Mikael Håfström|False|25000000|               en|A man who special...|  9.196884|[{'name': 'The We...|[{'iso_3166_1': '...|  2007-07-12|  104.0|         6.5|      1372|$72.01000000-9467...|[Directed in a st...|     $72.0M|    0|      0|            0|        0|    0|  0|          0|      0|      0|     0|      0|    0|      0|        0|                 0|    0|     0|     1|      0|        0|      659.0|        7.0|          75.0|        0.0|         5.0|                    0.0|         767.0|          1536.0|                    1229.0|                       0.0|            1158.0|         14.0|               1.0|           740.0|             1440.0|            460.0| [740.0]|[2.3805382582191985]|\n",
            "|                1408|Mystery & thriller|     Mikael Håfström|False|25000000|               en|A man who special...|  9.196884|[{'name': 'The We...|[{'iso_3166_1': '...|  2007-07-12|  104.0|         6.5|      1372|$72.01000000-9467...|[Directed in a st...|     $72.0M|    0|      0|            0|        0|    0|  0|          0|      0|      0|     0|      0|    0|      0|        0|                 1|    0|     0|     0|      0|        0|      659.0|        2.0|          75.0|        0.0|         5.0|                    0.0|         767.0|          1536.0|                    1229.0|                       0.0|            1158.0|         14.0|               1.0|           740.0|             1440.0|            460.0| [740.0]|[2.3805382582191985]|\n",
            "|    2 Fast 2 Furious|            Action|      John Singleton|False|76000000|               en|\"It's a major dou...|   2.32462|[{'name': 'Mikona...|[{'iso_3166_1': '...|  2003-06-05|  107.0|         6.2|      2087|$127.11000000-236...|[2 Fast 2 Furious...|    $127.1M|    0|      0|            0|        0|    0|  0|          0|      0|      0|     0|      0|    0|      0|        0|                 0|    0|     0|     0|      0|        0|     1604.0|        3.0|         115.0|        0.0|       100.0|                    0.0|        1613.0|          1910.0|                    1669.0|                       0.0|            1580.0|         15.0|               7.0|          1054.0|             1622.0|           1104.0|[1054.0]| [3.390658546166264]|\n",
            "|24 Hour Party People|            Comedy|Michael Winterbottom|False|       0|               en|In 1976, Tony Wil...| 12.655728|[{'name': 'United...|[{'iso_3166_1': '...|  2002-02-13|  117.0|         6.8|       109|       $1.11000000-0|[\"Tony Wilson's a...|      $1.1M|    0|      0|            0|        0|    0|  0|          0|      0|      0|     0|      0|    0|      0|        0|                 0|    0|     0|     0|      0|        0|      662.0|        1.0|         165.0|        0.0|         0.0|                    0.0|        1145.0|           893.0|                    1282.0|                       2.0|             997.0|         28.0|              12.0|            72.0|                0.0|              0.0|  [72.0]|[0.23161993863754...|\n",
            "|24 Hour Party People|             Drama|Michael Winterbottom|False|       0|               en|In 1976, Tony Wil...| 12.655728|[{'name': 'United...|[{'iso_3166_1': '...|  2002-02-13|  117.0|         6.8|       109|       $1.11000000-0|[\"Tony Wilson's a...|      $1.1M|    0|      0|            0|        0|    1|  0|          0|      0|      0|     0|      0|    0|      0|        0|                 0|    0|     0|     0|      0|        0|      662.0|        0.0|         165.0|        0.0|         0.0|                    0.0|        1145.0|           893.0|                    1282.0|                       2.0|             997.0|         28.0|              12.0|            72.0|                0.0|              0.0|  [72.0]|[0.23161993863754...|\n",
            "|          27 Dresses|           Romance|       Anne Fletcher|False|30000000|               en|Altruistic Jane f...| 10.342202|[{'name': 'Spygla...|[{'iso_3166_1': '...|  2008-01-10|  111.0|         6.1|      1013|$76.81000000-1602...|[Lacks the wicked...|     $76.8M|    0|      1|            0|        0|    0|  0|          0|      0|      0|     0|      0|    0|      0|        0|                 0|    0|     0|     0|      0|        0|      663.0|        5.0|         252.0|        0.0|         1.0|                    0.0|         906.0|           770.0|                    1198.0|                       0.0|            1177.0|         26.0|               2.0|           701.0|             1455.0|           1016.0| [701.0]|[2.2550774581238624]|\n",
            "|          27 Dresses|            Comedy|       Anne Fletcher|False|30000000|               en|Altruistic Jane f...| 10.342202|[{'name': 'Spygla...|[{'iso_3166_1': '...|  2008-01-10|  111.0|         6.1|      1013|$76.81000000-1602...|[Lacks the wicked...|     $76.8M|    0|      0|            0|        0|    0|  0|          0|      0|      0|     0|      0|    0|      0|        0|                 0|    0|     0|     0|      0|        0|      663.0|        1.0|         252.0|        0.0|         1.0|                    0.0|         906.0|           770.0|                    1198.0|                       0.0|            1177.0|         26.0|               2.0|           701.0|             1455.0|           1016.0| [701.0]|[2.2550774581238624]|\n",
            "|      28 Weeks Later|            Horror|Juan Carlos Fresn...|False|15000000|               en|In this chilling ...| 12.884191|[{'name': 'DNA Fi...|[{'iso_3166_1': '...|  2007-04-26|  100.0|         6.5|      1225|$28.61000000-6423...|[The story moves ...|     $28.6M|    0|      0|            0|        0|    0|  0|          0|      0|      0|     0|      0|    0|      0|        0|                 0|    0|     0|     1|      0|        0|      666.0|        7.0|         844.0|        0.0|         8.0|                    0.0|        1192.0|           907.0|                     780.0|                      49.0|            1154.0|          6.0|               1.0|           294.0|             1040.0|            262.0| [294.0]|[0.9457814161033032]|\n",
            "|      28 Weeks Later|Mystery & thriller|Juan Carlos Fresn...|False|15000000|               en|In this chilling ...| 12.884191|[{'name': 'DNA Fi...|[{'iso_3166_1': '...|  2007-04-26|  100.0|         6.5|      1225|$28.61000000-6423...|[The story moves ...|     $28.6M|    0|      0|            0|        0|    0|  0|          0|      0|      0|     0|      0|    0|      0|        0|                 1|    0|     0|     0|      0|        0|      666.0|        2.0|         844.0|        0.0|         8.0|                    0.0|        1192.0|           907.0|                     780.0|                      49.0|            1154.0|          6.0|               1.0|           294.0|             1040.0|            262.0| [294.0]|[0.9457814161033032]|\n",
            "|       3 Generations|            Comedy|         Gaby Dellal|False| 5000000|               en|A teenager transi...|  4.626438|[{'name': 'IM Glo...|[{'iso_3166_1': '...|  2016-02-11|   87.0|         6.1|        75|    $66.41000-443962|[In the hands of ...|     $66.4K|    0|      0|            0|        0|    0|  0|          0|      0|      0|     0|      0|    0|      0|        0|                 0|    0|     0|     0|      0|        0|      195.0|        1.0|         532.0|        0.0|        17.0|                    0.0|         273.0|           487.0|                     352.0|                       0.0|             795.0|         33.0|               2.0|            70.0|              624.0|            678.0|  [70.0]|[0.22518605145316...|\n",
            "|       3 Generations|             Drama|         Gaby Dellal|False| 5000000|               en|A teenager transi...|  4.626438|[{'name': 'IM Glo...|[{'iso_3166_1': '...|  2016-02-11|   87.0|         6.1|        75|    $66.41000-443962|[In the hands of ...|     $66.4K|    0|      0|            0|        0|    1|  0|          0|      0|      0|     0|      0|    0|      0|        0|                 0|    0|     0|     0|      0|        0|      195.0|        0.0|         532.0|        0.0|        17.0|                    0.0|         273.0|           487.0|                     352.0|                       0.0|             795.0|         33.0|               2.0|            70.0|              624.0|            678.0|  [70.0]|[0.22518605145316...|\n",
            "|       3 Generations|            Lgbtq+|         Gaby Dellal|False| 5000000|               en|A teenager transi...|  4.626438|[{'name': 'IM Glo...|[{'iso_3166_1': '...|  2016-02-11|   87.0|         6.1|        75|    $66.41000-443962|[In the hands of ...|     $66.4K|    0|      0|            0|        0|    0|  0|          0|      0|      0|     1|      0|    0|      0|        0|                 0|    0|     0|     0|      0|        0|      195.0|       16.0|         532.0|        0.0|        17.0|                    0.0|         273.0|           487.0|                     352.0|                       0.0|             795.0|         33.0|               2.0|            70.0|              624.0|            678.0|  [70.0]|[0.22518605145316...|\n",
            "|  30 Minutes or Less|            Comedy|     Ruben Fleischer|False|28000000|               en|Two fledgling cri...|  9.763493|[{'name': 'Columb...|[{'iso_3166_1': '...|  2011-08-11|   83.0|         5.6|       537|$37.11000000-4054...|[The comedy reach...|     $37.1M|    0|      0|            0|        0|    0|  0|          0|      0|      0|     0|      0|    0|      0|        0|                 0|    0|     0|     0|      0|        0|      668.0|        1.0|          60.0|        0.0|        16.0|                    0.0|        1489.0|          1580.0|                       2.0|                     217.0|            1245.0|         39.0|              13.0|           927.0|             1165.0|            622.0| [927.0]|[2.9821067099583742]|\n",
            "|  30 Minutes or Less|            Action|     Ruben Fleischer|False|28000000|               en|Two fledgling cri...|  9.763493|[{'name': 'Columb...|[{'iso_3166_1': '...|  2011-08-11|   83.0|         5.6|       537|$37.11000000-4054...|[The comedy reach...|     $37.1M|    0|      0|            0|        0|    0|  0|          0|      0|      0|     0|      0|    0|      0|        0|                 0|    0|     0|     0|      0|        0|      668.0|        3.0|          60.0|        0.0|        16.0|                    0.0|        1489.0|          1580.0|                       2.0|                     217.0|            1245.0|         39.0|              13.0|           927.0|             1165.0|            622.0| [927.0]|[2.9821067099583742]|\n",
            "+--------------------+------------------+--------------------+-----+--------+-----------------+--------------------+----------+--------------------+--------------------+------------+-------+------------+----------+--------------------+--------------------+-----------+-----+-------+-------------+---------+-----+---+-----------+-------+-------+------+-------+-----+-------+---------+------------------+-----+------+------+-------+---------+-----------+-----------+--------------+-----------+------------+-----------------------+--------------+----------------+--------------------------+--------------------------+------------------+-------------+------------------+----------------+-------------------+-----------------+--------+--------------------+\n",
            "only showing top 20 rows\n",
            "\n"
          ]
        }
      ]
    },
    {
      "cell_type": "code",
      "source": [
        "inputCol = \"budget_INDEX\"\n",
        "assembler = VectorAssembler(inputCols=[inputCol], outputCol=\"features\")\n",
        "scaler = StandardScaler(inputCol=\"features\", outputCol=\"scaledBudget\")\n",
        "stages = [assembler, scaler]\n",
        "pipeline = Pipeline(stages=stages)\n",
        "pipelineModel = pipeline.fit(df5_copy)\n",
        "df5_copy = pipelineModel.transform(df5_copy)\n",
        "df5_copy.show()"
      ],
      "metadata": {
        "colab": {
          "base_uri": "https://localhost:8080/"
        },
        "id": "h-UD-PzZDMqx",
        "outputId": "a06a2346-34c7-41ca-a037-7e391bcbddec"
      },
      "execution_count": null,
      "outputs": [
        {
          "output_type": "stream",
          "name": "stdout",
          "text": [
            "+--------------------+------------------+--------------------+-----+--------+-----------------+--------------------+----------+--------------------+--------------------+------------+-------+------------+----------+--------------------+--------------------+-----------+-----+-------+-------------+---------+-----+---+-----------+-------+-------+------+-------+-----+-------+---------+------------------+-----+------+------+-------+---------+-----------+-----------+--------------+-----------+------------+-----------------------+--------------+----------------+--------------------------+--------------------------+------------------+-------------+------------------+----------------+-------------------+-----------------+--------------------+--------+--------------------+\n",
            "|               title|             genre|            director|adult|  budget|original_language|            overview|popularity|production_companies|production_countries|release_date|runtime|vote_average|vote_count|       total_revenue|             reviews|before_dash|Crime|Romance|Kids & family|Adventure|Drama|War|Documentary|Fantasy|Holiday|Lgbtq+|History|Anime|Musical|Animation|Mystery & thriller|Music|Sci-fi|Horror|Western|Biography|title_INDEX|genre_INDEX|director_INDEX|adult_INDEX|budget_INDEX|original_language_INDEX|overview_INDEX|popularity_INDEX|production_companies_INDEX|production_countries_INDEX|release_date_INDEX|runtime_INDEX|vote_average_INDEX|vote_count_INDEX|total_revenue_INDEX|before_dash_INDEX|     scaledVoteCount|features|        scaledBudget|\n",
            "+--------------------+------------------+--------------------+-----+--------+-----------------+--------------------+----------+--------------------+--------------------+------------+-------+------------+----------+--------------------+--------------------+-----------+-----+-------+-------------+---------+-----+---+-----------+-------+-------+------+-------+-----+-------+---------+------------------+-----+------+------+-------+---------+-----------+-----------+--------------+-----------+------------+-----------------------+--------------+----------------+--------------------------+--------------------------+------------------+-------------+------------------+----------------+-------------------+-----------------+--------------------+--------+--------------------+\n",
            "|    12 Years a Slave|           History|       Steve McQueen|False|20000000|               en|In the pre-Civil ...| 30.316249|[{'name': 'Plan B...|[{'iso_3166_1': '...|  2013-10-18|  134.0|         7.9|      3787|$56.71000000-1870...|[Piercing and hea...|     $56.7M|    0|      0|            0|        0|    0|  0|          0|      0|      0|     0|      1|    0|      0|        0|                 0|    0|     0|     0|      0|        0|      189.0|       11.0|         452.0|        0.0|         2.0|                    0.0|         460.0|           473.0|                     467.0|                      14.0|             104.0|         42.0|              31.0|           588.0|              587.0|            164.0|[1.8915628322066065]|   [2.0]|[0.04245302550179...|\n",
            "|    12 Years a Slave|             Drama|       Steve McQueen|False|20000000|               en|In the pre-Civil ...| 30.316249|[{'name': 'Plan B...|[{'iso_3166_1': '...|  2013-10-18|  134.0|         7.9|      3787|$56.71000000-1870...|[Piercing and hea...|     $56.7M|    0|      0|            0|        0|    1|  0|          0|      0|      0|     0|      0|    0|      0|        0|                 0|    0|     0|     0|      0|        0|      189.0|        0.0|         452.0|        0.0|         2.0|                    0.0|         460.0|           473.0|                     467.0|                      14.0|             104.0|         42.0|              31.0|           588.0|              587.0|            164.0|[1.8915628322066065]|   [2.0]|[0.04245302550179...|\n",
            "|    12 Years a Slave|         Biography|       Steve McQueen|False|20000000|               en|In the pre-Civil ...| 30.316249|[{'name': 'Plan B...|[{'iso_3166_1': '...|  2013-10-18|  134.0|         7.9|      3787|$56.71000000-1870...|[Piercing and hea...|     $56.7M|    0|      0|            0|        0|    0|  0|          0|      0|      0|     0|      0|    0|      0|        0|                 0|    0|     0|     0|      0|        1|      189.0|       12.0|         452.0|        0.0|         2.0|                    0.0|         460.0|           473.0|                     467.0|                      14.0|             104.0|         42.0|              31.0|           588.0|              587.0|            164.0|[1.8915628322066065]|   [2.0]|[0.04245302550179...|\n",
            "|          13 Minutes|           History| Oliver Hirschbiegel|False|       0|               de|The breath-taking...|  4.969851|[{'name': 'Lucky ...|[{'iso_3166_1': '...|  2015-04-09|  114.0|         7.0|        63|   $161.21000-147315|[Elser is an ocea...|    $161.2K|    0|      0|            0|        0|    0|  0|          0|      0|      0|     0|      1|    0|      0|        0|                 0|    0|     0|     0|      0|        0|      192.0|       11.0|         122.0|        0.0|         0.0|                    3.0|         558.0|           491.0|                     393.0|                      21.0|             208.0|         22.0|              10.0|            12.0|              320.0|            525.0|[0.03860332310625...|   [0.0]|               [0.0]|\n",
            "|          13 Minutes|             Drama| Oliver Hirschbiegel|False|       0|               de|The breath-taking...|  4.969851|[{'name': 'Lucky ...|[{'iso_3166_1': '...|  2015-04-09|  114.0|         7.0|        63|   $161.21000-147315|[Elser is an ocea...|    $161.2K|    0|      0|            0|        0|    1|  0|          0|      0|      0|     0|      0|    0|      0|        0|                 0|    0|     0|     0|      0|        0|      192.0|        0.0|         122.0|        0.0|         0.0|                    3.0|         558.0|           491.0|                     393.0|                      21.0|             208.0|         22.0|              10.0|            12.0|              320.0|            525.0|[0.03860332310625...|   [0.0]|               [0.0]|\n",
            "|          13 Minutes|         Biography| Oliver Hirschbiegel|False|       0|               de|The breath-taking...|  4.969851|[{'name': 'Lucky ...|[{'iso_3166_1': '...|  2015-04-09|  114.0|         7.0|        63|   $161.21000-147315|[Elser is an ocea...|    $161.2K|    0|      0|            0|        0|    0|  0|          0|      0|      0|     0|      0|    0|      0|        0|                 0|    0|     0|     0|      0|        1|      192.0|       12.0|         122.0|        0.0|         0.0|                    3.0|         558.0|           491.0|                     393.0|                      21.0|             208.0|         22.0|              10.0|            12.0|              320.0|            525.0|[0.03860332310625...|   [0.0]|               [0.0]|\n",
            "|                1408|            Horror|     Mikael Håfström|False|25000000|               en|A man who special...|  9.196884|[{'name': 'The We...|[{'iso_3166_1': '...|  2007-07-12|  104.0|         6.5|      1372|$72.01000000-9467...|[Directed in a st...|     $72.0M|    0|      0|            0|        0|    0|  0|          0|      0|      0|     0|      0|    0|      0|        0|                 0|    0|     0|     1|      0|        0|      659.0|        7.0|          75.0|        0.0|         5.0|                    0.0|         767.0|          1536.0|                    1229.0|                       0.0|            1158.0|         14.0|               1.0|           740.0|             1440.0|            460.0|[2.3805382582191985]|   [5.0]|[0.10613256375448...|\n",
            "|                1408|Mystery & thriller|     Mikael Håfström|False|25000000|               en|A man who special...|  9.196884|[{'name': 'The We...|[{'iso_3166_1': '...|  2007-07-12|  104.0|         6.5|      1372|$72.01000000-9467...|[Directed in a st...|     $72.0M|    0|      0|            0|        0|    0|  0|          0|      0|      0|     0|      0|    0|      0|        0|                 1|    0|     0|     0|      0|        0|      659.0|        2.0|          75.0|        0.0|         5.0|                    0.0|         767.0|          1536.0|                    1229.0|                       0.0|            1158.0|         14.0|               1.0|           740.0|             1440.0|            460.0|[2.3805382582191985]|   [5.0]|[0.10613256375448...|\n",
            "|    2 Fast 2 Furious|            Action|      John Singleton|False|76000000|               en|\"It's a major dou...|   2.32462|[{'name': 'Mikona...|[{'iso_3166_1': '...|  2003-06-05|  107.0|         6.2|      2087|$127.11000000-236...|[2 Fast 2 Furious...|    $127.1M|    0|      0|            0|        0|    0|  0|          0|      0|      0|     0|      0|    0|      0|        0|                 0|    0|     0|     0|      0|        0|     1604.0|        3.0|         115.0|        0.0|       100.0|                    0.0|        1613.0|          1910.0|                    1669.0|                       0.0|            1580.0|         15.0|               7.0|          1054.0|             1622.0|           1104.0| [3.390658546166264]| [100.0]| [2.122651275089754]|\n",
            "|24 Hour Party People|            Comedy|Michael Winterbottom|False|       0|               en|In 1976, Tony Wil...| 12.655728|[{'name': 'United...|[{'iso_3166_1': '...|  2002-02-13|  117.0|         6.8|       109|       $1.11000000-0|[\"Tony Wilson's a...|      $1.1M|    0|      0|            0|        0|    0|  0|          0|      0|      0|     0|      0|    0|      0|        0|                 0|    0|     0|     0|      0|        0|      662.0|        1.0|         165.0|        0.0|         0.0|                    0.0|        1145.0|           893.0|                    1282.0|                       2.0|             997.0|         28.0|              12.0|            72.0|                0.0|              0.0|[0.23161993863754...|   [0.0]|               [0.0]|\n",
            "|24 Hour Party People|             Drama|Michael Winterbottom|False|       0|               en|In 1976, Tony Wil...| 12.655728|[{'name': 'United...|[{'iso_3166_1': '...|  2002-02-13|  117.0|         6.8|       109|       $1.11000000-0|[\"Tony Wilson's a...|      $1.1M|    0|      0|            0|        0|    1|  0|          0|      0|      0|     0|      0|    0|      0|        0|                 0|    0|     0|     0|      0|        0|      662.0|        0.0|         165.0|        0.0|         0.0|                    0.0|        1145.0|           893.0|                    1282.0|                       2.0|             997.0|         28.0|              12.0|            72.0|                0.0|              0.0|[0.23161993863754...|   [0.0]|               [0.0]|\n",
            "|          27 Dresses|           Romance|       Anne Fletcher|False|30000000|               en|Altruistic Jane f...| 10.342202|[{'name': 'Spygla...|[{'iso_3166_1': '...|  2008-01-10|  111.0|         6.1|      1013|$76.81000000-1602...|[Lacks the wicked...|     $76.8M|    0|      1|            0|        0|    0|  0|          0|      0|      0|     0|      0|    0|      0|        0|                 0|    0|     0|     0|      0|        0|      663.0|        5.0|         252.0|        0.0|         1.0|                    0.0|         906.0|           770.0|                    1198.0|                       0.0|            1177.0|         26.0|               2.0|           701.0|             1455.0|           1016.0|[2.2550774581238624]|   [1.0]|[0.02122651275089...|\n",
            "|          27 Dresses|            Comedy|       Anne Fletcher|False|30000000|               en|Altruistic Jane f...| 10.342202|[{'name': 'Spygla...|[{'iso_3166_1': '...|  2008-01-10|  111.0|         6.1|      1013|$76.81000000-1602...|[Lacks the wicked...|     $76.8M|    0|      0|            0|        0|    0|  0|          0|      0|      0|     0|      0|    0|      0|        0|                 0|    0|     0|     0|      0|        0|      663.0|        1.0|         252.0|        0.0|         1.0|                    0.0|         906.0|           770.0|                    1198.0|                       0.0|            1177.0|         26.0|               2.0|           701.0|             1455.0|           1016.0|[2.2550774581238624]|   [1.0]|[0.02122651275089...|\n",
            "|      28 Weeks Later|            Horror|Juan Carlos Fresn...|False|15000000|               en|In this chilling ...| 12.884191|[{'name': 'DNA Fi...|[{'iso_3166_1': '...|  2007-04-26|  100.0|         6.5|      1225|$28.61000000-6423...|[The story moves ...|     $28.6M|    0|      0|            0|        0|    0|  0|          0|      0|      0|     0|      0|    0|      0|        0|                 0|    0|     0|     1|      0|        0|      666.0|        7.0|         844.0|        0.0|         8.0|                    0.0|        1192.0|           907.0|                     780.0|                      49.0|            1154.0|          6.0|               1.0|           294.0|             1040.0|            262.0|[0.9457814161033032]|   [8.0]|[0.16981210200718...|\n",
            "|      28 Weeks Later|Mystery & thriller|Juan Carlos Fresn...|False|15000000|               en|In this chilling ...| 12.884191|[{'name': 'DNA Fi...|[{'iso_3166_1': '...|  2007-04-26|  100.0|         6.5|      1225|$28.61000000-6423...|[The story moves ...|     $28.6M|    0|      0|            0|        0|    0|  0|          0|      0|      0|     0|      0|    0|      0|        0|                 1|    0|     0|     0|      0|        0|      666.0|        2.0|         844.0|        0.0|         8.0|                    0.0|        1192.0|           907.0|                     780.0|                      49.0|            1154.0|          6.0|               1.0|           294.0|             1040.0|            262.0|[0.9457814161033032]|   [8.0]|[0.16981210200718...|\n",
            "|       3 Generations|            Comedy|         Gaby Dellal|False| 5000000|               en|A teenager transi...|  4.626438|[{'name': 'IM Glo...|[{'iso_3166_1': '...|  2016-02-11|   87.0|         6.1|        75|    $66.41000-443962|[In the hands of ...|     $66.4K|    0|      0|            0|        0|    0|  0|          0|      0|      0|     0|      0|    0|      0|        0|                 0|    0|     0|     0|      0|        0|      195.0|        1.0|         532.0|        0.0|        17.0|                    0.0|         273.0|           487.0|                     352.0|                       0.0|             795.0|         33.0|               2.0|            70.0|              624.0|            678.0|[0.22518605145316...|  [17.0]|[0.3608507167652582]|\n",
            "|       3 Generations|             Drama|         Gaby Dellal|False| 5000000|               en|A teenager transi...|  4.626438|[{'name': 'IM Glo...|[{'iso_3166_1': '...|  2016-02-11|   87.0|         6.1|        75|    $66.41000-443962|[In the hands of ...|     $66.4K|    0|      0|            0|        0|    1|  0|          0|      0|      0|     0|      0|    0|      0|        0|                 0|    0|     0|     0|      0|        0|      195.0|        0.0|         532.0|        0.0|        17.0|                    0.0|         273.0|           487.0|                     352.0|                       0.0|             795.0|         33.0|               2.0|            70.0|              624.0|            678.0|[0.22518605145316...|  [17.0]|[0.3608507167652582]|\n",
            "|       3 Generations|            Lgbtq+|         Gaby Dellal|False| 5000000|               en|A teenager transi...|  4.626438|[{'name': 'IM Glo...|[{'iso_3166_1': '...|  2016-02-11|   87.0|         6.1|        75|    $66.41000-443962|[In the hands of ...|     $66.4K|    0|      0|            0|        0|    0|  0|          0|      0|      0|     1|      0|    0|      0|        0|                 0|    0|     0|     0|      0|        0|      195.0|       16.0|         532.0|        0.0|        17.0|                    0.0|         273.0|           487.0|                     352.0|                       0.0|             795.0|         33.0|               2.0|            70.0|              624.0|            678.0|[0.22518605145316...|  [17.0]|[0.3608507167652582]|\n",
            "|  30 Minutes or Less|            Comedy|     Ruben Fleischer|False|28000000|               en|Two fledgling cri...|  9.763493|[{'name': 'Columb...|[{'iso_3166_1': '...|  2011-08-11|   83.0|         5.6|       537|$37.11000000-4054...|[The comedy reach...|     $37.1M|    0|      0|            0|        0|    0|  0|          0|      0|      0|     0|      0|    0|      0|        0|                 0|    0|     0|     0|      0|        0|      668.0|        1.0|          60.0|        0.0|        16.0|                    0.0|        1489.0|          1580.0|                       2.0|                     217.0|            1245.0|         39.0|              13.0|           927.0|             1165.0|            622.0|[2.9821067099583742]|  [16.0]|[0.33962420401436...|\n",
            "|  30 Minutes or Less|            Action|     Ruben Fleischer|False|28000000|               en|Two fledgling cri...|  9.763493|[{'name': 'Columb...|[{'iso_3166_1': '...|  2011-08-11|   83.0|         5.6|       537|$37.11000000-4054...|[The comedy reach...|     $37.1M|    0|      0|            0|        0|    0|  0|          0|      0|      0|     0|      0|    0|      0|        0|                 0|    0|     0|     0|      0|        0|      668.0|        3.0|          60.0|        0.0|        16.0|                    0.0|        1489.0|          1580.0|                       2.0|                     217.0|            1245.0|         39.0|              13.0|           927.0|             1165.0|            622.0|[2.9821067099583742]|  [16.0]|[0.33962420401436...|\n",
            "+--------------------+------------------+--------------------+-----+--------+-----------------+--------------------+----------+--------------------+--------------------+------------+-------+------------+----------+--------------------+--------------------+-----------+-----+-------+-------------+---------+-----+---+-----------+-------+-------+------+-------+-----+-------+---------+------------------+-----+------+------+-------+---------+-----------+-----------+--------------+-----------+------------+-----------------------+--------------+----------------+--------------------------+--------------------------+------------------+-------------+------------------+----------------+-------------------+-----------------+--------------------+--------+--------------------+\n",
            "only showing top 20 rows\n",
            "\n"
          ]
        }
      ]
    },
    {
      "cell_type": "code",
      "source": [
        "df5_copy.show()"
      ],
      "metadata": {
        "colab": {
          "base_uri": "https://localhost:8080/"
        },
        "id": "juVjsRtkHe84",
        "outputId": "8d3e576e-f2b1-465b-e34c-8919fd975ac9"
      },
      "execution_count": null,
      "outputs": [
        {
          "output_type": "stream",
          "name": "stdout",
          "text": [
            "+--------------------+------------------+--------------------+-----+--------+-----------------+--------------------+----------+--------------------+--------------------+------------+-------+------------+----------+--------------------+--------------------+-----------+-----+-------+-------------+---------+-----+---+-----------+-------+-------+------+-------+-----+-------+---------+------------------+-----+------+------+-------+---------+-----------+-----------+--------------+-----------+------------+-----------------------+--------------+----------------+--------------------------+--------------------------+------------------+-------------+------------------+----------------+-------------------+-----------------+--------------------+--------------------+\n",
            "|               title|             genre|            director|adult|  budget|original_language|            overview|popularity|production_companies|production_countries|release_date|runtime|vote_average|vote_count|       total_revenue|             reviews|before_dash|Crime|Romance|Kids & family|Adventure|Drama|War|Documentary|Fantasy|Holiday|Lgbtq+|History|Anime|Musical|Animation|Mystery & thriller|Music|Sci-fi|Horror|Western|Biography|title_INDEX|genre_INDEX|director_INDEX|adult_INDEX|budget_INDEX|original_language_INDEX|overview_INDEX|popularity_INDEX|production_companies_INDEX|production_countries_INDEX|release_date_INDEX|runtime_INDEX|vote_average_INDEX|vote_count_INDEX|total_revenue_INDEX|before_dash_INDEX|     scaledVoteCount|        scaledBudget|\n",
            "+--------------------+------------------+--------------------+-----+--------+-----------------+--------------------+----------+--------------------+--------------------+------------+-------+------------+----------+--------------------+--------------------+-----------+-----+-------+-------------+---------+-----+---+-----------+-------+-------+------+-------+-----+-------+---------+------------------+-----+------+------+-------+---------+-----------+-----------+--------------+-----------+------------+-----------------------+--------------+----------------+--------------------------+--------------------------+------------------+-------------+------------------+----------------+-------------------+-----------------+--------------------+--------------------+\n",
            "|    12 Years a Slave|           History|       Steve McQueen|False|20000000|               en|In the pre-Civil ...| 30.316249|[{'name': 'Plan B...|[{'iso_3166_1': '...|  2013-10-18|  134.0|         7.9|      3787|$56.71000000-1870...|[Piercing and hea...|     $56.7M|    0|      0|            0|        0|    0|  0|          0|      0|      0|     0|      1|    0|      0|        0|                 0|    0|     0|     0|      0|        0|      189.0|       11.0|         452.0|        0.0|         2.0|                    0.0|         460.0|           473.0|                     467.0|                      14.0|             104.0|         42.0|              31.0|           588.0|              587.0|            164.0|[1.8915628322066065]|[0.04245302550179...|\n",
            "|    12 Years a Slave|             Drama|       Steve McQueen|False|20000000|               en|In the pre-Civil ...| 30.316249|[{'name': 'Plan B...|[{'iso_3166_1': '...|  2013-10-18|  134.0|         7.9|      3787|$56.71000000-1870...|[Piercing and hea...|     $56.7M|    0|      0|            0|        0|    1|  0|          0|      0|      0|     0|      0|    0|      0|        0|                 0|    0|     0|     0|      0|        0|      189.0|        0.0|         452.0|        0.0|         2.0|                    0.0|         460.0|           473.0|                     467.0|                      14.0|             104.0|         42.0|              31.0|           588.0|              587.0|            164.0|[1.8915628322066065]|[0.04245302550179...|\n",
            "|    12 Years a Slave|         Biography|       Steve McQueen|False|20000000|               en|In the pre-Civil ...| 30.316249|[{'name': 'Plan B...|[{'iso_3166_1': '...|  2013-10-18|  134.0|         7.9|      3787|$56.71000000-1870...|[Piercing and hea...|     $56.7M|    0|      0|            0|        0|    0|  0|          0|      0|      0|     0|      0|    0|      0|        0|                 0|    0|     0|     0|      0|        1|      189.0|       12.0|         452.0|        0.0|         2.0|                    0.0|         460.0|           473.0|                     467.0|                      14.0|             104.0|         42.0|              31.0|           588.0|              587.0|            164.0|[1.8915628322066065]|[0.04245302550179...|\n",
            "|          13 Minutes|           History| Oliver Hirschbiegel|False|       0|               de|The breath-taking...|  4.969851|[{'name': 'Lucky ...|[{'iso_3166_1': '...|  2015-04-09|  114.0|         7.0|        63|   $161.21000-147315|[Elser is an ocea...|    $161.2K|    0|      0|            0|        0|    0|  0|          0|      0|      0|     0|      1|    0|      0|        0|                 0|    0|     0|     0|      0|        0|      192.0|       11.0|         122.0|        0.0|         0.0|                    3.0|         558.0|           491.0|                     393.0|                      21.0|             208.0|         22.0|              10.0|            12.0|              320.0|            525.0|[0.03860332310625...|               [0.0]|\n",
            "|          13 Minutes|             Drama| Oliver Hirschbiegel|False|       0|               de|The breath-taking...|  4.969851|[{'name': 'Lucky ...|[{'iso_3166_1': '...|  2015-04-09|  114.0|         7.0|        63|   $161.21000-147315|[Elser is an ocea...|    $161.2K|    0|      0|            0|        0|    1|  0|          0|      0|      0|     0|      0|    0|      0|        0|                 0|    0|     0|     0|      0|        0|      192.0|        0.0|         122.0|        0.0|         0.0|                    3.0|         558.0|           491.0|                     393.0|                      21.0|             208.0|         22.0|              10.0|            12.0|              320.0|            525.0|[0.03860332310625...|               [0.0]|\n",
            "|          13 Minutes|         Biography| Oliver Hirschbiegel|False|       0|               de|The breath-taking...|  4.969851|[{'name': 'Lucky ...|[{'iso_3166_1': '...|  2015-04-09|  114.0|         7.0|        63|   $161.21000-147315|[Elser is an ocea...|    $161.2K|    0|      0|            0|        0|    0|  0|          0|      0|      0|     0|      0|    0|      0|        0|                 0|    0|     0|     0|      0|        1|      192.0|       12.0|         122.0|        0.0|         0.0|                    3.0|         558.0|           491.0|                     393.0|                      21.0|             208.0|         22.0|              10.0|            12.0|              320.0|            525.0|[0.03860332310625...|               [0.0]|\n",
            "|                1408|            Horror|     Mikael Håfström|False|25000000|               en|A man who special...|  9.196884|[{'name': 'The We...|[{'iso_3166_1': '...|  2007-07-12|  104.0|         6.5|      1372|$72.01000000-9467...|[Directed in a st...|     $72.0M|    0|      0|            0|        0|    0|  0|          0|      0|      0|     0|      0|    0|      0|        0|                 0|    0|     0|     1|      0|        0|      659.0|        7.0|          75.0|        0.0|         5.0|                    0.0|         767.0|          1536.0|                    1229.0|                       0.0|            1158.0|         14.0|               1.0|           740.0|             1440.0|            460.0|[2.3805382582191985]|[0.10613256375448...|\n",
            "|                1408|Mystery & thriller|     Mikael Håfström|False|25000000|               en|A man who special...|  9.196884|[{'name': 'The We...|[{'iso_3166_1': '...|  2007-07-12|  104.0|         6.5|      1372|$72.01000000-9467...|[Directed in a st...|     $72.0M|    0|      0|            0|        0|    0|  0|          0|      0|      0|     0|      0|    0|      0|        0|                 1|    0|     0|     0|      0|        0|      659.0|        2.0|          75.0|        0.0|         5.0|                    0.0|         767.0|          1536.0|                    1229.0|                       0.0|            1158.0|         14.0|               1.0|           740.0|             1440.0|            460.0|[2.3805382582191985]|[0.10613256375448...|\n",
            "|    2 Fast 2 Furious|            Action|      John Singleton|False|76000000|               en|\"It's a major dou...|   2.32462|[{'name': 'Mikona...|[{'iso_3166_1': '...|  2003-06-05|  107.0|         6.2|      2087|$127.11000000-236...|[2 Fast 2 Furious...|    $127.1M|    0|      0|            0|        0|    0|  0|          0|      0|      0|     0|      0|    0|      0|        0|                 0|    0|     0|     0|      0|        0|     1604.0|        3.0|         115.0|        0.0|       100.0|                    0.0|        1613.0|          1910.0|                    1669.0|                       0.0|            1580.0|         15.0|               7.0|          1054.0|             1622.0|           1104.0| [3.390658546166264]| [2.122651275089754]|\n",
            "|24 Hour Party People|            Comedy|Michael Winterbottom|False|       0|               en|In 1976, Tony Wil...| 12.655728|[{'name': 'United...|[{'iso_3166_1': '...|  2002-02-13|  117.0|         6.8|       109|       $1.11000000-0|[\"Tony Wilson's a...|      $1.1M|    0|      0|            0|        0|    0|  0|          0|      0|      0|     0|      0|    0|      0|        0|                 0|    0|     0|     0|      0|        0|      662.0|        1.0|         165.0|        0.0|         0.0|                    0.0|        1145.0|           893.0|                    1282.0|                       2.0|             997.0|         28.0|              12.0|            72.0|                0.0|              0.0|[0.23161993863754...|               [0.0]|\n",
            "|24 Hour Party People|             Drama|Michael Winterbottom|False|       0|               en|In 1976, Tony Wil...| 12.655728|[{'name': 'United...|[{'iso_3166_1': '...|  2002-02-13|  117.0|         6.8|       109|       $1.11000000-0|[\"Tony Wilson's a...|      $1.1M|    0|      0|            0|        0|    1|  0|          0|      0|      0|     0|      0|    0|      0|        0|                 0|    0|     0|     0|      0|        0|      662.0|        0.0|         165.0|        0.0|         0.0|                    0.0|        1145.0|           893.0|                    1282.0|                       2.0|             997.0|         28.0|              12.0|            72.0|                0.0|              0.0|[0.23161993863754...|               [0.0]|\n",
            "|          27 Dresses|           Romance|       Anne Fletcher|False|30000000|               en|Altruistic Jane f...| 10.342202|[{'name': 'Spygla...|[{'iso_3166_1': '...|  2008-01-10|  111.0|         6.1|      1013|$76.81000000-1602...|[Lacks the wicked...|     $76.8M|    0|      1|            0|        0|    0|  0|          0|      0|      0|     0|      0|    0|      0|        0|                 0|    0|     0|     0|      0|        0|      663.0|        5.0|         252.0|        0.0|         1.0|                    0.0|         906.0|           770.0|                    1198.0|                       0.0|            1177.0|         26.0|               2.0|           701.0|             1455.0|           1016.0|[2.2550774581238624]|[0.02122651275089...|\n",
            "|          27 Dresses|            Comedy|       Anne Fletcher|False|30000000|               en|Altruistic Jane f...| 10.342202|[{'name': 'Spygla...|[{'iso_3166_1': '...|  2008-01-10|  111.0|         6.1|      1013|$76.81000000-1602...|[Lacks the wicked...|     $76.8M|    0|      0|            0|        0|    0|  0|          0|      0|      0|     0|      0|    0|      0|        0|                 0|    0|     0|     0|      0|        0|      663.0|        1.0|         252.0|        0.0|         1.0|                    0.0|         906.0|           770.0|                    1198.0|                       0.0|            1177.0|         26.0|               2.0|           701.0|             1455.0|           1016.0|[2.2550774581238624]|[0.02122651275089...|\n",
            "|      28 Weeks Later|            Horror|Juan Carlos Fresn...|False|15000000|               en|In this chilling ...| 12.884191|[{'name': 'DNA Fi...|[{'iso_3166_1': '...|  2007-04-26|  100.0|         6.5|      1225|$28.61000000-6423...|[The story moves ...|     $28.6M|    0|      0|            0|        0|    0|  0|          0|      0|      0|     0|      0|    0|      0|        0|                 0|    0|     0|     1|      0|        0|      666.0|        7.0|         844.0|        0.0|         8.0|                    0.0|        1192.0|           907.0|                     780.0|                      49.0|            1154.0|          6.0|               1.0|           294.0|             1040.0|            262.0|[0.9457814161033032]|[0.16981210200718...|\n",
            "|      28 Weeks Later|Mystery & thriller|Juan Carlos Fresn...|False|15000000|               en|In this chilling ...| 12.884191|[{'name': 'DNA Fi...|[{'iso_3166_1': '...|  2007-04-26|  100.0|         6.5|      1225|$28.61000000-6423...|[The story moves ...|     $28.6M|    0|      0|            0|        0|    0|  0|          0|      0|      0|     0|      0|    0|      0|        0|                 1|    0|     0|     0|      0|        0|      666.0|        2.0|         844.0|        0.0|         8.0|                    0.0|        1192.0|           907.0|                     780.0|                      49.0|            1154.0|          6.0|               1.0|           294.0|             1040.0|            262.0|[0.9457814161033032]|[0.16981210200718...|\n",
            "|       3 Generations|            Comedy|         Gaby Dellal|False| 5000000|               en|A teenager transi...|  4.626438|[{'name': 'IM Glo...|[{'iso_3166_1': '...|  2016-02-11|   87.0|         6.1|        75|    $66.41000-443962|[In the hands of ...|     $66.4K|    0|      0|            0|        0|    0|  0|          0|      0|      0|     0|      0|    0|      0|        0|                 0|    0|     0|     0|      0|        0|      195.0|        1.0|         532.0|        0.0|        17.0|                    0.0|         273.0|           487.0|                     352.0|                       0.0|             795.0|         33.0|               2.0|            70.0|              624.0|            678.0|[0.22518605145316...|[0.3608507167652582]|\n",
            "|       3 Generations|             Drama|         Gaby Dellal|False| 5000000|               en|A teenager transi...|  4.626438|[{'name': 'IM Glo...|[{'iso_3166_1': '...|  2016-02-11|   87.0|         6.1|        75|    $66.41000-443962|[In the hands of ...|     $66.4K|    0|      0|            0|        0|    1|  0|          0|      0|      0|     0|      0|    0|      0|        0|                 0|    0|     0|     0|      0|        0|      195.0|        0.0|         532.0|        0.0|        17.0|                    0.0|         273.0|           487.0|                     352.0|                       0.0|             795.0|         33.0|               2.0|            70.0|              624.0|            678.0|[0.22518605145316...|[0.3608507167652582]|\n",
            "|       3 Generations|            Lgbtq+|         Gaby Dellal|False| 5000000|               en|A teenager transi...|  4.626438|[{'name': 'IM Glo...|[{'iso_3166_1': '...|  2016-02-11|   87.0|         6.1|        75|    $66.41000-443962|[In the hands of ...|     $66.4K|    0|      0|            0|        0|    0|  0|          0|      0|      0|     1|      0|    0|      0|        0|                 0|    0|     0|     0|      0|        0|      195.0|       16.0|         532.0|        0.0|        17.0|                    0.0|         273.0|           487.0|                     352.0|                       0.0|             795.0|         33.0|               2.0|            70.0|              624.0|            678.0|[0.22518605145316...|[0.3608507167652582]|\n",
            "|  30 Minutes or Less|            Comedy|     Ruben Fleischer|False|28000000|               en|Two fledgling cri...|  9.763493|[{'name': 'Columb...|[{'iso_3166_1': '...|  2011-08-11|   83.0|         5.6|       537|$37.11000000-4054...|[The comedy reach...|     $37.1M|    0|      0|            0|        0|    0|  0|          0|      0|      0|     0|      0|    0|      0|        0|                 0|    0|     0|     0|      0|        0|      668.0|        1.0|          60.0|        0.0|        16.0|                    0.0|        1489.0|          1580.0|                       2.0|                     217.0|            1245.0|         39.0|              13.0|           927.0|             1165.0|            622.0|[2.9821067099583742]|[0.33962420401436...|\n",
            "|  30 Minutes or Less|            Action|     Ruben Fleischer|False|28000000|               en|Two fledgling cri...|  9.763493|[{'name': 'Columb...|[{'iso_3166_1': '...|  2011-08-11|   83.0|         5.6|       537|$37.11000000-4054...|[The comedy reach...|     $37.1M|    0|      0|            0|        0|    0|  0|          0|      0|      0|     0|      0|    0|      0|        0|                 0|    0|     0|     0|      0|        0|      668.0|        3.0|          60.0|        0.0|        16.0|                    0.0|        1489.0|          1580.0|                       2.0|                     217.0|            1245.0|         39.0|              13.0|           927.0|             1165.0|            622.0|[2.9821067099583742]|[0.33962420401436...|\n",
            "+--------------------+------------------+--------------------+-----+--------+-----------------+--------------------+----------+--------------------+--------------------+------------+-------+------------+----------+--------------------+--------------------+-----------+-----+-------+-------------+---------+-----+---+-----------+-------+-------+------+-------+-----+-------+---------+------------------+-----+------+------+-------+---------+-----------+-----------+--------------+-----------+------------+-----------------------+--------------+----------------+--------------------------+--------------------------+------------------+-------------+------------------+----------------+-------------------+-----------------+--------------------+--------------------+\n",
            "only showing top 20 rows\n",
            "\n"
          ]
        }
      ]
    },
    {
      "cell_type": "code",
      "source": [
        "inputCol = \"production_companies_INDEX\"\n",
        "assembler = VectorAssembler(inputCols=[inputCol], outputCol=\"features\")\n",
        "scaler = StandardScaler(inputCol=\"features\", outputCol=\"scaledProduction_companies\")\n",
        "stages = [assembler, scaler]\n",
        "pipeline = Pipeline(stages=stages)\n",
        "pipelineModel = pipeline.fit(df5_copy)\n",
        "df5_copy = pipelineModel.transform(df5_copy)\n",
        "df5_copy.show()"
      ],
      "metadata": {
        "colab": {
          "base_uri": "https://localhost:8080/"
        },
        "id": "SwYvgRJwMeUN",
        "outputId": "e57ab465-720f-42ce-ea13-a713b5ed853a"
      },
      "execution_count": null,
      "outputs": [
        {
          "output_type": "stream",
          "name": "stdout",
          "text": [
            "+--------------------+------------------+--------------------+-----+--------+-----------------+--------------------+----------+--------------------+--------------------+------------+-------+------------+----------+--------------------+--------------------+-----------+-----+-------+-------------+---------+-----+---+-----------+-------+-------+------+-------+-----+-------+---------+------------------+-----+------+------+-------+---------+-----------+-----------+--------------+-----------+------------+-----------------------+--------------+----------------+--------------------------+--------------------------+------------------+-------------+------------------+----------------+-------------------+-----------------+--------------------+--------------------+--------+--------------------------+\n",
            "|               title|             genre|            director|adult|  budget|original_language|            overview|popularity|production_companies|production_countries|release_date|runtime|vote_average|vote_count|       total_revenue|             reviews|before_dash|Crime|Romance|Kids & family|Adventure|Drama|War|Documentary|Fantasy|Holiday|Lgbtq+|History|Anime|Musical|Animation|Mystery & thriller|Music|Sci-fi|Horror|Western|Biography|title_INDEX|genre_INDEX|director_INDEX|adult_INDEX|budget_INDEX|original_language_INDEX|overview_INDEX|popularity_INDEX|production_companies_INDEX|production_countries_INDEX|release_date_INDEX|runtime_INDEX|vote_average_INDEX|vote_count_INDEX|total_revenue_INDEX|before_dash_INDEX|     scaledVoteCount|        scaledBudget|features|scaledProduction_companies|\n",
            "+--------------------+------------------+--------------------+-----+--------+-----------------+--------------------+----------+--------------------+--------------------+------------+-------+------------+----------+--------------------+--------------------+-----------+-----+-------+-------------+---------+-----+---+-----------+-------+-------+------+-------+-----+-------+---------+------------------+-----+------+------+-------+---------+-----------+-----------+--------------+-----------+------------+-----------------------+--------------+----------------+--------------------------+--------------------------+------------------+-------------+------------------+----------------+-------------------+-----------------+--------------------+--------------------+--------+--------------------------+\n",
            "|    12 Years a Slave|           History|       Steve McQueen|False|20000000|               en|In the pre-Civil ...| 30.316249|[{'name': 'Plan B...|[{'iso_3166_1': '...|  2013-10-18|  134.0|         7.9|      3787|$56.71000000-1870...|[Piercing and hea...|     $56.7M|    0|      0|            0|        0|    0|  0|          0|      0|      0|     0|      1|    0|      0|        0|                 0|    0|     0|     0|      0|        0|      189.0|       11.0|         452.0|        0.0|         2.0|                    0.0|         460.0|           473.0|                     467.0|                      14.0|             104.0|         42.0|              31.0|           588.0|              587.0|            164.0|[1.8915628322066065]|[0.04245302550179...| [467.0]|      [0.8494167355638056]|\n",
            "|    12 Years a Slave|             Drama|       Steve McQueen|False|20000000|               en|In the pre-Civil ...| 30.316249|[{'name': 'Plan B...|[{'iso_3166_1': '...|  2013-10-18|  134.0|         7.9|      3787|$56.71000000-1870...|[Piercing and hea...|     $56.7M|    0|      0|            0|        0|    1|  0|          0|      0|      0|     0|      0|    0|      0|        0|                 0|    0|     0|     0|      0|        0|      189.0|        0.0|         452.0|        0.0|         2.0|                    0.0|         460.0|           473.0|                     467.0|                      14.0|             104.0|         42.0|              31.0|           588.0|              587.0|            164.0|[1.8915628322066065]|[0.04245302550179...| [467.0]|      [0.8494167355638056]|\n",
            "|    12 Years a Slave|         Biography|       Steve McQueen|False|20000000|               en|In the pre-Civil ...| 30.316249|[{'name': 'Plan B...|[{'iso_3166_1': '...|  2013-10-18|  134.0|         7.9|      3787|$56.71000000-1870...|[Piercing and hea...|     $56.7M|    0|      0|            0|        0|    0|  0|          0|      0|      0|     0|      0|    0|      0|        0|                 0|    0|     0|     0|      0|        1|      189.0|       12.0|         452.0|        0.0|         2.0|                    0.0|         460.0|           473.0|                     467.0|                      14.0|             104.0|         42.0|              31.0|           588.0|              587.0|            164.0|[1.8915628322066065]|[0.04245302550179...| [467.0]|      [0.8494167355638056]|\n",
            "|          13 Minutes|           History| Oliver Hirschbiegel|False|       0|               de|The breath-taking...|  4.969851|[{'name': 'Lucky ...|[{'iso_3166_1': '...|  2015-04-09|  114.0|         7.0|        63|   $161.21000-147315|[Elser is an ocea...|    $161.2K|    0|      0|            0|        0|    0|  0|          0|      0|      0|     0|      1|    0|      0|        0|                 0|    0|     0|     0|      0|        0|      192.0|       11.0|         122.0|        0.0|         0.0|                    3.0|         558.0|           491.0|                     393.0|                      21.0|             208.0|         22.0|              10.0|            12.0|              320.0|            525.0|[0.03860332310625...|               [0.0]| [393.0]|       [0.714819651127571]|\n",
            "|          13 Minutes|             Drama| Oliver Hirschbiegel|False|       0|               de|The breath-taking...|  4.969851|[{'name': 'Lucky ...|[{'iso_3166_1': '...|  2015-04-09|  114.0|         7.0|        63|   $161.21000-147315|[Elser is an ocea...|    $161.2K|    0|      0|            0|        0|    1|  0|          0|      0|      0|     0|      0|    0|      0|        0|                 0|    0|     0|     0|      0|        0|      192.0|        0.0|         122.0|        0.0|         0.0|                    3.0|         558.0|           491.0|                     393.0|                      21.0|             208.0|         22.0|              10.0|            12.0|              320.0|            525.0|[0.03860332310625...|               [0.0]| [393.0]|       [0.714819651127571]|\n",
            "|          13 Minutes|         Biography| Oliver Hirschbiegel|False|       0|               de|The breath-taking...|  4.969851|[{'name': 'Lucky ...|[{'iso_3166_1': '...|  2015-04-09|  114.0|         7.0|        63|   $161.21000-147315|[Elser is an ocea...|    $161.2K|    0|      0|            0|        0|    0|  0|          0|      0|      0|     0|      0|    0|      0|        0|                 0|    0|     0|     0|      0|        1|      192.0|       12.0|         122.0|        0.0|         0.0|                    3.0|         558.0|           491.0|                     393.0|                      21.0|             208.0|         22.0|              10.0|            12.0|              320.0|            525.0|[0.03860332310625...|               [0.0]| [393.0]|       [0.714819651127571]|\n",
            "|                1408|            Horror|     Mikael Håfström|False|25000000|               en|A man who special...|  9.196884|[{'name': 'The We...|[{'iso_3166_1': '...|  2007-07-12|  104.0|         6.5|      1372|$72.01000000-9467...|[Directed in a st...|     $72.0M|    0|      0|            0|        0|    0|  0|          0|      0|      0|     0|      0|    0|      0|        0|                 0|    0|     0|     1|      0|        0|      659.0|        7.0|          75.0|        0.0|         5.0|                    0.0|         767.0|          1536.0|                    1229.0|                       0.0|            1158.0|         14.0|               1.0|           740.0|             1440.0|            460.0|[2.3805382582191985]|[0.10613256375448...|[1229.0]|      [2.2354029293531417]|\n",
            "|                1408|Mystery & thriller|     Mikael Håfström|False|25000000|               en|A man who special...|  9.196884|[{'name': 'The We...|[{'iso_3166_1': '...|  2007-07-12|  104.0|         6.5|      1372|$72.01000000-9467...|[Directed in a st...|     $72.0M|    0|      0|            0|        0|    0|  0|          0|      0|      0|     0|      0|    0|      0|        0|                 1|    0|     0|     0|      0|        0|      659.0|        2.0|          75.0|        0.0|         5.0|                    0.0|         767.0|          1536.0|                    1229.0|                       0.0|            1158.0|         14.0|               1.0|           740.0|             1440.0|            460.0|[2.3805382582191985]|[0.10613256375448...|[1229.0]|      [2.2354029293531417]|\n",
            "|    2 Fast 2 Furious|            Action|      John Singleton|False|76000000|               en|\"It's a major dou...|   2.32462|[{'name': 'Mikona...|[{'iso_3166_1': '...|  2003-06-05|  107.0|         6.2|      2087|$127.11000000-236...|[2 Fast 2 Furious...|    $127.1M|    0|      0|            0|        0|    0|  0|          0|      0|      0|     0|      0|    0|      0|        0|                 0|    0|     0|     0|      0|        0|     1604.0|        3.0|         115.0|        0.0|       100.0|                    0.0|        1613.0|          1910.0|                    1669.0|                       0.0|            1580.0|         15.0|               7.0|          1054.0|             1622.0|           1104.0| [3.390658546166264]| [2.122651275089754]|[1669.0]|      [3.0357099178929157]|\n",
            "|24 Hour Party People|            Comedy|Michael Winterbottom|False|       0|               en|In 1976, Tony Wil...| 12.655728|[{'name': 'United...|[{'iso_3166_1': '...|  2002-02-13|  117.0|         6.8|       109|       $1.11000000-0|[\"Tony Wilson's a...|      $1.1M|    0|      0|            0|        0|    0|  0|          0|      0|      0|     0|      0|    0|      0|        0|                 0|    0|     0|     0|      0|        0|      662.0|        1.0|         165.0|        0.0|         0.0|                    0.0|        1145.0|           893.0|                    1282.0|                       2.0|             997.0|         28.0|              12.0|            72.0|                0.0|              0.0|[0.23161993863754...|               [0.0]|[1282.0]|      [2.3318035438817963]|\n",
            "|24 Hour Party People|             Drama|Michael Winterbottom|False|       0|               en|In 1976, Tony Wil...| 12.655728|[{'name': 'United...|[{'iso_3166_1': '...|  2002-02-13|  117.0|         6.8|       109|       $1.11000000-0|[\"Tony Wilson's a...|      $1.1M|    0|      0|            0|        0|    1|  0|          0|      0|      0|     0|      0|    0|      0|        0|                 0|    0|     0|     0|      0|        0|      662.0|        0.0|         165.0|        0.0|         0.0|                    0.0|        1145.0|           893.0|                    1282.0|                       2.0|             997.0|         28.0|              12.0|            72.0|                0.0|              0.0|[0.23161993863754...|               [0.0]|[1282.0]|      [2.3318035438817963]|\n",
            "|          27 Dresses|           Romance|       Anne Fletcher|False|30000000|               en|Altruistic Jane f...| 10.342202|[{'name': 'Spygla...|[{'iso_3166_1': '...|  2008-01-10|  111.0|         6.1|      1013|$76.81000000-1602...|[Lacks the wicked...|     $76.8M|    0|      1|            0|        0|    0|  0|          0|      0|      0|     0|      0|    0|      0|        0|                 0|    0|     0|     0|      0|        0|      663.0|        5.0|         252.0|        0.0|         1.0|                    0.0|         906.0|           770.0|                    1198.0|                       0.0|            1177.0|         26.0|               2.0|           701.0|             1455.0|           1016.0|[2.2550774581238624]|[0.02122651275089...|[1198.0]|      [2.1790176642514756]|\n",
            "|          27 Dresses|            Comedy|       Anne Fletcher|False|30000000|               en|Altruistic Jane f...| 10.342202|[{'name': 'Spygla...|[{'iso_3166_1': '...|  2008-01-10|  111.0|         6.1|      1013|$76.81000000-1602...|[Lacks the wicked...|     $76.8M|    0|      0|            0|        0|    0|  0|          0|      0|      0|     0|      0|    0|      0|        0|                 0|    0|     0|     0|      0|        0|      663.0|        1.0|         252.0|        0.0|         1.0|                    0.0|         906.0|           770.0|                    1198.0|                       0.0|            1177.0|         26.0|               2.0|           701.0|             1455.0|           1016.0|[2.2550774581238624]|[0.02122651275089...|[1198.0]|      [2.1790176642514756]|\n",
            "|      28 Weeks Later|            Horror|Juan Carlos Fresn...|False|15000000|               en|In this chilling ...| 12.884191|[{'name': 'DNA Fi...|[{'iso_3166_1': '...|  2007-04-26|  100.0|         6.5|      1225|$28.61000000-6423...|[The story moves ...|     $28.6M|    0|      0|            0|        0|    0|  0|          0|      0|      0|     0|      0|    0|      0|        0|                 0|    0|     0|     1|      0|        0|      666.0|        7.0|         844.0|        0.0|         8.0|                    0.0|        1192.0|           907.0|                     780.0|                      49.0|            1154.0|          6.0|               1.0|           294.0|             1040.0|            262.0|[0.9457814161033032]|[0.16981210200718...| [780.0]|      [1.4187260251386904]|\n",
            "|      28 Weeks Later|Mystery & thriller|Juan Carlos Fresn...|False|15000000|               en|In this chilling ...| 12.884191|[{'name': 'DNA Fi...|[{'iso_3166_1': '...|  2007-04-26|  100.0|         6.5|      1225|$28.61000000-6423...|[The story moves ...|     $28.6M|    0|      0|            0|        0|    0|  0|          0|      0|      0|     0|      0|    0|      0|        0|                 1|    0|     0|     0|      0|        0|      666.0|        2.0|         844.0|        0.0|         8.0|                    0.0|        1192.0|           907.0|                     780.0|                      49.0|            1154.0|          6.0|               1.0|           294.0|             1040.0|            262.0|[0.9457814161033032]|[0.16981210200718...| [780.0]|      [1.4187260251386904]|\n",
            "|       3 Generations|            Comedy|         Gaby Dellal|False| 5000000|               en|A teenager transi...|  4.626438|[{'name': 'IM Glo...|[{'iso_3166_1': '...|  2016-02-11|   87.0|         6.1|        75|    $66.41000-443962|[In the hands of ...|     $66.4K|    0|      0|            0|        0|    0|  0|          0|      0|      0|     0|      0|    0|      0|        0|                 0|    0|     0|     0|      0|        0|      195.0|        1.0|         532.0|        0.0|        17.0|                    0.0|         273.0|           487.0|                     352.0|                       0.0|             795.0|         33.0|               2.0|            70.0|              624.0|            678.0|[0.22518605145316...|[0.3608507167652582]| [352.0]|      [0.6402455908318192]|\n",
            "|       3 Generations|             Drama|         Gaby Dellal|False| 5000000|               en|A teenager transi...|  4.626438|[{'name': 'IM Glo...|[{'iso_3166_1': '...|  2016-02-11|   87.0|         6.1|        75|    $66.41000-443962|[In the hands of ...|     $66.4K|    0|      0|            0|        0|    1|  0|          0|      0|      0|     0|      0|    0|      0|        0|                 0|    0|     0|     0|      0|        0|      195.0|        0.0|         532.0|        0.0|        17.0|                    0.0|         273.0|           487.0|                     352.0|                       0.0|             795.0|         33.0|               2.0|            70.0|              624.0|            678.0|[0.22518605145316...|[0.3608507167652582]| [352.0]|      [0.6402455908318192]|\n",
            "|       3 Generations|            Lgbtq+|         Gaby Dellal|False| 5000000|               en|A teenager transi...|  4.626438|[{'name': 'IM Glo...|[{'iso_3166_1': '...|  2016-02-11|   87.0|         6.1|        75|    $66.41000-443962|[In the hands of ...|     $66.4K|    0|      0|            0|        0|    0|  0|          0|      0|      0|     1|      0|    0|      0|        0|                 0|    0|     0|     0|      0|        0|      195.0|       16.0|         532.0|        0.0|        17.0|                    0.0|         273.0|           487.0|                     352.0|                       0.0|             795.0|         33.0|               2.0|            70.0|              624.0|            678.0|[0.22518605145316...|[0.3608507167652582]| [352.0]|      [0.6402455908318192]|\n",
            "|  30 Minutes or Less|            Comedy|     Ruben Fleischer|False|28000000|               en|Two fledgling cri...|  9.763493|[{'name': 'Columb...|[{'iso_3166_1': '...|  2011-08-11|   83.0|         5.6|       537|$37.11000000-4054...|[The comedy reach...|     $37.1M|    0|      0|            0|        0|    0|  0|          0|      0|      0|     0|      0|    0|      0|        0|                 0|    0|     0|     0|      0|        0|      668.0|        1.0|          60.0|        0.0|        16.0|                    0.0|        1489.0|          1580.0|                       2.0|                     217.0|            1245.0|         39.0|              13.0|           927.0|             1165.0|            622.0|[2.9821067099583742]|[0.33962420401436...|   [2.0]|      [0.00363775903881...|\n",
            "|  30 Minutes or Less|            Action|     Ruben Fleischer|False|28000000|               en|Two fledgling cri...|  9.763493|[{'name': 'Columb...|[{'iso_3166_1': '...|  2011-08-11|   83.0|         5.6|       537|$37.11000000-4054...|[The comedy reach...|     $37.1M|    0|      0|            0|        0|    0|  0|          0|      0|      0|     0|      0|    0|      0|        0|                 0|    0|     0|     0|      0|        0|      668.0|        3.0|          60.0|        0.0|        16.0|                    0.0|        1489.0|          1580.0|                       2.0|                     217.0|            1245.0|         39.0|              13.0|           927.0|             1165.0|            622.0|[2.9821067099583742]|[0.33962420401436...|   [2.0]|      [0.00363775903881...|\n",
            "+--------------------+------------------+--------------------+-----+--------+-----------------+--------------------+----------+--------------------+--------------------+------------+-------+------------+----------+--------------------+--------------------+-----------+-----+-------+-------------+---------+-----+---+-----------+-------+-------+------+-------+-----+-------+---------+------------------+-----+------+------+-------+---------+-----------+-----------+--------------+-----------+------------+-----------------------+--------------+----------------+--------------------------+--------------------------+------------------+-------------+------------------+----------------+-------------------+-----------------+--------------------+--------------------+--------+--------------------------+\n",
            "only showing top 20 rows\n",
            "\n"
          ]
        }
      ]
    },
    {
      "cell_type": "code",
      "source": [
        "df5_copy= df5_copy.drop(\"features\")\n",
        "\n",
        "df5_copy.show()"
      ],
      "metadata": {
        "colab": {
          "base_uri": "https://localhost:8080/"
        },
        "id": "DgaXAmocMxZb",
        "outputId": "539e43d2-4de0-4f8b-846a-9ed2641f9947"
      },
      "execution_count": null,
      "outputs": [
        {
          "output_type": "stream",
          "name": "stdout",
          "text": [
            "+--------------------+------------------+--------------------+-----+--------+-----------------+--------------------+----------+--------------------+--------------------+------------+-------+------------+----------+--------------------+--------------------+-----------+-----+-------+-------------+---------+-----+---+-----------+-------+-------+------+-------+-----+-------+---------+------------------+-----+------+------+-------+---------+-----------+-----------+--------------+-----------+------------+-----------------------+--------------+----------------+--------------------------+--------------------------+------------------+-------------+------------------+----------------+-------------------+-----------------+--------------------+--------------------+--------------------------+\n",
            "|               title|             genre|            director|adult|  budget|original_language|            overview|popularity|production_companies|production_countries|release_date|runtime|vote_average|vote_count|       total_revenue|             reviews|before_dash|Crime|Romance|Kids & family|Adventure|Drama|War|Documentary|Fantasy|Holiday|Lgbtq+|History|Anime|Musical|Animation|Mystery & thriller|Music|Sci-fi|Horror|Western|Biography|title_INDEX|genre_INDEX|director_INDEX|adult_INDEX|budget_INDEX|original_language_INDEX|overview_INDEX|popularity_INDEX|production_companies_INDEX|production_countries_INDEX|release_date_INDEX|runtime_INDEX|vote_average_INDEX|vote_count_INDEX|total_revenue_INDEX|before_dash_INDEX|     scaledVoteCount|        scaledBudget|scaledProduction_companies|\n",
            "+--------------------+------------------+--------------------+-----+--------+-----------------+--------------------+----------+--------------------+--------------------+------------+-------+------------+----------+--------------------+--------------------+-----------+-----+-------+-------------+---------+-----+---+-----------+-------+-------+------+-------+-----+-------+---------+------------------+-----+------+------+-------+---------+-----------+-----------+--------------+-----------+------------+-----------------------+--------------+----------------+--------------------------+--------------------------+------------------+-------------+------------------+----------------+-------------------+-----------------+--------------------+--------------------+--------------------------+\n",
            "|    12 Years a Slave|           History|       Steve McQueen|False|20000000|               en|In the pre-Civil ...| 30.316249|[{'name': 'Plan B...|[{'iso_3166_1': '...|  2013-10-18|  134.0|         7.9|      3787|$56.71000000-1870...|[Piercing and hea...|     $56.7M|    0|      0|            0|        0|    0|  0|          0|      0|      0|     0|      1|    0|      0|        0|                 0|    0|     0|     0|      0|        0|      189.0|       11.0|         452.0|        0.0|         2.0|                    0.0|         460.0|           473.0|                     467.0|                      14.0|             104.0|         42.0|              31.0|           588.0|              587.0|            164.0|[1.8915628322066065]|[0.04245302550179...|      [0.8494167355638056]|\n",
            "|    12 Years a Slave|             Drama|       Steve McQueen|False|20000000|               en|In the pre-Civil ...| 30.316249|[{'name': 'Plan B...|[{'iso_3166_1': '...|  2013-10-18|  134.0|         7.9|      3787|$56.71000000-1870...|[Piercing and hea...|     $56.7M|    0|      0|            0|        0|    1|  0|          0|      0|      0|     0|      0|    0|      0|        0|                 0|    0|     0|     0|      0|        0|      189.0|        0.0|         452.0|        0.0|         2.0|                    0.0|         460.0|           473.0|                     467.0|                      14.0|             104.0|         42.0|              31.0|           588.0|              587.0|            164.0|[1.8915628322066065]|[0.04245302550179...|      [0.8494167355638056]|\n",
            "|    12 Years a Slave|         Biography|       Steve McQueen|False|20000000|               en|In the pre-Civil ...| 30.316249|[{'name': 'Plan B...|[{'iso_3166_1': '...|  2013-10-18|  134.0|         7.9|      3787|$56.71000000-1870...|[Piercing and hea...|     $56.7M|    0|      0|            0|        0|    0|  0|          0|      0|      0|     0|      0|    0|      0|        0|                 0|    0|     0|     0|      0|        1|      189.0|       12.0|         452.0|        0.0|         2.0|                    0.0|         460.0|           473.0|                     467.0|                      14.0|             104.0|         42.0|              31.0|           588.0|              587.0|            164.0|[1.8915628322066065]|[0.04245302550179...|      [0.8494167355638056]|\n",
            "|          13 Minutes|           History| Oliver Hirschbiegel|False|       0|               de|The breath-taking...|  4.969851|[{'name': 'Lucky ...|[{'iso_3166_1': '...|  2015-04-09|  114.0|         7.0|        63|   $161.21000-147315|[Elser is an ocea...|    $161.2K|    0|      0|            0|        0|    0|  0|          0|      0|      0|     0|      1|    0|      0|        0|                 0|    0|     0|     0|      0|        0|      192.0|       11.0|         122.0|        0.0|         0.0|                    3.0|         558.0|           491.0|                     393.0|                      21.0|             208.0|         22.0|              10.0|            12.0|              320.0|            525.0|[0.03860332310625...|               [0.0]|       [0.714819651127571]|\n",
            "|          13 Minutes|             Drama| Oliver Hirschbiegel|False|       0|               de|The breath-taking...|  4.969851|[{'name': 'Lucky ...|[{'iso_3166_1': '...|  2015-04-09|  114.0|         7.0|        63|   $161.21000-147315|[Elser is an ocea...|    $161.2K|    0|      0|            0|        0|    1|  0|          0|      0|      0|     0|      0|    0|      0|        0|                 0|    0|     0|     0|      0|        0|      192.0|        0.0|         122.0|        0.0|         0.0|                    3.0|         558.0|           491.0|                     393.0|                      21.0|             208.0|         22.0|              10.0|            12.0|              320.0|            525.0|[0.03860332310625...|               [0.0]|       [0.714819651127571]|\n",
            "|          13 Minutes|         Biography| Oliver Hirschbiegel|False|       0|               de|The breath-taking...|  4.969851|[{'name': 'Lucky ...|[{'iso_3166_1': '...|  2015-04-09|  114.0|         7.0|        63|   $161.21000-147315|[Elser is an ocea...|    $161.2K|    0|      0|            0|        0|    0|  0|          0|      0|      0|     0|      0|    0|      0|        0|                 0|    0|     0|     0|      0|        1|      192.0|       12.0|         122.0|        0.0|         0.0|                    3.0|         558.0|           491.0|                     393.0|                      21.0|             208.0|         22.0|              10.0|            12.0|              320.0|            525.0|[0.03860332310625...|               [0.0]|       [0.714819651127571]|\n",
            "|                1408|            Horror|     Mikael Håfström|False|25000000|               en|A man who special...|  9.196884|[{'name': 'The We...|[{'iso_3166_1': '...|  2007-07-12|  104.0|         6.5|      1372|$72.01000000-9467...|[Directed in a st...|     $72.0M|    0|      0|            0|        0|    0|  0|          0|      0|      0|     0|      0|    0|      0|        0|                 0|    0|     0|     1|      0|        0|      659.0|        7.0|          75.0|        0.0|         5.0|                    0.0|         767.0|          1536.0|                    1229.0|                       0.0|            1158.0|         14.0|               1.0|           740.0|             1440.0|            460.0|[2.3805382582191985]|[0.10613256375448...|      [2.2354029293531417]|\n",
            "|                1408|Mystery & thriller|     Mikael Håfström|False|25000000|               en|A man who special...|  9.196884|[{'name': 'The We...|[{'iso_3166_1': '...|  2007-07-12|  104.0|         6.5|      1372|$72.01000000-9467...|[Directed in a st...|     $72.0M|    0|      0|            0|        0|    0|  0|          0|      0|      0|     0|      0|    0|      0|        0|                 1|    0|     0|     0|      0|        0|      659.0|        2.0|          75.0|        0.0|         5.0|                    0.0|         767.0|          1536.0|                    1229.0|                       0.0|            1158.0|         14.0|               1.0|           740.0|             1440.0|            460.0|[2.3805382582191985]|[0.10613256375448...|      [2.2354029293531417]|\n",
            "|    2 Fast 2 Furious|            Action|      John Singleton|False|76000000|               en|\"It's a major dou...|   2.32462|[{'name': 'Mikona...|[{'iso_3166_1': '...|  2003-06-05|  107.0|         6.2|      2087|$127.11000000-236...|[2 Fast 2 Furious...|    $127.1M|    0|      0|            0|        0|    0|  0|          0|      0|      0|     0|      0|    0|      0|        0|                 0|    0|     0|     0|      0|        0|     1604.0|        3.0|         115.0|        0.0|       100.0|                    0.0|        1613.0|          1910.0|                    1669.0|                       0.0|            1580.0|         15.0|               7.0|          1054.0|             1622.0|           1104.0| [3.390658546166264]| [2.122651275089754]|      [3.0357099178929157]|\n",
            "|24 Hour Party People|            Comedy|Michael Winterbottom|False|       0|               en|In 1976, Tony Wil...| 12.655728|[{'name': 'United...|[{'iso_3166_1': '...|  2002-02-13|  117.0|         6.8|       109|       $1.11000000-0|[\"Tony Wilson's a...|      $1.1M|    0|      0|            0|        0|    0|  0|          0|      0|      0|     0|      0|    0|      0|        0|                 0|    0|     0|     0|      0|        0|      662.0|        1.0|         165.0|        0.0|         0.0|                    0.0|        1145.0|           893.0|                    1282.0|                       2.0|             997.0|         28.0|              12.0|            72.0|                0.0|              0.0|[0.23161993863754...|               [0.0]|      [2.3318035438817963]|\n",
            "|24 Hour Party People|             Drama|Michael Winterbottom|False|       0|               en|In 1976, Tony Wil...| 12.655728|[{'name': 'United...|[{'iso_3166_1': '...|  2002-02-13|  117.0|         6.8|       109|       $1.11000000-0|[\"Tony Wilson's a...|      $1.1M|    0|      0|            0|        0|    1|  0|          0|      0|      0|     0|      0|    0|      0|        0|                 0|    0|     0|     0|      0|        0|      662.0|        0.0|         165.0|        0.0|         0.0|                    0.0|        1145.0|           893.0|                    1282.0|                       2.0|             997.0|         28.0|              12.0|            72.0|                0.0|              0.0|[0.23161993863754...|               [0.0]|      [2.3318035438817963]|\n",
            "|          27 Dresses|           Romance|       Anne Fletcher|False|30000000|               en|Altruistic Jane f...| 10.342202|[{'name': 'Spygla...|[{'iso_3166_1': '...|  2008-01-10|  111.0|         6.1|      1013|$76.81000000-1602...|[Lacks the wicked...|     $76.8M|    0|      1|            0|        0|    0|  0|          0|      0|      0|     0|      0|    0|      0|        0|                 0|    0|     0|     0|      0|        0|      663.0|        5.0|         252.0|        0.0|         1.0|                    0.0|         906.0|           770.0|                    1198.0|                       0.0|            1177.0|         26.0|               2.0|           701.0|             1455.0|           1016.0|[2.2550774581238624]|[0.02122651275089...|      [2.1790176642514756]|\n",
            "|          27 Dresses|            Comedy|       Anne Fletcher|False|30000000|               en|Altruistic Jane f...| 10.342202|[{'name': 'Spygla...|[{'iso_3166_1': '...|  2008-01-10|  111.0|         6.1|      1013|$76.81000000-1602...|[Lacks the wicked...|     $76.8M|    0|      0|            0|        0|    0|  0|          0|      0|      0|     0|      0|    0|      0|        0|                 0|    0|     0|     0|      0|        0|      663.0|        1.0|         252.0|        0.0|         1.0|                    0.0|         906.0|           770.0|                    1198.0|                       0.0|            1177.0|         26.0|               2.0|           701.0|             1455.0|           1016.0|[2.2550774581238624]|[0.02122651275089...|      [2.1790176642514756]|\n",
            "|      28 Weeks Later|            Horror|Juan Carlos Fresn...|False|15000000|               en|In this chilling ...| 12.884191|[{'name': 'DNA Fi...|[{'iso_3166_1': '...|  2007-04-26|  100.0|         6.5|      1225|$28.61000000-6423...|[The story moves ...|     $28.6M|    0|      0|            0|        0|    0|  0|          0|      0|      0|     0|      0|    0|      0|        0|                 0|    0|     0|     1|      0|        0|      666.0|        7.0|         844.0|        0.0|         8.0|                    0.0|        1192.0|           907.0|                     780.0|                      49.0|            1154.0|          6.0|               1.0|           294.0|             1040.0|            262.0|[0.9457814161033032]|[0.16981210200718...|      [1.4187260251386904]|\n",
            "|      28 Weeks Later|Mystery & thriller|Juan Carlos Fresn...|False|15000000|               en|In this chilling ...| 12.884191|[{'name': 'DNA Fi...|[{'iso_3166_1': '...|  2007-04-26|  100.0|         6.5|      1225|$28.61000000-6423...|[The story moves ...|     $28.6M|    0|      0|            0|        0|    0|  0|          0|      0|      0|     0|      0|    0|      0|        0|                 1|    0|     0|     0|      0|        0|      666.0|        2.0|         844.0|        0.0|         8.0|                    0.0|        1192.0|           907.0|                     780.0|                      49.0|            1154.0|          6.0|               1.0|           294.0|             1040.0|            262.0|[0.9457814161033032]|[0.16981210200718...|      [1.4187260251386904]|\n",
            "|       3 Generations|            Comedy|         Gaby Dellal|False| 5000000|               en|A teenager transi...|  4.626438|[{'name': 'IM Glo...|[{'iso_3166_1': '...|  2016-02-11|   87.0|         6.1|        75|    $66.41000-443962|[In the hands of ...|     $66.4K|    0|      0|            0|        0|    0|  0|          0|      0|      0|     0|      0|    0|      0|        0|                 0|    0|     0|     0|      0|        0|      195.0|        1.0|         532.0|        0.0|        17.0|                    0.0|         273.0|           487.0|                     352.0|                       0.0|             795.0|         33.0|               2.0|            70.0|              624.0|            678.0|[0.22518605145316...|[0.3608507167652582]|      [0.6402455908318192]|\n",
            "|       3 Generations|             Drama|         Gaby Dellal|False| 5000000|               en|A teenager transi...|  4.626438|[{'name': 'IM Glo...|[{'iso_3166_1': '...|  2016-02-11|   87.0|         6.1|        75|    $66.41000-443962|[In the hands of ...|     $66.4K|    0|      0|            0|        0|    1|  0|          0|      0|      0|     0|      0|    0|      0|        0|                 0|    0|     0|     0|      0|        0|      195.0|        0.0|         532.0|        0.0|        17.0|                    0.0|         273.0|           487.0|                     352.0|                       0.0|             795.0|         33.0|               2.0|            70.0|              624.0|            678.0|[0.22518605145316...|[0.3608507167652582]|      [0.6402455908318192]|\n",
            "|       3 Generations|            Lgbtq+|         Gaby Dellal|False| 5000000|               en|A teenager transi...|  4.626438|[{'name': 'IM Glo...|[{'iso_3166_1': '...|  2016-02-11|   87.0|         6.1|        75|    $66.41000-443962|[In the hands of ...|     $66.4K|    0|      0|            0|        0|    0|  0|          0|      0|      0|     1|      0|    0|      0|        0|                 0|    0|     0|     0|      0|        0|      195.0|       16.0|         532.0|        0.0|        17.0|                    0.0|         273.0|           487.0|                     352.0|                       0.0|             795.0|         33.0|               2.0|            70.0|              624.0|            678.0|[0.22518605145316...|[0.3608507167652582]|      [0.6402455908318192]|\n",
            "|  30 Minutes or Less|            Comedy|     Ruben Fleischer|False|28000000|               en|Two fledgling cri...|  9.763493|[{'name': 'Columb...|[{'iso_3166_1': '...|  2011-08-11|   83.0|         5.6|       537|$37.11000000-4054...|[The comedy reach...|     $37.1M|    0|      0|            0|        0|    0|  0|          0|      0|      0|     0|      0|    0|      0|        0|                 0|    0|     0|     0|      0|        0|      668.0|        1.0|          60.0|        0.0|        16.0|                    0.0|        1489.0|          1580.0|                       2.0|                     217.0|            1245.0|         39.0|              13.0|           927.0|             1165.0|            622.0|[2.9821067099583742]|[0.33962420401436...|      [0.00363775903881...|\n",
            "|  30 Minutes or Less|            Action|     Ruben Fleischer|False|28000000|               en|Two fledgling cri...|  9.763493|[{'name': 'Columb...|[{'iso_3166_1': '...|  2011-08-11|   83.0|         5.6|       537|$37.11000000-4054...|[The comedy reach...|     $37.1M|    0|      0|            0|        0|    0|  0|          0|      0|      0|     0|      0|    0|      0|        0|                 0|    0|     0|     0|      0|        0|      668.0|        3.0|          60.0|        0.0|        16.0|                    0.0|        1489.0|          1580.0|                       2.0|                     217.0|            1245.0|         39.0|              13.0|           927.0|             1165.0|            622.0|[2.9821067099583742]|[0.33962420401436...|      [0.00363775903881...|\n",
            "+--------------------+------------------+--------------------+-----+--------+-----------------+--------------------+----------+--------------------+--------------------+------------+-------+------------+----------+--------------------+--------------------+-----------+-----+-------+-------------+---------+-----+---+-----------+-------+-------+------+-------+-----+-------+---------+------------------+-----+------+------+-------+---------+-----------+-----------+--------------+-----------+------------+-----------------------+--------------+----------------+--------------------------+--------------------------+------------------+-------------+------------------+----------------+-------------------+-----------------+--------------------+--------------------+--------------------------+\n",
            "only showing top 20 rows\n",
            "\n"
          ]
        }
      ]
    },
    {
      "cell_type": "markdown",
      "source": [
        "**Linear Regression**"
      ],
      "metadata": {
        "id": "uhB5NV-eD0hF"
      }
    },
    {
      "cell_type": "code",
      "source": [
        "X = df5_copy[[\"director\", \"original_language\",\"overview\", \"popularity\", \"production_companies\", \"scaledProduction_companies\",\"release_date\", \"runtime\", \"vote_average\",\n",
        "\"Crime\",\n",
        "\"Romance\",\n",
        "\"Kids & family\",\n",
        "\"Adventure\",\n",
        "\"Drama\",\n",
        "\"War\",\n",
        "\"Documentary\",\n",
        "\"Fantasy\",\n",
        "\"Holiday\",\n",
        "\"Lgbtq+\",\n",
        "\"History\",\n",
        "\"Anime\",\n",
        "\"Musical\",\n",
        "\"Animation\",\n",
        "\"Mystery & thriller\",\n",
        "\"Music\",\n",
        "\"Sci-fi\",\n",
        "\"Horror\",\n",
        "\"Western\",\"Biography\",\"scaledBudget\",\"scaledVoteCount\"]]\n",
        "Y = df5_copy[['total_revenue']]"
      ],
      "metadata": {
        "id": "Rv8wkIMV1k7s"
      },
      "execution_count": null,
      "outputs": []
    },
    {
      "cell_type": "code",
      "source": [
        "X.show()"
      ],
      "metadata": {
        "colab": {
          "base_uri": "https://localhost:8080/"
        },
        "id": "eBGChyChSN9I",
        "outputId": "23ca8f83-04c0-48fc-f070-fd9432724716"
      },
      "execution_count": null,
      "outputs": [
        {
          "output_type": "stream",
          "name": "stdout",
          "text": [
            "+--------------------+-----------------+--------------------+----------+--------------------+--------------------------+------------+-------+------------+-----+-------+-------------+---------+-----+---+-----------+-------+-------+------+-------+-----+-------+---------+------------------+-----+------+------+-------+---------+--------------------+--------------------+\n",
            "|            director|original_language|            overview|popularity|production_companies|scaledProduction_companies|release_date|runtime|vote_average|Crime|Romance|Kids & family|Adventure|Drama|War|Documentary|Fantasy|Holiday|Lgbtq+|History|Anime|Musical|Animation|Mystery & thriller|Music|Sci-fi|Horror|Western|Biography|        scaledBudget|     scaledVoteCount|\n",
            "+--------------------+-----------------+--------------------+----------+--------------------+--------------------------+------------+-------+------------+-----+-------+-------------+---------+-----+---+-----------+-------+-------+------+-------+-----+-------+---------+------------------+-----+------+------+-------+---------+--------------------+--------------------+\n",
            "|       Steve McQueen|               en|In the pre-Civil ...| 30.316249|[{'name': 'Plan B...|      [0.8494167355638056]|  2013-10-18|  134.0|         7.9|    0|      0|            0|        0|    0|  0|          0|      0|      0|     0|      1|    0|      0|        0|                 0|    0|     0|     0|      0|        0|[0.04245302550179...|[1.8915628322066065]|\n",
            "|       Steve McQueen|               en|In the pre-Civil ...| 30.316249|[{'name': 'Plan B...|      [0.8494167355638056]|  2013-10-18|  134.0|         7.9|    0|      0|            0|        0|    1|  0|          0|      0|      0|     0|      0|    0|      0|        0|                 0|    0|     0|     0|      0|        0|[0.04245302550179...|[1.8915628322066065]|\n",
            "|       Steve McQueen|               en|In the pre-Civil ...| 30.316249|[{'name': 'Plan B...|      [0.8494167355638056]|  2013-10-18|  134.0|         7.9|    0|      0|            0|        0|    0|  0|          0|      0|      0|     0|      0|    0|      0|        0|                 0|    0|     0|     0|      0|        1|[0.04245302550179...|[1.8915628322066065]|\n",
            "| Oliver Hirschbiegel|               de|The breath-taking...|  4.969851|[{'name': 'Lucky ...|       [0.714819651127571]|  2015-04-09|  114.0|         7.0|    0|      0|            0|        0|    0|  0|          0|      0|      0|     0|      1|    0|      0|        0|                 0|    0|     0|     0|      0|        0|               [0.0]|[0.03860332310625...|\n",
            "| Oliver Hirschbiegel|               de|The breath-taking...|  4.969851|[{'name': 'Lucky ...|       [0.714819651127571]|  2015-04-09|  114.0|         7.0|    0|      0|            0|        0|    1|  0|          0|      0|      0|     0|      0|    0|      0|        0|                 0|    0|     0|     0|      0|        0|               [0.0]|[0.03860332310625...|\n",
            "| Oliver Hirschbiegel|               de|The breath-taking...|  4.969851|[{'name': 'Lucky ...|       [0.714819651127571]|  2015-04-09|  114.0|         7.0|    0|      0|            0|        0|    0|  0|          0|      0|      0|     0|      0|    0|      0|        0|                 0|    0|     0|     0|      0|        1|               [0.0]|[0.03860332310625...|\n",
            "|     Mikael Håfström|               en|A man who special...|  9.196884|[{'name': 'The We...|      [2.2354029293531417]|  2007-07-12|  104.0|         6.5|    0|      0|            0|        0|    0|  0|          0|      0|      0|     0|      0|    0|      0|        0|                 0|    0|     0|     1|      0|        0|[0.10613256375448...|[2.3805382582191985]|\n",
            "|     Mikael Håfström|               en|A man who special...|  9.196884|[{'name': 'The We...|      [2.2354029293531417]|  2007-07-12|  104.0|         6.5|    0|      0|            0|        0|    0|  0|          0|      0|      0|     0|      0|    0|      0|        0|                 1|    0|     0|     0|      0|        0|[0.10613256375448...|[2.3805382582191985]|\n",
            "|      John Singleton|               en|\"It's a major dou...|   2.32462|[{'name': 'Mikona...|      [3.0357099178929157]|  2003-06-05|  107.0|         6.2|    0|      0|            0|        0|    0|  0|          0|      0|      0|     0|      0|    0|      0|        0|                 0|    0|     0|     0|      0|        0| [2.122651275089754]| [3.390658546166264]|\n",
            "|Michael Winterbottom|               en|In 1976, Tony Wil...| 12.655728|[{'name': 'United...|      [2.3318035438817963]|  2002-02-13|  117.0|         6.8|    0|      0|            0|        0|    0|  0|          0|      0|      0|     0|      0|    0|      0|        0|                 0|    0|     0|     0|      0|        0|               [0.0]|[0.23161993863754...|\n",
            "|Michael Winterbottom|               en|In 1976, Tony Wil...| 12.655728|[{'name': 'United...|      [2.3318035438817963]|  2002-02-13|  117.0|         6.8|    0|      0|            0|        0|    1|  0|          0|      0|      0|     0|      0|    0|      0|        0|                 0|    0|     0|     0|      0|        0|               [0.0]|[0.23161993863754...|\n",
            "|       Anne Fletcher|               en|Altruistic Jane f...| 10.342202|[{'name': 'Spygla...|      [2.1790176642514756]|  2008-01-10|  111.0|         6.1|    0|      1|            0|        0|    0|  0|          0|      0|      0|     0|      0|    0|      0|        0|                 0|    0|     0|     0|      0|        0|[0.02122651275089...|[2.2550774581238624]|\n",
            "|       Anne Fletcher|               en|Altruistic Jane f...| 10.342202|[{'name': 'Spygla...|      [2.1790176642514756]|  2008-01-10|  111.0|         6.1|    0|      0|            0|        0|    0|  0|          0|      0|      0|     0|      0|    0|      0|        0|                 0|    0|     0|     0|      0|        0|[0.02122651275089...|[2.2550774581238624]|\n",
            "|Juan Carlos Fresn...|               en|In this chilling ...| 12.884191|[{'name': 'DNA Fi...|      [1.4187260251386904]|  2007-04-26|  100.0|         6.5|    0|      0|            0|        0|    0|  0|          0|      0|      0|     0|      0|    0|      0|        0|                 0|    0|     0|     1|      0|        0|[0.16981210200718...|[0.9457814161033032]|\n",
            "|Juan Carlos Fresn...|               en|In this chilling ...| 12.884191|[{'name': 'DNA Fi...|      [1.4187260251386904]|  2007-04-26|  100.0|         6.5|    0|      0|            0|        0|    0|  0|          0|      0|      0|     0|      0|    0|      0|        0|                 1|    0|     0|     0|      0|        0|[0.16981210200718...|[0.9457814161033032]|\n",
            "|         Gaby Dellal|               en|A teenager transi...|  4.626438|[{'name': 'IM Glo...|      [0.6402455908318192]|  2016-02-11|   87.0|         6.1|    0|      0|            0|        0|    0|  0|          0|      0|      0|     0|      0|    0|      0|        0|                 0|    0|     0|     0|      0|        0|[0.3608507167652582]|[0.22518605145316...|\n",
            "|         Gaby Dellal|               en|A teenager transi...|  4.626438|[{'name': 'IM Glo...|      [0.6402455908318192]|  2016-02-11|   87.0|         6.1|    0|      0|            0|        0|    1|  0|          0|      0|      0|     0|      0|    0|      0|        0|                 0|    0|     0|     0|      0|        0|[0.3608507167652582]|[0.22518605145316...|\n",
            "|         Gaby Dellal|               en|A teenager transi...|  4.626438|[{'name': 'IM Glo...|      [0.6402455908318192]|  2016-02-11|   87.0|         6.1|    0|      0|            0|        0|    0|  0|          0|      0|      0|     1|      0|    0|      0|        0|                 0|    0|     0|     0|      0|        0|[0.3608507167652582]|[0.22518605145316...|\n",
            "|     Ruben Fleischer|               en|Two fledgling cri...|  9.763493|[{'name': 'Columb...|      [0.00363775903881...|  2011-08-11|   83.0|         5.6|    0|      0|            0|        0|    0|  0|          0|      0|      0|     0|      0|    0|      0|        0|                 0|    0|     0|     0|      0|        0|[0.33962420401436...|[2.9821067099583742]|\n",
            "|     Ruben Fleischer|               en|Two fledgling cri...|  9.763493|[{'name': 'Columb...|      [0.00363775903881...|  2011-08-11|   83.0|         5.6|    0|      0|            0|        0|    0|  0|          0|      0|      0|     0|      0|    0|      0|        0|                 0|    0|     0|     0|      0|        0|[0.33962420401436...|[2.9821067099583742]|\n",
            "+--------------------+-----------------+--------------------+----------+--------------------+--------------------------+------------+-------+------------+-----+-------+-------------+---------+-----+---+-----------+-------+-------+------+-------+-----+-------+---------+------------------+-----+------+------+-------+---------+--------------------+--------------------+\n",
            "only showing top 20 rows\n",
            "\n"
          ]
        }
      ]
    },
    {
      "cell_type": "code",
      "source": [
        "Y.show()"
      ],
      "metadata": {
        "colab": {
          "base_uri": "https://localhost:8080/"
        },
        "id": "MztalQrDSmo5",
        "outputId": "6695fd2c-c387-4008-f2e1-9af12939fe8d"
      },
      "execution_count": null,
      "outputs": [
        {
          "output_type": "stream",
          "name": "stdout",
          "text": [
            "+--------------------+\n",
            "|       total_revenue|\n",
            "+--------------------+\n",
            "|$56.71000000-1870...|\n",
            "|$56.71000000-1870...|\n",
            "|$56.71000000-1870...|\n",
            "|   $161.21000-147315|\n",
            "|   $161.21000-147315|\n",
            "|   $161.21000-147315|\n",
            "|$72.01000000-9467...|\n",
            "|$72.01000000-9467...|\n",
            "|$127.11000000-236...|\n",
            "|       $1.11000000-0|\n",
            "|       $1.11000000-0|\n",
            "|$76.81000000-1602...|\n",
            "|$76.81000000-1602...|\n",
            "|$28.61000000-6423...|\n",
            "|$28.61000000-6423...|\n",
            "|    $66.41000-443962|\n",
            "|    $66.41000-443962|\n",
            "|    $66.41000-443962|\n",
            "|$37.11000000-4054...|\n",
            "|$37.11000000-4054...|\n",
            "+--------------------+\n",
            "only showing top 20 rows\n",
            "\n"
          ]
        }
      ]
    },
    {
      "cell_type": "code",
      "source": [
        "X.columns"
      ],
      "metadata": {
        "colab": {
          "base_uri": "https://localhost:8080/"
        },
        "id": "ie9qa7IXTOCU",
        "outputId": "bb9802e0-8b35-4d87-a4f5-8badc2f3b4ed"
      },
      "execution_count": null,
      "outputs": [
        {
          "output_type": "execute_result",
          "data": {
            "text/plain": [
              "['director',\n",
              " 'original_language',\n",
              " 'overview',\n",
              " 'popularity',\n",
              " 'production_companies',\n",
              " 'scaledProduction_companies',\n",
              " 'release_date',\n",
              " 'runtime',\n",
              " 'vote_average',\n",
              " 'Crime',\n",
              " 'Romance',\n",
              " 'Kids & family',\n",
              " 'Adventure',\n",
              " 'Drama',\n",
              " 'War',\n",
              " 'Documentary',\n",
              " 'Fantasy',\n",
              " 'Holiday',\n",
              " 'Lgbtq+',\n",
              " 'History',\n",
              " 'Anime',\n",
              " 'Musical',\n",
              " 'Animation',\n",
              " 'Mystery & thriller',\n",
              " 'Music',\n",
              " 'Sci-fi',\n",
              " 'Horror',\n",
              " 'Western',\n",
              " 'Biography',\n",
              " 'scaledBudget',\n",
              " 'scaledVoteCount']"
            ]
          },
          "metadata": {},
          "execution_count": 72
        }
      ]
    },
    {
      "cell_type": "code",
      "source": [
        "df5_copy.show()"
      ],
      "metadata": {
        "colab": {
          "base_uri": "https://localhost:8080/"
        },
        "id": "DAdoKUCgTWRn",
        "outputId": "46e7e117-a639-4150-8914-a233ae021737"
      },
      "execution_count": null,
      "outputs": [
        {
          "output_type": "stream",
          "name": "stdout",
          "text": [
            "+--------------------+------------------+--------------------+-----+--------+-----------------+--------------------+----------+--------------------+--------------------+------------+-------+------------+----------+--------------------+--------------------+-----------+-----+-------+-------------+---------+-----+---+-----------+-------+-------+------+-------+-----+-------+---------+------------------+-----+------+------+-------+---------+-----------+-----------+--------------+-----------+------------+-----------------------+--------------+----------------+--------------------------+--------------------------+------------------+-------------+------------------+----------------+-------------------+-----------------+--------------------+--------------------+--------------------------+\n",
            "|               title|             genre|            director|adult|  budget|original_language|            overview|popularity|production_companies|production_countries|release_date|runtime|vote_average|vote_count|       total_revenue|             reviews|before_dash|Crime|Romance|Kids & family|Adventure|Drama|War|Documentary|Fantasy|Holiday|Lgbtq+|History|Anime|Musical|Animation|Mystery & thriller|Music|Sci-fi|Horror|Western|Biography|title_INDEX|genre_INDEX|director_INDEX|adult_INDEX|budget_INDEX|original_language_INDEX|overview_INDEX|popularity_INDEX|production_companies_INDEX|production_countries_INDEX|release_date_INDEX|runtime_INDEX|vote_average_INDEX|vote_count_INDEX|total_revenue_INDEX|before_dash_INDEX|     scaledVoteCount|        scaledBudget|scaledProduction_companies|\n",
            "+--------------------+------------------+--------------------+-----+--------+-----------------+--------------------+----------+--------------------+--------------------+------------+-------+------------+----------+--------------------+--------------------+-----------+-----+-------+-------------+---------+-----+---+-----------+-------+-------+------+-------+-----+-------+---------+------------------+-----+------+------+-------+---------+-----------+-----------+--------------+-----------+------------+-----------------------+--------------+----------------+--------------------------+--------------------------+------------------+-------------+------------------+----------------+-------------------+-----------------+--------------------+--------------------+--------------------------+\n",
            "|    12 Years a Slave|           History|       Steve McQueen|False|20000000|               en|In the pre-Civil ...| 30.316249|[{'name': 'Plan B...|[{'iso_3166_1': '...|  2013-10-18|  134.0|         7.9|      3787|$56.71000000-1870...|[Piercing and hea...|     $56.7M|    0|      0|            0|        0|    0|  0|          0|      0|      0|     0|      1|    0|      0|        0|                 0|    0|     0|     0|      0|        0|      189.0|       11.0|         452.0|        0.0|         2.0|                    0.0|         460.0|           473.0|                     467.0|                      14.0|             104.0|         42.0|              31.0|           588.0|              587.0|            164.0|[1.8915628322066065]|[0.04245302550179...|      [0.8494167355638056]|\n",
            "|    12 Years a Slave|             Drama|       Steve McQueen|False|20000000|               en|In the pre-Civil ...| 30.316249|[{'name': 'Plan B...|[{'iso_3166_1': '...|  2013-10-18|  134.0|         7.9|      3787|$56.71000000-1870...|[Piercing and hea...|     $56.7M|    0|      0|            0|        0|    1|  0|          0|      0|      0|     0|      0|    0|      0|        0|                 0|    0|     0|     0|      0|        0|      189.0|        0.0|         452.0|        0.0|         2.0|                    0.0|         460.0|           473.0|                     467.0|                      14.0|             104.0|         42.0|              31.0|           588.0|              587.0|            164.0|[1.8915628322066065]|[0.04245302550179...|      [0.8494167355638056]|\n",
            "|    12 Years a Slave|         Biography|       Steve McQueen|False|20000000|               en|In the pre-Civil ...| 30.316249|[{'name': 'Plan B...|[{'iso_3166_1': '...|  2013-10-18|  134.0|         7.9|      3787|$56.71000000-1870...|[Piercing and hea...|     $56.7M|    0|      0|            0|        0|    0|  0|          0|      0|      0|     0|      0|    0|      0|        0|                 0|    0|     0|     0|      0|        1|      189.0|       12.0|         452.0|        0.0|         2.0|                    0.0|         460.0|           473.0|                     467.0|                      14.0|             104.0|         42.0|              31.0|           588.0|              587.0|            164.0|[1.8915628322066065]|[0.04245302550179...|      [0.8494167355638056]|\n",
            "|          13 Minutes|           History| Oliver Hirschbiegel|False|       0|               de|The breath-taking...|  4.969851|[{'name': 'Lucky ...|[{'iso_3166_1': '...|  2015-04-09|  114.0|         7.0|        63|   $161.21000-147315|[Elser is an ocea...|    $161.2K|    0|      0|            0|        0|    0|  0|          0|      0|      0|     0|      1|    0|      0|        0|                 0|    0|     0|     0|      0|        0|      192.0|       11.0|         122.0|        0.0|         0.0|                    3.0|         558.0|           491.0|                     393.0|                      21.0|             208.0|         22.0|              10.0|            12.0|              320.0|            525.0|[0.03860332310625...|               [0.0]|       [0.714819651127571]|\n",
            "|          13 Minutes|             Drama| Oliver Hirschbiegel|False|       0|               de|The breath-taking...|  4.969851|[{'name': 'Lucky ...|[{'iso_3166_1': '...|  2015-04-09|  114.0|         7.0|        63|   $161.21000-147315|[Elser is an ocea...|    $161.2K|    0|      0|            0|        0|    1|  0|          0|      0|      0|     0|      0|    0|      0|        0|                 0|    0|     0|     0|      0|        0|      192.0|        0.0|         122.0|        0.0|         0.0|                    3.0|         558.0|           491.0|                     393.0|                      21.0|             208.0|         22.0|              10.0|            12.0|              320.0|            525.0|[0.03860332310625...|               [0.0]|       [0.714819651127571]|\n",
            "|          13 Minutes|         Biography| Oliver Hirschbiegel|False|       0|               de|The breath-taking...|  4.969851|[{'name': 'Lucky ...|[{'iso_3166_1': '...|  2015-04-09|  114.0|         7.0|        63|   $161.21000-147315|[Elser is an ocea...|    $161.2K|    0|      0|            0|        0|    0|  0|          0|      0|      0|     0|      0|    0|      0|        0|                 0|    0|     0|     0|      0|        1|      192.0|       12.0|         122.0|        0.0|         0.0|                    3.0|         558.0|           491.0|                     393.0|                      21.0|             208.0|         22.0|              10.0|            12.0|              320.0|            525.0|[0.03860332310625...|               [0.0]|       [0.714819651127571]|\n",
            "|                1408|            Horror|     Mikael Håfström|False|25000000|               en|A man who special...|  9.196884|[{'name': 'The We...|[{'iso_3166_1': '...|  2007-07-12|  104.0|         6.5|      1372|$72.01000000-9467...|[Directed in a st...|     $72.0M|    0|      0|            0|        0|    0|  0|          0|      0|      0|     0|      0|    0|      0|        0|                 0|    0|     0|     1|      0|        0|      659.0|        7.0|          75.0|        0.0|         5.0|                    0.0|         767.0|          1536.0|                    1229.0|                       0.0|            1158.0|         14.0|               1.0|           740.0|             1440.0|            460.0|[2.3805382582191985]|[0.10613256375448...|      [2.2354029293531417]|\n",
            "|                1408|Mystery & thriller|     Mikael Håfström|False|25000000|               en|A man who special...|  9.196884|[{'name': 'The We...|[{'iso_3166_1': '...|  2007-07-12|  104.0|         6.5|      1372|$72.01000000-9467...|[Directed in a st...|     $72.0M|    0|      0|            0|        0|    0|  0|          0|      0|      0|     0|      0|    0|      0|        0|                 1|    0|     0|     0|      0|        0|      659.0|        2.0|          75.0|        0.0|         5.0|                    0.0|         767.0|          1536.0|                    1229.0|                       0.0|            1158.0|         14.0|               1.0|           740.0|             1440.0|            460.0|[2.3805382582191985]|[0.10613256375448...|      [2.2354029293531417]|\n",
            "|    2 Fast 2 Furious|            Action|      John Singleton|False|76000000|               en|\"It's a major dou...|   2.32462|[{'name': 'Mikona...|[{'iso_3166_1': '...|  2003-06-05|  107.0|         6.2|      2087|$127.11000000-236...|[2 Fast 2 Furious...|    $127.1M|    0|      0|            0|        0|    0|  0|          0|      0|      0|     0|      0|    0|      0|        0|                 0|    0|     0|     0|      0|        0|     1604.0|        3.0|         115.0|        0.0|       100.0|                    0.0|        1613.0|          1910.0|                    1669.0|                       0.0|            1580.0|         15.0|               7.0|          1054.0|             1622.0|           1104.0| [3.390658546166264]| [2.122651275089754]|      [3.0357099178929157]|\n",
            "|24 Hour Party People|            Comedy|Michael Winterbottom|False|       0|               en|In 1976, Tony Wil...| 12.655728|[{'name': 'United...|[{'iso_3166_1': '...|  2002-02-13|  117.0|         6.8|       109|       $1.11000000-0|[\"Tony Wilson's a...|      $1.1M|    0|      0|            0|        0|    0|  0|          0|      0|      0|     0|      0|    0|      0|        0|                 0|    0|     0|     0|      0|        0|      662.0|        1.0|         165.0|        0.0|         0.0|                    0.0|        1145.0|           893.0|                    1282.0|                       2.0|             997.0|         28.0|              12.0|            72.0|                0.0|              0.0|[0.23161993863754...|               [0.0]|      [2.3318035438817963]|\n",
            "|24 Hour Party People|             Drama|Michael Winterbottom|False|       0|               en|In 1976, Tony Wil...| 12.655728|[{'name': 'United...|[{'iso_3166_1': '...|  2002-02-13|  117.0|         6.8|       109|       $1.11000000-0|[\"Tony Wilson's a...|      $1.1M|    0|      0|            0|        0|    1|  0|          0|      0|      0|     0|      0|    0|      0|        0|                 0|    0|     0|     0|      0|        0|      662.0|        0.0|         165.0|        0.0|         0.0|                    0.0|        1145.0|           893.0|                    1282.0|                       2.0|             997.0|         28.0|              12.0|            72.0|                0.0|              0.0|[0.23161993863754...|               [0.0]|      [2.3318035438817963]|\n",
            "|          27 Dresses|           Romance|       Anne Fletcher|False|30000000|               en|Altruistic Jane f...| 10.342202|[{'name': 'Spygla...|[{'iso_3166_1': '...|  2008-01-10|  111.0|         6.1|      1013|$76.81000000-1602...|[Lacks the wicked...|     $76.8M|    0|      1|            0|        0|    0|  0|          0|      0|      0|     0|      0|    0|      0|        0|                 0|    0|     0|     0|      0|        0|      663.0|        5.0|         252.0|        0.0|         1.0|                    0.0|         906.0|           770.0|                    1198.0|                       0.0|            1177.0|         26.0|               2.0|           701.0|             1455.0|           1016.0|[2.2550774581238624]|[0.02122651275089...|      [2.1790176642514756]|\n",
            "|          27 Dresses|            Comedy|       Anne Fletcher|False|30000000|               en|Altruistic Jane f...| 10.342202|[{'name': 'Spygla...|[{'iso_3166_1': '...|  2008-01-10|  111.0|         6.1|      1013|$76.81000000-1602...|[Lacks the wicked...|     $76.8M|    0|      0|            0|        0|    0|  0|          0|      0|      0|     0|      0|    0|      0|        0|                 0|    0|     0|     0|      0|        0|      663.0|        1.0|         252.0|        0.0|         1.0|                    0.0|         906.0|           770.0|                    1198.0|                       0.0|            1177.0|         26.0|               2.0|           701.0|             1455.0|           1016.0|[2.2550774581238624]|[0.02122651275089...|      [2.1790176642514756]|\n",
            "|      28 Weeks Later|            Horror|Juan Carlos Fresn...|False|15000000|               en|In this chilling ...| 12.884191|[{'name': 'DNA Fi...|[{'iso_3166_1': '...|  2007-04-26|  100.0|         6.5|      1225|$28.61000000-6423...|[The story moves ...|     $28.6M|    0|      0|            0|        0|    0|  0|          0|      0|      0|     0|      0|    0|      0|        0|                 0|    0|     0|     1|      0|        0|      666.0|        7.0|         844.0|        0.0|         8.0|                    0.0|        1192.0|           907.0|                     780.0|                      49.0|            1154.0|          6.0|               1.0|           294.0|             1040.0|            262.0|[0.9457814161033032]|[0.16981210200718...|      [1.4187260251386904]|\n",
            "|      28 Weeks Later|Mystery & thriller|Juan Carlos Fresn...|False|15000000|               en|In this chilling ...| 12.884191|[{'name': 'DNA Fi...|[{'iso_3166_1': '...|  2007-04-26|  100.0|         6.5|      1225|$28.61000000-6423...|[The story moves ...|     $28.6M|    0|      0|            0|        0|    0|  0|          0|      0|      0|     0|      0|    0|      0|        0|                 1|    0|     0|     0|      0|        0|      666.0|        2.0|         844.0|        0.0|         8.0|                    0.0|        1192.0|           907.0|                     780.0|                      49.0|            1154.0|          6.0|               1.0|           294.0|             1040.0|            262.0|[0.9457814161033032]|[0.16981210200718...|      [1.4187260251386904]|\n",
            "|       3 Generations|            Comedy|         Gaby Dellal|False| 5000000|               en|A teenager transi...|  4.626438|[{'name': 'IM Glo...|[{'iso_3166_1': '...|  2016-02-11|   87.0|         6.1|        75|    $66.41000-443962|[In the hands of ...|     $66.4K|    0|      0|            0|        0|    0|  0|          0|      0|      0|     0|      0|    0|      0|        0|                 0|    0|     0|     0|      0|        0|      195.0|        1.0|         532.0|        0.0|        17.0|                    0.0|         273.0|           487.0|                     352.0|                       0.0|             795.0|         33.0|               2.0|            70.0|              624.0|            678.0|[0.22518605145316...|[0.3608507167652582]|      [0.6402455908318192]|\n",
            "|       3 Generations|             Drama|         Gaby Dellal|False| 5000000|               en|A teenager transi...|  4.626438|[{'name': 'IM Glo...|[{'iso_3166_1': '...|  2016-02-11|   87.0|         6.1|        75|    $66.41000-443962|[In the hands of ...|     $66.4K|    0|      0|            0|        0|    1|  0|          0|      0|      0|     0|      0|    0|      0|        0|                 0|    0|     0|     0|      0|        0|      195.0|        0.0|         532.0|        0.0|        17.0|                    0.0|         273.0|           487.0|                     352.0|                       0.0|             795.0|         33.0|               2.0|            70.0|              624.0|            678.0|[0.22518605145316...|[0.3608507167652582]|      [0.6402455908318192]|\n",
            "|       3 Generations|            Lgbtq+|         Gaby Dellal|False| 5000000|               en|A teenager transi...|  4.626438|[{'name': 'IM Glo...|[{'iso_3166_1': '...|  2016-02-11|   87.0|         6.1|        75|    $66.41000-443962|[In the hands of ...|     $66.4K|    0|      0|            0|        0|    0|  0|          0|      0|      0|     1|      0|    0|      0|        0|                 0|    0|     0|     0|      0|        0|      195.0|       16.0|         532.0|        0.0|        17.0|                    0.0|         273.0|           487.0|                     352.0|                       0.0|             795.0|         33.0|               2.0|            70.0|              624.0|            678.0|[0.22518605145316...|[0.3608507167652582]|      [0.6402455908318192]|\n",
            "|  30 Minutes or Less|            Comedy|     Ruben Fleischer|False|28000000|               en|Two fledgling cri...|  9.763493|[{'name': 'Columb...|[{'iso_3166_1': '...|  2011-08-11|   83.0|         5.6|       537|$37.11000000-4054...|[The comedy reach...|     $37.1M|    0|      0|            0|        0|    0|  0|          0|      0|      0|     0|      0|    0|      0|        0|                 0|    0|     0|     0|      0|        0|      668.0|        1.0|          60.0|        0.0|        16.0|                    0.0|        1489.0|          1580.0|                       2.0|                     217.0|            1245.0|         39.0|              13.0|           927.0|             1165.0|            622.0|[2.9821067099583742]|[0.33962420401436...|      [0.00363775903881...|\n",
            "|  30 Minutes or Less|            Action|     Ruben Fleischer|False|28000000|               en|Two fledgling cri...|  9.763493|[{'name': 'Columb...|[{'iso_3166_1': '...|  2011-08-11|   83.0|         5.6|       537|$37.11000000-4054...|[The comedy reach...|     $37.1M|    0|      0|            0|        0|    0|  0|          0|      0|      0|     0|      0|    0|      0|        0|                 0|    0|     0|     0|      0|        0|      668.0|        3.0|          60.0|        0.0|        16.0|                    0.0|        1489.0|          1580.0|                       2.0|                     217.0|            1245.0|         39.0|              13.0|           927.0|             1165.0|            622.0|[2.9821067099583742]|[0.33962420401436...|      [0.00363775903881...|\n",
            "+--------------------+------------------+--------------------+-----+--------+-----------------+--------------------+----------+--------------------+--------------------+------------+-------+------------+----------+--------------------+--------------------+-----------+-----+-------+-------------+---------+-----+---+-----------+-------+-------+------+-------+-----+-------+---------+------------------+-----+------+------+-------+---------+-----------+-----------+--------------+-----------+------------+-----------------------+--------------+----------------+--------------------------+--------------------------+------------------+-------------+------------------+----------------+-------------------+-----------------+--------------------+--------------------+--------------------------+\n",
            "only showing top 20 rows\n",
            "\n"
          ]
        }
      ]
    },
    {
      "cell_type": "code",
      "source": [
        "from pyspark.ml.feature import VectorAssembler\n",
        "from pyspark.ml.tuning import ParamGridBuilder, TrainValidationSplit\n",
        "\n",
        "# Combine features into a single vector column\n",
        "assembler = VectorAssembler(inputCols=lis, outputCol=\"features\")\n",
        "assembled_data = assembler.transform(df5_copy)\n"
      ],
      "metadata": {
        "id": "8s54KkQr5Q9q"
      },
      "execution_count": null,
      "outputs": []
    },
    {
      "cell_type": "code",
      "source": [
        "assembled_data.show()"
      ],
      "metadata": {
        "colab": {
          "base_uri": "https://localhost:8080/"
        },
        "id": "NjCfF6hUcSmm",
        "outputId": "ffb137f4-823b-4982-82c8-8eddf5e276b4"
      },
      "execution_count": null,
      "outputs": [
        {
          "output_type": "stream",
          "name": "stdout",
          "text": [
            "+--------------------+------------------+--------------------+-----+--------+-----------------+--------------------+----------+--------------------+--------------------+------------+-------+------------+----------+--------------------+--------------------+-----------+-----+-------+-------------+---------+-----+---+-----------+-------+-------+------+-------+-----+-------+---------+------------------+-----+------+------+-------+---------+-----------+-----------+--------------+-----------+------------+-----------------------+--------------+----------------+--------------------------+--------------------------+------------------+-------------+------------------+----------------+-------------------+-----------------+--------------------+--------------------+--------------------------+--------------------+\n",
            "|               title|             genre|            director|adult|  budget|original_language|            overview|popularity|production_companies|production_countries|release_date|runtime|vote_average|vote_count|       total_revenue|             reviews|before_dash|Crime|Romance|Kids & family|Adventure|Drama|War|Documentary|Fantasy|Holiday|Lgbtq+|History|Anime|Musical|Animation|Mystery & thriller|Music|Sci-fi|Horror|Western|Biography|title_INDEX|genre_INDEX|director_INDEX|adult_INDEX|budget_INDEX|original_language_INDEX|overview_INDEX|popularity_INDEX|production_companies_INDEX|production_countries_INDEX|release_date_INDEX|runtime_INDEX|vote_average_INDEX|vote_count_INDEX|total_revenue_INDEX|before_dash_INDEX|     scaledVoteCount|        scaledBudget|scaledProduction_companies|            features|\n",
            "+--------------------+------------------+--------------------+-----+--------+-----------------+--------------------+----------+--------------------+--------------------+------------+-------+------------+----------+--------------------+--------------------+-----------+-----+-------+-------------+---------+-----+---+-----------+-------+-------+------+-------+-----+-------+---------+------------------+-----+------+------+-------+---------+-----------+-----------+--------------+-----------+------------+-----------------------+--------------+----------------+--------------------------+--------------------------+------------------+-------------+------------------+----------------+-------------------+-----------------+--------------------+--------------------+--------------------------+--------------------+\n",
            "|    12 Years a Slave|           History|       Steve McQueen|False|20000000|               en|In the pre-Civil ...| 30.316249|[{'name': 'Plan B...|[{'iso_3166_1': '...|  2013-10-18|  134.0|         7.9|      3787|$56.71000000-1870...|[Piercing and hea...|     $56.7M|    0|      0|            0|        0|    0|  0|          0|      0|      0|     0|      1|    0|      0|        0|                 0|    0|     0|     0|      0|        0|      189.0|       11.0|         452.0|        0.0|         2.0|                    0.0|         460.0|           473.0|                     467.0|                      14.0|             104.0|         42.0|              31.0|           588.0|              587.0|            164.0|[1.8915628322066065]|[0.04245302550179...|      [0.8494167355638056]|[189.0,11.0,452.0...|\n",
            "|    12 Years a Slave|             Drama|       Steve McQueen|False|20000000|               en|In the pre-Civil ...| 30.316249|[{'name': 'Plan B...|[{'iso_3166_1': '...|  2013-10-18|  134.0|         7.9|      3787|$56.71000000-1870...|[Piercing and hea...|     $56.7M|    0|      0|            0|        0|    1|  0|          0|      0|      0|     0|      0|    0|      0|        0|                 0|    0|     0|     0|      0|        0|      189.0|        0.0|         452.0|        0.0|         2.0|                    0.0|         460.0|           473.0|                     467.0|                      14.0|             104.0|         42.0|              31.0|           588.0|              587.0|            164.0|[1.8915628322066065]|[0.04245302550179...|      [0.8494167355638056]|[189.0,0.0,452.0,...|\n",
            "|    12 Years a Slave|         Biography|       Steve McQueen|False|20000000|               en|In the pre-Civil ...| 30.316249|[{'name': 'Plan B...|[{'iso_3166_1': '...|  2013-10-18|  134.0|         7.9|      3787|$56.71000000-1870...|[Piercing and hea...|     $56.7M|    0|      0|            0|        0|    0|  0|          0|      0|      0|     0|      0|    0|      0|        0|                 0|    0|     0|     0|      0|        1|      189.0|       12.0|         452.0|        0.0|         2.0|                    0.0|         460.0|           473.0|                     467.0|                      14.0|             104.0|         42.0|              31.0|           588.0|              587.0|            164.0|[1.8915628322066065]|[0.04245302550179...|      [0.8494167355638056]|[189.0,12.0,452.0...|\n",
            "|          13 Minutes|           History| Oliver Hirschbiegel|False|       0|               de|The breath-taking...|  4.969851|[{'name': 'Lucky ...|[{'iso_3166_1': '...|  2015-04-09|  114.0|         7.0|        63|   $161.21000-147315|[Elser is an ocea...|    $161.2K|    0|      0|            0|        0|    0|  0|          0|      0|      0|     0|      1|    0|      0|        0|                 0|    0|     0|     0|      0|        0|      192.0|       11.0|         122.0|        0.0|         0.0|                    3.0|         558.0|           491.0|                     393.0|                      21.0|             208.0|         22.0|              10.0|            12.0|              320.0|            525.0|[0.03860332310625...|               [0.0]|       [0.714819651127571]|[192.0,11.0,122.0...|\n",
            "|          13 Minutes|             Drama| Oliver Hirschbiegel|False|       0|               de|The breath-taking...|  4.969851|[{'name': 'Lucky ...|[{'iso_3166_1': '...|  2015-04-09|  114.0|         7.0|        63|   $161.21000-147315|[Elser is an ocea...|    $161.2K|    0|      0|            0|        0|    1|  0|          0|      0|      0|     0|      0|    0|      0|        0|                 0|    0|     0|     0|      0|        0|      192.0|        0.0|         122.0|        0.0|         0.0|                    3.0|         558.0|           491.0|                     393.0|                      21.0|             208.0|         22.0|              10.0|            12.0|              320.0|            525.0|[0.03860332310625...|               [0.0]|       [0.714819651127571]|[192.0,0.0,122.0,...|\n",
            "|          13 Minutes|         Biography| Oliver Hirschbiegel|False|       0|               de|The breath-taking...|  4.969851|[{'name': 'Lucky ...|[{'iso_3166_1': '...|  2015-04-09|  114.0|         7.0|        63|   $161.21000-147315|[Elser is an ocea...|    $161.2K|    0|      0|            0|        0|    0|  0|          0|      0|      0|     0|      0|    0|      0|        0|                 0|    0|     0|     0|      0|        1|      192.0|       12.0|         122.0|        0.0|         0.0|                    3.0|         558.0|           491.0|                     393.0|                      21.0|             208.0|         22.0|              10.0|            12.0|              320.0|            525.0|[0.03860332310625...|               [0.0]|       [0.714819651127571]|[192.0,12.0,122.0...|\n",
            "|                1408|            Horror|     Mikael Håfström|False|25000000|               en|A man who special...|  9.196884|[{'name': 'The We...|[{'iso_3166_1': '...|  2007-07-12|  104.0|         6.5|      1372|$72.01000000-9467...|[Directed in a st...|     $72.0M|    0|      0|            0|        0|    0|  0|          0|      0|      0|     0|      0|    0|      0|        0|                 0|    0|     0|     1|      0|        0|      659.0|        7.0|          75.0|        0.0|         5.0|                    0.0|         767.0|          1536.0|                    1229.0|                       0.0|            1158.0|         14.0|               1.0|           740.0|             1440.0|            460.0|[2.3805382582191985]|[0.10613256375448...|      [2.2354029293531417]|[659.0,7.0,75.0,0...|\n",
            "|                1408|Mystery & thriller|     Mikael Håfström|False|25000000|               en|A man who special...|  9.196884|[{'name': 'The We...|[{'iso_3166_1': '...|  2007-07-12|  104.0|         6.5|      1372|$72.01000000-9467...|[Directed in a st...|     $72.0M|    0|      0|            0|        0|    0|  0|          0|      0|      0|     0|      0|    0|      0|        0|                 1|    0|     0|     0|      0|        0|      659.0|        2.0|          75.0|        0.0|         5.0|                    0.0|         767.0|          1536.0|                    1229.0|                       0.0|            1158.0|         14.0|               1.0|           740.0|             1440.0|            460.0|[2.3805382582191985]|[0.10613256375448...|      [2.2354029293531417]|[659.0,2.0,75.0,0...|\n",
            "|    2 Fast 2 Furious|            Action|      John Singleton|False|76000000|               en|\"It's a major dou...|   2.32462|[{'name': 'Mikona...|[{'iso_3166_1': '...|  2003-06-05|  107.0|         6.2|      2087|$127.11000000-236...|[2 Fast 2 Furious...|    $127.1M|    0|      0|            0|        0|    0|  0|          0|      0|      0|     0|      0|    0|      0|        0|                 0|    0|     0|     0|      0|        0|     1604.0|        3.0|         115.0|        0.0|       100.0|                    0.0|        1613.0|          1910.0|                    1669.0|                       0.0|            1580.0|         15.0|               7.0|          1054.0|             1622.0|           1104.0| [3.390658546166264]| [2.122651275089754]|      [3.0357099178929157]|[1604.0,3.0,115.0...|\n",
            "|24 Hour Party People|            Comedy|Michael Winterbottom|False|       0|               en|In 1976, Tony Wil...| 12.655728|[{'name': 'United...|[{'iso_3166_1': '...|  2002-02-13|  117.0|         6.8|       109|       $1.11000000-0|[\"Tony Wilson's a...|      $1.1M|    0|      0|            0|        0|    0|  0|          0|      0|      0|     0|      0|    0|      0|        0|                 0|    0|     0|     0|      0|        0|      662.0|        1.0|         165.0|        0.0|         0.0|                    0.0|        1145.0|           893.0|                    1282.0|                       2.0|             997.0|         28.0|              12.0|            72.0|                0.0|              0.0|[0.23161993863754...|               [0.0]|      [2.3318035438817963]|[662.0,1.0,165.0,...|\n",
            "|24 Hour Party People|             Drama|Michael Winterbottom|False|       0|               en|In 1976, Tony Wil...| 12.655728|[{'name': 'United...|[{'iso_3166_1': '...|  2002-02-13|  117.0|         6.8|       109|       $1.11000000-0|[\"Tony Wilson's a...|      $1.1M|    0|      0|            0|        0|    1|  0|          0|      0|      0|     0|      0|    0|      0|        0|                 0|    0|     0|     0|      0|        0|      662.0|        0.0|         165.0|        0.0|         0.0|                    0.0|        1145.0|           893.0|                    1282.0|                       2.0|             997.0|         28.0|              12.0|            72.0|                0.0|              0.0|[0.23161993863754...|               [0.0]|      [2.3318035438817963]|[662.0,0.0,165.0,...|\n",
            "|          27 Dresses|           Romance|       Anne Fletcher|False|30000000|               en|Altruistic Jane f...| 10.342202|[{'name': 'Spygla...|[{'iso_3166_1': '...|  2008-01-10|  111.0|         6.1|      1013|$76.81000000-1602...|[Lacks the wicked...|     $76.8M|    0|      1|            0|        0|    0|  0|          0|      0|      0|     0|      0|    0|      0|        0|                 0|    0|     0|     0|      0|        0|      663.0|        5.0|         252.0|        0.0|         1.0|                    0.0|         906.0|           770.0|                    1198.0|                       0.0|            1177.0|         26.0|               2.0|           701.0|             1455.0|           1016.0|[2.2550774581238624]|[0.02122651275089...|      [2.1790176642514756]|[663.0,5.0,252.0,...|\n",
            "|          27 Dresses|            Comedy|       Anne Fletcher|False|30000000|               en|Altruistic Jane f...| 10.342202|[{'name': 'Spygla...|[{'iso_3166_1': '...|  2008-01-10|  111.0|         6.1|      1013|$76.81000000-1602...|[Lacks the wicked...|     $76.8M|    0|      0|            0|        0|    0|  0|          0|      0|      0|     0|      0|    0|      0|        0|                 0|    0|     0|     0|      0|        0|      663.0|        1.0|         252.0|        0.0|         1.0|                    0.0|         906.0|           770.0|                    1198.0|                       0.0|            1177.0|         26.0|               2.0|           701.0|             1455.0|           1016.0|[2.2550774581238624]|[0.02122651275089...|      [2.1790176642514756]|[663.0,1.0,252.0,...|\n",
            "|      28 Weeks Later|            Horror|Juan Carlos Fresn...|False|15000000|               en|In this chilling ...| 12.884191|[{'name': 'DNA Fi...|[{'iso_3166_1': '...|  2007-04-26|  100.0|         6.5|      1225|$28.61000000-6423...|[The story moves ...|     $28.6M|    0|      0|            0|        0|    0|  0|          0|      0|      0|     0|      0|    0|      0|        0|                 0|    0|     0|     1|      0|        0|      666.0|        7.0|         844.0|        0.0|         8.0|                    0.0|        1192.0|           907.0|                     780.0|                      49.0|            1154.0|          6.0|               1.0|           294.0|             1040.0|            262.0|[0.9457814161033032]|[0.16981210200718...|      [1.4187260251386904]|[666.0,7.0,844.0,...|\n",
            "|      28 Weeks Later|Mystery & thriller|Juan Carlos Fresn...|False|15000000|               en|In this chilling ...| 12.884191|[{'name': 'DNA Fi...|[{'iso_3166_1': '...|  2007-04-26|  100.0|         6.5|      1225|$28.61000000-6423...|[The story moves ...|     $28.6M|    0|      0|            0|        0|    0|  0|          0|      0|      0|     0|      0|    0|      0|        0|                 1|    0|     0|     0|      0|        0|      666.0|        2.0|         844.0|        0.0|         8.0|                    0.0|        1192.0|           907.0|                     780.0|                      49.0|            1154.0|          6.0|               1.0|           294.0|             1040.0|            262.0|[0.9457814161033032]|[0.16981210200718...|      [1.4187260251386904]|[666.0,2.0,844.0,...|\n",
            "|       3 Generations|            Comedy|         Gaby Dellal|False| 5000000|               en|A teenager transi...|  4.626438|[{'name': 'IM Glo...|[{'iso_3166_1': '...|  2016-02-11|   87.0|         6.1|        75|    $66.41000-443962|[In the hands of ...|     $66.4K|    0|      0|            0|        0|    0|  0|          0|      0|      0|     0|      0|    0|      0|        0|                 0|    0|     0|     0|      0|        0|      195.0|        1.0|         532.0|        0.0|        17.0|                    0.0|         273.0|           487.0|                     352.0|                       0.0|             795.0|         33.0|               2.0|            70.0|              624.0|            678.0|[0.22518605145316...|[0.3608507167652582]|      [0.6402455908318192]|[195.0,1.0,532.0,...|\n",
            "|       3 Generations|             Drama|         Gaby Dellal|False| 5000000|               en|A teenager transi...|  4.626438|[{'name': 'IM Glo...|[{'iso_3166_1': '...|  2016-02-11|   87.0|         6.1|        75|    $66.41000-443962|[In the hands of ...|     $66.4K|    0|      0|            0|        0|    1|  0|          0|      0|      0|     0|      0|    0|      0|        0|                 0|    0|     0|     0|      0|        0|      195.0|        0.0|         532.0|        0.0|        17.0|                    0.0|         273.0|           487.0|                     352.0|                       0.0|             795.0|         33.0|               2.0|            70.0|              624.0|            678.0|[0.22518605145316...|[0.3608507167652582]|      [0.6402455908318192]|[195.0,0.0,532.0,...|\n",
            "|       3 Generations|            Lgbtq+|         Gaby Dellal|False| 5000000|               en|A teenager transi...|  4.626438|[{'name': 'IM Glo...|[{'iso_3166_1': '...|  2016-02-11|   87.0|         6.1|        75|    $66.41000-443962|[In the hands of ...|     $66.4K|    0|      0|            0|        0|    0|  0|          0|      0|      0|     1|      0|    0|      0|        0|                 0|    0|     0|     0|      0|        0|      195.0|       16.0|         532.0|        0.0|        17.0|                    0.0|         273.0|           487.0|                     352.0|                       0.0|             795.0|         33.0|               2.0|            70.0|              624.0|            678.0|[0.22518605145316...|[0.3608507167652582]|      [0.6402455908318192]|[195.0,16.0,532.0...|\n",
            "|  30 Minutes or Less|            Comedy|     Ruben Fleischer|False|28000000|               en|Two fledgling cri...|  9.763493|[{'name': 'Columb...|[{'iso_3166_1': '...|  2011-08-11|   83.0|         5.6|       537|$37.11000000-4054...|[The comedy reach...|     $37.1M|    0|      0|            0|        0|    0|  0|          0|      0|      0|     0|      0|    0|      0|        0|                 0|    0|     0|     0|      0|        0|      668.0|        1.0|          60.0|        0.0|        16.0|                    0.0|        1489.0|          1580.0|                       2.0|                     217.0|            1245.0|         39.0|              13.0|           927.0|             1165.0|            622.0|[2.9821067099583742]|[0.33962420401436...|      [0.00363775903881...|[668.0,1.0,60.0,0...|\n",
            "|  30 Minutes or Less|            Action|     Ruben Fleischer|False|28000000|               en|Two fledgling cri...|  9.763493|[{'name': 'Columb...|[{'iso_3166_1': '...|  2011-08-11|   83.0|         5.6|       537|$37.11000000-4054...|[The comedy reach...|     $37.1M|    0|      0|            0|        0|    0|  0|          0|      0|      0|     0|      0|    0|      0|        0|                 0|    0|     0|     0|      0|        0|      668.0|        3.0|          60.0|        0.0|        16.0|                    0.0|        1489.0|          1580.0|                       2.0|                     217.0|            1245.0|         39.0|              13.0|           927.0|             1165.0|            622.0|[2.9821067099583742]|[0.33962420401436...|      [0.00363775903881...|[668.0,3.0,60.0,0...|\n",
            "+--------------------+------------------+--------------------+-----+--------+-----------------+--------------------+----------+--------------------+--------------------+------------+-------+------------+----------+--------------------+--------------------+-----------+-----+-------+-------------+---------+-----+---+-----------+-------+-------+------+-------+-----+-------+---------+------------------+-----+------+------+-------+---------+-----------+-----------+--------------+-----------+------------+-----------------------+--------------+----------------+--------------------------+--------------------------+------------------+-------------+------------------+----------------+-------------------+-----------------+--------------------+--------------------+--------------------------+--------------------+\n",
            "only showing top 20 rows\n",
            "\n"
          ]
        }
      ]
    },
    {
      "cell_type": "code",
      "source": [
        "assembled_data=assembled_data[['features','total_revenue_INDEX']]"
      ],
      "metadata": {
        "id": "t-xl7ANkcbtS"
      },
      "execution_count": null,
      "outputs": []
    },
    {
      "cell_type": "code",
      "source": [
        "assembled_data.show()"
      ],
      "metadata": {
        "colab": {
          "base_uri": "https://localhost:8080/"
        },
        "id": "1lI_NxX0cpd4",
        "outputId": "979c3237-3a28-4061-b9aa-1699dc45ea4a"
      },
      "execution_count": null,
      "outputs": [
        {
          "output_type": "stream",
          "name": "stdout",
          "text": [
            "+--------------------+-------------------+\n",
            "|            features|total_revenue_INDEX|\n",
            "+--------------------+-------------------+\n",
            "|[189.0,11.0,452.0...|              587.0|\n",
            "|[189.0,0.0,452.0,...|              587.0|\n",
            "|[189.0,12.0,452.0...|              587.0|\n",
            "|[192.0,11.0,122.0...|              320.0|\n",
            "|[192.0,0.0,122.0,...|              320.0|\n",
            "|[192.0,12.0,122.0...|              320.0|\n",
            "|[659.0,7.0,75.0,0...|             1440.0|\n",
            "|[659.0,2.0,75.0,0...|             1440.0|\n",
            "|[1604.0,3.0,115.0...|             1622.0|\n",
            "|[662.0,1.0,165.0,...|                0.0|\n",
            "|[662.0,0.0,165.0,...|                0.0|\n",
            "|[663.0,5.0,252.0,...|             1455.0|\n",
            "|[663.0,1.0,252.0,...|             1455.0|\n",
            "|[666.0,7.0,844.0,...|             1040.0|\n",
            "|[666.0,2.0,844.0,...|             1040.0|\n",
            "|[195.0,1.0,532.0,...|              624.0|\n",
            "|[195.0,0.0,532.0,...|              624.0|\n",
            "|[195.0,16.0,532.0...|              624.0|\n",
            "|[668.0,1.0,60.0,0...|             1165.0|\n",
            "|[668.0,3.0,60.0,0...|             1165.0|\n",
            "+--------------------+-------------------+\n",
            "only showing top 20 rows\n",
            "\n"
          ]
        }
      ]
    },
    {
      "cell_type": "code",
      "source": [
        "split_ratio = 0.7\n",
        "seed = 0\n",
        "train_data, test_data = assembled_data.randomSplit([split_ratio, 1 - split_ratio], seed)"
      ],
      "metadata": {
        "id": "spHbx1qKZ1i3"
      },
      "execution_count": null,
      "outputs": []
    },
    {
      "cell_type": "code",
      "source": [
        "train_data.show()"
      ],
      "metadata": {
        "colab": {
          "base_uri": "https://localhost:8080/"
        },
        "id": "pHcynBUYYGue",
        "outputId": "c7f21565-2c34-423d-a1ff-8d06fec3517b"
      },
      "execution_count": null,
      "outputs": [
        {
          "output_type": "stream",
          "name": "stdout",
          "text": [
            "+--------------------+-------------------+\n",
            "|            features|total_revenue_INDEX|\n",
            "+--------------------+-------------------+\n",
            "|(15,[0,2,6,7,10,1...|                0.0|\n",
            "|(15,[0,2,6,7,10,1...|             2182.0|\n",
            "|[1.0,1.0,200.0,0....|               40.0|\n",
            "|[1.0,5.0,200.0,0....|               40.0|\n",
            "|[1.0,6.0,200.0,0....|               40.0|\n",
            "|[1.0,8.0,200.0,0....|               40.0|\n",
            "|[8.0,1.0,223.0,0....|               23.0|\n",
            "|[8.0,4.0,223.0,0....|               23.0|\n",
            "|[8.0,6.0,223.0,0....|               23.0|\n",
            "|[8.0,8.0,223.0,0....|               23.0|\n",
            "|[8.0,13.0,223.0,0...|               23.0|\n",
            "|[8.0,15.0,223.0,0...|               23.0|\n",
            "|[11.0,0.0,293.0,0...|               61.0|\n",
            "|[11.0,4.0,293.0,0...|               61.0|\n",
            "|[11.0,6.0,293.0,0...|               61.0|\n",
            "|[11.0,8.0,293.0,0...|               61.0|\n",
            "|[11.0,15.0,293.0,...|               61.0|\n",
            "|[12.0,3.0,185.0,0...|               63.0|\n",
            "|[12.0,10.0,185.0,...|               63.0|\n",
            "|[12.0,12.0,185.0,...|               63.0|\n",
            "+--------------------+-------------------+\n",
            "only showing top 20 rows\n",
            "\n"
          ]
        }
      ]
    },
    {
      "cell_type": "code",
      "source": [
        "lr = LinearRegression(featuresCol=\"features\", labelCol=\"total_revenue_INDEX\")\n",
        "lr_model = lr.fit(train_data)\n",
        "predictions = lr_model.transform(test_data)"
      ],
      "metadata": {
        "id": "FK3wD0QRc8VC"
      },
      "execution_count": null,
      "outputs": []
    },
    {
      "cell_type": "code",
      "source": [
        "predictions.show()"
      ],
      "metadata": {
        "colab": {
          "base_uri": "https://localhost:8080/"
        },
        "id": "HMWoXtLpdOuU",
        "outputId": "25448a32-331c-4abc-e7d1-ced8984c6bfc"
      },
      "execution_count": null,
      "outputs": [
        {
          "output_type": "stream",
          "name": "stdout",
          "text": [
            "+--------------------+-------------------+-------------------+\n",
            "|            features|total_revenue_INDEX|         prediction|\n",
            "+--------------------+-------------------+-------------------+\n",
            "|(15,[0,2,4,6,7,10...|             1544.0| 1414.5305456670455|\n",
            "|[1.0,4.0,200.0,0....|               40.0| 15.575838414593221|\n",
            "|[1.0,13.0,200.0,0...|               40.0| 10.314605581953515|\n",
            "|[12.0,0.0,185.0,0...|               63.0|-20.462619305301388|\n",
            "|[12.0,2.0,185.0,0...|               63.0|  -21.6317821569991|\n",
            "|[13.0,13.0,294.0,...|               59.0|  107.1203671463887|\n",
            "|[13.0,19.0,294.0,...|               59.0| 103.61287859129555|\n",
            "|[18.0,0.0,22.0,0....|               75.0|   36.1599070624223|\n",
            "|[18.0,11.0,22.0,0...|               75.0| 29.729511378084872|\n",
            "|[20.0,2.0,6.0,0.0...|               82.0|  153.6718174577151|\n",
            "|[20.0,3.0,6.0,0.0...|               82.0| 153.08723603186624|\n",
            "|[20.0,6.0,6.0,0.0...|               82.0| 151.33349175431965|\n",
            "|[21.0,8.0,288.0,0...|               60.0| 16.022216262732883|\n",
            "|[23.0,9.0,44.0,0....|               81.0| 185.07704369712897|\n",
            "|[24.0,1.0,290.0,0...|               69.0|  61.60082336774965|\n",
            "|[24.0,9.0,290.0,0...|               69.0| 56.924171960958795|\n",
            "|[31.0,1.0,323.0,0...|               17.0| 26.237416679620644|\n",
            "|[31.0,4.0,323.0,0...|               17.0| 24.483672402074085|\n",
            "|[31.0,8.0,323.0,0...|               17.0| 22.145346698678658|\n",
            "|[33.0,3.0,71.0,0....|               78.0|  110.6935362221142|\n",
            "+--------------------+-------------------+-------------------+\n",
            "only showing top 20 rows\n",
            "\n"
          ]
        }
      ]
    },
    {
      "cell_type": "code",
      "source": [
        "\n",
        "evaluator = RegressionEvaluator(labelCol=\"total_revenue_INDEX\", predictionCol=\"prediction\")\n",
        "rmse = evaluator.evaluate(predictions, {evaluator.metricName: \"rmse\"})\n",
        "r2 = evaluator.evaluate(predictions, {evaluator.metricName: \"r2\"})\n",
        "\n",
        "print(\"Root Mean Squared Error (RMSE):\", rmse)\n",
        "print(\"R-squared (R2):\", r2)\n"
      ],
      "metadata": {
        "colab": {
          "base_uri": "https://localhost:8080/"
        },
        "id": "13INvlgGdHet",
        "outputId": "1fe74d13-1275-4e19-9c11-0c3aede86b11"
      },
      "execution_count": null,
      "outputs": [
        {
          "output_type": "stream",
          "name": "stdout",
          "text": [
            "Root Mean Squared Error (RMSE): 324.30053242076514\n",
            "R-squared (R2): 0.7176047888513177\n"
          ]
        }
      ]
    },
    {
      "cell_type": "markdown",
      "source": [
        "**Sentiment analysis**"
      ],
      "metadata": {
        "id": "_b6F4RytHowc"
      }
    },
    {
      "cell_type": "code",
      "source": [
        "df5_copy.show(5)"
      ],
      "metadata": {
        "id": "SjD36EUQHm74",
        "colab": {
          "base_uri": "https://localhost:8080/"
        },
        "outputId": "289cf852-bf0b-4f52-b879-924f04357f8e"
      },
      "execution_count": null,
      "outputs": [
        {
          "output_type": "stream",
          "name": "stdout",
          "text": [
            "+----------------+---------+-------------------+-----+--------+-----------------+--------------------+----------+--------------------+--------------------+------------+-------+------------+----------+--------------------+--------------------+-----------+-----+-------+-------------+---------+-----+---+-----------+-------+-------+------+-------+-----+-------+---------+------------------+-----+------+------+-------+---------+-----------+-----------+--------------+-----------+------------+-----------------------+--------------+----------------+--------------------------+--------------------------+------------------+-------------+------------------+----------------+-------------------+-----------------+--------------------+--------------------+--------------------------+\n",
            "|           title|    genre|           director|adult|  budget|original_language|            overview|popularity|production_companies|production_countries|release_date|runtime|vote_average|vote_count|       total_revenue|             reviews|before_dash|Crime|Romance|Kids & family|Adventure|Drama|War|Documentary|Fantasy|Holiday|Lgbtq+|History|Anime|Musical|Animation|Mystery & thriller|Music|Sci-fi|Horror|Western|Biography|title_INDEX|genre_INDEX|director_INDEX|adult_INDEX|budget_INDEX|original_language_INDEX|overview_INDEX|popularity_INDEX|production_companies_INDEX|production_countries_INDEX|release_date_INDEX|runtime_INDEX|vote_average_INDEX|vote_count_INDEX|total_revenue_INDEX|before_dash_INDEX|     scaledVoteCount|        scaledBudget|scaledProduction_companies|\n",
            "+----------------+---------+-------------------+-----+--------+-----------------+--------------------+----------+--------------------+--------------------+------------+-------+------------+----------+--------------------+--------------------+-----------+-----+-------+-------------+---------+-----+---+-----------+-------+-------+------+-------+-----+-------+---------+------------------+-----+------+------+-------+---------+-----------+-----------+--------------+-----------+------------+-----------------------+--------------+----------------+--------------------------+--------------------------+------------------+-------------+------------------+----------------+-------------------+-----------------+--------------------+--------------------+--------------------------+\n",
            "|12 Years a Slave|  History|      Steve McQueen|False|20000000|               en|In the pre-Civil ...| 30.316249|[{'name': 'Plan B...|[{'iso_3166_1': '...|  2013-10-18|  134.0|         7.9|      3787|$56.71000000-1870...|[Piercing and hea...|     $56.7M|    0|      0|            0|        0|    0|  0|          0|      0|      0|     0|      1|    0|      0|        0|                 0|    0|     0|     0|      0|        0|      189.0|       11.0|         452.0|        0.0|         2.0|                    0.0|         460.0|           473.0|                     467.0|                      14.0|             104.0|         42.0|              31.0|           588.0|              587.0|            164.0|[1.8915628322066065]|[0.04245302550179...|      [0.8494167355638056]|\n",
            "|12 Years a Slave|    Drama|      Steve McQueen|False|20000000|               en|In the pre-Civil ...| 30.316249|[{'name': 'Plan B...|[{'iso_3166_1': '...|  2013-10-18|  134.0|         7.9|      3787|$56.71000000-1870...|[Piercing and hea...|     $56.7M|    0|      0|            0|        0|    1|  0|          0|      0|      0|     0|      0|    0|      0|        0|                 0|    0|     0|     0|      0|        0|      189.0|        0.0|         452.0|        0.0|         2.0|                    0.0|         460.0|           473.0|                     467.0|                      14.0|             104.0|         42.0|              31.0|           588.0|              587.0|            164.0|[1.8915628322066065]|[0.04245302550179...|      [0.8494167355638056]|\n",
            "|12 Years a Slave|Biography|      Steve McQueen|False|20000000|               en|In the pre-Civil ...| 30.316249|[{'name': 'Plan B...|[{'iso_3166_1': '...|  2013-10-18|  134.0|         7.9|      3787|$56.71000000-1870...|[Piercing and hea...|     $56.7M|    0|      0|            0|        0|    0|  0|          0|      0|      0|     0|      0|    0|      0|        0|                 0|    0|     0|     0|      0|        1|      189.0|       12.0|         452.0|        0.0|         2.0|                    0.0|         460.0|           473.0|                     467.0|                      14.0|             104.0|         42.0|              31.0|           588.0|              587.0|            164.0|[1.8915628322066065]|[0.04245302550179...|      [0.8494167355638056]|\n",
            "|      13 Minutes|  History|Oliver Hirschbiegel|False|       0|               de|The breath-taking...|  4.969851|[{'name': 'Lucky ...|[{'iso_3166_1': '...|  2015-04-09|  114.0|         7.0|        63|   $161.21000-147315|[Elser is an ocea...|    $161.2K|    0|      0|            0|        0|    0|  0|          0|      0|      0|     0|      1|    0|      0|        0|                 0|    0|     0|     0|      0|        0|      192.0|       11.0|         122.0|        0.0|         0.0|                    3.0|         558.0|           491.0|                     393.0|                      21.0|             208.0|         22.0|              10.0|            12.0|              320.0|            525.0|[0.03860332310625...|               [0.0]|       [0.714819651127571]|\n",
            "|      13 Minutes|    Drama|Oliver Hirschbiegel|False|       0|               de|The breath-taking...|  4.969851|[{'name': 'Lucky ...|[{'iso_3166_1': '...|  2015-04-09|  114.0|         7.0|        63|   $161.21000-147315|[Elser is an ocea...|    $161.2K|    0|      0|            0|        0|    1|  0|          0|      0|      0|     0|      0|    0|      0|        0|                 0|    0|     0|     0|      0|        0|      192.0|        0.0|         122.0|        0.0|         0.0|                    3.0|         558.0|           491.0|                     393.0|                      21.0|             208.0|         22.0|              10.0|            12.0|              320.0|            525.0|[0.03860332310625...|               [0.0]|       [0.714819651127571]|\n",
            "+----------------+---------+-------------------+-----+--------+-----------------+--------------------+----------+--------------------+--------------------+------------+-------+------------+----------+--------------------+--------------------+-----------+-----+-------+-------------+---------+-----+---+-----------+-------+-------+------+-------+-----+-------+---------+------------------+-----+------+------+-------+---------+-----------+-----------+--------------+-----------+------------+-----------------------+--------------+----------------+--------------------------+--------------------------+------------------+-------------+------------------+----------------+-------------------+-----------------+--------------------+--------------------+--------------------------+\n",
            "only showing top 5 rows\n",
            "\n"
          ]
        }
      ]
    },
    {
      "cell_type": "code",
      "source": [
        "#Pinting the reviews columns\n",
        "df5_copy.select(\"reviews\").show()"
      ],
      "metadata": {
        "colab": {
          "base_uri": "https://localhost:8080/"
        },
        "id": "FAD9yo09GM9p",
        "outputId": "e16c2c8e-44fe-4984-880c-9a364d471d8c"
      },
      "execution_count": null,
      "outputs": [
        {
          "output_type": "stream",
          "name": "stdout",
          "text": [
            "+--------------------+\n",
            "|             reviews|\n",
            "+--------------------+\n",
            "|[Piercing and hea...|\n",
            "|[Piercing and hea...|\n",
            "|[Piercing and hea...|\n",
            "|[Elser is an ocea...|\n",
            "|[Elser is an ocea...|\n",
            "|[Elser is an ocea...|\n",
            "|[Directed in a st...|\n",
            "|[Directed in a st...|\n",
            "|[2 Fast 2 Furious...|\n",
            "|[\"Tony Wilson's a...|\n",
            "|[\"Tony Wilson's a...|\n",
            "|[Lacks the wicked...|\n",
            "|[Lacks the wicked...|\n",
            "|[The story moves ...|\n",
            "|[The story moves ...|\n",
            "|[In the hands of ...|\n",
            "|[In the hands of ...|\n",
            "|[In the hands of ...|\n",
            "|[The comedy reach...|\n",
            "|[The comedy reach...|\n",
            "+--------------------+\n",
            "only showing top 20 rows\n",
            "\n"
          ]
        }
      ]
    },
    {
      "cell_type": "code",
      "source": [
        "# Checking duplicates\n",
        "duplicate_rows = df5_copy.groupBy(df5_copy.reviews).count().filter(col('count') > 1)\n",
        "duplicate_rows.show()"
      ],
      "metadata": {
        "colab": {
          "base_uri": "https://localhost:8080/"
        },
        "id": "QsfmprffGPju",
        "outputId": "0d3e8c47-02d3-4544-8f39-125b88489232"
      },
      "execution_count": null,
      "outputs": [
        {
          "output_type": "stream",
          "name": "stdout",
          "text": [
            "+--------------------+-----+\n",
            "|             reviews|count|\n",
            "+--------------------+-----+\n",
            "|[Appears visually...|    2|\n",
            "|[One of those mov...|    2|\n",
            "|[Teen slacker com...|    2|\n",
            "|[An underrated ro...|    2|\n",
            "|[... As fun as th...|    4|\n",
            "|[Yes, it's a grea...|    2|\n",
            "|[While the story ...|    2|\n",
            "|[Greengrass puts ...|    3|\n",
            "|[The real issue I...|    2|\n",
            "|[The visual prese...|    3|\n",
            "|[Paints a picture...|    2|\n",
            "|[A straight-forwa...|    3|\n",
            "|[With obvious amb...|    4|\n",
            "|[With a ponytail ...|    3|\n",
            "|[Simply the Coens...|    2|\n",
            "|[The songs functi...|    4|\n",
            "|[If looks can tru...|    2|\n",
            "|[Wayans has been ...|    2|\n",
            "|[Perhaps the prob...|    2|\n",
            "|[As a character d...|    2|\n",
            "+--------------------+-----+\n",
            "only showing top 20 rows\n",
            "\n"
          ]
        }
      ]
    },
    {
      "cell_type": "code",
      "source": [
        "pip install sparknlp"
      ],
      "metadata": {
        "colab": {
          "base_uri": "https://localhost:8080/"
        },
        "id": "eN3DA2BFGRwD",
        "outputId": "b2484fdc-479f-4330-9d83-36a0ec638cce"
      },
      "execution_count": null,
      "outputs": [
        {
          "output_type": "stream",
          "name": "stdout",
          "text": [
            "Collecting sparknlp\n",
            "  Downloading sparknlp-1.0.0-py3-none-any.whl (1.4 kB)\n",
            "Collecting spark-nlp (from sparknlp)\n",
            "  Downloading spark_nlp-5.0.0-py2.py3-none-any.whl (498 kB)\n",
            "\u001b[2K     \u001b[90m━━━━━━━━━━━━━━━━━━━━━━━━━━━━━━━━━━━━━━\u001b[0m \u001b[32m498.7/498.7 kB\u001b[0m \u001b[31m11.2 MB/s\u001b[0m eta \u001b[36m0:00:00\u001b[0m\n",
            "\u001b[?25hRequirement already satisfied: numpy in /usr/local/lib/python3.10/dist-packages (from sparknlp) (1.22.4)\n",
            "Installing collected packages: spark-nlp, sparknlp\n",
            "Successfully installed spark-nlp-5.0.0 sparknlp-1.0.0\n"
          ]
        }
      ]
    },
    {
      "cell_type": "code",
      "source": [
        "pip install vaderSentiment"
      ],
      "metadata": {
        "colab": {
          "base_uri": "https://localhost:8080/"
        },
        "id": "2gENQ0YCGVb7",
        "outputId": "0646af68-d364-49fb-8f22-0dfcb25f3fde"
      },
      "execution_count": null,
      "outputs": [
        {
          "output_type": "stream",
          "name": "stdout",
          "text": [
            "Collecting vaderSentiment\n",
            "  Downloading vaderSentiment-3.3.2-py2.py3-none-any.whl (125 kB)\n",
            "\u001b[?25l     \u001b[90m━━━━━━━━━━━━━━━━━━━━━━━━━━━━━━━━━━━━━━━━\u001b[0m \u001b[32m0.0/126.0 kB\u001b[0m \u001b[31m?\u001b[0m eta \u001b[36m-:--:--\u001b[0m\r\u001b[2K     \u001b[90m━━━━━━━━━━━━━━━━━━━━━━━━━━━━━━━━━━━━━━━\u001b[0m \u001b[32m126.0/126.0 kB\u001b[0m \u001b[31m3.9 MB/s\u001b[0m eta \u001b[36m0:00:00\u001b[0m\n",
            "\u001b[?25hRequirement already satisfied: requests in /usr/local/lib/python3.10/dist-packages (from vaderSentiment) (2.27.1)\n",
            "Requirement already satisfied: urllib3<1.27,>=1.21.1 in /usr/local/lib/python3.10/dist-packages (from requests->vaderSentiment) (1.26.16)\n",
            "Requirement already satisfied: certifi>=2017.4.17 in /usr/local/lib/python3.10/dist-packages (from requests->vaderSentiment) (2023.5.7)\n",
            "Requirement already satisfied: charset-normalizer~=2.0.0 in /usr/local/lib/python3.10/dist-packages (from requests->vaderSentiment) (2.0.12)\n",
            "Requirement already satisfied: idna<4,>=2.5 in /usr/local/lib/python3.10/dist-packages (from requests->vaderSentiment) (3.4)\n",
            "Installing collected packages: vaderSentiment\n",
            "Successfully installed vaderSentiment-3.3.2\n"
          ]
        }
      ]
    },
    {
      "cell_type": "code",
      "source": [
        "import nltk\n",
        "nltk.download('vader_lexicon')\n"
      ],
      "metadata": {
        "colab": {
          "base_uri": "https://localhost:8080/"
        },
        "id": "ITbomWXJGXkI",
        "outputId": "6c8a9cd3-fd7a-4731-9886-8406e82e41d5"
      },
      "execution_count": null,
      "outputs": [
        {
          "output_type": "stream",
          "name": "stderr",
          "text": [
            "[nltk_data] Downloading package vader_lexicon to /root/nltk_data...\n"
          ]
        },
        {
          "output_type": "execute_result",
          "data": {
            "text/plain": [
              "True"
            ]
          },
          "metadata": {},
          "execution_count": 89
        }
      ]
    },
    {
      "cell_type": "code",
      "source": [
        "analyzer = SentimentIntensityAnalyzer()\n",
        "\n",
        "# Define the sentiment analysis function\n",
        "def analyze_sentiment(text):\n",
        "    sentiment_scores = analyzer.polarity_scores(text)\n",
        "    compound_score = sentiment_scores['compound']\n",
        "    if compound_score >= 0.05:\n",
        "        sentiment = 'Positive'\n",
        "    elif compound_score <= -0.05:\n",
        "        sentiment = 'Negative'\n",
        "    else:\n",
        "        sentiment = 'Neutral'\n",
        "    return sentiment\n",
        "\n",
        "# Register the sentiment analysis UDF\n",
        "analyze_sentiment_udf = udf(analyze_sentiment, StringType())\n",
        "\n",
        "# Apply the UDF to the \"review\" column in df5\n",
        "df5_copy = df5_copy.withColumn(\"sentiment\", analyze_sentiment_udf(df5_copy[\"reviews\"]))\n"
      ],
      "metadata": {
        "id": "h5gGcnvBGaQt"
      },
      "execution_count": null,
      "outputs": []
    },
    {
      "cell_type": "code",
      "source": [
        "df5_copy.show(10)"
      ],
      "metadata": {
        "id": "9htm4X1HGdra",
        "colab": {
          "base_uri": "https://localhost:8080/"
        },
        "outputId": "11bf12af-cc79-4949-9e02-4a96b261f98f"
      },
      "execution_count": null,
      "outputs": [
        {
          "output_type": "stream",
          "name": "stdout",
          "text": [
            "+--------------------+------------------+--------------------+-----+--------+-----------------+--------------------+----------+--------------------+--------------------+------------+-------+------------+----------+--------------------+--------------------+-----------+-----+-------+-------------+---------+-----+---+-----------+-------+-------+------+-------+-----+-------+---------+------------------+-----+------+------+-------+---------+-----------+-----------+--------------+-----------+------------+-----------------------+--------------+----------------+--------------------------+--------------------------+------------------+-------------+------------------+----------------+-------------------+-----------------+--------------------+--------------------+--------------------------+---------+\n",
            "|               title|             genre|            director|adult|  budget|original_language|            overview|popularity|production_companies|production_countries|release_date|runtime|vote_average|vote_count|       total_revenue|             reviews|before_dash|Crime|Romance|Kids & family|Adventure|Drama|War|Documentary|Fantasy|Holiday|Lgbtq+|History|Anime|Musical|Animation|Mystery & thriller|Music|Sci-fi|Horror|Western|Biography|title_INDEX|genre_INDEX|director_INDEX|adult_INDEX|budget_INDEX|original_language_INDEX|overview_INDEX|popularity_INDEX|production_companies_INDEX|production_countries_INDEX|release_date_INDEX|runtime_INDEX|vote_average_INDEX|vote_count_INDEX|total_revenue_INDEX|before_dash_INDEX|     scaledVoteCount|        scaledBudget|scaledProduction_companies|sentiment|\n",
            "+--------------------+------------------+--------------------+-----+--------+-----------------+--------------------+----------+--------------------+--------------------+------------+-------+------------+----------+--------------------+--------------------+-----------+-----+-------+-------------+---------+-----+---+-----------+-------+-------+------+-------+-----+-------+---------+------------------+-----+------+------+-------+---------+-----------+-----------+--------------+-----------+------------+-----------------------+--------------+----------------+--------------------------+--------------------------+------------------+-------------+------------------+----------------+-------------------+-----------------+--------------------+--------------------+--------------------------+---------+\n",
            "|    12 Years a Slave|           History|       Steve McQueen|False|20000000|               en|In the pre-Civil ...| 30.316249|[{'name': 'Plan B...|[{'iso_3166_1': '...|  2013-10-18|  134.0|         7.9|      3787|$56.71000000-1870...|[Piercing and hea...|     $56.7M|    0|      0|            0|        0|    0|  0|          0|      0|      0|     0|      1|    0|      0|        0|                 0|    0|     0|     0|      0|        0|      189.0|       11.0|         452.0|        0.0|         2.0|                    0.0|         460.0|           473.0|                     467.0|                      14.0|             104.0|         42.0|              31.0|           588.0|              587.0|            164.0|[1.8915628322066065]|[0.04245302550179...|      [0.8494167355638056]| Negative|\n",
            "|    12 Years a Slave|             Drama|       Steve McQueen|False|20000000|               en|In the pre-Civil ...| 30.316249|[{'name': 'Plan B...|[{'iso_3166_1': '...|  2013-10-18|  134.0|         7.9|      3787|$56.71000000-1870...|[Piercing and hea...|     $56.7M|    0|      0|            0|        0|    1|  0|          0|      0|      0|     0|      0|    0|      0|        0|                 0|    0|     0|     0|      0|        0|      189.0|        0.0|         452.0|        0.0|         2.0|                    0.0|         460.0|           473.0|                     467.0|                      14.0|             104.0|         42.0|              31.0|           588.0|              587.0|            164.0|[1.8915628322066065]|[0.04245302550179...|      [0.8494167355638056]| Negative|\n",
            "|    12 Years a Slave|         Biography|       Steve McQueen|False|20000000|               en|In the pre-Civil ...| 30.316249|[{'name': 'Plan B...|[{'iso_3166_1': '...|  2013-10-18|  134.0|         7.9|      3787|$56.71000000-1870...|[Piercing and hea...|     $56.7M|    0|      0|            0|        0|    0|  0|          0|      0|      0|     0|      0|    0|      0|        0|                 0|    0|     0|     0|      0|        1|      189.0|       12.0|         452.0|        0.0|         2.0|                    0.0|         460.0|           473.0|                     467.0|                      14.0|             104.0|         42.0|              31.0|           588.0|              587.0|            164.0|[1.8915628322066065]|[0.04245302550179...|      [0.8494167355638056]| Negative|\n",
            "|          13 Minutes|           History| Oliver Hirschbiegel|False|       0|               de|The breath-taking...|  4.969851|[{'name': 'Lucky ...|[{'iso_3166_1': '...|  2015-04-09|  114.0|         7.0|        63|   $161.21000-147315|[Elser is an ocea...|    $161.2K|    0|      0|            0|        0|    0|  0|          0|      0|      0|     0|      1|    0|      0|        0|                 0|    0|     0|     0|      0|        0|      192.0|       11.0|         122.0|        0.0|         0.0|                    3.0|         558.0|           491.0|                     393.0|                      21.0|             208.0|         22.0|              10.0|            12.0|              320.0|            525.0|[0.03860332310625...|               [0.0]|       [0.714819651127571]| Positive|\n",
            "|          13 Minutes|             Drama| Oliver Hirschbiegel|False|       0|               de|The breath-taking...|  4.969851|[{'name': 'Lucky ...|[{'iso_3166_1': '...|  2015-04-09|  114.0|         7.0|        63|   $161.21000-147315|[Elser is an ocea...|    $161.2K|    0|      0|            0|        0|    1|  0|          0|      0|      0|     0|      0|    0|      0|        0|                 0|    0|     0|     0|      0|        0|      192.0|        0.0|         122.0|        0.0|         0.0|                    3.0|         558.0|           491.0|                     393.0|                      21.0|             208.0|         22.0|              10.0|            12.0|              320.0|            525.0|[0.03860332310625...|               [0.0]|       [0.714819651127571]| Positive|\n",
            "|          13 Minutes|         Biography| Oliver Hirschbiegel|False|       0|               de|The breath-taking...|  4.969851|[{'name': 'Lucky ...|[{'iso_3166_1': '...|  2015-04-09|  114.0|         7.0|        63|   $161.21000-147315|[Elser is an ocea...|    $161.2K|    0|      0|            0|        0|    0|  0|          0|      0|      0|     0|      0|    0|      0|        0|                 0|    0|     0|     0|      0|        1|      192.0|       12.0|         122.0|        0.0|         0.0|                    3.0|         558.0|           491.0|                     393.0|                      21.0|             208.0|         22.0|              10.0|            12.0|              320.0|            525.0|[0.03860332310625...|               [0.0]|       [0.714819651127571]| Positive|\n",
            "|                1408|            Horror|     Mikael Håfström|False|25000000|               en|A man who special...|  9.196884|[{'name': 'The We...|[{'iso_3166_1': '...|  2007-07-12|  104.0|         6.5|      1372|$72.01000000-9467...|[Directed in a st...|     $72.0M|    0|      0|            0|        0|    0|  0|          0|      0|      0|     0|      0|    0|      0|        0|                 0|    0|     0|     1|      0|        0|      659.0|        7.0|          75.0|        0.0|         5.0|                    0.0|         767.0|          1536.0|                    1229.0|                       0.0|            1158.0|         14.0|               1.0|           740.0|             1440.0|            460.0|[2.3805382582191985]|[0.10613256375448...|      [2.2354029293531417]| Positive|\n",
            "|                1408|Mystery & thriller|     Mikael Håfström|False|25000000|               en|A man who special...|  9.196884|[{'name': 'The We...|[{'iso_3166_1': '...|  2007-07-12|  104.0|         6.5|      1372|$72.01000000-9467...|[Directed in a st...|     $72.0M|    0|      0|            0|        0|    0|  0|          0|      0|      0|     0|      0|    0|      0|        0|                 1|    0|     0|     0|      0|        0|      659.0|        2.0|          75.0|        0.0|         5.0|                    0.0|         767.0|          1536.0|                    1229.0|                       0.0|            1158.0|         14.0|               1.0|           740.0|             1440.0|            460.0|[2.3805382582191985]|[0.10613256375448...|      [2.2354029293531417]| Positive|\n",
            "|    2 Fast 2 Furious|            Action|      John Singleton|False|76000000|               en|\"It's a major dou...|   2.32462|[{'name': 'Mikona...|[{'iso_3166_1': '...|  2003-06-05|  107.0|         6.2|      2087|$127.11000000-236...|[2 Fast 2 Furious...|    $127.1M|    0|      0|            0|        0|    0|  0|          0|      0|      0|     0|      0|    0|      0|        0|                 0|    0|     0|     0|      0|        0|     1604.0|        3.0|         115.0|        0.0|       100.0|                    0.0|        1613.0|          1910.0|                    1669.0|                       0.0|            1580.0|         15.0|               7.0|          1054.0|             1622.0|           1104.0| [3.390658546166264]| [2.122651275089754]|      [3.0357099178929157]| Positive|\n",
            "|24 Hour Party People|            Comedy|Michael Winterbottom|False|       0|               en|In 1976, Tony Wil...| 12.655728|[{'name': 'United...|[{'iso_3166_1': '...|  2002-02-13|  117.0|         6.8|       109|       $1.11000000-0|[\"Tony Wilson's a...|      $1.1M|    0|      0|            0|        0|    0|  0|          0|      0|      0|     0|      0|    0|      0|        0|                 0|    0|     0|     0|      0|        0|      662.0|        1.0|         165.0|        0.0|         0.0|                    0.0|        1145.0|           893.0|                    1282.0|                       2.0|             997.0|         28.0|              12.0|            72.0|                0.0|              0.0|[0.23161993863754...|               [0.0]|      [2.3318035438817963]| Positive|\n",
            "+--------------------+------------------+--------------------+-----+--------+-----------------+--------------------+----------+--------------------+--------------------+------------+-------+------------+----------+--------------------+--------------------+-----------+-----+-------+-------------+---------+-----+---+-----------+-------+-------+------+-------+-----+-------+---------+------------------+-----+------+------+-------+---------+-----------+-----------+--------------+-----------+------------+-----------------------+--------------+----------------+--------------------------+--------------------------+------------------+-------------+------------------+----------------+-------------------+-----------------+--------------------+--------------------+--------------------------+---------+\n",
            "only showing top 10 rows\n",
            "\n"
          ]
        }
      ]
    },
    {
      "cell_type": "code",
      "source": [
        "# Assuming you have a DataFrame 'df' with 'sentiment' column\n",
        "sentiment_counts = df5_copy.groupby('sentiment').count().toPandas()\n",
        "\n",
        "# Plotting the bar graph\n",
        "plt.bar(sentiment_counts['sentiment'], sentiment_counts['count'])\n",
        "plt.xlabel('Sentiment')\n",
        "plt.ylabel('Count')\n",
        "plt.title('Sentiment Analysis')\n",
        "plt.show()"
      ],
      "metadata": {
        "id": "7-rHhqe1GgIp",
        "colab": {
          "base_uri": "https://localhost:8080/",
          "height": 472
        },
        "outputId": "e22d38ec-f23e-47ae-db6f-1c48c36cb954"
      },
      "execution_count": null,
      "outputs": [
        {
          "output_type": "display_data",
          "data": {
            "text/plain": [
              "<Figure size 640x480 with 1 Axes>"
            ],
            "image/png": "[encoded data removed]"
          },
          "metadata": {}
        }
      ]
    },
    {
      "cell_type": "markdown",
      "source": [
        "\n",
        "\n",
        "**Movie Recommendation**"
      ],
      "metadata": {
        "id": "defdJbRBGmXm"
      }
    },
    {
      "cell_type": "code",
      "source": [
        "from pyspark.sql.functions import regexp_replace\n",
        "\n",
        "df5 = df5.withColumn(\"genre\", regexp_replace(df5[\"genre\"], \"Adventure,\", \"Adventure \")\n",
        "                    .cast(\"string\"))\n",
        "df5 = df5.withColumn(\"genre\", regexp_replace(df5[\"genre\"], \"Comedy,\", \"Comedy \")\n",
        "                    .cast(\"string\"))\n",
        "df5 = df5.withColumn(\"genre\", regexp_replace(df5[\"genre\"], \"Mystery & thriller,\", \"Mystery thriller \")\n",
        "                    .cast(\"string\"))\n",
        "df5 = df5.withColumn(\"genre\", regexp_replace(df5[\"genre\"], \"Horror,\", \"Horror \")\n",
        "                    .cast(\"string\"))\n",
        "df5 = df5.withColumn(\"genre\", regexp_replace(df5[\"genre\"], \"Kids & family,\", \"Kids & family \")\n",
        "                    .cast(\"string\"))\n",
        "df5 = df5.withColumn(\"genre\", regexp_replace(df5[\"genre\"], \"Sci-fi,\", \"Sci-fi \")\n",
        "                    .cast(\"string\"))\n",
        "df5 = df5.withColumn(\"genre\", regexp_replace(df5[\"genre\"], \"Romance,\", \"Romance \")\n",
        "                    .cast(\"string\"))\n",
        "df5 = df5.withColumn(\"genre\", regexp_replace(df5[\"genre\"], \"Action,\", \"Action \")\n",
        "                    .cast(\"string\"))\n",
        "df5 = df5.withColumn(\"genre\", regexp_replace(df5[\"genre\"], \"Western,\", \"Western \")\n",
        "                    .cast(\"string\"))\n",
        "df5 = df5.withColumn(\"genre\", regexp_replace(df5[\"genre\"], \"Drama,\", \"Drama \")\n",
        "                    .cast(\"string\"))\n",
        "df5 = df5.withColumn(\"genre\", regexp_replace(df5[\"genre\"], \"Kids & family\", \"Kids family \")\n",
        "                    .cast(\"string\"))\n",
        "df5 = df5.withColumn(\"genre\", regexp_replace(df5[\"genre\"], \"Mystery & thriller\", \"Mystery thriller \")\n",
        "                    .cast(\"string\"))\n",
        "df5 = df5.withColumn(\"genre\", regexp_replace(df5[\"genre\"], \"Fantasy,\", \"Fantasy \")\n",
        "                    .cast(\"string\"))\n",
        "df5 = df5.withColumn(\"genre\", regexp_replace(df5[\"genre\"], \"Musical,\", \"Musical \")\n",
        "                    .cast(\"string\"))\n",
        "df5 = df5.withColumn(\"genre\", regexp_replace(df5[\"genre\"], \"Holiday,\", \"Holiday \")\n",
        "                    .cast(\"string\"))\n",
        "df5 = df5.withColumn(\"genre\", regexp_replace(df5[\"genre\"], \"Crime,\", \"Crime \")\n",
        "                    .cast(\"string\"))\n",
        "df5 = df5.withColumn(\"genre\", regexp_replace(df5[\"genre\"], \"War,\", \"War \")\n",
        "                    .cast(\"string\"))\n",
        "df5 = df5.withColumn(\"genre\", regexp_replace(df5[\"genre\"], \"Lgbtq+,\", \"Lgbtq+ \")\n",
        "                    .cast(\"string\"))\n",
        "df5 = df5.withColumn(\"genre\", regexp_replace(df5[\"genre\"], \"Biography,\", \"Biography \")\n",
        "                    .cast(\"string\"))\n",
        "df5 = df5.withColumn(\"genre\", regexp_replace(df5[\"genre\"], \"History,\", \"History \")\n",
        "                    .cast(\"string\"))\n",
        "df5 = df5.withColumn(\"genre\", regexp_replace(df5[\"genre\"], \"Gay & lesbian,\", \"Gay & lesbian \")\n",
        "                    .cast(\"string\"))\n",
        "df5 = df5.withColumn(\"genre\", regexp_replace(df5[\"genre\"], \"Gay & lesbian\", \"Gay lesbian \")\n",
        "                    .cast(\"string\"))"
      ],
      "metadata": {
        "id": "4Bj9JJ84FI80"
      },
      "execution_count": null,
      "outputs": []
    },
    {
      "cell_type": "code",
      "source": [
        "from pyspark.sql import SparkSession\n",
        "from pyspark.ml.feature import Tokenizer, RegexTokenizer, StopWordsRemover, CountVectorizer, IDF\n",
        "from pyspark.ml.linalg import DenseVector\n",
        "from pyspark.ml.feature import StringIndexer\n",
        "from pyspark.ml.feature import VectorAssembler\n",
        "from pyspark.ml.feature import Normalizer\n",
        "from pyspark.ml.linalg import Vectors\n",
        "from pyspark.ml.feature import VectorAssembler\n",
        "from pyspark.ml.feature import MinMaxScaler\n",
        "from pyspark.ml import Pipeline\n",
        "from pyspark.ml.feature import Normalizer\n",
        "from pyspark.sql.functions import col\n",
        "\n",
        "df5 = df5.withColumn(\"index\", monotonically_increasing_id()).drop(\"index\")\n",
        "\n",
        "df5 = df5.withColumn(\"combined_features\", concat(col(\"overview\"), lit(\" \"), col(\"genre\")))\n",
        "\n",
        "# Create the pipeline\n",
        "tokenizer = RegexTokenizer(inputCol=\"combined_features\", outputCol=\"words\", pattern=\"\\\\W\")\n",
        "remover = StopWordsRemover(inputCol=\"words\", outputCol=\"filtered_words\")\n",
        "countVectorizer = CountVectorizer(inputCol=\"filtered_words\", outputCol=\"rawFeatures\")\n",
        "idf = IDF(inputCol=\"rawFeatures\", outputCol=\"features\")\n",
        "assembler = VectorAssembler(inputCols=[\"features\"], outputCol=\"feature_vector\")\n",
        "normalizer = Normalizer(inputCol=\"feature_vector\", outputCol=\"normalized_features\")\n",
        "pipeline = Pipeline(stages=[tokenizer, remover, countVectorizer, idf, assembler, normalizer])\n",
        "\n",
        "# Fit the pipeline to the data\n",
        "pipeline_model = pipeline.fit(df5)\n",
        "df_transformed = pipeline_model.transform(df5)\n",
        "\n",
        "# Define a UDF for cosine similarity\n",
        "def cosine_similarity(v1, v2):\n",
        "    return float(v1.dot(v2) / (v1.norm(2) * v2.norm(2)))\n",
        "\n",
        "cosine_similarity_udf = udf(cosine_similarity)\n",
        "\n",
        "\n",
        "df_similarity = df_transformed.alias(\"df1\").crossJoin(df_transformed.alias(\"df2\"))\n",
        "df_similarity = df_similarity.withColumn(\"similarity\", cosine_similarity_udf(col(\"df1.normalized_features\"), col(\"df2.normalized_features\")))\n",
        "\n",
        "movie_name = input('Enter your favourite movie name: ')\n",
        "df_selected = df_similarity.filter(col(\"df1.title\") == movie_name)\n",
        "\n",
        "df_selected = df_selected.orderBy(col(\"similarity\").desc())\n",
        "\n",
        "recommended_movies = df_selected.select(\"df2.title\").limit(10)\n",
        "\n",
        "print('Movies suggested for you:\\n')\n",
        "recommended_movies.show(truncate=False)"
      ],
      "metadata": {
        "colab": {
          "base_uri": "https://localhost:8080/"
        },
        "id": "zDtRM6qLFI5h",
        "outputId": "0ead6d78-39f2-490a-e14a-a25d9a77f152"
      },
      "execution_count": null,
      "outputs": [
        {
          "output_type": "stream",
          "name": "stdout",
          "text": [
            "Enter your favourite movie name: 13 Minutes\n",
            "Movies suggested for you:\n",
            "\n",
            "+---------------------------+\n",
            "|title                      |\n",
            "+---------------------------+\n",
            "|Parker                     |\n",
            "|Salmon Fishing in the Yemen|\n",
            "|Of Gods and Men            |\n",
            "|Love Liza                  |\n",
            "|Dreamgirls                 |\n",
            "|Inside I'm Dancing         |\n",
            "|The Descendants            |\n",
            "|Parasite                   |\n",
            "|Jackpot                    |\n",
            "|The Merchant of Venice     |\n",
            "+---------------------------+\n",
            "\n"
          ]
        }
      ]
    },
    {
      "cell_type": "markdown",
      "source": [
        "# Mubi Dataset"
      ],
      "metadata": {
        "id": "nuzpoxTzE4ll"
      }
    },
    {
      "cell_type": "markdown",
      "source": [
        "**Reading the dataset**"
      ],
      "metadata": {
        "id": "eN-Z1GA7NFun"
      }
    },
    {
      "cell_type": "code",
      "source": [
        "\n",
        "import time\n",
        "from pyspark.storagelevel import StorageLevel\n",
        "\n",
        "start_time = time.time()\n",
        "\n",
        "#df19 = spark.read.csv(\"/content/drive/MyDrive/BigData/mubi_movie_data.csv\", header=True, inferSchema=True)\n",
        "\n",
        "#df19.write.format(\"parquet\").save('/content/drive/MyDrive/BigData/mubi_movie_data.parquet')\n",
        "df19=spark.read.parquet('/content/drive/MyDrive/Big_Data/mubi_movie_data.parquet')\n",
        "df20=df19.persist(StorageLevel.MEMORY_ONLY)\n",
        "\n",
        "end_time = time.time()\n",
        "\n",
        "execution_time = end_time - start_time\n",
        "\n",
        "print(\"Execution Time: {:.2f} seconds\".format(execution_time))\n",
        "\n",
        "\n"
      ],
      "metadata": {
        "colab": {
          "base_uri": "https://localhost:8080/"
        },
        "id": "JLJ-_KYPeyR2",
        "outputId": "4f768813-0f41-41e5-8b69-5bb8fbd02775"
      },
      "execution_count": 10,
      "outputs": [
        {
          "output_type": "stream",
          "name": "stdout",
          "text": [
            "Execution Time: 5.57 seconds\n"
          ]
        }
      ]
    },
    {
      "cell_type": "code",
      "source": [
        "num_rows = 10\n",
        "df20.show(num_rows)"
      ],
      "metadata": {
        "colab": {
          "base_uri": "https://localhost:8080/"
        },
        "id": "SGA5mzOHM8um",
        "outputId": "93b70863-49c6-4716-89e3-24bf70442eee"
      },
      "execution_count": 11,
      "outputs": [
        {
          "output_type": "stream",
          "name": "stdout",
          "text": [
            "+--------+--------------------+------------------+--------------------+--------------------+----------------+--------------------+-----------+--------------------+--------------------+\n",
            "|movie_id|         movie_title|movie_release_year|           movie_url|movie_title_language|movie_popularity|     movie_image_url|director_id|       director_name|        director_url|\n",
            "+--------+--------------------+------------------+--------------------+--------------------+----------------+--------------------+-----------+--------------------+--------------------+\n",
            "|       1|           La Antena|            2007.0|http://mubi.com/f...|                  en|             105|https://images.mu...|        131|       Esteban Sapir|http://mubi.com/c...|\n",
            "|       2|Elementary Particles|            2006.0|http://mubi.com/f...|                  en|              23|https://images.mu...|         73|       Oskar Roehler|http://mubi.com/c...|\n",
            "|       3|         It's Winter|            2006.0|http://mubi.com/f...|                  en|              21|https://images.mu...|         82|          Rafi Pitts|http://mubi.com/c...|\n",
            "|       4|Kirikou and the W...|            2005.0|http://mubi.com/f...|                  en|              46|https://images.mu...|     89, 90|Michel Ocelot, Bé...|http://mubi.com/c...|\n",
            "|       5|       Padre Nuestro|            2007.0|http://mubi.com/f...|                  en|               7|https://images.mu...|         92|   Christopher Zalla|http://mubi.com/c...|\n",
            "|       6|The Perfume of th...|            2005.0|http://mubi.com/f...|                  en|               6|https://images.mu...|        102|     Bruno Podalydès|http://mubi.com/c...|\n",
            "|       7|             Riviera|            2005.0|http://mubi.com/f...|                  en|               5|https://images.mu...|        109|     Anne Villacèque|http://mubi.com/c...|\n",
            "|       8|Someone Else's Ha...|            2005.0|http://mubi.com/f...|                  en|               8|https://images.mu...|        118|          Fien Troch|http://mubi.com/c...|\n",
            "|       9|        Young Yakuza|            2007.0|http://mubi.com/f...|                  en|              17|https://images.mu...|        127| Jean-Pierre Limosin|http://mubi.com/c...|\n",
            "|      10|          The Return|            2003.0|http://mubi.com/f...|                  en|            1236|https://images.mu...|         27|  Andrey Zvyagintsev|http://mubi.com/c...|\n",
            "+--------+--------------------+------------------+--------------------+--------------------+----------------+--------------------+-----------+--------------------+--------------------+\n",
            "only showing top 10 rows\n",
            "\n"
          ]
        }
      ]
    },
    {
      "cell_type": "code",
      "source": [
        "# That's how i changed the extenstion from csv to parquet.\n",
        "\n",
        "df18 = spark.read.csv(\"/content/drive/MyDrive/Big_Data/mubi_ratings_data.csv\", header=True, inferSchema=True)\n",
        "#df18.write.format(\"parquet\").save('/content/drive/MyDrive/BigData/mubi_ratings_data.parquet')\n"
      ],
      "metadata": {
        "id": "gvAwg-aDigNb"
      },
      "execution_count": 20,
      "outputs": []
    },
    {
      "cell_type": "code",
      "source": [
        "sample_df18 = df18.sample(False, 0.1, seed=42)\n",
        "\n",
        "# Printing the sample\n",
        "sample_df18.show()"
      ],
      "metadata": {
        "colab": {
          "base_uri": "https://localhost:8080/"
        },
        "id": "k8NI2a-ZFQh9",
        "outputId": "8bfe10d2-a8a2-4b8d-b53f-fd630d33fa41"
      },
      "execution_count": 21,
      "outputs": [
        {
          "output_type": "stream",
          "name": "stdout",
          "text": [
            "+--------+---------+--------------------+------------+--------------------+------+------------+---------------+--------+-------------+---------------+-----------------------+-----------------------+\n",
            "|movie_id|rating_id|          rating_url|rating_score|rating_timestamp_utc|critic|critic_likes|critic_comments| user_id|user_trialist|user_subscriber|user_eligible_for_trial|user_has_payment_method|\n",
            "+--------+---------+--------------------+------------+--------------------+------+------------+---------------+--------+-------------+---------------+-----------------------+-----------------------+\n",
            "|    1066|  5192128|http://mubi.com/f...|         3.0| 2011-03-27 02:06:34|  null|           0|              0|57756708|        False|          False|                   True|                   True|\n",
            "|    1066|   960731|http://mubi.com/f...|         4.0| 2009-10-21 14:21:25|  null|           0|              0|18845680|        False|          False|                   True|                  False|\n",
            "|    1066|   682638|http://mubi.com/f...|         3.0| 2009-09-04 02:07:46|  null|           0|              0|88637641|        False|          False|                   True|                  False|\n",
            "|    1068| 18485244|http://mubi.com/f...|         4.0| 2019-06-25 07:07:39|  null|           0|              0|83373278|         True|           True|                  False|                   True|\n",
            "|    1068| 12480424|http://mubi.com/f...|         4.0| 2015-06-04 19:47:57|  null|           0|              0|10036141|        False|           True|                  False|                   True|\n",
            "|    1068| 10084316|http://mubi.com/f...|         3.0| 2014-01-07 02:27:15|  null|           0|              0|10386642|        False|          False|                   True|                  False|\n",
            "|    1068|  9835696|http://mubi.com/f...|         2.0| 2013-10-24 09:20:38|  null|           0|              0|14527840|        False|          False|                   True|                  False|\n",
            "|    1068|  7902836|http://mubi.com/f...|         2.0| 2012-07-08 03:18:06|  null|           0|              0|48568220|        False|          False|                   True|                  False|\n",
            "|    1068|  6741555|http://mubi.com/f...|         3.0| 2011-11-16 06:43:40|  null|           0|              0| 2591449|        False|          False|                   True|                  False|\n",
            "|    1068|  4762805|http://mubi.com/f...|         2.0| 2011-02-09 23:35:19|  null|           0|              0|93170830|        False|          False|                   True|                   True|\n",
            "|    1068|  4336546|http://mubi.com/f...|         4.0| 2011-01-04 02:40:13|  null|           0|              0|47069009|        False|          False|                   True|                  False|\n",
            "|    1068|  1616376|http://mubi.com/f...|         2.0| 2010-01-30 10:40:51|  null|           0|              0|71857857|        False|          False|                   True|                  False|\n",
            "|    1068|  1424831|http://mubi.com/f...|         1.0| 2010-01-02 01:27:55|  null|           0|              0|22931955|        False|          False|                   True|                   True|\n",
            "|    1068|  1185007|http://mubi.com/f...|         3.0| 2009-11-21 23:24:21|  null|           0|              0|64155805|        False|          False|                   True|                  False|\n",
            "|    1068|  1053979|http://mubi.com/f...|         1.0| 2009-11-04 16:02:47|  null|           0|              0|91561893|        False|          False|                   True|                  False|\n",
            "|    1068|   588463|http://mubi.com/f...|         2.0| 2009-08-14 13:07:22|  null|           0|              0|53951249|        False|          False|                   True|                   True|\n",
            "|    1068|   509130|http://mubi.com/f...|         5.0| 2010-01-31 22:31:29|  null|           0|              0|75084886|        False|          False|                  False|                   True|\n",
            "|    1068|   160888|http://mubi.com/f...|         3.0| 2009-04-15 19:59:49|  null|           0|              0|33582512|        False|          False|                   True|                   True|\n",
            "|    1068|   127600|http://mubi.com/f...|         5.0| 2009-02-23 11:09:45|  null|           0|              0|83827553|        False|          False|                   True|                  False|\n",
            "|    1069| 17511172|http://mubi.com/f...|         3.0| 2018-10-28 11:27:23|  null|           0|              0|43252626|        False|          False|                   True|                  False|\n",
            "+--------+---------+--------------------+------------+--------------------+------+------------+---------------+--------+-------------+---------------+-----------------------+-----------------------+\n",
            "only showing top 20 rows\n",
            "\n"
          ]
        }
      ]
    },
    {
      "cell_type": "code",
      "source": [
        "df18_stats = df18.describe().toPandas().set_index('summary')\n",
        "\n",
        "# Computing the statistics of the sample\n",
        "sample_df18_stats = sample_df18.describe().toPandas().set_index('summary')\n",
        "\n",
        "# Comparing the statistics of the original dataset with the statistics of the sample\n",
        "print('Original dataset statistics:')\n",
        "print(df18_stats)\n",
        "print('Sample statistics:')\n",
        "print(sample_df18_stats)"
      ],
      "metadata": {
        "colab": {
          "base_uri": "https://localhost:8080/"
        },
        "id": "-DvEFuPhFS98",
        "outputId": "17ad3c98-9f2d-41c6-b175-ebf9d82aba97"
      },
      "execution_count": 52,
      "outputs": [
        {
          "output_type": "stream",
          "name": "stdout",
          "text": [
            "Original dataset statistics:\n",
            "                                                  movie_id  \\\n",
            "summary                                                      \n",
            "count                                             15584174   \n",
            "mean                                     35249.51670888066   \n",
            "stddev                                   53398.99515268328   \n",
            "min         \\t The premarriage scenes dance with happiness   \n",
            "max      한많은 여인네의 화병이 숙성되어 나오는 반항이 이 영화의 줄거리이지만 할머니 집에 ...   \n",
            "\n",
            "                                                 rating_id  \\\n",
            "summary                                                      \n",
            "count                                             15558610   \n",
            "mean                                     9557719.241964694   \n",
            "stddev                                   5887921.818187722   \n",
            "min                                                     \\t   \n",
            "max      ﻿ with an artistic freedom that no western﻿ ha...   \n",
            "\n",
            "                   rating_url         rating_score  rating_timestamp_utc  \\\n",
            "summary                                                                    \n",
            "count                15555143             15527056              15553266   \n",
            "mean        20.10043101937835    75751.66432952098  3.1683765751052253E7   \n",
            "stddev     3306.5864547436654   2294619.5938701904    3.28839332980494E7   \n",
            "min                                                                        \n",
            "max      рвущие душу и сердце  заставляющие думать          сопереживать   \n",
            "\n",
            "                         critic  \\\n",
            "summary                           \n",
            "count                    781935   \n",
            "mean     -2.8780275207737094E14   \n",
            "stddev    5.3647265780727568E16   \n",
            "min           \b nice nice nice    \n",
            "max                 ｡ﾟ(ﾟ´Д｀ﾟ)ﾟ｡   \n",
            "\n",
            "                                              critic_likes  \\\n",
            "summary                                                      \n",
            "count                                             15509740   \n",
            "mean                                     3306.819946099672   \n",
            "stddev                                  465816.89127442375   \n",
            "min                                                          \n",
            "max      ﻿ is at least gonna let you touch they titties\"\"\"   \n",
            "\n",
            "                critic_comments  \\\n",
            "summary                           \n",
            "count                  15508589   \n",
            "mean         1542.4814844191653   \n",
            "stddev        319596.5471170231   \n",
            "min                               \n",
            "max      ” then there’s hope. \"   \n",
            "\n",
            "                                                   user_id  \\\n",
            "summary                                                      \n",
            "count                                             15485808   \n",
            "mean                                   4.956207078576089E7   \n",
            "stddev                                 2.887845183336344E7   \n",
            "min                                                          \n",
            "max      ” I wished they were words I didn't feel like ...   \n",
            "\n",
            "                user_trialist       user_subscriber user_eligible_for_trial  \\\n",
            "summary                                                                       \n",
            "count                15479233              15476682                15475565   \n",
            "mean      2.604929040689765E7  2.5332380040685505E7    2.6172451957710106E7   \n",
            "stddev   3.3306169676205624E7  3.3048431398142066E7    3.3286291291446846E7   \n",
            "min                                                                           \n",
            "max            ”micro-utopia”         дороговказами           ”filmunculus”   \n",
            "\n",
            "        user_has_payment_method  \n",
            "summary                          \n",
            "count                  15475057  \n",
            "mean       2.7793880504428044E7  \n",
            "stddev      3.412830412396643E7  \n",
            "min                           \"  \n",
            "max                          ▽\"  \n",
            "Sample statistics:\n",
            "                                                  movie_id  \\\n",
            "summary                                                      \n",
            "count                                              1560538   \n",
            "mean                                    35268.033735361445   \n",
            "stddev                                   53421.07783414308   \n",
            "min               \\t-Craig Schwartz inside John Malkovich\"   \n",
            "max      나도 여기서 공부하고 학교를 갈 수 있을까 갑갑한 상황에 뭐든 해보고자 하는 동기부...   \n",
            "\n",
            "                              rating_id                 rating_url  \\\n",
            "summary                                                              \n",
            "count                           1558050                    1557704   \n",
            "mean                  9560208.654508261         1.8829056740151788   \n",
            "stddev                5886418.044940118         62.598977481427845   \n",
            "min                                                                  \n",
            "max       the burning ancient energy!!\"  you havent lost anything\"   \n",
            "\n",
            "                                              rating_score  \\\n",
            "summary                                                      \n",
            "count                                              1554955   \n",
            "mean                                     73093.70880262439   \n",
            "stddev                                  2240490.6050042273   \n",
            "min                                                          \n",
            "max      when I have kinda formed point of view to ever...   \n",
            "\n",
            "                   rating_timestamp_utc  \\\n",
            "summary                                   \n",
            "count                           1557528   \n",
            "mean               3.0192292720384207E7   \n",
            "stddev             3.2851859046170175E7   \n",
            "min       \"\"I'll be your Beethoven.\"\" \"   \n",
            "max                                True   \n",
            "\n",
            "                                                    critic  \\\n",
            "summary                                                      \n",
            "count                                                78407   \n",
            "mean                                  1.6144132477878606E9   \n",
            "stddev                                9.461474143103433E10   \n",
            "min      \ba sleeper hit in the Chinese box office and t...   \n",
            "max                                             Ａｅｓｔｈｅｔｉｃ　   \n",
            "\n",
            "                                              critic_likes  \\\n",
            "summary                                                      \n",
            "count                                              1553079   \n",
            "mean                                     4125.479902192459   \n",
            "stddev                                   531091.1307954481   \n",
            "min                                                          \n",
            "max      ﻿ is at least gonna let you touch they titties\"\"\"   \n",
            "\n",
            "                                           critic_comments  \\\n",
            "summary                                                      \n",
            "count                                              1552947   \n",
            "mean                                    1500.8749905512695   \n",
            "stddev                                  308853.74503003235   \n",
            "min                                                          \n",
            "max      which was published in 1905 as \"\"Three Essays ...   \n",
            "\n",
            "                                                   user_id  \\\n",
            "summary                                                      \n",
            "count                                              1550711   \n",
            "mean                                   4.952790189495222E7   \n",
            "stddev                                2.8889422425210323E7   \n",
            "min        I'm especially impressed with her depicting ...   \n",
            "max                                       è roba da panico   \n",
            "\n",
            "                                             user_trialist  \\\n",
            "summary                                                      \n",
            "count                                              1550096   \n",
            "mean                                  2.6068201489112902E7   \n",
            "stddev                                3.3633666696072325E7   \n",
            "min                        \"\"O Gargantas\"\" (cocky as hell)   \n",
            "max      the imagery was my favorite part about the mov...   \n",
            "\n",
            "                                           user_subscriber  \\\n",
            "summary                                                      \n",
            "count                                              1549848   \n",
            "mean                                  2.5717649684725847E7   \n",
            "stddev                                3.3603354158700876E7   \n",
            "min                                      a cinematic act.\"   \n",
            "max      unique gore-humour that gained its predecesor ...   \n",
            "\n",
            "                                   user_eligible_for_trial  \\\n",
            "summary                                                      \n",
            "count                                              1549722   \n",
            "mean                                  2.7551797286324788E7   \n",
            "stddev                                  3.42221048411594E7   \n",
            "min               \"\"That's ridiculous. Maybe with the fish   \n",
            "max      youth cultural.i love 2nd story & existence of...   \n",
            "\n",
            "                                   user_has_payment_method  \n",
            "summary                                                     \n",
            "count                                              1549676  \n",
            "mean                                   2.671451876595745E7  \n",
            "stddev                                 3.380921330918937E7  \n",
            "min       \"\"Evil Dead (1981)\"\" already has a remake--\"\"...  \n",
            "max                                                   True  \n"
          ]
        }
      ]
    },
    {
      "cell_type": "code",
      "source": [
        "\n",
        "\n",
        "import time\n",
        "from pyspark.storagelevel import StorageLevel\n",
        "\n",
        "start_time = time.time()\n",
        "\n",
        "df18_parquet=spark.read.parquet('/content/drive/MyDrive/Big_Data/mubi_ratings_data.parquet')\n",
        "df21= df18_parquet.persist(StorageLevel.MEMORY_ONLY)\n",
        "\n",
        "\n",
        "\n",
        "end_time = time.time()\n",
        "\n",
        "execution_time = end_time - start_time\n",
        "\n",
        "# print(\"Benchmark Results:\")\n",
        "print(\"Execution Time: {:.2f} seconds\".format(execution_time))\n"
      ],
      "metadata": {
        "colab": {
          "base_uri": "https://localhost:8080/"
        },
        "id": "8qf30SANi8qB",
        "outputId": "d40585ac-875b-4d74-d233-881fe458ef86"
      },
      "execution_count": 28,
      "outputs": [
        {
          "output_type": "stream",
          "name": "stdout",
          "text": [
            "Execution Time: 0.24 seconds\n"
          ]
        }
      ]
    },
    {
      "cell_type": "code",
      "source": [
        "num_rows = 10\n",
        "df21.show(num_rows)"
      ],
      "metadata": {
        "colab": {
          "base_uri": "https://localhost:8080/"
        },
        "id": "0AfMKXVjNQrs",
        "outputId": "4d9ef48e-7ad6-4f85-f730-41e1610e4a13"
      },
      "execution_count": 29,
      "outputs": [
        {
          "output_type": "stream",
          "name": "stdout",
          "text": [
            "+--------+---------+--------------------+------------+--------------------+------+------------+---------------+--------+-------------+---------------+-----------------------+-----------------------+\n",
            "|movie_id|rating_id|          rating_url|rating_score|rating_timestamp_utc|critic|critic_likes|critic_comments| user_id|user_trialist|user_subscriber|user_eligible_for_trial|user_has_payment_method|\n",
            "+--------+---------+--------------------+------------+--------------------+------+------------+---------------+--------+-------------+---------------+-----------------------+-----------------------+\n",
            "|  152505| 19166122|http://mubi.com/f...|         3.0| 2019-12-25 20:44:37|  null|           0|              0|   74334|        False|          False|                   True|                   True|\n",
            "|  152505| 17745942|http://mubi.com/f...|         2.0| 2018-12-31 15:53:35|  null|           1|              0|55339616|        False|          False|                  False|                   True|\n",
            "|  152505| 15772024|http://mubi.com/f...|         3.0| 2017-07-24 21:28:10|  null|           0|              0|93086743|        False|          False|                   True|                   True|\n",
            "|  152505| 14655458|http://mubi.com/f...|         4.0| 2016-10-23 21:21:51|  null|           0|              0|67855881|        False|          False|                  False|                   True|\n",
            "|  152506| 16332748|http://mubi.com/f...|         5.0| 2017-12-14 20:50:20|  null|           0|              0|50036926|        False|          False|                   True|                   True|\n",
            "|  152535| 13987281|http://mubi.com/f...|         3.0| 2016-05-08 08:03:14|  null|           0|              0|65654383|        False|          False|                   True|                  False|\n",
            "|  152536| 14310190|http://mubi.com/f...|         3.0| 2016-07-28 14:06:34|  null|           0|              0|98439955|        False|          False|                   True|                  False|\n",
            "|  152536| 14128378|http://mubi.com/f...|         4.0| 2016-06-11 07:01:07|  null|           0|              0|12039209|         True|           True|                  False|                  False|\n",
            "|  152536| 14080160|http://mubi.com/f...|         3.0| 2016-05-30 06:00:29|  null|           0|              0|31935687|        False|           True|                  False|                   True|\n",
            "|  152541| 17156535|http://mubi.com/f...|         3.0| 2018-07-26 11:08:01|  null|           0|              0|99083523|        False|          False|                   True|                  False|\n",
            "+--------+---------+--------------------+------------+--------------------+------+------------+---------------+--------+-------------+---------------+-----------------------+-----------------------+\n",
            "only showing top 10 rows\n",
            "\n"
          ]
        }
      ]
    },
    {
      "cell_type": "markdown",
      "source": [
        "**Cleaning (Nulls, Duplicates, Unwanted Columns)**"
      ],
      "metadata": {
        "id": "7ygcW8qrNX24"
      }
    },
    {
      "cell_type": "code",
      "source": [
        "#Checking null values\n",
        "for column in df20.columns:\n",
        "   null_count = df20.filter(col(column).isNull() | isnan(col(column))).count()\n",
        "   if null_count > 0:\n",
        "    print(f\"Column '{column}' has {null_count} null value(s).\")"
      ],
      "metadata": {
        "colab": {
          "base_uri": "https://localhost:8080/"
        },
        "id": "KGW9i6mmNaHb",
        "outputId": "d787a2fa-1045-4feb-96c7-57fa479c2067"
      },
      "execution_count": 30,
      "outputs": [
        {
          "output_type": "stream",
          "name": "stdout",
          "text": [
            "Column 'movie_release_year' has 5 null value(s).\n",
            "Column 'movie_image_url' has 17418 null value(s).\n",
            "Column 'director_name' has 3 null value(s).\n"
          ]
        }
      ]
    },
    {
      "cell_type": "code",
      "source": [
        "#Dropping null values\n",
        "df20= df20.na.drop()"
      ],
      "metadata": {
        "id": "BJbLg3E6NhMX"
      },
      "execution_count": 31,
      "outputs": []
    },
    {
      "cell_type": "code",
      "source": [
        "for column in df20.columns:\n",
        "  null_count = df20.filter(col(column).isNull() | isnan(col(column))).count()\n",
        "  if null_count > 0:\n",
        "    print(f\"Column '{column}' has {null_count} null value(s).\")\n",
        "if null_count == 0:\n",
        "  print(\"Done\")"
      ],
      "metadata": {
        "colab": {
          "base_uri": "https://localhost:8080/"
        },
        "id": "Lxz-mx8TNhG7",
        "outputId": "2d765a16-8b57-4162-8bc5-a8b1446fa941"
      },
      "execution_count": 32,
      "outputs": [
        {
          "output_type": "stream",
          "name": "stdout",
          "text": [
            "Done\n"
          ]
        }
      ]
    },
    {
      "cell_type": "code",
      "source": [
        "#Checking duplicates\n",
        "duplicate_rows = df20.groupBy(df20.columns).count().filter(col('count') > 1)\n",
        "duplicate_rows.show()"
      ],
      "metadata": {
        "colab": {
          "base_uri": "https://localhost:8080/"
        },
        "id": "xlTJ2fAgNhBy",
        "outputId": "f687c900-3ae3-47f0-e176-86f37bd83edf"
      },
      "execution_count": 33,
      "outputs": [
        {
          "output_type": "stream",
          "name": "stdout",
          "text": [
            "+--------+-----------+------------------+---------+--------------------+----------------+---------------+-----------+-------------+------------+-----+\n",
            "|movie_id|movie_title|movie_release_year|movie_url|movie_title_language|movie_popularity|movie_image_url|director_id|director_name|director_url|count|\n",
            "+--------+-----------+------------------+---------+--------------------+----------------+---------------+-----------+-------------+------------+-----+\n",
            "+--------+-----------+------------------+---------+--------------------+----------------+---------------+-----------+-------------+------------+-----+\n",
            "\n"
          ]
        }
      ]
    },
    {
      "cell_type": "code",
      "source": [
        "# Drop unwanted columns\n",
        "columns_to_drop = ['movie_image_url', 'director_url', 'movie_url']\n",
        "\n",
        "df20= df20.drop(*columns_to_drop)\n",
        "\n",
        "df20.show()\n"
      ],
      "metadata": {
        "colab": {
          "base_uri": "https://localhost:8080/"
        },
        "id": "kpneWlHNNg_C",
        "outputId": "747afd67-a9d1-4cbf-dca6-6ce94b7b3191"
      },
      "execution_count": 34,
      "outputs": [
        {
          "output_type": "stream",
          "name": "stdout",
          "text": [
            "+--------+--------------------+------------------+--------------------+----------------+-----------+--------------------+\n",
            "|movie_id|         movie_title|movie_release_year|movie_title_language|movie_popularity|director_id|       director_name|\n",
            "+--------+--------------------+------------------+--------------------+----------------+-----------+--------------------+\n",
            "|       1|           La Antena|            2007.0|                  en|             105|        131|       Esteban Sapir|\n",
            "|       2|Elementary Particles|            2006.0|                  en|              23|         73|       Oskar Roehler|\n",
            "|       3|         It's Winter|            2006.0|                  en|              21|         82|          Rafi Pitts|\n",
            "|       4|Kirikou and the W...|            2005.0|                  en|              46|     89, 90|Michel Ocelot, Bé...|\n",
            "|       5|       Padre Nuestro|            2007.0|                  en|               7|         92|   Christopher Zalla|\n",
            "|       6|The Perfume of th...|            2005.0|                  en|               6|        102|     Bruno Podalydès|\n",
            "|       7|             Riviera|            2005.0|                  en|               5|        109|     Anne Villacèque|\n",
            "|       8|Someone Else's Ha...|            2005.0|                  en|               8|        118|          Fien Troch|\n",
            "|       9|        Young Yakuza|            2007.0|                  en|              17|        127| Jean-Pierre Limosin|\n",
            "|      10|          The Return|            2003.0|                  en|            1236|         27|  Andrey Zvyagintsev|\n",
            "|      11|            Il grido|            1957.0|                  en|             178|         36|Michelangelo Anto...|\n",
            "|      12|         The General|            1926.0|                  en|            3124|     46, 47|Buster Keaton, Cl...|\n",
            "|      13|          L'Age d'Or|            1930.0|                  en|             898|         56|         Luis Buñuel|\n",
            "|      14|   Les bonnes femmes|            1960.0|                  en|             167|         62|      Claude Chabrol|\n",
            "|      15|                Cops|            1922.0|                  en|             237|  46, 23290|Buster Keaton, Ed...|\n",
            "|      16|          Tokyo Eyes|            1998.0|                  en|              23|        127| Jean-Pierre Limosin|\n",
            "|      17|      Dead in 3 Days|            2006.0|                  en|              12|        153|   Andreas Prochaska|\n",
            "|      18|The Wind of the N...|            1999.0|                  en|              88|        145|     Philippe Garrel|\n",
            "|      20|       Chicken Heart|            2002.0|                  en|              15|     595895|     Hiroshi Shimizu|\n",
            "|      21|          After Life|            1998.0|                  en|             649|        178|   Hirokazu Kore-eda|\n",
            "+--------+--------------------+------------------+--------------------+----------------+-----------+--------------------+\n",
            "only showing top 20 rows\n",
            "\n"
          ]
        }
      ]
    },
    {
      "cell_type": "code",
      "source": [
        "#Checking null values\n",
        "for column in df21.columns:\n",
        "   null_count = df21.filter(col(column).isNull() | isnan(col(column))).count()\n",
        "   if null_count > 0:\n",
        "    print(f\"Column '{column}' has {null_count} null value(s).\")"
      ],
      "metadata": {
        "colab": {
          "base_uri": "https://localhost:8080/"
        },
        "id": "wrtA3K2XNg7s",
        "outputId": "c16fe076-d876-439e-fce1-6d79a71044b6"
      },
      "execution_count": 35,
      "outputs": [
        {
          "output_type": "stream",
          "name": "stdout",
          "text": [
            "Column 'movie_id' has 2 null value(s).\n",
            "Column 'rating_id' has 2490 null value(s).\n",
            "Column 'rating_url' has 2836 null value(s).\n",
            "Column 'rating_score' has 5585 null value(s).\n",
            "Column 'rating_timestamp_utc' has 3012 null value(s).\n",
            "Column 'critic' has 1482133 null value(s).\n",
            "Column 'critic_likes' has 7461 null value(s).\n",
            "Column 'critic_comments' has 7593 null value(s).\n",
            "Column 'user_id' has 9829 null value(s).\n",
            "Column 'user_trialist' has 10444 null value(s).\n",
            "Column 'user_subscriber' has 10692 null value(s).\n",
            "Column 'user_eligible_for_trial' has 10818 null value(s).\n",
            "Column 'user_has_payment_method' has 10864 null value(s).\n"
          ]
        }
      ]
    },
    {
      "cell_type": "code",
      "source": [
        "df21 = df21.na.drop()"
      ],
      "metadata": {
        "id": "SxJC2UwJOHL7"
      },
      "execution_count": 36,
      "outputs": []
    },
    {
      "cell_type": "code",
      "source": [
        "for column in df21.columns:\n",
        "  null_count = df21.filter(col(column).isNull() | isnan(col(column))).count()\n",
        "  if null_count > 0:\n",
        "    print(f\"Column '{column}' has {null_count} null value(s).\")\n",
        "if null_count == 0:\n",
        "  print(\"Done\")"
      ],
      "metadata": {
        "colab": {
          "base_uri": "https://localhost:8080/"
        },
        "id": "Uu0aYHRHOK1Q",
        "outputId": "8d107cbe-12d7-4788-b7a8-a30a1ef3ad6e"
      },
      "execution_count": 37,
      "outputs": [
        {
          "output_type": "stream",
          "name": "stdout",
          "text": [
            "Done\n"
          ]
        }
      ]
    },
    {
      "cell_type": "code",
      "source": [
        "duplicate_rows = df21.groupBy(df21.columns).count().filter(col('count') > 1)\n",
        "duplicate_rows.show()"
      ],
      "metadata": {
        "colab": {
          "base_uri": "https://localhost:8080/"
        },
        "id": "J1uDOh8eOOLF",
        "outputId": "d56aaac1-6113-43cc-c860-d7e138851abb"
      },
      "execution_count": 39,
      "outputs": [
        {
          "output_type": "stream",
          "name": "stdout",
          "text": [
            "+--------+---------+----------+------------+--------------------+------+------------+---------------+-------+-------------+---------------+-----------------------+-----------------------+-----+\n",
            "|movie_id|rating_id|rating_url|rating_score|rating_timestamp_utc|critic|critic_likes|critic_comments|user_id|user_trialist|user_subscriber|user_eligible_for_trial|user_has_payment_method|count|\n",
            "+--------+---------+----------+------------+--------------------+------+------------+---------------+-------+-------------+---------------+-----------------------+-----------------------+-----+\n",
            "+--------+---------+----------+------------+--------------------+------+------------+---------------+-------+-------------+---------------+-----------------------+-----------------------+-----+\n",
            "\n"
          ]
        }
      ]
    },
    {
      "cell_type": "code",
      "source": [
        "columns_to_drop = [\"critic\", \"user_trialist\",\"user_subscriber\",\"user_eligible_for_trial\",\"user_has_payment_method\",\"user_id\",\"rating_url\",\"rating_timestamp_utc\",\"rating_id\"]"
      ],
      "metadata": {
        "id": "N9LhhyhFOSYB"
      },
      "execution_count": 40,
      "outputs": []
    },
    {
      "cell_type": "code",
      "source": [
        "df21 = df21.drop(*columns_to_drop)"
      ],
      "metadata": {
        "id": "RrwvZgLcOUa8"
      },
      "execution_count": 41,
      "outputs": []
    },
    {
      "cell_type": "code",
      "source": [
        "df21.show()"
      ],
      "metadata": {
        "id": "850YWArLOYoa",
        "colab": {
          "base_uri": "https://localhost:8080/"
        },
        "outputId": "3d2252a0-4cfd-4314-85c6-bd090e4ae2a8"
      },
      "execution_count": 42,
      "outputs": [
        {
          "output_type": "stream",
          "name": "stdout",
          "text": [
            "+--------+------------+------------+---------------+\n",
            "|movie_id|rating_score|critic_likes|critic_comments|\n",
            "+--------+------------+------------+---------------+\n",
            "|  152550|         4.0|           0|              0|\n",
            "|  152550|         5.0|           0|              0|\n",
            "|  152550|         4.0|           0|              0|\n",
            "|  152550|         4.0|           1|              0|\n",
            "|  152551|         3.0|           0|              0|\n",
            "|  152551|         4.0|           1|              0|\n",
            "|  152554|         2.0|           0|              0|\n",
            "|  152567|         2.0|           1|              0|\n",
            "|  152567|         4.0|           0|              0|\n",
            "|  152573|         3.0|           2|              0|\n",
            "|  152576|         3.0|           0|              0|\n",
            "|  152599|         1.0|           0|              0|\n",
            "|  152613|         4.0|           0|              0|\n",
            "|  152646|         4.0|           0|              0|\n",
            "|  152646|         5.0|           2|              0|\n",
            "|  152646|         5.0|           0|              0|\n",
            "|  152646|         5.0|           3|              0|\n",
            "|  152650|         5.0|           1|              0|\n",
            "|  152650|         2.0|           0|              0|\n",
            "|  152650|         5.0|           2|              0|\n",
            "+--------+------------+------------+---------------+\n",
            "only showing top 20 rows\n",
            "\n"
          ]
        }
      ]
    },
    {
      "cell_type": "markdown",
      "source": [
        "**Integration**"
      ],
      "metadata": {
        "id": "dWRTHwtFOjUQ"
      }
    },
    {
      "cell_type": "code",
      "source": [
        "join_column = \"movie_id\"\n",
        "df23 = df20.join(df21, join_column , \"inner\")\n",
        "df23.show()"
      ],
      "metadata": {
        "colab": {
          "base_uri": "https://localhost:8080/"
        },
        "id": "BfEnFKfmOlKX",
        "outputId": "1c23d279-be31-46bb-b2c9-26bcbfa68053"
      },
      "execution_count": 43,
      "outputs": [
        {
          "output_type": "stream",
          "name": "stdout",
          "text": [
            "+--------+-----------+------------------+--------------------+----------------+-----------+----------------+------------+--------------------+--------------------+\n",
            "|movie_id|movie_title|movie_release_year|movie_title_language|movie_popularity|director_id|   director_name|rating_score|        critic_likes|     critic_comments|\n",
            "+--------+-----------+------------------+--------------------+----------------+-----------+----------------+------------+--------------------+--------------------+\n",
            "|     148|     Psycho|            1960.0|                  en|            9685|       1163|Alfred Hitchcock|         4.0|                   1|                   0|\n",
            "|     148|     Psycho|            1960.0|                  en|            9685|       1163|Alfred Hitchcock|         5.0|                   1|                   1|\n",
            "|     148|     Psycho|            1960.0|                  en|            9685|       1163|Alfred Hitchcock|         5.0|                   0|                   0|\n",
            "|     148|     Psycho|            1960.0|                  en|            9685|       1163|Alfred Hitchcock|         5.0| and it has been ...|                   1|\n",
            "|     148|     Psycho|            1960.0|                  en|            9685|       1163|Alfred Hitchcock|         4.0|                   0|                   0|\n",
            "|     148|     Psycho|            1960.0|                  en|            9685|       1163|Alfred Hitchcock|         5.0|                   1|                   1|\n",
            "|     148|     Psycho|            1960.0|                  en|            9685|       1163|Alfred Hitchcock|         5.0|                   1|                   0|\n",
            "|     148|     Psycho|            1960.0|                  en|            9685|       1163|Alfred Hitchcock|         5.0|                   1|                   2|\n",
            "|     148|     Psycho|            1960.0|                  en|            9685|       1163|Alfred Hitchcock|         4.0|                   1|                   0|\n",
            "|     148|     Psycho|            1960.0|                  en|            9685|       1163|Alfred Hitchcock|         5.0|                   0|                   0|\n",
            "|     148|     Psycho|            1960.0|                  en|            9685|       1163|Alfred Hitchcock|         5.0| this masterpiece...| this film has lo...|\n",
            "|     148|     Psycho|            1960.0|                  en|            9685|       1163|Alfred Hitchcock|         5.0|                   1|                   0|\n",
            "|     148|     Psycho|            1960.0|                  en|            9685|       1163|Alfred Hitchcock|         4.0|                  10|                   0|\n",
            "|     148|     Psycho|            1960.0|                  en|            9685|       1163|Alfred Hitchcock|         5.0|                   7|                   0|\n",
            "|     148|     Psycho|            1960.0|                  en|            9685|       1163|Alfred Hitchcock|         5.0|                   0|                   0|\n",
            "|     148|     Psycho|            1960.0|                  en|            9685|       1163|Alfred Hitchcock|         5.0|                  17|                   0|\n",
            "|     148|     Psycho|            1960.0|                  en|            9685|       1163|Alfred Hitchcock|         5.0|                   1|                   0|\n",
            "|     148|     Psycho|            1960.0|                  en|            9685|       1163|Alfred Hitchcock|         4.0|                   3|                   0|\n",
            "|     148|     Psycho|            1960.0|                  en|            9685|       1163|Alfred Hitchcock|         5.0|                   2|                   0|\n",
            "|     148|     Psycho|            1960.0|                  en|            9685|       1163|Alfred Hitchcock|         5.0|                   1|                   0|\n",
            "+--------+-----------+------------------+--------------------+----------------+-----------+----------------+------------+--------------------+--------------------+\n",
            "only showing top 20 rows\n",
            "\n"
          ]
        }
      ]
    },
    {
      "cell_type": "markdown",
      "source": [
        "**Correlation analysis**"
      ],
      "metadata": {
        "id": "QCxKGDUOOzLb"
      }
    },
    {
      "cell_type": "code",
      "source": [
        "min_value = df23.agg(min('movie_release_year')).collect()[0][0]\n",
        "\n",
        "max_value = df23.agg(max('movie_release_year')).collect()[0][0]\n",
        "\n",
        "print(\"Minimum value:\", min_value)\n",
        "print(\"Maximum value:\", max_value)"
      ],
      "metadata": {
        "colab": {
          "base_uri": "https://localhost:8080/"
        },
        "id": "D7KipU23O1jP",
        "outputId": "8ac93fad-66f9-4031-b60b-ca927985ba88"
      },
      "execution_count": 44,
      "outputs": [
        {
          "output_type": "stream",
          "name": "stdout",
          "text": [
            "Minimum value: 1888.0\n",
            "Maximum value: 2021.0\n"
          ]
        }
      ]
    },
    {
      "cell_type": "code",
      "source": [
        "corr_columns = df23.select(df23[\"movie_release_year\"].cast(\"int\"), df23[\"movie_popularity\"].cast(\"double\")) #casting columns into numerical to be able to make correlation between release year and popualrity\n",
        "\n",
        "start_year = min_value #defining correlation start\n",
        "end_year = max_value    #defining correlation end\n",
        "\n",
        "filtered_df = corr_columns.filter((corr_columns[\"movie_release_year\"] >= start_year) & (corr_columns[\"movie_release_year\"] <= end_year)) #cheking the year if its inside the limits or not\n",
        "correlation = filtered_df.select(corr(\"movie_release_year\", \"movie_popularity\")).collect()[0][0]         #applying correlation function\n",
        "\n",
        "print(f\"Correlation between release year and popularity within the range {start_year}-{end_year}: {correlation}\")  #printing the number of correlation as it shown down there is a negative correlation\n",
        "\n",
        "release_years = filtered_df.select(\"movie_release_year\").rdd.flatMap(lambda x: x).collect() #flatmap is here to convert the nested structure as tuples and 2d lists into flat structure\n",
        "popularity = filtered_df.select(\"movie_popularity\").rdd.flatMap(lambda x: x).collect()     #in these two columns\n",
        "\n",
        "\n",
        "plt.scatter(release_years, popularity)  #plotting the correlation\n",
        "plt.xlabel(\"Release Year\")\n",
        "plt.ylabel(\"Popularity\")\n",
        "plt.title(f\"Correlation between Release Year and Popularity ({start_year}-{end_year})\")\n",
        "plt.show()"
      ],
      "metadata": {
        "colab": {
          "base_uri": "https://localhost:8080/",
          "height": 490
        },
        "id": "092iMmyuO6HK",
        "outputId": "a1adaf5d-a54c-41eb-9481-eafe14932db6"
      },
      "execution_count": 45,
      "outputs": [
        {
          "output_type": "stream",
          "name": "stdout",
          "text": [
            "Correlation between release year and popularity within the range 1888.0-2021.0: -0.150500491679313\n"
          ]
        },
        {
          "output_type": "display_data",
          "data": {
            "text/plain": [
              "<Figure size 640x480 with 1 Axes>"
            ],
            "image/png": "[encoded data removed]"
          },
          "metadata": {}
        }
      ]
    },
    {
      "cell_type": "markdown",
      "source": [
        "**Which Director has the highest average movie popualrity ?**"
      ],
      "metadata": {
        "id": "uJeG1R9sPBH6"
      }
    },
    {
      "cell_type": "code",
      "source": [
        "df23.dtypes"
      ],
      "metadata": {
        "colab": {
          "base_uri": "https://localhost:8080/"
        },
        "id": "y89XEFzFPCwf",
        "outputId": "b3325a86-2d4c-4700-f162-3d3d5025821f"
      },
      "execution_count": 46,
      "outputs": [
        {
          "output_type": "execute_result",
          "data": {
            "text/plain": [
              "[('movie_id', 'int'),\n",
              " ('movie_title', 'string'),\n",
              " ('movie_release_year', 'string'),\n",
              " ('movie_title_language', 'string'),\n",
              " ('movie_popularity', 'string'),\n",
              " ('director_id', 'string'),\n",
              " ('director_name', 'string'),\n",
              " ('rating_score', 'string'),\n",
              " ('critic_likes', 'string'),\n",
              " ('critic_comments', 'string')]"
            ]
          },
          "metadata": {},
          "execution_count": 46
        }
      ]
    },
    {
      "cell_type": "code",
      "source": [
        "dir_pop = df23.select(df23[\"director_Name\"], df23[\"movie_popularity\"].cast(\"double\")) #casting these two columns to be able to work in it\n",
        "\n",
        "avg_popularity_df = dir_pop.groupBy(\"director_name\").agg(avg(\"movie_popularity\").alias(\"average_popularity\")) #grouping by the director name and calculating the average of popularity\n",
        "sorted_df = avg_popularity_df.orderBy(desc(\"average_popularity\"))  #sorting data in descending order\n",
        "\n",
        "highest_popularity_director = sorted_df.select(\"director_name\").first()[0] #select the director with the highest avg popularity\n",
        "print(f\"The director with the highest average movie popularity is: {highest_popularity_director}\")"
      ],
      "metadata": {
        "colab": {
          "base_uri": "https://localhost:8080/"
        },
        "id": "SLnxYyPnPF3h",
        "outputId": "2c17cb1a-f883-439d-fa04-96cd011f4908"
      },
      "execution_count": 47,
      "outputs": [
        {
          "output_type": "stream",
          "name": "stdout",
          "text": [
            "The director with the highest average movie popularity is: Stanley Kubrick\n"
          ]
        }
      ]
    },
    {
      "cell_type": "markdown",
      "source": [
        "**Graph to see increasing with movie popularity in years**"
      ],
      "metadata": {
        "id": "ImRvr7drPhPi"
      }
    },
    {
      "cell_type": "code",
      "source": [
        "#sorting the number of values in years descending to limit the range of graph\n",
        "yearCount = df23.filter(df23[\"movie_title_language\"] == \"en\").groupBy(\"movie_release_year\").count()   #grouping the years with language english language\n",
        "\n",
        "sortedYearCount = yearCount.sort(desc(\"count\"))  #sorting years descending\n",
        "\n",
        "maxCount = sortedYearCount.agg(max(\"count\")).collect()[0][0]  #getting the number of movies to get the max years that have most counts\n",
        "\n",
        "sortedYearCount.show()\n",
        "\n",
        "# print(maxCount)"
      ],
      "metadata": {
        "colab": {
          "base_uri": "https://localhost:8080/"
        },
        "id": "vTpfwm4cPjSJ",
        "outputId": "2a021b0b-022a-4f7b-b1c9-95336d573d40"
      },
      "execution_count": 48,
      "outputs": [
        {
          "output_type": "stream",
          "name": "stdout",
          "text": [
            "+------------------+-----+\n",
            "|movie_release_year|count|\n",
            "+------------------+-----+\n",
            "|            2015.0| 3354|\n",
            "|            2016.0| 3343|\n",
            "|            2014.0| 3143|\n",
            "|            2017.0| 3073|\n",
            "|            2013.0| 3056|\n",
            "|            2011.0| 2870|\n",
            "|            2012.0| 2688|\n",
            "|            2018.0| 2387|\n",
            "|            2010.0| 2334|\n",
            "|            2009.0| 2221|\n",
            "|            2019.0| 1571|\n",
            "|            2008.0| 1503|\n",
            "|            2007.0| 1473|\n",
            "|            2006.0| 1255|\n",
            "|            2004.0| 1181|\n",
            "|            2005.0| 1009|\n",
            "|            2003.0|  966|\n",
            "|            2001.0|  916|\n",
            "|            2002.0|  911|\n",
            "|            1999.0|  856|\n",
            "+------------------+-----+\n",
            "only showing top 20 rows\n",
            "\n"
          ]
        }
      ]
    },
    {
      "cell_type": "code",
      "source": [
        "movie_release_year = [2010,2012, 2011, 2013, 2017, 2014,2016, 2015]\n",
        "movie_popularity =[24272,27588,29048,29651,30321,30626, 32081,32612]\n",
        "  #[5, 8, 12, 15, 20, 25, 27, 30]\n",
        "\n",
        "# Create a Spark DataFrame with the data\n",
        "data = zip(movie_release_year, movie_popularity)\n",
        "df = spark.createDataFrame(data, [\"Year\", \"Popularity\"])\n",
        "\n",
        "# Extract the data from the Spark DataFrame\n",
        "x_values = df.select(\"Year\").rdd.flatMap(lambda x: x).collect()\n",
        "y_values = df.select(\"Popularity\").rdd.flatMap(lambda x: x).collect()\n",
        "\n",
        "# Plotting the popularity trend using Matplotlib\n",
        "plt.bar(x_values, y_values, linestyle='-', color='black')\n",
        "plt.xlabel('Year')\n",
        "plt.ylabel('Popularity')\n",
        "plt.title('Popularity of Movies Over Time')\n",
        "plt.grid(True)\n",
        "plt.show()"
      ],
      "metadata": {
        "colab": {
          "base_uri": "https://localhost:8080/",
          "height": 472
        },
        "id": "jMGjCRcxPoOM",
        "outputId": "49eabff3-9945-46b9-a582-1897b2567576"
      },
      "execution_count": 49,
      "outputs": [
        {
          "output_type": "display_data",
          "data": {
            "text/plain": [
              "<Figure size 640x480 with 1 Axes>"
            ],
            "image/png": "[encoded data removed]"
          },
          "metadata": {}
        }
      ]
    },
    {
      "cell_type": "markdown",
      "source": [
        "**The year of the highest english movies released ?**"
      ],
      "metadata": {
        "id": "2z_dsuTaP1jI"
      }
    },
    {
      "cell_type": "code",
      "source": [
        "column_name = \"movie_title_language\"\n",
        "unique_values = df23.select(column_name).distinct().collect()\n",
        "unique_values_list = [row[column_name] for row in unique_values]\n",
        "print(unique_values_list)"
      ],
      "metadata": {
        "colab": {
          "base_uri": "https://localhost:8080/"
        },
        "id": "kxD5GdBMP378",
        "outputId": "65964d2c-7714-42d2-d92d-cd8b5bc3532d"
      },
      "execution_count": 50,
      "outputs": [
        {
          "output_type": "stream",
          "name": "stdout",
          "text": [
            "['en']\n"
          ]
        }
      ]
    },
    {
      "cell_type": "code",
      "source": [
        "english_movies_df = df23.filter(col(\"movie_title_language\") == \"en\")\n",
        "year_counts_df = english_movies_df.groupBy(\"movie_release_year\").count()\n",
        "\n",
        "sorted_year_counts_df = year_counts_df.sort(col(\"count\").desc())\n",
        "highest_count_year = sorted_year_counts_df.select(\"movie_release_year\").first()[0]\n",
        "\n",
        "print(f\"The year with the highest number of English movies released is: {highest_count_year}\")"
      ],
      "metadata": {
        "colab": {
          "base_uri": "https://localhost:8080/"
        },
        "id": "x6ejyDyGP9Eq",
        "outputId": "b5681b05-c1be-4deb-eaa5-697a9fb4404d"
      },
      "execution_count": 51,
      "outputs": [
        {
          "output_type": "stream",
          "name": "stdout",
          "text": [
            "The year with the highest number of English movies released is: 2015.0\n"
          ]
        }
      ]
    },
    {
      "cell_type": "code",
      "source": [],
      "metadata": {
        "id": "q4byM4nDQA_x"
      },
      "execution_count": 51,
      "outputs": []
    }
  ]
}